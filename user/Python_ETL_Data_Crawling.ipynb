{
 "metadata": {
  "name": "",
  "signature": "sha256:731ceb1fed7b69895a34763f46b5353b113ce1995ec26190b3f07fb6086414bf"
 },
 "nbformat": 3,
 "nbformat_minor": 0,
 "worksheets": [
  {
   "cells": [
    {
     "cell_type": "heading",
     "level": 1,
     "metadata": {},
     "source": [
      "Python ETL Data Crawling"
     ]
    },
    {
     "cell_type": "heading",
     "level": 2,
     "metadata": {},
     "source": [
      "\u4f7f\u7528requests.get"
     ]
    },
    {
     "cell_type": "code",
     "collapsed": false,
     "input": [
      "import requests\n",
      "res = requests.get('https://www.python.org/')\n",
      "#print res.text\n",
      "print res.status_code \n",
      "print res.headers['content-type']"
     ],
     "language": "python",
     "metadata": {},
     "outputs": [
      {
       "output_type": "stream",
       "stream": "stdout",
       "text": [
        "200\n",
        "text/html; charset=utf-8\n"
       ]
      }
     ],
     "prompt_number": 2
    },
    {
     "cell_type": "heading",
     "level": 2,
     "metadata": {},
     "source": [
      "\u4f7f\u7528requests.post"
     ]
    },
    {
     "cell_type": "code",
     "collapsed": false,
     "input": [
      "import requests\n",
      "payload = {\n",
      "'StartStation':'977abb69-413a-4ccf-a109-0272c24fd490',\n",
      "'EndStation':'60831846-f0e4-47f6-9b5b-46323ebdcef7',\n",
      "'SearchDate':'2014/06/18',\n",
      "'SearchTime':'10:30',\n",
      "'SearchWay':'DepartureInMandarin'\n",
      "}\n",
      "res = requests.post('http://www.thsrc.com.tw/tw/TimeTable/SearchResult', data=payload)\n",
      "#print res.text\n"
     ],
     "language": "python",
     "metadata": {},
     "outputs": [],
     "prompt_number": 1
    },
    {
     "cell_type": "heading",
     "level": 2,
     "metadata": {},
     "source": [
      "\u5c07\u7db2\u9801\u8b80\u9032BeautifulSoup \u4e2d"
     ]
    },
    {
     "cell_type": "code",
     "collapsed": false,
     "input": [
      "from bs4 import BeautifulSoup \n",
      "html_sample = ' \\\n",
      "<html> \\\n",
      " <body> \\\n",
      " <h1 id=\"title\">Hello World</h1> \\\n",
      " <a href=\"#\" class=\"link\">This is link1</a> \\\n",
      " <a href=\"# link2\" class=\"link\">This is link2</a> \\\n",
      " </body> \\\n",
      " </html>'\n",
      "\n",
      "soup = BeautifulSoup(html_sample)\n",
      "print soup.text\n"
     ],
     "language": "python",
     "metadata": {},
     "outputs": [
      {
       "output_type": "stream",
       "stream": "stdout",
       "text": [
        "   Hello World This is link1 This is link2  \n"
       ]
      }
     ],
     "prompt_number": 4
    },
    {
     "cell_type": "heading",
     "level": 2,
     "metadata": {},
     "source": [
      "\u4f7f\u7528Find \u627e\u51fa(\u7b2c\u4e00\u500b)\u542b\u6709a tag \u7684\u5143\u7d20"
     ]
    },
    {
     "cell_type": "code",
     "collapsed": false,
     "input": [
      "soup = BeautifulSoup(html_sample) \n",
      "alink = soup.find('a') \n",
      "print alink"
     ],
     "language": "python",
     "metadata": {},
     "outputs": [
      {
       "output_type": "stream",
       "stream": "stdout",
       "text": [
        "<a class=\"link\" href=\"#\">This is link1</a>\n"
       ]
      }
     ],
     "prompt_number": 5
    },
    {
     "cell_type": "heading",
     "level": 2,
     "metadata": {},
     "source": [
      "\u627e\u51fa\u6240\u6709\u542ba tag \u7684HTML \u5143\u7d20"
     ]
    },
    {
     "cell_type": "code",
     "collapsed": false,
     "input": [
      "for alink in soup.findAll('a'): \n",
      "    print alink.contents"
     ],
     "language": "python",
     "metadata": {},
     "outputs": [
      {
       "output_type": "stream",
       "stream": "stdout",
       "text": [
        "[u'This is link1']\n",
        "[u'This is link2']\n"
       ]
      }
     ],
     "prompt_number": 6
    },
    {
     "cell_type": "heading",
     "level": 2,
     "metadata": {},
     "source": [
      "\u4f7f\u7528Find \u627e\u51fa\u6240\u6709id\u70batitle\u7684\u5143\u7d20"
     ]
    },
    {
     "cell_type": "code",
     "collapsed": false,
     "input": [
      "alink = soup.find('h1', {'id':'title'}) \n",
      "print alink\n"
     ],
     "language": "python",
     "metadata": {},
     "outputs": [
      {
       "output_type": "stream",
       "stream": "stdout",
       "text": [
        "<h1 id=\"title\">Hello World</h1>\n"
       ]
      }
     ],
     "prompt_number": 7
    },
    {
     "cell_type": "heading",
     "level": 2,
     "metadata": {},
     "source": [
      "\u53d6\u5f97\u542b\u6709\u7279\u5b9aclass\u7684\u5143\u7d20"
     ]
    },
    {
     "cell_type": "code",
     "collapsed": false,
     "input": [
      "soup = BeautifulSoup(html_sample) \n",
      "for link in soup.findAll('a', {'class': 'link'}): \n",
      "    print link"
     ],
     "language": "python",
     "metadata": {},
     "outputs": [
      {
       "output_type": "stream",
       "stream": "stdout",
       "text": [
        "<a class=\"link\" href=\"#\">This is link1</a>\n",
        "<a class=\"link\" href=\"# link2\">This is link2</a>\n"
       ]
      }
     ],
     "prompt_number": 8
    },
    {
     "cell_type": "heading",
     "level": 2,
     "metadata": {},
     "source": [
      "\u53d6\u5f97\u6240\u6709a tag \u5167\u7684\u9023\u7d50"
     ]
    },
    {
     "cell_type": "code",
     "collapsed": false,
     "input": [
      "alinks = soup.findAll('a', {'href': True}) \n",
      "for link in alinks: \n",
      "    print link['href']"
     ],
     "language": "python",
     "metadata": {},
     "outputs": [
      {
       "output_type": "stream",
       "stream": "stdout",
       "text": [
        "#\n",
        "# link2\n"
       ]
      }
     ],
     "prompt_number": 9
    },
    {
     "cell_type": "heading",
     "level": 2,
     "metadata": {},
     "source": [
      "\u8a2d\u5b9aPOST \u7684Form Data"
     ]
    },
    {
     "cell_type": "code",
     "collapsed": false,
     "input": [
      "# -*- coding: utf-8 -*- \n",
      "import requests\n",
      "\n",
      "payload = { 'method':'search', 'searchMethod':'true', 'searchTarget':'ATM',\n",
      " 'orgName':'', 'orgId':'', 'hid_1':'1',\n",
      " 'tenderName':'', 'tenderId':'', 'tenderStatus':'4,5,21,29',\n",
      " 'tenderWay':'', 'awardAnnounceStartDate':'103/04/29',\n",
      " 'awardAnnounceEndDate':'103/04/29', 'radProctrgCate':'3', \n",
      " 'proctrgCate':'3', 'tenderRange':'', 'minBudget':'',\n",
      " 'maxBudget':'', 'item':'','hid_2':'1',\n",
      " 'gottenVendorName':'', 'gottenVendorId':'', 'hid_3':'1',\n",
      " 'submitVendorName':'', 'submitVendorId':'', 'location':'',\n",
      " 'priorityCate':'', 'isReConstruct':'', 'btnQuery':'\u67e5\u8a62' }\n"
     ],
     "language": "python",
     "metadata": {},
     "outputs": [],
     "prompt_number": 10
    },
    {
     "cell_type": "heading",
     "level": 2,
     "metadata": {},
     "source": [
      "\u9001\u51faPost \u53d6\u5f97\u8cc7\u6599"
     ]
    },
    {
     "cell_type": "code",
     "collapsed": false,
     "input": [
      "user_post = requests.post(\"http://web.pcc.gov.tw/tps/pss/tender.do?searchMode=common&searchType=advance\", data=payload) \n",
      "response_text = user_post.text.encode('utf8') \n",
      "#print response_text"
     ],
     "language": "python",
     "metadata": {},
     "outputs": [],
     "prompt_number": 11
    },
    {
     "cell_type": "heading",
     "level": 2,
     "metadata": {},
     "source": [
      "\u5982\u4f55\u64f7\u53d6\u9ad8\u9435\u6642\u523b\u8868?"
     ]
    },
    {
     "cell_type": "code",
     "collapsed": false,
     "input": [
      "### Please Write Your Own Code Here\n",
      "url = 'http://www.thsrc.com.tw/tw/TimeTable/SearchResult'"
     ],
     "language": "python",
     "metadata": {},
     "outputs": [],
     "prompt_number": 12
    },
    {
     "cell_type": "heading",
     "level": 2,
     "metadata": {},
     "source": [
      "\u53f0\u9435\u6642\u523b\u8868\u67e5\u8a62"
     ]
    },
    {
     "cell_type": "code",
     "collapsed": false,
     "input": [
      "### Please Write Your Own Code Here\n",
      "url = 'http://twtraffic.tra.gov.tw/twrail/EasySearch.aspx'"
     ],
     "language": "python",
     "metadata": {},
     "outputs": [],
     "prompt_number": 13
    },
    {
     "cell_type": "heading",
     "level": 2,
     "metadata": {},
     "source": [
      "\u5982\u4f55\u5ef6\u7e8cSession"
     ]
    },
    {
     "cell_type": "code",
     "collapsed": false,
     "input": [
      "# -*- coding: utf-8 -*- \n",
      "import requests\n",
      "\n",
      "payload = { 'method':'search', 'searchMethod':'true', 'searchTarget':'ATM',\n",
      " 'orgName':'', 'orgId':'', 'hid_1':'1',\n",
      " 'tenderName':'', 'tenderId':'', 'tenderStatus':'4,5,21,29',\n",
      " 'tenderWay':'', 'awardAnnounceStartDate':'103/04/29',\n",
      " 'awardAnnounceEndDate':'103/04/29', 'radProctrgCate':'3', \n",
      " 'proctrgCate':'3', 'tenderRange':'', 'minBudget':'',\n",
      " 'maxBudget':'', 'item':'','hid_2':'1',\n",
      " 'gottenVendorName':'', 'gottenVendorId':'', 'hid_3':'1',\n",
      " 'submitVendorName':'', 'submitVendorId':'', 'location':'',\n",
      " 'priorityCate':'', 'isReConstruct':'', 'btnQuery':'\u67e5\u8a62' }\n"
     ],
     "language": "python",
     "metadata": {},
     "outputs": [],
     "prompt_number": 14
    },
    {
     "cell_type": "code",
     "collapsed": false,
     "input": [
      "rs = requests.session() \n",
      "rs_post = rs.post(\"http://web.pcc.gov.tw/tps/pss/tender.do?searchMode=common&searchType=advance\", data=payload) \n",
      "rs_get = rs.get(\"http://web.pcc.gov.tw/tps/pss/tender.do?searchMode=common&searchType=advance&searchTarget=ATM&method=search&isSpdt=&pageIndex=2\") \n",
      "response = rs_get.text.encode('utf8')"
     ],
     "language": "python",
     "metadata": {},
     "outputs": [],
     "prompt_number": 15
    },
    {
     "cell_type": "heading",
     "level": 2,
     "metadata": {},
     "source": [
      "\u53d6\u5f97\u8cc7\u6599\u7b46\u6578"
     ]
    },
    {
     "cell_type": "code",
     "collapsed": false,
     "input": [
      "from bs4 import BeautifulSoup\n",
      "\n",
      "user_post = requests.post(\"http://web.pcc.gov.tw/tps/pss/tender.do?searchMode=common&searchType=advance\", data=payload) \n",
      "response_text = user_post.text.encode('utf8') \n",
      "soup = BeautifulSoup(response_text) \n",
      "rec_number_element = soup.find('span', { \"class\" : \"T11b\" }) \n",
      "rec_number = int(rec_number_element.text) \n",
      "print rec_number"
     ],
     "language": "python",
     "metadata": {},
     "outputs": [
      {
       "output_type": "stream",
       "stream": "stdout",
       "text": [
        "265\n"
       ]
      }
     ],
     "prompt_number": 16
    },
    {
     "cell_type": "heading",
     "level": 2,
     "metadata": {},
     "source": [
      "\u5c07\u8cc7\u6599\u7b46\u6578\u8f49\u63db\u6210\u9801\u6578"
     ]
    },
    {
     "cell_type": "code",
     "collapsed": false,
     "input": [
      "from math import ceil \n",
      "page_number = int(ceil(float(rec_number) / 100)) \n",
      "print page_number\n"
     ],
     "language": "python",
     "metadata": {},
     "outputs": [
      {
       "output_type": "stream",
       "stream": "stdout",
       "text": [
        "3\n"
       ]
      }
     ],
     "prompt_number": 17
    },
    {
     "cell_type": "heading",
     "level": 2,
     "metadata": {},
     "source": [
      "\u5b57\u4e32\u683c\u5f0f\u5316 - \u4f7f\u7528format"
     ]
    },
    {
     "cell_type": "code",
     "collapsed": false,
     "input": [
      "page_format = \"http://web.pcc.gov.tw/tps/pss/tender.do?searchMode=common&searchType=advance&searchTarget=ATM&method=search&isSpdt=&pageIndex={0}\" \n",
      "for page in range(1, page_number + 1): \n",
      "    print page_format.format(page)"
     ],
     "language": "python",
     "metadata": {},
     "outputs": [
      {
       "output_type": "stream",
       "stream": "stdout",
       "text": [
        "http://web.pcc.gov.tw/tps/pss/tender.do?searchMode=common&searchType=advance&searchTarget=ATM&method=search&isSpdt=&pageIndex=1\n",
        "http://web.pcc.gov.tw/tps/pss/tender.do?searchMode=common&searchType=advance&searchTarget=ATM&method=search&isSpdt=&pageIndex=2\n",
        "http://web.pcc.gov.tw/tps/pss/tender.do?searchMode=common&searchType=advance&searchTarget=ATM&method=search&isSpdt=&pageIndex=3\n"
       ]
      }
     ],
     "prompt_number": 18
    },
    {
     "cell_type": "heading",
     "level": 2,
     "metadata": {},
     "source": [
      "\u4f7f\u7528%"
     ]
    },
    {
     "cell_type": "code",
     "collapsed": false,
     "input": [
      "page_format = \"http://web.pcc.gov.tw/tps/pss/tender.do?searchMode=common&searchType=advance&searchTarget=ATM&method=search&isSpdt=&pageIndex=%d\" \n",
      "for page in range(1, page_number + 1): \n",
      "    print page_format%(page)"
     ],
     "language": "python",
     "metadata": {},
     "outputs": [
      {
       "output_type": "stream",
       "stream": "stdout",
       "text": [
        "http://web.pcc.gov.tw/tps/pss/tender.do?searchMode=common&searchType=advance&searchTarget=ATM&method=search&isSpdt=&pageIndex=1\n",
        "http://web.pcc.gov.tw/tps/pss/tender.do?searchMode=common&searchType=advance&searchTarget=ATM&method=search&isSpdt=&pageIndex=2\n",
        "http://web.pcc.gov.tw/tps/pss/tender.do?searchMode=common&searchType=advance&searchTarget=ATM&method=search&isSpdt=&pageIndex=3\n"
       ]
      }
     ],
     "prompt_number": 19
    },
    {
     "cell_type": "heading",
     "level": 2,
     "metadata": {},
     "source": [
      "\u53d6\u5f97\u6bcf\u9801\u6a19\u6848\u6e05\u55ae\u7684\u5167\u5bb9"
     ]
    },
    {
     "cell_type": "code",
     "collapsed": false,
     "input": [
      "page_format = \"http://web.pcc.gov.tw/tps/pss/tender.do?searchMode=common&searchType=advance&searchTarget=ATM&method=search&isSpdt=&pageIndex=%d\" \n",
      "for page in range(1, page_number + 1): \n",
      "    bid_list = rs.get(page_format%(page)) \n",
      "    bid_response = bid_list.text.encode('utf8')\n",
      "    #print bid_response"
     ],
     "language": "python",
     "metadata": {},
     "outputs": [],
     "prompt_number": 20
    },
    {
     "cell_type": "heading",
     "level": 2,
     "metadata": {},
     "source": [
      "\u5148\u62ff\u4e00\u9801\u505a\u8a66\u9a57"
     ]
    },
    {
     "cell_type": "code",
     "collapsed": false,
     "input": [
      "page_format = \"http://web.pcc.gov.tw/tps/pss/tender.do?searchMode=common&searchType=advance&searchTarget=ATM&method=search&isSpdt=&pageIndex=%d\" \n",
      "page = 1 \n",
      "bid_list = rs.get(page_format%(page)) \n",
      "bid_response = bid_list.text.encode('utf8') \n",
      "bid_soup = BeautifulSoup(bid_response) \n",
      "bid_table = bid_soup.find('div', { \"id\" : \"print_area\" }) \n",
      "print bid_table"
     ],
     "language": "python",
     "metadata": {},
     "outputs": [
      {
       "output_type": "stream",
       "stream": "stdout",
       "text": [
        "<div id=\"print_area\">\n",
        "<table border=\"0\" cellpadding=\"0\" cellspacing=\"0\" style=\"word-break:break-all\" width=\"100%\">\n",
        "<tr>\n",
        "<td align=\"center\" bgcolor=\"#E0EDF1\" class=\"T12b\" nowrap=\"\" width=\"5%\">\u9805\u6b21\u00a0</td>\n",
        "<td align=\"center\" bgcolor=\"#E0EDF1\" class=\"T12b\" nowrap=\"\" width=\"15%\">\u6a5f\u95dc\u00a0<br/>\u540d\u7a31\u00a0</td>\n",
        "<td align=\"center\" bgcolor=\"#E0EDF1\" class=\"T12b\" nowrap=\"\" width=\"30%\">\u6a19\u6848\u6848\u865f\u00a0<br/>\u6a19\u6848\u540d\u7a31\u00a0</td>\n",
        "<td align=\"center\" bgcolor=\"#E0EDF1\" class=\"T12b\" nowrap=\"\" width=\"10%\">\u62db\u6a19\u00a0<br/>\u65b9\u5f0f\u00a0</td>\n",
        "<td align=\"center\" bgcolor=\"#E0EDF1\" class=\"T12b\" nowrap=\"\" width=\"8%\">\u6a19\u7684\u00a0<br/>\u5206\u985e\u00a0</td>\n",
        "<td align=\"center\" bgcolor=\"#E0EDF1\" class=\"T12b\" nowrap=\"\" width=\"9%\">\u516c\u544a\u00a0<br/>\u65e5\u671f\u00a0</td>\n",
        "<td align=\"center\" bgcolor=\"#E0EDF1\" class=\"T12b\" nowrap=\"\" width=\"13%\">\u6c7a\u6a19\u00a0<br/>\u91d1\u984d\u00a0</td>\n",
        "<td align=\"center\" bgcolor=\"#E0EDF1\" class=\"T12b\" nowrap=\"\" width=\"5%\">\u6c7a\u6a19\u00a0<br/>\u516c\u544a\u00a0</td>\n",
        "<td align=\"center\" bgcolor=\"#E0EDF1\" class=\"T12b\" nowrap=\"\" width=\"5%\">\u7121\u6cd5\u00a0<br/>\u6c7a\u6a19\u00a0</td>\n",
        "</tr>\n",
        "<tr bgcolor=\"#FFFFFF\" onmouseout=\"outcss(this,'#FFFFFF');\" onmouseover=\"overcss(this);\">\n",
        "<!-- \u9805\u6b21 -->\n",
        "<td align=\"center\">1\u00a0</td>\n",
        "<!-- \u6a5f\u95dc\u540d\u7a31 -->\n",
        "<td align=\"left\">\u5609\u7fa9\u7e23\u7af9\u5d0e\u9109\u516c\u6240</td>\n",
        "<!-- \u6a19\u6848\u6848\u865f&\u6a19\u6848\u540d\u7a31 -->\n",
        "<td align=\"left\">\r\n",
        "\t\t\t\t\t\t\t\t\t\t\t\t4197\r\n",
        "\t\t\t\t\t\t\t\t\t\t\t\t\r\n",
        "\t\t\t\t\t\t\t\t\t\t\t\t<font color=\"red\">(\u66f4\u6b63\u516c\u544a)</font>\n",
        "<br>\n",
        "<a href=\"../main/pms/tps/atm/atmAwardAction.do?newEdit=false&amp;searchMode=common&amp;method=inquiryForPublic&amp;pkAtmMain=51239371&amp;tenderCaseNo=4197\">\n",
        "<u>\u7af9\u5d0e\u9109\u7d0d\u9aa8\u5802\u696d\u52d9\u8cc7\u8a0a\u5316\u7ba1\u7406\u7cfb\u7d71\u5efa\u7f6e</u>\n",
        "</a>\n",
        "</br></td>\n",
        "<!-- \u62db\u6a19\u65b9\u5f0f -->\n",
        "<td align=\"left\">\u516c\u958b\u53d6\u5f97\u5831\u50f9\u55ae\u6216\u4f01\u5283\u66f8</td>\n",
        "<!-- \u6a19\u7684\u5206\u985e -->\n",
        "<td align=\"left\">\u52de\u52d9\u985e</td>\n",
        "<!-- \u516c\u544a\u65e5\u671f -->\n",
        "<td align=\"center\">103/05/07\n",
        "</td>\n",
        "<!-- \u6c7a\u6a19\u91d1\u984d -->\n",
        "<td align=\"right\">\r\n",
        "\t\t\t\t\t\t\t\t\t\t\t\t\t490000\r\n",
        "\t\t\t\t\t\t\t\t\t\t\t\t</td>\n",
        "<!-- \u6c7a\u6a19\u516c\u544a -->\n",
        "<td align=\"center\">\n",
        "<a href=\"../main/pms/tps/atm/atmAwardAction.do?newEdit=false&amp;searchMode=common&amp;method=inquiryForPublic&amp;pkAtmMain=51239371&amp;tenderCaseNo=4197\">\n",
        "<u>001</u>\n",
        "</a>\r\n",
        "\t\t\t\t\t\t\t\t\t\t\t\t\t\t\r\n",
        "\t\t\t\t\t\t\t\t\t\t\t\t\t\u00a0\r\n",
        "\t\t\t\t\t\t\t\t\t\t\t\t</td>\n",
        "<!-- \u7121\u6cd5\u6c7a\u6a19\u516c\u544a -->\n",
        "<td align=\"center\">\r\n",
        "\t\t\t\t\t\t\t\t\t\t\t\t\t\u00a0\r\n",
        "\t\t\t\t\t\t\t\t\t\t\t\t</td>\n",
        "</tr>\n",
        "<tr bgcolor=\"#D6FAC5\" onmouseout=\"outcss(this,'#D6FAC5');\" onmouseover=\"overcss(this);\">\n",
        "<!-- \u9805\u6b21 -->\n",
        "<td align=\"center\">2\u00a0</td>\n",
        "<!-- \u6a5f\u95dc\u540d\u7a31 -->\n",
        "<td align=\"left\">\u81fa\u7063\u7cd6\u696d\u80a1\u4efd\u6709\u9650\u516c\u53f8</td>\n",
        "<!-- \u6a19\u6848\u6848\u865f&\u6a19\u6848\u540d\u7a31 -->\n",
        "<td align=\"left\">\r\n",
        "\t\t\t\t\t\t\t\t\t\t\t\t0607L1030328\r\n",
        "\t\t\t\t\t\t\t\t\t\t\t\t\r\n",
        "\t\t\t\t\t\t\t\t\t\t\t\t<font color=\"red\">(\u66f4\u6b63\u516c\u544a)</font>\n",
        "<br>\n",
        "<a href=\"../main/pms/tps/atm/atmAwardAction.do?newEdit=false&amp;searchMode=common&amp;method=inquiryForPublic&amp;pkAtmMain=51239291&amp;tenderCaseNo=0607L1030328\">\n",
        "<u>\u96fb\u8a71\u4ea4\u63db\u6a5f\u7dad\u8b77\u4fdd\u990a</u>\n",
        "</a>\n",
        "</br></td>\n",
        "<!-- \u62db\u6a19\u65b9\u5f0f -->\n",
        "<td align=\"left\">\u9650\u5236\u6027\u62db\u6a19(\u672a\u7d93\u516c\u958b\u8a55\u9078\u6216\u516c\u958b\u5fb5\u6c42)</td>\n",
        "<!-- \u6a19\u7684\u5206\u985e -->\n",
        "<td align=\"left\">\u52de\u52d9\u985e</td>\n",
        "<!-- \u516c\u544a\u65e5\u671f -->\n",
        "<td align=\"center\">103/04/30\n",
        "</td>\n",
        "<!-- \u6c7a\u6a19\u91d1\u984d -->\n",
        "<td align=\"right\">\r\n",
        "\t\t\t\t\t\t\t\t\t\t\t\t\t301500\r\n",
        "\t\t\t\t\t\t\t\t\t\t\t\t</td>\n",
        "<!-- \u6c7a\u6a19\u516c\u544a -->\n",
        "<td align=\"center\">\n",
        "<a href=\"../main/pms/tps/atm/atmAwardAction.do?newEdit=false&amp;searchMode=common&amp;method=inquiryForPublic&amp;pkAtmMain=51239291&amp;tenderCaseNo=0607L1030328\">\n",
        "<u>001</u>\n",
        "</a>\r\n",
        "\t\t\t\t\t\t\t\t\t\t\t\t\t\t\r\n",
        "\t\t\t\t\t\t\t\t\t\t\t\t\t\u00a0\r\n",
        "\t\t\t\t\t\t\t\t\t\t\t\t</td>\n",
        "<!-- \u7121\u6cd5\u6c7a\u6a19\u516c\u544a -->\n",
        "<td align=\"center\">\r\n",
        "\t\t\t\t\t\t\t\t\t\t\t\t\t\u00a0\r\n",
        "\t\t\t\t\t\t\t\t\t\t\t\t</td>\n",
        "</tr>\n",
        "<tr bgcolor=\"#FFFFFF\" onmouseout=\"outcss(this,'#FFFFFF');\" onmouseover=\"overcss(this);\">\n",
        "<!-- \u9805\u6b21 -->\n",
        "<td align=\"center\">3\u00a0</td>\n",
        "<!-- \u6a5f\u95dc\u540d\u7a31 -->\n",
        "<td align=\"left\">\u570b\u9632\u90e8\u8ecd\u5099\u5c40\u4e2d\u5c71\u79d1\u5b78\u7814\u7a76\u9662</td>\n",
        "<!-- \u6a19\u6848\u6848\u865f&\u6a19\u6848\u540d\u7a31 -->\n",
        "<td align=\"left\">\r\n",
        "\t\t\t\t\t\t\t\t\t\t\t\tXW03118P099\r\n",
        "\t\t\t\t\t\t\t\t\t\t\t\t\r\n",
        "\t\t\t\t\t\t\t\t\t\t\t\t<br>\n",
        "<a href=\"../main/pms/tps/atm/atmAwardAction.do?newEdit=false&amp;searchMode=common&amp;method=inquiryForPublic&amp;pkAtmMain=51241675&amp;tenderCaseNo=XW03118P099\">\n",
        "<u>\u8f09\u5177\u88dc\u571f\u5674\u6f06\u4f5c\u696d\u7b491\u9805</u>\n",
        "</a>\n",
        "</br></td>\n",
        "<!-- \u62db\u6a19\u65b9\u5f0f -->\n",
        "<td align=\"left\">\u516c\u958b\u53d6\u5f97\u5831\u50f9\u55ae\u6216\u4f01\u5283\u66f8</td>\n",
        "<!-- \u6a19\u7684\u5206\u985e -->\n",
        "<td align=\"left\">\u52de\u52d9\u985e</td>\n",
        "<!-- \u516c\u544a\u65e5\u671f -->\n",
        "<td align=\"center\">103/04/29\n",
        "</td>\n",
        "<!-- \u6c7a\u6a19\u91d1\u984d -->\n",
        "<td align=\"right\">\r\n",
        "\t\t\t\t\t\t\t\t\t\t\t\t\t141000\r\n",
        "\t\t\t\t\t\t\t\t\t\t\t\t</td>\n",
        "<!-- \u6c7a\u6a19\u516c\u544a -->\n",
        "<td align=\"center\">\n",
        "<a href=\"../main/pms/tps/atm/atmAwardAction.do?newEdit=false&amp;searchMode=common&amp;method=inquiryForPublic&amp;pkAtmMain=51241675&amp;tenderCaseNo=XW03118P099\">\n",
        "<u>001</u>\n",
        "</a>\r\n",
        "\t\t\t\t\t\t\t\t\t\t\t\t\t\t\r\n",
        "\t\t\t\t\t\t\t\t\t\t\t\t\t\u00a0\r\n",
        "\t\t\t\t\t\t\t\t\t\t\t\t</td>\n",
        "<!-- \u7121\u6cd5\u6c7a\u6a19\u516c\u544a -->\n",
        "<td align=\"center\">\r\n",
        "\t\t\t\t\t\t\t\t\t\t\t\t\t\u00a0\r\n",
        "\t\t\t\t\t\t\t\t\t\t\t\t</td>\n",
        "</tr>\n",
        "<tr bgcolor=\"#D6FAC5\" onmouseout=\"outcss(this,'#D6FAC5');\" onmouseover=\"overcss(this);\">\n",
        "<!-- \u9805\u6b21 -->\n",
        "<td align=\"center\">4\u00a0</td>\n",
        "<!-- \u6a5f\u95dc\u540d\u7a31 -->\n",
        "<td align=\"left\">\u570b\u9632\u90e8\u8ecd\u5099\u5c40\u4e2d\u5c71\u79d1\u5b78\u7814\u7a76\u9662</td>\n",
        "<!-- \u6a19\u6848\u6848\u865f&\u6a19\u6848\u540d\u7a31 -->\n",
        "<td align=\"left\">\r\n",
        "\t\t\t\t\t\t\t\t\t\t\t\tXW03072P119\r\n",
        "\t\t\t\t\t\t\t\t\t\t\t\t\r\n",
        "\t\t\t\t\t\t\t\t\t\t\t\t<br>\n",
        "<a href=\"../main/pms/tps/atm/atmAwardAction.do?newEdit=false&amp;searchMode=common&amp;method=inquiryForPublic&amp;pkAtmMain=51241674&amp;tenderCaseNo=XW03072P119\">\n",
        "<u>\u88dd\u6b65\u6230\u9b25\u8eca\u96fb\u5b50\u6280\u4ee4\u7cfb\u7d71\u7dad\u8b77\u7b491\u9805</u>\n",
        "</a>\n",
        "</br></td>\n",
        "<!-- \u62db\u6a19\u65b9\u5f0f -->\n",
        "<td align=\"left\">\u516c\u958b\u53d6\u5f97\u5831\u50f9\u55ae\u6216\u4f01\u5283\u66f8</td>\n",
        "<!-- \u6a19\u7684\u5206\u985e -->\n",
        "<td align=\"left\">\u52de\u52d9\u985e</td>\n",
        "<!-- \u516c\u544a\u65e5\u671f -->\n",
        "<td align=\"center\">103/04/29\n",
        "</td>\n",
        "<!-- \u6c7a\u6a19\u91d1\u984d -->\n",
        "<td align=\"right\">\r\n",
        "\t\t\t\t\t\t\t\t\t\t\t\t\t229383\r\n",
        "\t\t\t\t\t\t\t\t\t\t\t\t</td>\n",
        "<!-- \u6c7a\u6a19\u516c\u544a -->\n",
        "<td align=\"center\">\n",
        "<a href=\"../main/pms/tps/atm/atmAwardAction.do?newEdit=false&amp;searchMode=common&amp;method=inquiryForPublic&amp;pkAtmMain=51241674&amp;tenderCaseNo=XW03072P119\">\n",
        "<u>001</u>\n",
        "</a>\r\n",
        "\t\t\t\t\t\t\t\t\t\t\t\t\t\t\r\n",
        "\t\t\t\t\t\t\t\t\t\t\t\t\t\u00a0\r\n",
        "\t\t\t\t\t\t\t\t\t\t\t\t</td>\n",
        "<!-- \u7121\u6cd5\u6c7a\u6a19\u516c\u544a -->\n",
        "<td align=\"center\">\r\n",
        "\t\t\t\t\t\t\t\t\t\t\t\t\t\u00a0\r\n",
        "\t\t\t\t\t\t\t\t\t\t\t\t</td>\n",
        "</tr>\n",
        "<tr bgcolor=\"#FFFFFF\" onmouseout=\"outcss(this,'#FFFFFF');\" onmouseover=\"overcss(this);\">\n",
        "<!-- \u9805\u6b21 -->\n",
        "<td align=\"center\">5\u00a0</td>\n",
        "<!-- \u6a5f\u95dc\u540d\u7a31 -->\n",
        "<td align=\"left\">\u570b\u7acb\u81fa\u7063\u4ea4\u97ff\u6a02\u5718</td>\n",
        "<!-- \u6a19\u6848\u6848\u865f&\u6a19\u6848\u540d\u7a31 -->\n",
        "<td align=\"left\">\r\n",
        "\t\t\t\t\t\t\t\t\t\t\t\tB1030411\r\n",
        "\t\t\t\t\t\t\t\t\t\t\t\t\r\n",
        "\t\t\t\t\t\t\t\t\t\t\t\t<br>\n",
        "<a href=\"../main/pms/tps/atm/atmAwardAction.do?newEdit=false&amp;searchMode=common&amp;method=inquiryForPublic&amp;pkAtmMain=51241666&amp;tenderCaseNo=B1030411\">\n",
        "<u>\u7ae5\u8a71\u2027\u50b3\u5947-\u2168\u3010\u5510\u749c\u611b\u4e4b\u6b7b\u3011\u97f3\u6a02\u6703\u9080\u8acb\u7368\u594f\u5bb6</u>\n",
        "</a>\n",
        "</br></td>\n",
        "<!-- \u62db\u6a19\u65b9\u5f0f -->\n",
        "<td align=\"left\">\u9650\u5236\u6027\u62db\u6a19(\u672a\u7d93\u516c\u958b\u8a55\u9078\u6216\u516c\u958b\u5fb5\u6c42)</td>\n",
        "<!-- \u6a19\u7684\u5206\u985e -->\n",
        "<td align=\"left\">\u52de\u52d9\u985e</td>\n",
        "<!-- \u516c\u544a\u65e5\u671f -->\n",
        "<td align=\"center\">103/04/29\n",
        "</td>\n",
        "<!-- \u6c7a\u6a19\u91d1\u984d -->\n",
        "<td align=\"right\">\n",
        "</td>\n",
        "<!-- \u6c7a\u6a19\u516c\u544a -->\n",
        "<td align=\"center\">\n",
        "<a href=\"../main/pms/tps/atm/atmAwardAction.do?newEdit=false&amp;searchMode=common&amp;method=inquiryForPublic&amp;pkAtmMain=51241666&amp;tenderCaseNo=B1030411\">\n",
        "<u>001</u>\n",
        "</a>\r\n",
        "\t\t\t\t\t\t\t\t\t\t\t\t\t\t\r\n",
        "\t\t\t\t\t\t\t\t\t\t\t\t\t\u00a0\r\n",
        "\t\t\t\t\t\t\t\t\t\t\t\t</td>\n",
        "<!-- \u7121\u6cd5\u6c7a\u6a19\u516c\u544a -->\n",
        "<td align=\"center\">\r\n",
        "\t\t\t\t\t\t\t\t\t\t\t\t\t\u00a0\r\n",
        "\t\t\t\t\t\t\t\t\t\t\t\t</td>\n",
        "</tr>\n",
        "<tr bgcolor=\"#D6FAC5\" onmouseout=\"outcss(this,'#D6FAC5');\" onmouseover=\"overcss(this);\">\n",
        "<!-- \u9805\u6b21 -->\n",
        "<td align=\"center\">6\u00a0</td>\n",
        "<!-- \u6a5f\u95dc\u540d\u7a31 -->\n",
        "<td align=\"left\">\u570b\u7acb\u81fa\u7063\u4ea4\u97ff\u6a02\u5718</td>\n",
        "<!-- \u6a19\u6848\u6848\u865f&\u6a19\u6848\u540d\u7a31 -->\n",
        "<td align=\"left\">\r\n",
        "\t\t\t\t\t\t\t\t\t\t\t\tB1030422\r\n",
        "\t\t\t\t\t\t\t\t\t\t\t\t\r\n",
        "\t\t\t\t\t\t\t\t\t\t\t\t<br>\n",
        "<a href=\"../main/pms/tps/atm/atmAwardAction.do?newEdit=false&amp;searchMode=common&amp;method=inquiryForPublic&amp;pkAtmMain=51241665&amp;tenderCaseNo=B1030422\">\n",
        "<u>\u7ae5\u8a71\u2027\u50b3\u5947-X\u3010\u5f8c\u5bae\u50b3\u5947-\u5929\u65b9\u591c\u8b5a\u3011\u97f3\u6a02\u6703\u9080\u8acb\u7368\u594f\u5bb6</u>\n",
        "</a>\n",
        "</br></td>\n",
        "<!-- \u62db\u6a19\u65b9\u5f0f -->\n",
        "<td align=\"left\">\u9650\u5236\u6027\u62db\u6a19(\u672a\u7d93\u516c\u958b\u8a55\u9078\u6216\u516c\u958b\u5fb5\u6c42)</td>\n",
        "<!-- \u6a19\u7684\u5206\u985e -->\n",
        "<td align=\"left\">\u52de\u52d9\u985e</td>\n",
        "<!-- \u516c\u544a\u65e5\u671f -->\n",
        "<td align=\"center\">103/04/29\n",
        "</td>\n",
        "<!-- \u6c7a\u6a19\u91d1\u984d -->\n",
        "<td align=\"right\">\n",
        "</td>\n",
        "<!-- \u6c7a\u6a19\u516c\u544a -->\n",
        "<td align=\"center\">\n",
        "<a href=\"../main/pms/tps/atm/atmAwardAction.do?newEdit=false&amp;searchMode=common&amp;method=inquiryForPublic&amp;pkAtmMain=51241665&amp;tenderCaseNo=B1030422\">\n",
        "<u>001</u>\n",
        "</a>\r\n",
        "\t\t\t\t\t\t\t\t\t\t\t\t\t\t\r\n",
        "\t\t\t\t\t\t\t\t\t\t\t\t\t\u00a0\r\n",
        "\t\t\t\t\t\t\t\t\t\t\t\t</td>\n",
        "<!-- \u7121\u6cd5\u6c7a\u6a19\u516c\u544a -->\n",
        "<td align=\"center\">\r\n",
        "\t\t\t\t\t\t\t\t\t\t\t\t\t\u00a0\r\n",
        "\t\t\t\t\t\t\t\t\t\t\t\t</td>\n",
        "</tr>\n",
        "<tr bgcolor=\"#FFFFFF\" onmouseout=\"outcss(this,'#FFFFFF');\" onmouseover=\"overcss(this);\">\n",
        "<!-- \u9805\u6b21 -->\n",
        "<td align=\"center\">7\u00a0</td>\n",
        "<!-- \u6a5f\u95dc\u540d\u7a31 -->\n",
        "<td align=\"left\">\u4ea4\u901a\u90e8\u822a\u6e2f\u5c40</td>\n",
        "<!-- \u6a19\u6848\u6848\u865f&\u6a19\u6848\u540d\u7a31 -->\n",
        "<td align=\"left\">\r\n",
        "\t\t\t\t\t\t\t\t\t\t\t\tMPB10390429\r\n",
        "\t\t\t\t\t\t\t\t\t\t\t\t\r\n",
        "\t\t\t\t\t\t\t\t\t\t\t\t<br>\n",
        "<a href=\"../main/pms/tps/atm/atmAwardAction.do?newEdit=false&amp;searchMode=common&amp;method=inquiryForPublic&amp;pkAtmMain=51241621&amp;tenderCaseNo=MPB10390429\">\n",
        "<u>103\u5e74\u5ea6\u516c\u6587\u7cfb\u7d71\u7dad\u8b77\u6848</u>\n",
        "</a>\n",
        "</br></td>\n",
        "<!-- \u62db\u6a19\u65b9\u5f0f -->\n",
        "<td align=\"left\">\u9650\u5236\u6027\u62db\u6a19(\u672a\u7d93\u516c\u958b\u8a55\u9078\u6216\u516c\u958b\u5fb5\u6c42)</td>\n",
        "<!-- \u6a19\u7684\u5206\u985e -->\n",
        "<td align=\"left\">\u52de\u52d9\u985e</td>\n",
        "<!-- \u516c\u544a\u65e5\u671f -->\n",
        "<td align=\"center\">103/04/29\n",
        "</td>\n",
        "<!-- \u6c7a\u6a19\u91d1\u984d -->\n",
        "<td align=\"right\">\r\n",
        "\t\t\t\t\t\t\t\t\t\t\t\t\t675000\r\n",
        "\t\t\t\t\t\t\t\t\t\t\t\t</td>\n",
        "<!-- \u6c7a\u6a19\u516c\u544a -->\n",
        "<td align=\"center\">\n",
        "<a href=\"../main/pms/tps/atm/atmAwardAction.do?newEdit=false&amp;searchMode=common&amp;method=inquiryForPublic&amp;pkAtmMain=51241621&amp;tenderCaseNo=MPB10390429\">\n",
        "<u>001</u>\n",
        "</a>\r\n",
        "\t\t\t\t\t\t\t\t\t\t\t\t\t\t\r\n",
        "\t\t\t\t\t\t\t\t\t\t\t\t\t\u00a0\r\n",
        "\t\t\t\t\t\t\t\t\t\t\t\t</td>\n",
        "<!-- \u7121\u6cd5\u6c7a\u6a19\u516c\u544a -->\n",
        "<td align=\"center\">\r\n",
        "\t\t\t\t\t\t\t\t\t\t\t\t\t\u00a0\r\n",
        "\t\t\t\t\t\t\t\t\t\t\t\t</td>\n",
        "</tr>\n",
        "<tr bgcolor=\"#D6FAC5\" onmouseout=\"outcss(this,'#D6FAC5');\" onmouseover=\"overcss(this);\">\n",
        "<!-- \u9805\u6b21 -->\n",
        "<td align=\"center\">8\u00a0</td>\n",
        "<!-- \u6a5f\u95dc\u540d\u7a31 -->\n",
        "<td align=\"left\">\u570b\u7acb\u9727\u5cf0\u9ad8\u7d1a\u8fb2\u5de5\u8077\u696d\u5b78\u6821</td>\n",
        "<!-- \u6a19\u6848\u6848\u865f&\u6a19\u6848\u540d\u7a31 -->\n",
        "<td align=\"left\">\r\n",
        "\t\t\t\t\t\t\t\t\t\t\t\t103-19\r\n",
        "\t\t\t\t\t\t\t\t\t\t\t\t\r\n",
        "\t\t\t\t\t\t\t\t\t\t\t\t<br>\n",
        "<a href=\"../main/pms/tps/atm/atmAwardAction.do?newEdit=false&amp;searchMode=common&amp;method=inquiryForPublic&amp;pkAtmMain=51241602&amp;tenderCaseNo=103-19\">\n",
        "<u>\u300c103\u5b78\u5e74\u5ea6\u65b0\u751f\u5065\u5eb7\u6aa2\u67e5\u300d\u62db\u6a19\u6848</u>\n",
        "</a>\n",
        "</br></td>\n",
        "<!-- \u62db\u6a19\u65b9\u5f0f -->\n",
        "<td align=\"left\">\u516c\u958b\u53d6\u5f97\u5831\u50f9\u55ae\u6216\u4f01\u5283\u66f8</td>\n",
        "<!-- \u6a19\u7684\u5206\u985e -->\n",
        "<td align=\"left\">\u52de\u52d9\u985e</td>\n",
        "<!-- \u516c\u544a\u65e5\u671f -->\n",
        "<td align=\"center\">103/04/29\n",
        "</td>\n",
        "<!-- \u6c7a\u6a19\u91d1\u984d -->\n",
        "<td align=\"right\">\r\n",
        "\t\t\t\t\t\t\t\t\t\t\t\t\t182000\r\n",
        "\t\t\t\t\t\t\t\t\t\t\t\t</td>\n",
        "<!-- \u6c7a\u6a19\u516c\u544a -->\n",
        "<td align=\"center\">\n",
        "<a href=\"../main/pms/tps/atm/atmAwardAction.do?newEdit=false&amp;searchMode=common&amp;method=inquiryForPublic&amp;pkAtmMain=51241602&amp;tenderCaseNo=103-19\">\n",
        "<u>001</u>\n",
        "</a>\r\n",
        "\t\t\t\t\t\t\t\t\t\t\t\t\t\t\r\n",
        "\t\t\t\t\t\t\t\t\t\t\t\t\t\u00a0\r\n",
        "\t\t\t\t\t\t\t\t\t\t\t\t</td>\n",
        "<!-- \u7121\u6cd5\u6c7a\u6a19\u516c\u544a -->\n",
        "<td align=\"center\">\r\n",
        "\t\t\t\t\t\t\t\t\t\t\t\t\t\u00a0\r\n",
        "\t\t\t\t\t\t\t\t\t\t\t\t</td>\n",
        "</tr>\n",
        "<tr bgcolor=\"#FFFFFF\" onmouseout=\"outcss(this,'#FFFFFF');\" onmouseover=\"overcss(this);\">\n",
        "<!-- \u9805\u6b21 -->\n",
        "<td align=\"center\">9\u00a0</td>\n",
        "<!-- \u6a5f\u95dc\u540d\u7a31 -->\n",
        "<td align=\"left\">\u570b\u7acb\u6e05\u83ef\u5927\u5b78</td>\n",
        "<!-- \u6a19\u6848\u6848\u865f&\u6a19\u6848\u540d\u7a31 -->\n",
        "<td align=\"left\">\r\n",
        "\t\t\t\t\t\t\t\t\t\t\t\tSL-103043\r\n",
        "\t\t\t\t\t\t\t\t\t\t\t\t\r\n",
        "\t\t\t\t\t\t\t\t\t\t\t\t<br>\n",
        "<a href=\"../main/pms/tps/atm/atmAwardAction.do?newEdit=false&amp;searchMode=common&amp;method=inquiryForPublic&amp;pkAtmMain=51241573&amp;tenderCaseNo=SL-103043\">\n",
        "<u>103\u5e74\u6559\u80b2\u90e8\u570b\u6559\u7f72\u88dc\u52a9\u5404\u7e23\u5e02\u589e\u7f6e\u570b\u5c0f\u6559\u5e2b\u54e1\u984d\u7d93\u8cbb\u7ba1\u5236\u53ca\u4eba\u529b\u904b\u7528\u5e73\u53f0\u4e4b\u7cfb\u7d71\u7dad\u904b\u6848*1</u>\n",
        "</a>\n",
        "</br></td>\n",
        "<!-- \u62db\u6a19\u65b9\u5f0f -->\n",
        "<td align=\"left\">\u9650\u5236\u6027\u62db\u6a19(\u672a\u7d93\u516c\u958b\u8a55\u9078\u6216\u516c\u958b\u5fb5\u6c42)</td>\n",
        "<!-- \u6a19\u7684\u5206\u985e -->\n",
        "<td align=\"left\">\u52de\u52d9\u985e</td>\n",
        "<!-- \u516c\u544a\u65e5\u671f -->\n",
        "<td align=\"center\">103/04/29\n",
        "</td>\n",
        "<!-- \u6c7a\u6a19\u91d1\u984d -->\n",
        "<td align=\"right\">\r\n",
        "\t\t\t\t\t\t\t\t\t\t\t\t\t365000\r\n",
        "\t\t\t\t\t\t\t\t\t\t\t\t</td>\n",
        "<!-- \u6c7a\u6a19\u516c\u544a -->\n",
        "<td align=\"center\">\n",
        "<a href=\"../main/pms/tps/atm/atmAwardAction.do?newEdit=false&amp;searchMode=common&amp;method=inquiryForPublic&amp;pkAtmMain=51241573&amp;tenderCaseNo=SL-103043\">\n",
        "<u>001</u>\n",
        "</a>\r\n",
        "\t\t\t\t\t\t\t\t\t\t\t\t\t\t\r\n",
        "\t\t\t\t\t\t\t\t\t\t\t\t\t\u00a0\r\n",
        "\t\t\t\t\t\t\t\t\t\t\t\t</td>\n",
        "<!-- \u7121\u6cd5\u6c7a\u6a19\u516c\u544a -->\n",
        "<td align=\"center\">\r\n",
        "\t\t\t\t\t\t\t\t\t\t\t\t\t\u00a0\r\n",
        "\t\t\t\t\t\t\t\t\t\t\t\t</td>\n",
        "</tr>\n",
        "<tr bgcolor=\"#D6FAC5\" onmouseout=\"outcss(this,'#D6FAC5');\" onmouseover=\"overcss(this);\">\n",
        "<!-- \u9805\u6b21 -->\n",
        "<td align=\"center\">10\u00a0</td>\n",
        "<!-- \u6a5f\u95dc\u540d\u7a31 -->\n",
        "<td align=\"left\">\u570b\u9632\u90e8\u8ecd\u91ab\u5c40</td>\n",
        "<!-- \u6a19\u6848\u6848\u865f&\u6a19\u6848\u540d\u7a31 -->\n",
        "<td align=\"left\">\r\n",
        "\t\t\t\t\t\t\t\t\t\t\t\tNG03035P009P\r\n",
        "\t\t\t\t\t\t\t\t\t\t\t\t\r\n",
        "\t\t\t\t\t\t\t\t\t\t\t\t<br>\n",
        "<a href=\"../main/pms/tps/atm/atmAwardAction.do?newEdit=false&amp;searchMode=common&amp;method=inquiryForPublic&amp;pkAtmMain=51241557&amp;tenderCaseNo=NG03035P009P\">\n",
        "<u>\u5f71\u5370\u6a5f\u79df\u8cc3</u>\n",
        "</a>\n",
        "</br></td>\n",
        "<!-- \u62db\u6a19\u65b9\u5f0f -->\n",
        "<td align=\"left\">\u516c\u958b\u53d6\u5f97\u5831\u50f9\u55ae\u6216\u4f01\u5283\u66f8</td>\n",
        "<!-- \u6a19\u7684\u5206\u985e -->\n",
        "<td align=\"left\">\u52de\u52d9\u985e</td>\n",
        "<!-- \u516c\u544a\u65e5\u671f -->\n",
        "<td align=\"center\">103/04/29\n",
        "</td>\n",
        "<!-- \u6c7a\u6a19\u91d1\u984d -->\n",
        "<td align=\"right\">\r\n",
        "\t\t\t\t\t\t\t\t\t\t\t\t\t678960\r\n",
        "\t\t\t\t\t\t\t\t\t\t\t\t</td>\n",
        "<!-- \u6c7a\u6a19\u516c\u544a -->\n",
        "<td align=\"center\">\n",
        "<a href=\"../main/pms/tps/atm/atmAwardAction.do?newEdit=false&amp;searchMode=common&amp;method=inquiryForPublic&amp;pkAtmMain=51241557&amp;tenderCaseNo=NG03035P009P\">\n",
        "<u>001</u>\n",
        "</a>\r\n",
        "\t\t\t\t\t\t\t\t\t\t\t\t\t\t\r\n",
        "\t\t\t\t\t\t\t\t\t\t\t\t\t\u00a0\r\n",
        "\t\t\t\t\t\t\t\t\t\t\t\t</td>\n",
        "<!-- \u7121\u6cd5\u6c7a\u6a19\u516c\u544a -->\n",
        "<td align=\"center\">\r\n",
        "\t\t\t\t\t\t\t\t\t\t\t\t\t\u00a0\r\n",
        "\t\t\t\t\t\t\t\t\t\t\t\t</td>\n",
        "</tr>\n",
        "<tr bgcolor=\"#FFFFFF\" onmouseout=\"outcss(this,'#FFFFFF');\" onmouseover=\"overcss(this);\">\n",
        "<!-- \u9805\u6b21 -->\n",
        "<td align=\"center\">11\u00a0</td>\n",
        "<!-- \u6a5f\u95dc\u540d\u7a31 -->\n",
        "<td align=\"left\">\u81fa\u4e2d\u5e02\u4e2d\u5340\u5149\u5fa9\u570b\u6c11\u5c0f\u5b78</td>\n",
        "<!-- \u6a19\u6848\u6848\u865f&\u6a19\u6848\u540d\u7a31 -->\n",
        "<td align=\"left\">\r\n",
        "\t\t\t\t\t\t\t\t\t\t\t\t10302\r\n",
        "\t\t\t\t\t\t\t\t\t\t\t\t\r\n",
        "\t\t\t\t\t\t\t\t\t\t\t\t<font color=\"red\">(\u66f4\u6b63\u516c\u544a)</font>\n",
        "<br>\n",
        "<a href=\"../main/pms/tps/atm/atmAwardAction.do?newEdit=false&amp;searchMode=common&amp;method=inquiryForPublic&amp;pkAtmMain=51241458&amp;tenderCaseNo=10302\">\n",
        "<u>\u81fa\u4e2d\u5e02\u4e2d\u5340\u5149\u5fa9\u570b\u6c11\u5c0f\u5b78103\u5e74\u5ea6\u300c\u5e73\u7b49\u8857\u68df\u300d\u6821\u820d\u8010\u9707\u80fd\u529b\u88dc\u5f37\u8a2d\u8a08\u76e3\u9020\u59d4\u8a17\u6280\u8853\u670d\u52d9</u>\n",
        "</a>\n",
        "</br></td>\n",
        "<!-- \u62db\u6a19\u65b9\u5f0f -->\n",
        "<td align=\"left\">\u9650\u5236\u6027\u62db\u6a19(\u672a\u7d93\u516c\u958b\u8a55\u9078\u6216\u516c\u958b\u5fb5\u6c42)</td>\n",
        "<!-- \u6a19\u7684\u5206\u985e -->\n",
        "<td align=\"left\">\u52de\u52d9\u985e</td>\n",
        "<!-- \u516c\u544a\u65e5\u671f -->\n",
        "<td align=\"center\">103/04/29\n",
        "</td>\n",
        "<!-- \u6c7a\u6a19\u91d1\u984d -->\n",
        "<td align=\"right\">\r\n",
        "\t\t\t\t\t\t\t\t\t\t\t\t\t600000\r\n",
        "\t\t\t\t\t\t\t\t\t\t\t\t</td>\n",
        "<!-- \u6c7a\u6a19\u516c\u544a -->\n",
        "<td align=\"center\">\n",
        "<a href=\"../main/pms/tps/atm/atmAwardAction.do?newEdit=false&amp;searchMode=common&amp;method=inquiryForPublic&amp;pkAtmMain=51241458&amp;tenderCaseNo=10302\">\n",
        "<u>001</u>\n",
        "</a>\r\n",
        "\t\t\t\t\t\t\t\t\t\t\t\t\t\t\r\n",
        "\t\t\t\t\t\t\t\t\t\t\t\t\t\u00a0\r\n",
        "\t\t\t\t\t\t\t\t\t\t\t\t</td>\n",
        "<!-- \u7121\u6cd5\u6c7a\u6a19\u516c\u544a -->\n",
        "<td align=\"center\">\r\n",
        "\t\t\t\t\t\t\t\t\t\t\t\t\t\u00a0\r\n",
        "\t\t\t\t\t\t\t\t\t\t\t\t</td>\n",
        "</tr>\n",
        "<tr bgcolor=\"#D6FAC5\" onmouseout=\"outcss(this,'#D6FAC5');\" onmouseover=\"overcss(this);\">\n",
        "<!-- \u9805\u6b21 -->\n",
        "<td align=\"center\">12\u00a0</td>\n",
        "<!-- \u6a5f\u95dc\u540d\u7a31 -->\n",
        "<td align=\"left\">\u570b\u7acb\u81fa\u7063\u5de5\u85dd\u7814\u7a76\u767c\u5c55\u4e2d\u5fc3</td>\n",
        "<!-- \u6a19\u6848\u6848\u865f&\u6a19\u6848\u540d\u7a31 -->\n",
        "<td align=\"left\">\r\n",
        "\t\t\t\t\t\t\t\t\t\t\t\t103-2-010\r\n",
        "\t\t\t\t\t\t\t\t\t\t\t\t\r\n",
        "\t\t\t\t\t\t\t\t\t\t\t\t<br>\n",
        "<a href=\"../main/pms/tps/atm/atmAwardAction.do?newEdit=false&amp;searchMode=common&amp;method=inquiryForPublic&amp;pkAtmMain=51241498&amp;tenderCaseNo=103-2-010\">\n",
        "<u>\u300c\u690d\u7269\u7e96\u7dad\u5de5\u85dd\u6587\u5316\u5c08\u8f2f\u51fa\u7248\u8a08\u756b\u300d\u59d4\u8a17\u670d\u52d9\u63a1\u8cfc\u6848</u>\n",
        "</a>\n",
        "</br></td>\n",
        "<!-- \u62db\u6a19\u65b9\u5f0f -->\n",
        "<td align=\"left\">\u516c\u958b\u53d6\u5f97\u5831\u50f9\u55ae\u6216\u4f01\u5283\u66f8</td>\n",
        "<!-- \u6a19\u7684\u5206\u985e -->\n",
        "<td align=\"left\">\u52de\u52d9\u985e</td>\n",
        "<!-- \u516c\u544a\u65e5\u671f -->\n",
        "<td align=\"center\">103/04/29\n",
        "</td>\n",
        "<!-- \u6c7a\u6a19\u91d1\u984d -->\n",
        "<td align=\"right\">\r\n",
        "\t\t\t\t\t\t\t\t\t\t\t\t\t635000\r\n",
        "\t\t\t\t\t\t\t\t\t\t\t\t</td>\n",
        "<!-- \u6c7a\u6a19\u516c\u544a -->\n",
        "<td align=\"center\">\n",
        "<a href=\"../main/pms/tps/atm/atmAwardAction.do?newEdit=false&amp;searchMode=common&amp;method=inquiryForPublic&amp;pkAtmMain=51241498&amp;tenderCaseNo=103-2-010\">\n",
        "<u>001</u>\n",
        "</a>\r\n",
        "\t\t\t\t\t\t\t\t\t\t\t\t\t\t\r\n",
        "\t\t\t\t\t\t\t\t\t\t\t\t\t\u00a0\r\n",
        "\t\t\t\t\t\t\t\t\t\t\t\t</td>\n",
        "<!-- \u7121\u6cd5\u6c7a\u6a19\u516c\u544a -->\n",
        "<td align=\"center\">\r\n",
        "\t\t\t\t\t\t\t\t\t\t\t\t\t\u00a0\r\n",
        "\t\t\t\t\t\t\t\t\t\t\t\t</td>\n",
        "</tr>\n",
        "<tr bgcolor=\"#FFFFFF\" onmouseout=\"outcss(this,'#FFFFFF');\" onmouseover=\"overcss(this);\">\n",
        "<!-- \u9805\u6b21 -->\n",
        "<td align=\"center\">13\u00a0</td>\n",
        "<!-- \u6a5f\u95dc\u540d\u7a31 -->\n",
        "<td align=\"left\">\u570b\u7acb\u967d\u660e\u5927\u5b78</td>\n",
        "<!-- \u6a19\u6848\u6848\u865f&\u6a19\u6848\u540d\u7a31 -->\n",
        "<td align=\"left\">\r\n",
        "\t\t\t\t\t\t\t\t\t\t\t\tW103ABC071\r\n",
        "\t\t\t\t\t\t\t\t\t\t\t\t\r\n",
        "\t\t\t\t\t\t\t\t\t\t\t\t<br>\n",
        "<a href=\"../main/pms/tps/atm/atmAwardAction.do?newEdit=false&amp;searchMode=common&amp;method=inquiryForPublic&amp;pkAtmMain=51241496&amp;tenderCaseNo=W103ABC071\">\n",
        "<u>\u300c\u7da0\u5149\u4e16\u754c\u5287\u5834-\u624b\u727d\u624b\u7d00\u5ff5\u65e5\u300d\u8868\u6f14\u8cbb</u>\n",
        "</a>\n",
        "</br></td>\n",
        "<!-- \u62db\u6a19\u65b9\u5f0f -->\n",
        "<td align=\"left\">\u9650\u5236\u6027\u62db\u6a19(\u672a\u7d93\u516c\u958b\u8a55\u9078\u6216\u516c\u958b\u5fb5\u6c42)</td>\n",
        "<!-- \u6a19\u7684\u5206\u985e -->\n",
        "<td align=\"left\">\u52de\u52d9\u985e</td>\n",
        "<!-- \u516c\u544a\u65e5\u671f -->\n",
        "<td align=\"center\">103/04/29\n",
        "</td>\n",
        "<!-- \u6c7a\u6a19\u91d1\u984d -->\n",
        "<td align=\"right\">\r\n",
        "\t\t\t\t\t\t\t\t\t\t\t\t\t198500\r\n",
        "\t\t\t\t\t\t\t\t\t\t\t\t</td>\n",
        "<!-- \u6c7a\u6a19\u516c\u544a -->\n",
        "<td align=\"center\">\n",
        "<a href=\"../main/pms/tps/atm/atmAwardAction.do?newEdit=false&amp;searchMode=common&amp;method=inquiryForPublic&amp;pkAtmMain=51241496&amp;tenderCaseNo=W103ABC071\">\n",
        "<u>001</u>\n",
        "</a>\r\n",
        "\t\t\t\t\t\t\t\t\t\t\t\t\t\t\r\n",
        "\t\t\t\t\t\t\t\t\t\t\t\t\t\u00a0\r\n",
        "\t\t\t\t\t\t\t\t\t\t\t\t</td>\n",
        "<!-- \u7121\u6cd5\u6c7a\u6a19\u516c\u544a -->\n",
        "<td align=\"center\">\r\n",
        "\t\t\t\t\t\t\t\t\t\t\t\t\t\u00a0\r\n",
        "\t\t\t\t\t\t\t\t\t\t\t\t</td>\n",
        "</tr>\n",
        "<tr bgcolor=\"#D6FAC5\" onmouseout=\"outcss(this,'#D6FAC5');\" onmouseover=\"overcss(this);\">\n",
        "<!-- \u9805\u6b21 -->\n",
        "<td align=\"center\">14\u00a0</td>\n",
        "<!-- \u6a5f\u95dc\u540d\u7a31 -->\n",
        "<td align=\"left\">\u91d1\u9580\u7e23\u7269\u8cc7\u8655</td>\n",
        "<!-- \u6a19\u6848\u6848\u865f&\u6a19\u6848\u540d\u7a31 -->\n",
        "<td align=\"left\">\r\n",
        "\t\t\t\t\t\t\t\t\t\t\t\t103230330119\r\n",
        "\t\t\t\t\t\t\t\t\t\t\t\t\r\n",
        "\t\t\t\t\t\t\t\t\t\t\t\t<br>\n",
        "<a href=\"../main/pms/tps/atm/atmAwardAction.do?newEdit=false&amp;searchMode=common&amp;method=inquiryForPublic&amp;pkAtmMain=51241485&amp;tenderCaseNo=103230330119\">\n",
        "<u>103\u5e74\u5ea6\u6c70\u63db\u6c34\u91cf\u8a08</u>\n",
        "</a>\n",
        "</br></td>\n",
        "<!-- \u62db\u6a19\u65b9\u5f0f -->\n",
        "<td align=\"left\">\u516c\u958b\u53d6\u5f97\u5831\u50f9\u55ae\u6216\u4f01\u5283\u66f8</td>\n",
        "<!-- \u6a19\u7684\u5206\u985e -->\n",
        "<td align=\"left\">\u52de\u52d9\u985e</td>\n",
        "<!-- \u516c\u544a\u65e5\u671f -->\n",
        "<td align=\"center\">103/04/29\n",
        "</td>\n",
        "<!-- \u6c7a\u6a19\u91d1\u984d -->\n",
        "<td align=\"right\">\r\n",
        "\t\t\t\t\t\t\t\t\t\t\t\t\t830000\r\n",
        "\t\t\t\t\t\t\t\t\t\t\t\t</td>\n",
        "<!-- \u6c7a\u6a19\u516c\u544a -->\n",
        "<td align=\"center\">\n",
        "<a href=\"../main/pms/tps/atm/atmAwardAction.do?newEdit=false&amp;searchMode=common&amp;method=inquiryForPublic&amp;pkAtmMain=51241485&amp;tenderCaseNo=103230330119\">\n",
        "<u>001</u>\n",
        "</a>\r\n",
        "\t\t\t\t\t\t\t\t\t\t\t\t\t\t\r\n",
        "\t\t\t\t\t\t\t\t\t\t\t\t\t\u00a0\r\n",
        "\t\t\t\t\t\t\t\t\t\t\t\t</td>\n",
        "<!-- \u7121\u6cd5\u6c7a\u6a19\u516c\u544a -->\n",
        "<td align=\"center\">\r\n",
        "\t\t\t\t\t\t\t\t\t\t\t\t\t\u00a0\r\n",
        "\t\t\t\t\t\t\t\t\t\t\t\t</td>\n",
        "</tr>\n",
        "<tr bgcolor=\"#FFFFFF\" onmouseout=\"outcss(this,'#FFFFFF');\" onmouseover=\"overcss(this);\">\n",
        "<!-- \u9805\u6b21 -->\n",
        "<td align=\"center\">15\u00a0</td>\n",
        "<!-- \u6a5f\u95dc\u540d\u7a31 -->\n",
        "<td align=\"left\">\u81fa\u4e2d\u5e02\u7acb\u6e05\u6d77\u570b\u6c11\u4e2d\u5b78</td>\n",
        "<!-- \u6a19\u6848\u6848\u865f&\u6a19\u6848\u540d\u7a31 -->\n",
        "<td align=\"left\">\r\n",
        "\t\t\t\t\t\t\t\t\t\t\t\tC1030415\r\n",
        "\t\t\t\t\t\t\t\t\t\t\t\t\r\n",
        "\t\t\t\t\t\t\t\t\t\t\t\t<font color=\"red\">(\u66f4\u6b63\u516c\u544a)</font>\n",
        "<br>\n",
        "<a href=\"../main/pms/tps/atm/atmAwardAction.do?newEdit=false&amp;searchMode=common&amp;method=inquiryForPublic&amp;pkAtmMain=51238144&amp;tenderCaseNo=C1030415\">\n",
        "<u>102\u5b78\u5e74\u5ea69\u5e74\u7d1a\u6821\u5916\u6559\u5b78\u6d3b\u52d5</u>\n",
        "</a>\n",
        "</br></td>\n",
        "<!-- \u62db\u6a19\u65b9\u5f0f -->\n",
        "<td align=\"left\">\u516c\u958b\u53d6\u5f97\u5831\u50f9\u55ae\u6216\u4f01\u5283\u66f8</td>\n",
        "<!-- \u6a19\u7684\u5206\u985e -->\n",
        "<td align=\"left\">\u52de\u52d9\u985e</td>\n",
        "<!-- \u516c\u544a\u65e5\u671f -->\n",
        "<td align=\"center\">103/04/29\n",
        "</td>\n",
        "<!-- \u6c7a\u6a19\u91d1\u984d -->\n",
        "<td align=\"right\">\r\n",
        "\t\t\t\t\t\t\t\t\t\t\t\t\t186240\r\n",
        "\t\t\t\t\t\t\t\t\t\t\t\t</td>\n",
        "<!-- \u6c7a\u6a19\u516c\u544a -->\n",
        "<td align=\"center\">\n",
        "<a href=\"../main/pms/tps/atm/atmAwardAction.do?newEdit=false&amp;searchMode=common&amp;method=inquiryForPublic&amp;pkAtmMain=51238144&amp;tenderCaseNo=C1030415\">\n",
        "<u>001</u>\n",
        "</a>\r\n",
        "\t\t\t\t\t\t\t\t\t\t\t\t\t\t\r\n",
        "\t\t\t\t\t\t\t\t\t\t\t\t\t\u00a0\r\n",
        "\t\t\t\t\t\t\t\t\t\t\t\t</td>\n",
        "<!-- \u7121\u6cd5\u6c7a\u6a19\u516c\u544a -->\n",
        "<td align=\"center\">\r\n",
        "\t\t\t\t\t\t\t\t\t\t\t\t\t\u00a0\r\n",
        "\t\t\t\t\t\t\t\t\t\t\t\t</td>\n",
        "</tr>\n",
        "<tr bgcolor=\"#D6FAC5\" onmouseout=\"outcss(this,'#D6FAC5');\" onmouseover=\"overcss(this);\">\n",
        "<!-- \u9805\u6b21 -->\n",
        "<td align=\"center\">16\u00a0</td>\n",
        "<!-- \u6a5f\u95dc\u540d\u7a31 -->\n",
        "<td align=\"left\">\u81fa\u5317\u5e02\u653f\u5e9c\u52de\u52d5\u5c40</td>\n",
        "<!-- \u6a19\u6848\u6848\u865f&\u6a19\u6848\u540d\u7a31 -->\n",
        "<td align=\"left\">\r\n",
        "\t\t\t\t\t\t\t\t\t\t\t\tY103016\r\n",
        "\t\t\t\t\t\t\t\t\t\t\t\t\r\n",
        "\t\t\t\t\t\t\t\t\t\t\t\t<br>\n",
        "<a href=\"../main/pms/tps/atm/atmAwardAction.do?newEdit=false&amp;searchMode=common&amp;method=inquiryForPublic&amp;pkAtmMain=51241358&amp;tenderCaseNo=Y103016\">\n",
        "<u>\u52de\u5de5\u6559\u80b2\u9928\u5efa\u7bc9\u7269\u7d50\u69cb\u88dc\u5f37\u3001\u5c4b\u9802\u5916\u7246\u9632\u6f0f\u53ca\u5ba4\u5167\u88dd\u4fee\u5fa9\u539f\u5de5\u7a0b\u8a2d\u8a08\u76e3\u9020\u59d4\u8a17\u6848</u>\n",
        "</a>\n",
        "</br></td>\n",
        "<!-- \u62db\u6a19\u65b9\u5f0f -->\n",
        "<td align=\"left\">\u516c\u958b\u53d6\u5f97\u5831\u50f9\u55ae\u6216\u4f01\u5283\u66f8</td>\n",
        "<!-- \u6a19\u7684\u5206\u985e -->\n",
        "<td align=\"left\">\u52de\u52d9\u985e</td>\n",
        "<!-- \u516c\u544a\u65e5\u671f -->\n",
        "<td align=\"center\">103/04/29\n",
        "</td>\n",
        "<!-- \u6c7a\u6a19\u91d1\u984d -->\n",
        "<td align=\"right\">\r\n",
        "\t\t\t\t\t\t\t\t\t\t\t\t\t588000\r\n",
        "\t\t\t\t\t\t\t\t\t\t\t\t</td>\n",
        "<!-- \u6c7a\u6a19\u516c\u544a -->\n",
        "<td align=\"center\">\n",
        "<a href=\"../main/pms/tps/atm/atmAwardAction.do?newEdit=false&amp;searchMode=common&amp;method=inquiryForPublic&amp;pkAtmMain=51241358&amp;tenderCaseNo=Y103016\">\n",
        "<u>001</u>\n",
        "</a>\r\n",
        "\t\t\t\t\t\t\t\t\t\t\t\t\t\t\r\n",
        "\t\t\t\t\t\t\t\t\t\t\t\t\t\u00a0\r\n",
        "\t\t\t\t\t\t\t\t\t\t\t\t</td>\n",
        "<!-- \u7121\u6cd5\u6c7a\u6a19\u516c\u544a -->\n",
        "<td align=\"center\">\r\n",
        "\t\t\t\t\t\t\t\t\t\t\t\t\t\u00a0\r\n",
        "\t\t\t\t\t\t\t\t\t\t\t\t</td>\n",
        "</tr>\n",
        "<tr bgcolor=\"#FFFFFF\" onmouseout=\"outcss(this,'#FFFFFF');\" onmouseover=\"overcss(this);\">\n",
        "<!-- \u9805\u6b21 -->\n",
        "<td align=\"center\">17\u00a0</td>\n",
        "<!-- \u6a5f\u95dc\u540d\u7a31 -->\n",
        "<td align=\"left\">\u81fa\u4e2d\u5e02\u592a\u5e73\u5340\u5b9c\u6b23\u570b\u6c11\u5c0f\u5b78</td>\n",
        "<!-- \u6a19\u6848\u6848\u865f&\u6a19\u6848\u540d\u7a31 -->\n",
        "<td align=\"left\">\r\n",
        "\t\t\t\t\t\t\t\t\t\t\t\t103003\r\n",
        "\t\t\t\t\t\t\t\t\t\t\t\t\r\n",
        "\t\t\t\t\t\t\t\t\t\t\t\t<br>\n",
        "<a href=\"../main/pms/tps/atm/atmAwardAction.do?newEdit=false&amp;searchMode=common&amp;method=inquiryForPublic&amp;pkAtmMain=51241301&amp;tenderCaseNo=103003\">\n",
        "<u>\u5b9c\u6b23\u570b\u6c11\u5c0f\u5b78\u8fa6\u7406103\u5e74\u5ea6\u6587\u5c0f6\u5b78\u6821\u9810\u5b9a\u5730\u74b0\u5883\u6e05\u6f54\u7dad\u8b77\u63a1\u8cfc</u>\n",
        "</a>\n",
        "</br></td>\n",
        "<!-- \u62db\u6a19\u65b9\u5f0f -->\n",
        "<td align=\"left\">\u516c\u958b\u53d6\u5f97\u5831\u50f9\u55ae\u6216\u4f01\u5283\u66f8</td>\n",
        "<!-- \u6a19\u7684\u5206\u985e -->\n",
        "<td align=\"left\">\u52de\u52d9\u985e</td>\n",
        "<!-- \u516c\u544a\u65e5\u671f -->\n",
        "<td align=\"center\">103/04/29\n",
        "</td>\n",
        "<!-- \u6c7a\u6a19\u91d1\u984d -->\n",
        "<td align=\"right\">\r\n",
        "\t\t\t\t\t\t\t\t\t\t\t\t\t75000\r\n",
        "\t\t\t\t\t\t\t\t\t\t\t\t</td>\n",
        "<!-- \u6c7a\u6a19\u516c\u544a -->\n",
        "<td align=\"center\">\n",
        "<a href=\"../main/pms/tps/atm/atmAwardAction.do?newEdit=false&amp;searchMode=common&amp;method=inquiryForPublic&amp;pkAtmMain=51241301&amp;tenderCaseNo=103003\">\n",
        "<u>001</u>\n",
        "</a>\r\n",
        "\t\t\t\t\t\t\t\t\t\t\t\t\t\t\r\n",
        "\t\t\t\t\t\t\t\t\t\t\t\t\t\u00a0\r\n",
        "\t\t\t\t\t\t\t\t\t\t\t\t</td>\n",
        "<!-- \u7121\u6cd5\u6c7a\u6a19\u516c\u544a -->\n",
        "<td align=\"center\">\r\n",
        "\t\t\t\t\t\t\t\t\t\t\t\t\t\u00a0\r\n",
        "\t\t\t\t\t\t\t\t\t\t\t\t</td>\n",
        "</tr>\n",
        "<tr bgcolor=\"#D6FAC5\" onmouseout=\"outcss(this,'#D6FAC5');\" onmouseover=\"overcss(this);\">\n",
        "<!-- \u9805\u6b21 -->\n",
        "<td align=\"center\">18\u00a0</td>\n",
        "<!-- \u6a5f\u95dc\u540d\u7a31 -->\n",
        "<td align=\"left\">\u81fa\u4e2d\u5e02\u653f\u5e9c\u6587\u5316\u5c40</td>\n",
        "<!-- \u6a19\u6848\u6848\u865f&\u6a19\u6848\u540d\u7a31 -->\n",
        "<td align=\"left\">\r\n",
        "\t\t\t\t\t\t\t\t\t\t\t\t103-7\r\n",
        "\t\t\t\t\t\t\t\t\t\t\t\t\r\n",
        "\t\t\t\t\t\t\t\t\t\t\t\t<br>\n",
        "<a href=\"../main/pms/tps/atm/atmAwardAction.do?newEdit=false&amp;searchMode=common&amp;method=inquiryForPublic&amp;pkAtmMain=51241289&amp;tenderCaseNo=103-7\">\n",
        "<u>2014\u4e0b\u534a\u5e74\u5047\u65e5\u5ee3\u5834\u7cfb\u5217\u6d3b\u52d5</u>\n",
        "</a>\n",
        "</br></td>\n",
        "<!-- \u62db\u6a19\u65b9\u5f0f -->\n",
        "<td align=\"left\">\u516c\u958b\u53d6\u5f97\u5831\u50f9\u55ae\u6216\u4f01\u5283\u66f8</td>\n",
        "<!-- \u6a19\u7684\u5206\u985e -->\n",
        "<td align=\"left\">\u52de\u52d9\u985e</td>\n",
        "<!-- \u516c\u544a\u65e5\u671f -->\n",
        "<td align=\"center\">103/04/29\n",
        "</td>\n",
        "<!-- \u6c7a\u6a19\u91d1\u984d -->\n",
        "<td align=\"right\">\r\n",
        "\t\t\t\t\t\t\t\t\t\t\t\t\t889000\r\n",
        "\t\t\t\t\t\t\t\t\t\t\t\t</td>\n",
        "<!-- \u6c7a\u6a19\u516c\u544a -->\n",
        "<td align=\"center\">\n",
        "<a href=\"../main/pms/tps/atm/atmAwardAction.do?newEdit=false&amp;searchMode=common&amp;method=inquiryForPublic&amp;pkAtmMain=51241289&amp;tenderCaseNo=103-7\">\n",
        "<u>001</u>\n",
        "</a>\r\n",
        "\t\t\t\t\t\t\t\t\t\t\t\t\t\t\r\n",
        "\t\t\t\t\t\t\t\t\t\t\t\t\t\u00a0\r\n",
        "\t\t\t\t\t\t\t\t\t\t\t\t</td>\n",
        "<!-- \u7121\u6cd5\u6c7a\u6a19\u516c\u544a -->\n",
        "<td align=\"center\">\r\n",
        "\t\t\t\t\t\t\t\t\t\t\t\t\t\u00a0\r\n",
        "\t\t\t\t\t\t\t\t\t\t\t\t</td>\n",
        "</tr>\n",
        "<tr bgcolor=\"#FFFFFF\" onmouseout=\"outcss(this,'#FFFFFF');\" onmouseover=\"overcss(this);\">\n",
        "<!-- \u9805\u6b21 -->\n",
        "<td align=\"center\">19\u00a0</td>\n",
        "<!-- \u6a5f\u95dc\u540d\u7a31 -->\n",
        "<td align=\"left\">\u6843\u5712\u7e23\u6843\u5712\u5e02\u516c\u6240</td>\n",
        "<!-- \u6a19\u6848\u6848\u865f&\u6a19\u6848\u540d\u7a31 -->\n",
        "<td align=\"left\">\r\n",
        "\t\t\t\t\t\t\t\t\t\t\t\t103-TY-142\r\n",
        "\t\t\t\t\t\t\t\t\t\t\t\t\r\n",
        "\t\t\t\t\t\t\t\t\t\t\t\t<br>\n",
        "<a href=\"../main/pms/tps/atm/atmAwardAction.do?newEdit=false&amp;searchMode=common&amp;method=inquiryForPublic&amp;pkAtmMain=51241135&amp;tenderCaseNo=103-TY-142\">\n",
        "<u>103\u5e74\u5ea6\u6843\u5712\u5e02\u6587\u5316\u590f\u4ee4\u71df\u670d\u52d9\u6848</u>\n",
        "</a>\n",
        "</br></td>\n",
        "<!-- \u62db\u6a19\u65b9\u5f0f -->\n",
        "<td align=\"left\">\u516c\u958b\u53d6\u5f97\u5831\u50f9\u55ae\u6216\u4f01\u5283\u66f8</td>\n",
        "<!-- \u6a19\u7684\u5206\u985e -->\n",
        "<td align=\"left\">\u52de\u52d9\u985e</td>\n",
        "<!-- \u516c\u544a\u65e5\u671f -->\n",
        "<td align=\"center\">103/04/29\n",
        "</td>\n",
        "<!-- \u6c7a\u6a19\u91d1\u984d -->\n",
        "<td align=\"right\">\r\n",
        "\t\t\t\t\t\t\t\t\t\t\t\t\t300000\r\n",
        "\t\t\t\t\t\t\t\t\t\t\t\t</td>\n",
        "<!-- \u6c7a\u6a19\u516c\u544a -->\n",
        "<td align=\"center\">\n",
        "<a href=\"../main/pms/tps/atm/atmAwardAction.do?newEdit=false&amp;searchMode=common&amp;method=inquiryForPublic&amp;pkAtmMain=51241135&amp;tenderCaseNo=103-TY-142\">\n",
        "<u>001</u>\n",
        "</a>\r\n",
        "\t\t\t\t\t\t\t\t\t\t\t\t\t\t\r\n",
        "\t\t\t\t\t\t\t\t\t\t\t\t\t\u00a0\r\n",
        "\t\t\t\t\t\t\t\t\t\t\t\t</td>\n",
        "<!-- \u7121\u6cd5\u6c7a\u6a19\u516c\u544a -->\n",
        "<td align=\"center\">\r\n",
        "\t\t\t\t\t\t\t\t\t\t\t\t\t\u00a0\r\n",
        "\t\t\t\t\t\t\t\t\t\t\t\t</td>\n",
        "</tr>\n",
        "<tr bgcolor=\"#D6FAC5\" onmouseout=\"outcss(this,'#D6FAC5');\" onmouseover=\"overcss(this);\">\n",
        "<!-- \u9805\u6b21 -->\n",
        "<td align=\"center\">20\u00a0</td>\n",
        "<!-- \u6a5f\u95dc\u540d\u7a31 -->\n",
        "<td align=\"left\">\u5b9c\u862d\u7e23\u53f2\u9928</td>\n",
        "<!-- \u6a19\u6848\u6848\u865f&\u6a19\u6848\u540d\u7a31 -->\n",
        "<td align=\"left\">\r\n",
        "\t\t\t\t\t\t\t\t\t\t\t\t1030404\r\n",
        "\t\t\t\t\t\t\t\t\t\t\t\t\r\n",
        "\t\t\t\t\t\t\t\t\t\t\t\t<br>\n",
        "<a href=\"../main/pms/tps/atm/atmAwardAction.do?newEdit=false&amp;searchMode=common&amp;method=inquiryForPublic&amp;pkAtmMain=51241115&amp;tenderCaseNo=1030404\">\n",
        "<u>\u300a\u6b78\u9109\u56db\u5341\u5e74\uff0d\u9f9c\u5c71\u5cf6\u5f71\u50cf\u8a8c\u300b\u5370\u88fd</u>\n",
        "</a>\n",
        "</br></td>\n",
        "<!-- \u62db\u6a19\u65b9\u5f0f -->\n",
        "<td align=\"left\">\u9650\u5236\u6027\u62db\u6a19(\u672a\u7d93\u516c\u958b\u8a55\u9078\u6216\u516c\u958b\u5fb5\u6c42)</td>\n",
        "<!-- \u6a19\u7684\u5206\u985e -->\n",
        "<td align=\"left\">\u52de\u52d9\u985e</td>\n",
        "<!-- \u516c\u544a\u65e5\u671f -->\n",
        "<td align=\"center\">103/04/29\n",
        "</td>\n",
        "<!-- \u6c7a\u6a19\u91d1\u984d -->\n",
        "<td align=\"right\">\r\n",
        "\t\t\t\t\t\t\t\t\t\t\t\t\t129000\r\n",
        "\t\t\t\t\t\t\t\t\t\t\t\t</td>\n",
        "<!-- \u6c7a\u6a19\u516c\u544a -->\n",
        "<td align=\"center\">\n",
        "<a href=\"../main/pms/tps/atm/atmAwardAction.do?newEdit=false&amp;searchMode=common&amp;method=inquiryForPublic&amp;pkAtmMain=51241115&amp;tenderCaseNo=1030404\">\n",
        "<u>001</u>\n",
        "</a>\r\n",
        "\t\t\t\t\t\t\t\t\t\t\t\t\t\t\r\n",
        "\t\t\t\t\t\t\t\t\t\t\t\t\t\u00a0\r\n",
        "\t\t\t\t\t\t\t\t\t\t\t\t</td>\n",
        "<!-- \u7121\u6cd5\u6c7a\u6a19\u516c\u544a -->\n",
        "<td align=\"center\">\r\n",
        "\t\t\t\t\t\t\t\t\t\t\t\t\t\u00a0\r\n",
        "\t\t\t\t\t\t\t\t\t\t\t\t</td>\n",
        "</tr>\n",
        "<tr bgcolor=\"#FFFFFF\" onmouseout=\"outcss(this,'#FFFFFF');\" onmouseover=\"overcss(this);\">\n",
        "<!-- \u9805\u6b21 -->\n",
        "<td align=\"center\">21\u00a0</td>\n",
        "<!-- \u6a5f\u95dc\u540d\u7a31 -->\n",
        "<td align=\"left\">\u570b\u7acb\u897f\u87ba\u9ad8\u7d1a\u8fb2\u5de5\u8077\u696d\u5b78\u6821</td>\n",
        "<!-- \u6a19\u6848\u6848\u865f&\u6a19\u6848\u540d\u7a31 -->\n",
        "<td align=\"left\">\r\n",
        "\t\t\t\t\t\t\t\t\t\t\t\t11-1030328\r\n",
        "\t\t\t\t\t\t\t\t\t\t\t\t\r\n",
        "\t\t\t\t\t\t\t\t\t\t\t\t<br>\n",
        "<a href=\"../main/pms/tps/atm/atmAwardAction.do?newEdit=false&amp;searchMode=common&amp;method=inquiryForPublic&amp;pkAtmMain=51241108&amp;tenderCaseNo=11-1030328\">\n",
        "<u>\u5efa\u69cb\u9069\u6027\u591a\u5143\u767c\u5c55\u6574\u5408\u5e73\u53f0</u>\n",
        "</a>\n",
        "</br></td>\n",
        "<!-- \u62db\u6a19\u65b9\u5f0f -->\n",
        "<td align=\"left\">\u516c\u958b\u53d6\u5f97\u5831\u50f9\u55ae\u6216\u4f01\u5283\u66f8</td>\n",
        "<!-- \u6a19\u7684\u5206\u985e -->\n",
        "<td align=\"left\">\u52de\u52d9\u985e</td>\n",
        "<!-- \u516c\u544a\u65e5\u671f -->\n",
        "<td align=\"center\">103/04/29\n",
        "</td>\n",
        "<!-- \u6c7a\u6a19\u91d1\u984d -->\n",
        "<td align=\"right\">\r\n",
        "\t\t\t\t\t\t\t\t\t\t\t\t\t205000\r\n",
        "\t\t\t\t\t\t\t\t\t\t\t\t</td>\n",
        "<!-- \u6c7a\u6a19\u516c\u544a -->\n",
        "<td align=\"center\">\n",
        "<a href=\"../main/pms/tps/atm/atmAwardAction.do?newEdit=false&amp;searchMode=common&amp;method=inquiryForPublic&amp;pkAtmMain=51241108&amp;tenderCaseNo=11-1030328\">\n",
        "<u>001</u>\n",
        "</a>\r\n",
        "\t\t\t\t\t\t\t\t\t\t\t\t\t\t\r\n",
        "\t\t\t\t\t\t\t\t\t\t\t\t\t\u00a0\r\n",
        "\t\t\t\t\t\t\t\t\t\t\t\t</td>\n",
        "<!-- \u7121\u6cd5\u6c7a\u6a19\u516c\u544a -->\n",
        "<td align=\"center\">\r\n",
        "\t\t\t\t\t\t\t\t\t\t\t\t\t\u00a0\r\n",
        "\t\t\t\t\t\t\t\t\t\t\t\t</td>\n",
        "</tr>\n",
        "<tr bgcolor=\"#D6FAC5\" onmouseout=\"outcss(this,'#D6FAC5');\" onmouseover=\"overcss(this);\">\n",
        "<!-- \u9805\u6b21 -->\n",
        "<td align=\"center\">22\u00a0</td>\n",
        "<!-- \u6a5f\u95dc\u540d\u7a31 -->\n",
        "<td align=\"left\">\u57fa\u9686\u5e02\u653f\u5e9c</td>\n",
        "<!-- \u6a19\u6848\u6848\u865f&\u6a19\u6848\u540d\u7a31 -->\n",
        "<td align=\"left\">\r\n",
        "\t\t\t\t\t\t\t\t\t\t\t\tP103001\r\n",
        "\t\t\t\t\t\t\t\t\t\t\t\t\r\n",
        "\t\t\t\t\t\t\t\t\t\t\t\t<br>\n",
        "<a href=\"../main/pms/tps/atm/atmAwardAction.do?newEdit=false&amp;searchMode=common&amp;method=inquiryForPublic&amp;pkAtmMain=51241103&amp;tenderCaseNo=P103001\">\n",
        "<u>103\u5e74\u57fa\u9686\u5e02\u653f\u5e9c\u4e00\u7d1a\u4e3b\u7ba1(\u542b\u79d8\u66f8\u3001\u53c3\u8b70)\u53ca\u6240\u5c6c\u6a5f\u95dc\u9996\u9577\u5065\u5eb7\u6aa2\u67e5</u>\n",
        "</a>\n",
        "</br></td>\n",
        "<!-- \u62db\u6a19\u65b9\u5f0f -->\n",
        "<td align=\"left\">\u9650\u5236\u6027\u62db\u6a19(\u672a\u7d93\u516c\u958b\u8a55\u9078\u6216\u516c\u958b\u5fb5\u6c42)</td>\n",
        "<!-- \u6a19\u7684\u5206\u985e -->\n",
        "<td align=\"left\">\u52de\u52d9\u985e</td>\n",
        "<!-- \u516c\u544a\u65e5\u671f -->\n",
        "<td align=\"center\">103/04/29\n",
        "</td>\n",
        "<!-- \u6c7a\u6a19\u91d1\u984d -->\n",
        "<td align=\"right\">\r\n",
        "\t\t\t\t\t\t\t\t\t\t\t\t\t630000\r\n",
        "\t\t\t\t\t\t\t\t\t\t\t\t</td>\n",
        "<!-- \u6c7a\u6a19\u516c\u544a -->\n",
        "<td align=\"center\">\n",
        "<a href=\"../main/pms/tps/atm/atmAwardAction.do?newEdit=false&amp;searchMode=common&amp;method=inquiryForPublic&amp;pkAtmMain=51241103&amp;tenderCaseNo=P103001\">\n",
        "<u>001</u>\n",
        "</a>\r\n",
        "\t\t\t\t\t\t\t\t\t\t\t\t\t\t\r\n",
        "\t\t\t\t\t\t\t\t\t\t\t\t\t\u00a0\r\n",
        "\t\t\t\t\t\t\t\t\t\t\t\t</td>\n",
        "<!-- \u7121\u6cd5\u6c7a\u6a19\u516c\u544a -->\n",
        "<td align=\"center\">\r\n",
        "\t\t\t\t\t\t\t\t\t\t\t\t\t\u00a0\r\n",
        "\t\t\t\t\t\t\t\t\t\t\t\t</td>\n",
        "</tr>\n",
        "<tr bgcolor=\"#FFFFFF\" onmouseout=\"outcss(this,'#FFFFFF');\" onmouseover=\"overcss(this);\">\n",
        "<!-- \u9805\u6b21 -->\n",
        "<td align=\"center\">23\u00a0</td>\n",
        "<!-- \u6a5f\u95dc\u540d\u7a31 -->\n",
        "<td align=\"left\">\u5f70\u5316\u7e23\u653f\u5e9c</td>\n",
        "<!-- \u6a19\u6848\u6848\u865f&\u6a19\u6848\u540d\u7a31 -->\n",
        "<td align=\"left\">\r\n",
        "\t\t\t\t\t\t\t\t\t\t\t\t103-0021002-029-2-6\r\n",
        "\t\t\t\t\t\t\t\t\t\t\t\t\r\n",
        "\t\t\t\t\t\t\t\t\t\t\t\t<br>\n",
        "<a href=\"../main/pms/tps/atm/atmAwardAction.do?newEdit=false&amp;searchMode=common&amp;method=inquiryForPublic&amp;pkAtmMain=51241099&amp;tenderCaseNo=103-0021002-029-2-6\">\n",
        "<u>\u5f70\u5316\u7e23\u8eab\u5fc3\u969c\u7919\u8005\u5728\u5bb6\u5c31\u696d\u8f14\u5c0e\u8a08\u756b</u>\n",
        "</a>\n",
        "</br></td>\n",
        "<!-- \u62db\u6a19\u65b9\u5f0f -->\n",
        "<td align=\"left\">\u516c\u958b\u53d6\u5f97\u5831\u50f9\u55ae\u6216\u4f01\u5283\u66f8</td>\n",
        "<!-- \u6a19\u7684\u5206\u985e -->\n",
        "<td align=\"left\">\u52de\u52d9\u985e</td>\n",
        "<!-- \u516c\u544a\u65e5\u671f -->\n",
        "<td align=\"center\">103/04/29\n",
        "</td>\n",
        "<!-- \u6c7a\u6a19\u91d1\u984d -->\n",
        "<td align=\"right\">\r\n",
        "\t\t\t\t\t\t\t\t\t\t\t\t\t763396\r\n",
        "\t\t\t\t\t\t\t\t\t\t\t\t</td>\n",
        "<!-- \u6c7a\u6a19\u516c\u544a -->\n",
        "<td align=\"center\">\n",
        "<a href=\"../main/pms/tps/atm/atmAwardAction.do?newEdit=false&amp;searchMode=common&amp;method=inquiryForPublic&amp;pkAtmMain=51241099&amp;tenderCaseNo=103-0021002-029-2-6\">\n",
        "<u>001</u>\n",
        "</a>\r\n",
        "\t\t\t\t\t\t\t\t\t\t\t\t\t\t\r\n",
        "\t\t\t\t\t\t\t\t\t\t\t\t\t\u00a0\r\n",
        "\t\t\t\t\t\t\t\t\t\t\t\t</td>\n",
        "<!-- \u7121\u6cd5\u6c7a\u6a19\u516c\u544a -->\n",
        "<td align=\"center\">\r\n",
        "\t\t\t\t\t\t\t\t\t\t\t\t\t\u00a0\r\n",
        "\t\t\t\t\t\t\t\t\t\t\t\t</td>\n",
        "</tr>\n",
        "<tr bgcolor=\"#D6FAC5\" onmouseout=\"outcss(this,'#D6FAC5');\" onmouseover=\"overcss(this);\">\n",
        "<!-- \u9805\u6b21 -->\n",
        "<td align=\"center\">24\u00a0</td>\n",
        "<!-- \u6a5f\u95dc\u540d\u7a31 -->\n",
        "<td align=\"left\">\u65b0\u5317\u5e02\u653f\u5e9c\u885b\u751f\u5c40</td>\n",
        "<!-- \u6a19\u6848\u6848\u865f&\u6a19\u6848\u540d\u7a31 -->\n",
        "<td align=\"left\">\r\n",
        "\t\t\t\t\t\t\t\t\t\t\t\t103075\r\n",
        "\t\t\t\t\t\t\t\t\t\t\t\t\r\n",
        "\t\t\t\t\t\t\t\t\t\t\t\t<br>\n",
        "<a href=\"../main/pms/tps/atm/atmAwardAction.do?newEdit=false&amp;searchMode=common&amp;method=inquiryForPublic&amp;pkAtmMain=51241063&amp;tenderCaseNo=103075\">\n",
        "<u>103\u5e74\u5ea6[\u65b0\u5317\u5e02\u91d1\u5c71\u5340\u570b\u969b\u5b89\u5168\u793e\u5340\u63a8\u52d5\u8a08\u756b\u59d4\u8a17\u5c08\u696d\u670d\u52d9]</u>\n",
        "</a>\n",
        "</br></td>\n",
        "<!-- \u62db\u6a19\u65b9\u5f0f -->\n",
        "<td align=\"left\">\u516c\u958b\u53d6\u5f97\u5831\u50f9\u55ae\u6216\u4f01\u5283\u66f8</td>\n",
        "<!-- \u6a19\u7684\u5206\u985e -->\n",
        "<td align=\"left\">\u52de\u52d9\u985e</td>\n",
        "<!-- \u516c\u544a\u65e5\u671f -->\n",
        "<td align=\"center\">103/04/29\n",
        "</td>\n",
        "<!-- \u6c7a\u6a19\u91d1\u984d -->\n",
        "<td align=\"right\">\r\n",
        "\t\t\t\t\t\t\t\t\t\t\t\t\t400000\r\n",
        "\t\t\t\t\t\t\t\t\t\t\t\t</td>\n",
        "<!-- \u6c7a\u6a19\u516c\u544a -->\n",
        "<td align=\"center\">\n",
        "<a href=\"../main/pms/tps/atm/atmAwardAction.do?newEdit=false&amp;searchMode=common&amp;method=inquiryForPublic&amp;pkAtmMain=51241063&amp;tenderCaseNo=103075\">\n",
        "<u>001</u>\n",
        "</a>\r\n",
        "\t\t\t\t\t\t\t\t\t\t\t\t\t\t\r\n",
        "\t\t\t\t\t\t\t\t\t\t\t\t\t\u00a0\r\n",
        "\t\t\t\t\t\t\t\t\t\t\t\t</td>\n",
        "<!-- \u7121\u6cd5\u6c7a\u6a19\u516c\u544a -->\n",
        "<td align=\"center\">\r\n",
        "\t\t\t\t\t\t\t\t\t\t\t\t\t\u00a0\r\n",
        "\t\t\t\t\t\t\t\t\t\t\t\t</td>\n",
        "</tr>\n",
        "<tr bgcolor=\"#FFFFFF\" onmouseout=\"outcss(this,'#FFFFFF');\" onmouseover=\"overcss(this);\">\n",
        "<!-- \u9805\u6b21 -->\n",
        "<td align=\"center\">25\u00a0</td>\n",
        "<!-- \u6a5f\u95dc\u540d\u7a31 -->\n",
        "<td align=\"left\">\u570b\u7acb\u6e05\u83ef\u5927\u5b78</td>\n",
        "<!-- \u6a19\u6848\u6848\u865f&\u6a19\u6848\u540d\u7a31 -->\n",
        "<td align=\"left\">\r\n",
        "\t\t\t\t\t\t\t\t\t\t\t\tSL-103050\r\n",
        "\t\t\t\t\t\t\t\t\t\t\t\t\r\n",
        "\t\t\t\t\t\t\t\t\t\t\t\t<br>\n",
        "<a href=\"../main/pms/tps/atm/atmAwardAction.do?newEdit=false&amp;searchMode=common&amp;method=inquiryForPublic&amp;pkAtmMain=51241062&amp;tenderCaseNo=SL-103050\">\n",
        "<u>103\u5e74\u5ea6\u9ad8\u89e3\u6790X\u5149\u5149\u96fb\u5b50\u80fd\u8b5c\u5100(HRXPS)\u7dad\u8b77\u5408\u7d04\u4e59\u4efd</u>\n",
        "</a>\n",
        "</br></td>\n",
        "<!-- \u62db\u6a19\u65b9\u5f0f -->\n",
        "<td align=\"left\">\u9650\u5236\u6027\u62db\u6a19(\u672a\u7d93\u516c\u958b\u8a55\u9078\u6216\u516c\u958b\u5fb5\u6c42)</td>\n",
        "<!-- \u6a19\u7684\u5206\u985e -->\n",
        "<td align=\"left\">\u52de\u52d9\u985e</td>\n",
        "<!-- \u516c\u544a\u65e5\u671f -->\n",
        "<td align=\"center\">103/04/29\n",
        "</td>\n",
        "<!-- \u6c7a\u6a19\u91d1\u984d -->\n",
        "<td align=\"right\">\r\n",
        "\t\t\t\t\t\t\t\t\t\t\t\t\t300000\r\n",
        "\t\t\t\t\t\t\t\t\t\t\t\t</td>\n",
        "<!-- \u6c7a\u6a19\u516c\u544a -->\n",
        "<td align=\"center\">\n",
        "<a href=\"../main/pms/tps/atm/atmAwardAction.do?newEdit=false&amp;searchMode=common&amp;method=inquiryForPublic&amp;pkAtmMain=51241062&amp;tenderCaseNo=SL-103050\">\n",
        "<u>001</u>\n",
        "</a>\r\n",
        "\t\t\t\t\t\t\t\t\t\t\t\t\t\t\r\n",
        "\t\t\t\t\t\t\t\t\t\t\t\t\t\u00a0\r\n",
        "\t\t\t\t\t\t\t\t\t\t\t\t</td>\n",
        "<!-- \u7121\u6cd5\u6c7a\u6a19\u516c\u544a -->\n",
        "<td align=\"center\">\r\n",
        "\t\t\t\t\t\t\t\t\t\t\t\t\t\u00a0\r\n",
        "\t\t\t\t\t\t\t\t\t\t\t\t</td>\n",
        "</tr>\n",
        "<tr bgcolor=\"#D6FAC5\" onmouseout=\"outcss(this,'#D6FAC5');\" onmouseover=\"overcss(this);\">\n",
        "<!-- \u9805\u6b21 -->\n",
        "<td align=\"center\">26\u00a0</td>\n",
        "<!-- \u6a5f\u95dc\u540d\u7a31 -->\n",
        "<td align=\"left\">\u4e2d\u592e\u9280\u884c</td>\n",
        "<!-- \u6a19\u6848\u6848\u865f&\u6a19\u6848\u540d\u7a31 -->\n",
        "<td align=\"left\">\r\n",
        "\t\t\t\t\t\t\t\t\t\t\t\t1030011069\r\n",
        "\t\t\t\t\t\t\t\t\t\t\t\t\r\n",
        "\t\t\t\t\t\t\t\t\t\t\t\t<br>\n",
        "<a href=\"../main/pms/tps/atm/atmAwardAction.do?newEdit=false&amp;searchMode=common&amp;method=inquiryForPublic&amp;pkAtmMain=51241029&amp;tenderCaseNo=1030011069\">\n",
        "<u>\u5165\u4fb5\u5075\u6e2c\u9632\u79a6\u7cfb\u7d71\u7dad\u8b77\u6848</u>\n",
        "</a>\n",
        "</br></td>\n",
        "<!-- \u62db\u6a19\u65b9\u5f0f -->\n",
        "<td align=\"left\">\u9650\u5236\u6027\u62db\u6a19(\u672a\u7d93\u516c\u958b\u8a55\u9078\u6216\u516c\u958b\u5fb5\u6c42)</td>\n",
        "<!-- \u6a19\u7684\u5206\u985e -->\n",
        "<td align=\"left\">\u52de\u52d9\u985e</td>\n",
        "<!-- \u516c\u544a\u65e5\u671f -->\n",
        "<td align=\"center\">103/04/29\n",
        "</td>\n",
        "<!-- \u6c7a\u6a19\u91d1\u984d -->\n",
        "<td align=\"right\">\r\n",
        "\t\t\t\t\t\t\t\t\t\t\t\t\t140509\r\n",
        "\t\t\t\t\t\t\t\t\t\t\t\t</td>\n",
        "<!-- \u6c7a\u6a19\u516c\u544a -->\n",
        "<td align=\"center\">\n",
        "<a href=\"../main/pms/tps/atm/atmAwardAction.do?newEdit=false&amp;searchMode=common&amp;method=inquiryForPublic&amp;pkAtmMain=51241029&amp;tenderCaseNo=1030011069\">\n",
        "<u>001</u>\n",
        "</a>\r\n",
        "\t\t\t\t\t\t\t\t\t\t\t\t\t\t\r\n",
        "\t\t\t\t\t\t\t\t\t\t\t\t\t\u00a0\r\n",
        "\t\t\t\t\t\t\t\t\t\t\t\t</td>\n",
        "<!-- \u7121\u6cd5\u6c7a\u6a19\u516c\u544a -->\n",
        "<td align=\"center\">\r\n",
        "\t\t\t\t\t\t\t\t\t\t\t\t\t\u00a0\r\n",
        "\t\t\t\t\t\t\t\t\t\t\t\t</td>\n",
        "</tr>\n",
        "<tr bgcolor=\"#FFFFFF\" onmouseout=\"outcss(this,'#FFFFFF');\" onmouseover=\"overcss(this);\">\n",
        "<!-- \u9805\u6b21 -->\n",
        "<td align=\"center\">27\u00a0</td>\n",
        "<!-- \u6a5f\u95dc\u540d\u7a31 -->\n",
        "<td align=\"left\">\u570b\u7acb\u6e05\u83ef\u5927\u5b78</td>\n",
        "<!-- \u6a19\u6848\u6848\u865f&\u6a19\u6848\u540d\u7a31 -->\n",
        "<td align=\"left\">\r\n",
        "\t\t\t\t\t\t\t\t\t\t\t\tSL-103046\r\n",
        "\t\t\t\t\t\t\t\t\t\t\t\t\r\n",
        "\t\t\t\t\t\t\t\t\t\t\t\t<br>\n",
        "<a href=\"../main/pms/tps/atm/atmAwardAction.do?newEdit=false&amp;searchMode=common&amp;method=inquiryForPublic&amp;pkAtmMain=51240942&amp;tenderCaseNo=SL-103046\">\n",
        "<u>\u59d4\u8a17\u5143\u4ef6\u4ee3\u5de5\u88fd\u9020\u53ca\u9ad8\u983b\u96fb\u6027\u91cf\u6e2c1\u6279</u>\n",
        "</a>\n",
        "</br></td>\n",
        "<!-- \u62db\u6a19\u65b9\u5f0f -->\n",
        "<td align=\"left\">\u9650\u5236\u6027\u62db\u6a19(\u672a\u7d93\u516c\u958b\u8a55\u9078\u6216\u516c\u958b\u5fb5\u6c42)</td>\n",
        "<!-- \u6a19\u7684\u5206\u985e -->\n",
        "<td align=\"left\">\u52de\u52d9\u985e</td>\n",
        "<!-- \u516c\u544a\u65e5\u671f -->\n",
        "<td align=\"center\">103/04/29\n",
        "</td>\n",
        "<!-- \u6c7a\u6a19\u91d1\u984d -->\n",
        "<td align=\"right\">\r\n",
        "\t\t\t\t\t\t\t\t\t\t\t\t\t358000\r\n",
        "\t\t\t\t\t\t\t\t\t\t\t\t</td>\n",
        "<!-- \u6c7a\u6a19\u516c\u544a -->\n",
        "<td align=\"center\">\n",
        "<a href=\"../main/pms/tps/atm/atmAwardAction.do?newEdit=false&amp;searchMode=common&amp;method=inquiryForPublic&amp;pkAtmMain=51240942&amp;tenderCaseNo=SL-103046\">\n",
        "<u>001</u>\n",
        "</a>\r\n",
        "\t\t\t\t\t\t\t\t\t\t\t\t\t\t\r\n",
        "\t\t\t\t\t\t\t\t\t\t\t\t\t\u00a0\r\n",
        "\t\t\t\t\t\t\t\t\t\t\t\t</td>\n",
        "<!-- \u7121\u6cd5\u6c7a\u6a19\u516c\u544a -->\n",
        "<td align=\"center\">\r\n",
        "\t\t\t\t\t\t\t\t\t\t\t\t\t\u00a0\r\n",
        "\t\t\t\t\t\t\t\t\t\t\t\t</td>\n",
        "</tr>\n",
        "<tr bgcolor=\"#D6FAC5\" onmouseout=\"outcss(this,'#D6FAC5');\" onmouseover=\"overcss(this);\">\n",
        "<!-- \u9805\u6b21 -->\n",
        "<td align=\"center\">28\u00a0</td>\n",
        "<!-- \u6a5f\u95dc\u540d\u7a31 -->\n",
        "<td align=\"left\">\u5357\u958b\u79d1\u6280\u5927\u5b78</td>\n",
        "<!-- \u6a19\u6848\u6848\u865f&\u6a19\u6848\u540d\u7a31 -->\n",
        "<td align=\"left\">\r\n",
        "\t\t\t\t\t\t\t\t\t\t\t\tB102RD03012\r\n",
        "\t\t\t\t\t\t\t\t\t\t\t\t\r\n",
        "\t\t\t\t\t\t\t\t\t\t\t\t<br>\n",
        "<a href=\"../main/pms/tps/atm/atmAwardAction.do?newEdit=false&amp;searchMode=common&amp;method=inquiryForPublic&amp;pkAtmMain=51240875&amp;tenderCaseNo=B102RD03012\">\n",
        "<u>AISP\u60c5\u5831\u9867\u554f\u8cc7\u6599\u5eab</u>\n",
        "</a>\n",
        "</br></td>\n",
        "<!-- \u62db\u6a19\u65b9\u5f0f -->\n",
        "<td align=\"left\">\u516c\u958b\u53d6\u5f97\u5831\u50f9\u55ae\u6216\u4f01\u5283\u66f8</td>\n",
        "<!-- \u6a19\u7684\u5206\u985e -->\n",
        "<td align=\"left\">\u52de\u52d9\u985e</td>\n",
        "<!-- \u516c\u544a\u65e5\u671f -->\n",
        "<td align=\"center\">103/04/29\n",
        "</td>\n",
        "<!-- \u6c7a\u6a19\u91d1\u984d -->\n",
        "<td align=\"right\">\r\n",
        "\t\t\t\t\t\t\t\t\t\t\t\t\t180000\r\n",
        "\t\t\t\t\t\t\t\t\t\t\t\t</td>\n",
        "<!-- \u6c7a\u6a19\u516c\u544a -->\n",
        "<td align=\"center\">\n",
        "<a href=\"../main/pms/tps/atm/atmAwardAction.do?newEdit=false&amp;searchMode=common&amp;method=inquiryForPublic&amp;pkAtmMain=51240875&amp;tenderCaseNo=B102RD03012\">\n",
        "<u>001</u>\n",
        "</a>\r\n",
        "\t\t\t\t\t\t\t\t\t\t\t\t\t\t\r\n",
        "\t\t\t\t\t\t\t\t\t\t\t\t\t\u00a0\r\n",
        "\t\t\t\t\t\t\t\t\t\t\t\t</td>\n",
        "<!-- \u7121\u6cd5\u6c7a\u6a19\u516c\u544a -->\n",
        "<td align=\"center\">\r\n",
        "\t\t\t\t\t\t\t\t\t\t\t\t\t\u00a0\r\n",
        "\t\t\t\t\t\t\t\t\t\t\t\t</td>\n",
        "</tr>\n",
        "<tr bgcolor=\"#FFFFFF\" onmouseout=\"outcss(this,'#FFFFFF');\" onmouseover=\"overcss(this);\">\n",
        "<!-- \u9805\u6b21 -->\n",
        "<td align=\"center\">29\u00a0</td>\n",
        "<!-- \u6a5f\u95dc\u540d\u7a31 -->\n",
        "<td align=\"left\">\u570b\u7acb\u81fa\u7063\u5927\u5b78</td>\n",
        "<!-- \u6a19\u6848\u6848\u865f&\u6a19\u6848\u540d\u7a31 -->\n",
        "<td align=\"left\">\r\n",
        "\t\t\t\t\t\t\t\t\t\t\t\t1030203\r\n",
        "\t\t\t\t\t\t\t\t\t\t\t\t\r\n",
        "\t\t\t\t\t\t\t\t\t\t\t\t<br>\n",
        "<a href=\"../main/pms/tps/atm/atmAwardAction.do?newEdit=false&amp;searchMode=common&amp;method=inquiryForPublic&amp;pkAtmMain=51240824&amp;tenderCaseNo=1030203\">\n",
        "<u>Codar\u9577\u8ddd\u96e2\u9059\u6e2c\u7ad9\u7dad\u8b77</u>\n",
        "</a>\n",
        "</br></td>\n",
        "<!-- \u62db\u6a19\u65b9\u5f0f -->\n",
        "<td align=\"left\">\u516c\u958b\u53d6\u5f97\u5831\u50f9\u55ae\u6216\u4f01\u5283\u66f8</td>\n",
        "<!-- \u6a19\u7684\u5206\u985e -->\n",
        "<td align=\"left\">\u52de\u52d9\u985e</td>\n",
        "<!-- \u516c\u544a\u65e5\u671f -->\n",
        "<td align=\"center\">103/04/29\n",
        "</td>\n",
        "<!-- \u6c7a\u6a19\u91d1\u984d -->\n",
        "<td align=\"right\">\r\n",
        "\t\t\t\t\t\t\t\t\t\t\t\t\t550000\r\n",
        "\t\t\t\t\t\t\t\t\t\t\t\t</td>\n",
        "<!-- \u6c7a\u6a19\u516c\u544a -->\n",
        "<td align=\"center\">\n",
        "<a href=\"../main/pms/tps/atm/atmAwardAction.do?newEdit=false&amp;searchMode=common&amp;method=inquiryForPublic&amp;pkAtmMain=51240824&amp;tenderCaseNo=1030203\">\n",
        "<u>001</u>\n",
        "</a>\r\n",
        "\t\t\t\t\t\t\t\t\t\t\t\t\t\t\r\n",
        "\t\t\t\t\t\t\t\t\t\t\t\t\t\u00a0\r\n",
        "\t\t\t\t\t\t\t\t\t\t\t\t</td>\n",
        "<!-- \u7121\u6cd5\u6c7a\u6a19\u516c\u544a -->\n",
        "<td align=\"center\">\r\n",
        "\t\t\t\t\t\t\t\t\t\t\t\t\t\u00a0\r\n",
        "\t\t\t\t\t\t\t\t\t\t\t\t</td>\n",
        "</tr>\n",
        "<tr bgcolor=\"#D6FAC5\" onmouseout=\"outcss(this,'#D6FAC5');\" onmouseover=\"overcss(this);\">\n",
        "<!-- \u9805\u6b21 -->\n",
        "<td align=\"center\">30\u00a0</td>\n",
        "<!-- \u6a5f\u95dc\u540d\u7a31 -->\n",
        "<td align=\"left\">\u570b\u7acb\u967d\u660e\u5927\u5b78</td>\n",
        "<!-- \u6a19\u6848\u6848\u865f&\u6a19\u6848\u540d\u7a31 -->\n",
        "<td align=\"left\">\r\n",
        "\t\t\t\t\t\t\t\t\t\t\t\tG103EDU043\r\n",
        "\t\t\t\t\t\t\t\t\t\t\t\t\r\n",
        "\t\t\t\t\t\t\t\t\t\t\t\t<br>\n",
        "<a href=\"../main/pms/tps/atm/atmAwardAction.do?newEdit=false&amp;searchMode=common&amp;method=inquiryForPublic&amp;pkAtmMain=51240739&amp;tenderCaseNo=G103EDU043\">\n",
        "<u>\u897f\u5b89\u6a13\u5bbf\u820dFTTB+Hinet\u7db2\u8def\u79df\u8cc3</u>\n",
        "</a>\n",
        "</br></td>\n",
        "<!-- \u62db\u6a19\u65b9\u5f0f -->\n",
        "<td align=\"left\">\u9650\u5236\u6027\u62db\u6a19(\u672a\u7d93\u516c\u958b\u8a55\u9078\u6216\u516c\u958b\u5fb5\u6c42)</td>\n",
        "<!-- \u6a19\u7684\u5206\u985e -->\n",
        "<td align=\"left\">\u52de\u52d9\u985e</td>\n",
        "<!-- \u516c\u544a\u65e5\u671f -->\n",
        "<td align=\"center\">103/04/29\n",
        "</td>\n",
        "<!-- \u6c7a\u6a19\u91d1\u984d -->\n",
        "<td align=\"right\">\r\n",
        "\t\t\t\t\t\t\t\t\t\t\t\t\t134400\r\n",
        "\t\t\t\t\t\t\t\t\t\t\t\t</td>\n",
        "<!-- \u6c7a\u6a19\u516c\u544a -->\n",
        "<td align=\"center\">\n",
        "<a href=\"../main/pms/tps/atm/atmAwardAction.do?newEdit=false&amp;searchMode=common&amp;method=inquiryForPublic&amp;pkAtmMain=51240739&amp;tenderCaseNo=G103EDU043\">\n",
        "<u>001</u>\n",
        "</a>\r\n",
        "\t\t\t\t\t\t\t\t\t\t\t\t\t\t\r\n",
        "\t\t\t\t\t\t\t\t\t\t\t\t\t\u00a0\r\n",
        "\t\t\t\t\t\t\t\t\t\t\t\t</td>\n",
        "<!-- \u7121\u6cd5\u6c7a\u6a19\u516c\u544a -->\n",
        "<td align=\"center\">\r\n",
        "\t\t\t\t\t\t\t\t\t\t\t\t\t\u00a0\r\n",
        "\t\t\t\t\t\t\t\t\t\t\t\t</td>\n",
        "</tr>\n",
        "<tr bgcolor=\"#FFFFFF\" onmouseout=\"outcss(this,'#FFFFFF');\" onmouseover=\"overcss(this);\">\n",
        "<!-- \u9805\u6b21 -->\n",
        "<td align=\"center\">31\u00a0</td>\n",
        "<!-- \u6a5f\u95dc\u540d\u7a31 -->\n",
        "<td align=\"left\">\u81fa\u5317\u5e02\u842c\u83ef\u5340\u842c\u5927\u570b\u6c11\u5c0f\u5b78</td>\n",
        "<!-- \u6a19\u6848\u6848\u865f&\u6a19\u6848\u540d\u7a31 -->\n",
        "<td align=\"left\">\r\n",
        "\t\t\t\t\t\t\t\t\t\t\t\t103B04\r\n",
        "\t\t\t\t\t\t\t\t\t\t\t\t\r\n",
        "\t\t\t\t\t\t\t\t\t\t\t\t<br>\n",
        "<a href=\"../main/pms/tps/atm/atmAwardAction.do?newEdit=false&amp;searchMode=common&amp;method=inquiryForPublic&amp;pkAtmMain=51240712&amp;tenderCaseNo=103B04\">\n",
        "<u>103\u5e74\u5ea6\u8dd1\u9053\u6574\u4fee\u5de5\u7a0b\u59d4\u8a17\u8a2d\u8a08\u76e3\u9020\u6280\u8853\u670d\u52d9\u52de\u52d9\u63a1\u8cfc\u6848</u>\n",
        "</a>\n",
        "</br></td>\n",
        "<!-- \u62db\u6a19\u65b9\u5f0f -->\n",
        "<td align=\"left\">\u516c\u958b\u53d6\u5f97\u5831\u50f9\u55ae\u6216\u4f01\u5283\u66f8</td>\n",
        "<!-- \u6a19\u7684\u5206\u985e -->\n",
        "<td align=\"left\">\u52de\u52d9\u985e</td>\n",
        "<!-- \u516c\u544a\u65e5\u671f -->\n",
        "<td align=\"center\">103/04/29\n",
        "</td>\n",
        "<!-- \u6c7a\u6a19\u91d1\u984d -->\n",
        "<td align=\"right\">\r\n",
        "\t\t\t\t\t\t\t\t\t\t\t\t\t149000\r\n",
        "\t\t\t\t\t\t\t\t\t\t\t\t</td>\n",
        "<!-- \u6c7a\u6a19\u516c\u544a -->\n",
        "<td align=\"center\">\n",
        "<a href=\"../main/pms/tps/atm/atmAwardAction.do?newEdit=false&amp;searchMode=common&amp;method=inquiryForPublic&amp;pkAtmMain=51240712&amp;tenderCaseNo=103B04\">\n",
        "<u>001</u>\n",
        "</a>\r\n",
        "\t\t\t\t\t\t\t\t\t\t\t\t\t\t\r\n",
        "\t\t\t\t\t\t\t\t\t\t\t\t\t\u00a0\r\n",
        "\t\t\t\t\t\t\t\t\t\t\t\t</td>\n",
        "<!-- \u7121\u6cd5\u6c7a\u6a19\u516c\u544a -->\n",
        "<td align=\"center\">\r\n",
        "\t\t\t\t\t\t\t\t\t\t\t\t\t\u00a0\r\n",
        "\t\t\t\t\t\t\t\t\t\t\t\t</td>\n",
        "</tr>\n",
        "<tr bgcolor=\"#D6FAC5\" onmouseout=\"outcss(this,'#D6FAC5');\" onmouseover=\"overcss(this);\">\n",
        "<!-- \u9805\u6b21 -->\n",
        "<td align=\"center\">32\u00a0</td>\n",
        "<!-- \u6a5f\u95dc\u540d\u7a31 -->\n",
        "<td align=\"left\">\u570b\u7acb\u81fa\u7063\u79d1\u6280\u5927\u5b78</td>\n",
        "<!-- \u6a19\u6848\u6848\u865f&\u6a19\u6848\u540d\u7a31 -->\n",
        "<td align=\"left\">\r\n",
        "\t\t\t\t\t\t\t\t\t\t\t\tAASC-103085\r\n",
        "\t\t\t\t\t\t\t\t\t\t\t\t\r\n",
        "\t\t\t\t\t\t\t\t\t\t\t\t<br>\n",
        "<a href=\"../main/pms/tps/atm/atmAwardAction.do?newEdit=false&amp;searchMode=common&amp;method=inquiryForPublic&amp;pkAtmMain=51240655&amp;tenderCaseNo=AASC-103085\">\n",
        "<u>103\u5e74\u5be6\u9a57\u5ba4\u5ee2\u6db2\u6e05\u904b(\u9810\u4f30\u5ee2\u68c4\u85e5\u54c1\u6e05\u904b390\u516c\u65a4\u5ee2\u6db2\u6e05\u904b17,000\u516c\u65a4)</u>\n",
        "</a>\n",
        "</br></td>\n",
        "<!-- \u62db\u6a19\u65b9\u5f0f -->\n",
        "<td align=\"left\">\u516c\u958b\u53d6\u5f97\u5831\u50f9\u55ae\u6216\u4f01\u5283\u66f8</td>\n",
        "<!-- \u6a19\u7684\u5206\u985e -->\n",
        "<td align=\"left\">\u52de\u52d9\u985e</td>\n",
        "<!-- \u516c\u544a\u65e5\u671f -->\n",
        "<td align=\"center\">103/04/29\n",
        "</td>\n",
        "<!-- \u6c7a\u6a19\u91d1\u984d -->\n",
        "<td align=\"right\">\r\n",
        "\t\t\t\t\t\t\t\t\t\t\t\t\t179150\r\n",
        "\t\t\t\t\t\t\t\t\t\t\t\t</td>\n",
        "<!-- \u6c7a\u6a19\u516c\u544a -->\n",
        "<td align=\"center\">\n",
        "<a href=\"../main/pms/tps/atm/atmAwardAction.do?newEdit=false&amp;searchMode=common&amp;method=inquiryForPublic&amp;pkAtmMain=51240655&amp;tenderCaseNo=AASC-103085\">\n",
        "<u>001</u>\n",
        "</a>\r\n",
        "\t\t\t\t\t\t\t\t\t\t\t\t\t\t\r\n",
        "\t\t\t\t\t\t\t\t\t\t\t\t\t\u00a0\r\n",
        "\t\t\t\t\t\t\t\t\t\t\t\t</td>\n",
        "<!-- \u7121\u6cd5\u6c7a\u6a19\u516c\u544a -->\n",
        "<td align=\"center\">\r\n",
        "\t\t\t\t\t\t\t\t\t\t\t\t\t\u00a0\r\n",
        "\t\t\t\t\t\t\t\t\t\t\t\t</td>\n",
        "</tr>\n",
        "<tr bgcolor=\"#FFFFFF\" onmouseout=\"outcss(this,'#FFFFFF');\" onmouseover=\"overcss(this);\">\n",
        "<!-- \u9805\u6b21 -->\n",
        "<td align=\"center\">33\u00a0</td>\n",
        "<!-- \u6a5f\u95dc\u540d\u7a31 -->\n",
        "<td align=\"left\">\u81fa\u5357\u5e02\u653f\u5e9c\u6587\u5316\u5c40</td>\n",
        "<!-- \u6a19\u6848\u6848\u865f&\u6a19\u6848\u540d\u7a31 -->\n",
        "<td align=\"left\">\r\n",
        "\t\t\t\t\t\t\t\t\t\t\t\tTC103C036\r\n",
        "\t\t\t\t\t\t\t\t\t\t\t\t\r\n",
        "\t\t\t\t\t\t\t\t\t\t\t\t<br>\n",
        "<a href=\"../main/pms/tps/atm/atmAwardAction.do?newEdit=false&amp;searchMode=common&amp;method=inquiryForPublic&amp;pkAtmMain=51240623&amp;tenderCaseNo=TC103C036\">\n",
        "<u>\u6e6f\u5fb7\u7ae0\u7d00\u5ff5\u516c\u5712\u570b\u7236\u9285\u50cf\u4fee\u5fa9\u52de\u52d9\u63a1\u8cfc\u6848</u>\n",
        "</a>\n",
        "</br></td>\n",
        "<!-- \u62db\u6a19\u65b9\u5f0f -->\n",
        "<td align=\"left\">\u9650\u5236\u6027\u62db\u6a19(\u672a\u7d93\u516c\u958b\u8a55\u9078\u6216\u516c\u958b\u5fb5\u6c42)</td>\n",
        "<!-- \u6a19\u7684\u5206\u985e -->\n",
        "<td align=\"left\">\u52de\u52d9\u985e</td>\n",
        "<!-- \u516c\u544a\u65e5\u671f -->\n",
        "<td align=\"center\">103/04/29\n",
        "</td>\n",
        "<!-- \u6c7a\u6a19\u91d1\u984d -->\n",
        "<td align=\"right\">\r\n",
        "\t\t\t\t\t\t\t\t\t\t\t\t\t528000\r\n",
        "\t\t\t\t\t\t\t\t\t\t\t\t</td>\n",
        "<!-- \u6c7a\u6a19\u516c\u544a -->\n",
        "<td align=\"center\">\n",
        "<a href=\"../main/pms/tps/atm/atmAwardAction.do?newEdit=false&amp;searchMode=common&amp;method=inquiryForPublic&amp;pkAtmMain=51240623&amp;tenderCaseNo=TC103C036\">\n",
        "<u>001</u>\n",
        "</a>\r\n",
        "\t\t\t\t\t\t\t\t\t\t\t\t\t\t\r\n",
        "\t\t\t\t\t\t\t\t\t\t\t\t\t\u00a0\r\n",
        "\t\t\t\t\t\t\t\t\t\t\t\t</td>\n",
        "<!-- \u7121\u6cd5\u6c7a\u6a19\u516c\u544a -->\n",
        "<td align=\"center\">\r\n",
        "\t\t\t\t\t\t\t\t\t\t\t\t\t\u00a0\r\n",
        "\t\t\t\t\t\t\t\t\t\t\t\t</td>\n",
        "</tr>\n",
        "<tr bgcolor=\"#D6FAC5\" onmouseout=\"outcss(this,'#D6FAC5');\" onmouseover=\"overcss(this);\">\n",
        "<!-- \u9805\u6b21 -->\n",
        "<td align=\"center\">34\u00a0</td>\n",
        "<!-- \u6a5f\u95dc\u540d\u7a31 -->\n",
        "<td align=\"left\">\u570b\u7acb\u81fa\u7063\u5927\u5b78</td>\n",
        "<!-- \u6a19\u6848\u6848\u865f&\u6a19\u6848\u540d\u7a31 -->\n",
        "<td align=\"left\">\r\n",
        "\t\t\t\t\t\t\t\t\t\t\t\tDPD2014041101\r\n",
        "\t\t\t\t\t\t\t\t\t\t\t\t\r\n",
        "\t\t\t\t\t\t\t\t\t\t\t\t<br>\n",
        "<a href=\"../main/pms/tps/atm/atmAwardAction.do?newEdit=false&amp;searchMode=common&amp;method=inquiryForPublic&amp;pkAtmMain=51240622&amp;tenderCaseNo=DPD2014041101\">\n",
        "<u>\u53f0\u5317\u6377\u904b\u71c8\u7bb1\u5ee3\u544a\u63a1\u8cfc\u6848(\u53f0\u5317\u8eca\u7ad9/\u516c\u8eca\u5019\u8eca\u4ead)</u>\n",
        "</a>\n",
        "</br></td>\n",
        "<!-- \u62db\u6a19\u65b9\u5f0f -->\n",
        "<td align=\"left\">\u9650\u5236\u6027\u62db\u6a19(\u672a\u7d93\u516c\u958b\u8a55\u9078\u6216\u516c\u958b\u5fb5\u6c42)</td>\n",
        "<!-- \u6a19\u7684\u5206\u985e -->\n",
        "<td align=\"left\">\u52de\u52d9\u985e</td>\n",
        "<!-- \u516c\u544a\u65e5\u671f -->\n",
        "<td align=\"center\">103/04/29\n",
        "</td>\n",
        "<!-- \u6c7a\u6a19\u91d1\u984d -->\n",
        "<td align=\"right\">\r\n",
        "\t\t\t\t\t\t\t\t\t\t\t\t\t112500\r\n",
        "\t\t\t\t\t\t\t\t\t\t\t\t</td>\n",
        "<!-- \u6c7a\u6a19\u516c\u544a -->\n",
        "<td align=\"center\">\n",
        "<a href=\"../main/pms/tps/atm/atmAwardAction.do?newEdit=false&amp;searchMode=common&amp;method=inquiryForPublic&amp;pkAtmMain=51240622&amp;tenderCaseNo=DPD2014041101\">\n",
        "<u>001</u>\n",
        "</a>\r\n",
        "\t\t\t\t\t\t\t\t\t\t\t\t\t\t\r\n",
        "\t\t\t\t\t\t\t\t\t\t\t\t\t\u00a0\r\n",
        "\t\t\t\t\t\t\t\t\t\t\t\t</td>\n",
        "<!-- \u7121\u6cd5\u6c7a\u6a19\u516c\u544a -->\n",
        "<td align=\"center\">\r\n",
        "\t\t\t\t\t\t\t\t\t\t\t\t\t\u00a0\r\n",
        "\t\t\t\t\t\t\t\t\t\t\t\t</td>\n",
        "</tr>\n",
        "<tr bgcolor=\"#FFFFFF\" onmouseout=\"outcss(this,'#FFFFFF');\" onmouseover=\"overcss(this);\">\n",
        "<!-- \u9805\u6b21 -->\n",
        "<td align=\"center\">35\u00a0</td>\n",
        "<!-- \u6a5f\u95dc\u540d\u7a31 -->\n",
        "<td align=\"left\">\u5357\u6295\u7e23\u7af9\u5c71\u93ae\u516c\u6240</td>\n",
        "<!-- \u6a19\u6848\u6848\u865f&\u6a19\u6848\u540d\u7a31 -->\n",
        "<td align=\"left\">\r\n",
        "\t\t\t\t\t\t\t\t\t\t\t\t103B018\r\n",
        "\t\t\t\t\t\t\t\t\t\t\t\t\r\n",
        "\t\t\t\t\t\t\t\t\t\t\t\t<br>\n",
        "<a href=\"../main/pms/tps/atm/atmAwardAction.do?newEdit=false&amp;searchMode=common&amp;method=inquiryForPublic&amp;pkAtmMain=51240570&amp;tenderCaseNo=103B018\">\n",
        "<u>103\u5e74\u5ea6\u707d\u5bb3\u6436\u96aa\u6436\u4fee\u958b\u53e3\u5951\u7d04\u59d4\u8a17\u9ede\u5de5 (\u5bcc\u5dde\u3001\u4e2d\u592e\u3001\u793e\u5bee\u3001\u5c71\u5d07\u3001\u576a\u9802\u3001\u9bc9\u9b5a\u7b496\u91cc)</u>\n",
        "</a>\n",
        "</br></td>\n",
        "<!-- \u62db\u6a19\u65b9\u5f0f -->\n",
        "<td align=\"left\">\u516c\u958b\u53d6\u5f97\u5831\u50f9\u55ae\u6216\u4f01\u5283\u66f8</td>\n",
        "<!-- \u6a19\u7684\u5206\u985e -->\n",
        "<td align=\"left\">\u52de\u52d9\u985e</td>\n",
        "<!-- \u516c\u544a\u65e5\u671f -->\n",
        "<td align=\"center\">103/04/29\n",
        "</td>\n",
        "<!-- \u6c7a\u6a19\u91d1\u984d -->\n",
        "<td align=\"right\">\r\n",
        "\t\t\t\t\t\t\t\t\t\t\t\t\t163654\r\n",
        "\t\t\t\t\t\t\t\t\t\t\t\t</td>\n",
        "<!-- \u6c7a\u6a19\u516c\u544a -->\n",
        "<td align=\"center\">\n",
        "<a href=\"../main/pms/tps/atm/atmAwardAction.do?newEdit=false&amp;searchMode=common&amp;method=inquiryForPublic&amp;pkAtmMain=51240570&amp;tenderCaseNo=103B018\">\n",
        "<u>001</u>\n",
        "</a>\r\n",
        "\t\t\t\t\t\t\t\t\t\t\t\t\t\t\r\n",
        "\t\t\t\t\t\t\t\t\t\t\t\t\t\u00a0\r\n",
        "\t\t\t\t\t\t\t\t\t\t\t\t</td>\n",
        "<!-- \u7121\u6cd5\u6c7a\u6a19\u516c\u544a -->\n",
        "<td align=\"center\">\r\n",
        "\t\t\t\t\t\t\t\t\t\t\t\t\t\u00a0\r\n",
        "\t\t\t\t\t\t\t\t\t\t\t\t</td>\n",
        "</tr>\n",
        "<tr bgcolor=\"#D6FAC5\" onmouseout=\"outcss(this,'#D6FAC5');\" onmouseover=\"overcss(this);\">\n",
        "<!-- \u9805\u6b21 -->\n",
        "<td align=\"center\">36\u00a0</td>\n",
        "<!-- \u6a5f\u95dc\u540d\u7a31 -->\n",
        "<td align=\"left\">\u570b\u7acb\u9ad8\u96c4\u9910\u65c5\u5927\u5b78</td>\n",
        "<!-- \u6a19\u6848\u6848\u865f&\u6a19\u6848\u540d\u7a31 -->\n",
        "<td align=\"left\">\r\n",
        "\t\t\t\t\t\t\t\t\t\t\t\tNKUHT1524-10310\r\n",
        "\t\t\t\t\t\t\t\t\t\t\t\t\r\n",
        "\t\t\t\t\t\t\t\t\t\t\t\t<br>\n",
        "<a href=\"../main/pms/tps/atm/atmAwardAction.do?newEdit=false&amp;searchMode=common&amp;method=inquiryForPublic&amp;pkAtmMain=51240557&amp;tenderCaseNo=NKUHT1524-10310\">\n",
        "<u>\u5c31\u696d\u5b78\u7a0b\u6a21\u7d44</u>\n",
        "</a>\n",
        "</br></td>\n",
        "<!-- \u62db\u6a19\u65b9\u5f0f -->\n",
        "<td align=\"left\">\u9650\u5236\u6027\u62db\u6a19(\u672a\u7d93\u516c\u958b\u8a55\u9078\u6216\u516c\u958b\u5fb5\u6c42)</td>\n",
        "<!-- \u6a19\u7684\u5206\u985e -->\n",
        "<td align=\"left\">\u52de\u52d9\u985e</td>\n",
        "<!-- \u516c\u544a\u65e5\u671f -->\n",
        "<td align=\"center\">103/04/29\n",
        "</td>\n",
        "<!-- \u6c7a\u6a19\u91d1\u984d -->\n",
        "<td align=\"right\">\r\n",
        "\t\t\t\t\t\t\t\t\t\t\t\t\t270000\r\n",
        "\t\t\t\t\t\t\t\t\t\t\t\t</td>\n",
        "<!-- \u6c7a\u6a19\u516c\u544a -->\n",
        "<td align=\"center\">\n",
        "<a href=\"../main/pms/tps/atm/atmAwardAction.do?newEdit=false&amp;searchMode=common&amp;method=inquiryForPublic&amp;pkAtmMain=51240557&amp;tenderCaseNo=NKUHT1524-10310\">\n",
        "<u>001</u>\n",
        "</a>\r\n",
        "\t\t\t\t\t\t\t\t\t\t\t\t\t\t\r\n",
        "\t\t\t\t\t\t\t\t\t\t\t\t\t\u00a0\r\n",
        "\t\t\t\t\t\t\t\t\t\t\t\t</td>\n",
        "<!-- \u7121\u6cd5\u6c7a\u6a19\u516c\u544a -->\n",
        "<td align=\"center\">\r\n",
        "\t\t\t\t\t\t\t\t\t\t\t\t\t\u00a0\r\n",
        "\t\t\t\t\t\t\t\t\t\t\t\t</td>\n",
        "</tr>\n",
        "<tr bgcolor=\"#FFFFFF\" onmouseout=\"outcss(this,'#FFFFFF');\" onmouseover=\"overcss(this);\">\n",
        "<!-- \u9805\u6b21 -->\n",
        "<td align=\"center\">37\u00a0</td>\n",
        "<!-- \u6a5f\u95dc\u540d\u7a31 -->\n",
        "<td align=\"left\">\u570b\u7acb\u81fa\u7063\u5927\u5b78</td>\n",
        "<!-- \u6a19\u6848\u6848\u865f&\u6a19\u6848\u540d\u7a31 -->\n",
        "<td align=\"left\">\r\n",
        "\t\t\t\t\t\t\t\t\t\t\t\tDPD2014041102\r\n",
        "\t\t\t\t\t\t\t\t\t\t\t\t\r\n",
        "\t\t\t\t\t\t\t\t\t\t\t\t<br>\n",
        "<a href=\"../main/pms/tps/atm/atmAwardAction.do?newEdit=false&amp;searchMode=common&amp;method=inquiryForPublic&amp;pkAtmMain=51240543&amp;tenderCaseNo=DPD2014041102\">\n",
        "<u>\u53f0\u5317\u6377\u904b\u8eca\u5ec2\u5ee3\u544a\u63a1\u8cfc\u6848(\u5e02\u653f\u5e9c\u7ad9/\u4e16\u8cbf\u7ad9/\u516c\u9928\u7ad9)</u>\n",
        "</a>\n",
        "</br></td>\n",
        "<!-- \u62db\u6a19\u65b9\u5f0f -->\n",
        "<td align=\"left\">\u9650\u5236\u6027\u62db\u6a19(\u672a\u7d93\u516c\u958b\u8a55\u9078\u6216\u516c\u958b\u5fb5\u6c42)</td>\n",
        "<!-- \u6a19\u7684\u5206\u985e -->\n",
        "<td align=\"left\">\u52de\u52d9\u985e</td>\n",
        "<!-- \u516c\u544a\u65e5\u671f -->\n",
        "<td align=\"center\">103/04/29\n",
        "</td>\n",
        "<!-- \u6c7a\u6a19\u91d1\u984d -->\n",
        "<td align=\"right\">\r\n",
        "\t\t\t\t\t\t\t\t\t\t\t\t\t337500\r\n",
        "\t\t\t\t\t\t\t\t\t\t\t\t</td>\n",
        "<!-- \u6c7a\u6a19\u516c\u544a -->\n",
        "<td align=\"center\">\n",
        "<a href=\"../main/pms/tps/atm/atmAwardAction.do?newEdit=false&amp;searchMode=common&amp;method=inquiryForPublic&amp;pkAtmMain=51240543&amp;tenderCaseNo=DPD2014041102\">\n",
        "<u>001</u>\n",
        "</a>\r\n",
        "\t\t\t\t\t\t\t\t\t\t\t\t\t\t\r\n",
        "\t\t\t\t\t\t\t\t\t\t\t\t\t\u00a0\r\n",
        "\t\t\t\t\t\t\t\t\t\t\t\t</td>\n",
        "<!-- \u7121\u6cd5\u6c7a\u6a19\u516c\u544a -->\n",
        "<td align=\"center\">\r\n",
        "\t\t\t\t\t\t\t\t\t\t\t\t\t\u00a0\r\n",
        "\t\t\t\t\t\t\t\t\t\t\t\t</td>\n",
        "</tr>\n",
        "<tr bgcolor=\"#D6FAC5\" onmouseout=\"outcss(this,'#D6FAC5');\" onmouseover=\"overcss(this);\">\n",
        "<!-- \u9805\u6b21 -->\n",
        "<td align=\"center\">38\u00a0</td>\n",
        "<!-- \u6a5f\u95dc\u540d\u7a31 -->\n",
        "<td align=\"left\">\u65b0\u5317\u5e02\u4e2d\u548c\u5340\u5149\u5fa9\u570b\u6c11\u5c0f\u5b78</td>\n",
        "<!-- \u6a19\u6848\u6848\u865f&\u6a19\u6848\u540d\u7a31 -->\n",
        "<td align=\"left\">\r\n",
        "\t\t\t\t\t\t\t\t\t\t\t\t10310\r\n",
        "\t\t\t\t\t\t\t\t\t\t\t\t\r\n",
        "\t\t\t\t\t\t\t\t\t\t\t\t<br>\n",
        "<a href=\"../main/pms/tps/atm/atmAwardAction.do?newEdit=false&amp;searchMode=common&amp;method=inquiryForPublic&amp;pkAtmMain=51240536&amp;tenderCaseNo=10310\">\n",
        "<u>103\u5b78\u5e74\u5ea6\u65b0(\u589e)\u8a2d\u9644\u8a2d\u5e7c\u5152\u5712\u59d4\u8a17\u6280\u8853\u670d\u52d9\u6848</u>\n",
        "</a>\n",
        "</br></td>\n",
        "<!-- \u62db\u6a19\u65b9\u5f0f -->\n",
        "<td align=\"left\">\u516c\u958b\u53d6\u5f97\u5831\u50f9\u55ae\u6216\u4f01\u5283\u66f8</td>\n",
        "<!-- \u6a19\u7684\u5206\u985e -->\n",
        "<td align=\"left\">\u52de\u52d9\u985e</td>\n",
        "<!-- \u516c\u544a\u65e5\u671f -->\n",
        "<td align=\"center\">103/04/29\n",
        "</td>\n",
        "<!-- \u6c7a\u6a19\u91d1\u984d -->\n",
        "<td align=\"right\">\r\n",
        "\t\t\t\t\t\t\t\t\t\t\t\t\t151602\r\n",
        "\t\t\t\t\t\t\t\t\t\t\t\t</td>\n",
        "<!-- \u6c7a\u6a19\u516c\u544a -->\n",
        "<td align=\"center\">\n",
        "<a href=\"../main/pms/tps/atm/atmAwardAction.do?newEdit=false&amp;searchMode=common&amp;method=inquiryForPublic&amp;pkAtmMain=51240536&amp;tenderCaseNo=10310\">\n",
        "<u>001</u>\n",
        "</a>\r\n",
        "\t\t\t\t\t\t\t\t\t\t\t\t\t\t\r\n",
        "\t\t\t\t\t\t\t\t\t\t\t\t\t\u00a0\r\n",
        "\t\t\t\t\t\t\t\t\t\t\t\t</td>\n",
        "<!-- \u7121\u6cd5\u6c7a\u6a19\u516c\u544a -->\n",
        "<td align=\"center\">\r\n",
        "\t\t\t\t\t\t\t\t\t\t\t\t\t\u00a0\r\n",
        "\t\t\t\t\t\t\t\t\t\t\t\t</td>\n",
        "</tr>\n",
        "<tr bgcolor=\"#FFFFFF\" onmouseout=\"outcss(this,'#FFFFFF');\" onmouseover=\"overcss(this);\">\n",
        "<!-- \u9805\u6b21 -->\n",
        "<td align=\"center\">39\u00a0</td>\n",
        "<!-- \u6a5f\u95dc\u540d\u7a31 -->\n",
        "<td align=\"left\">\u884c\u653f\u9662\u8fb2\u696d\u59d4\u54e1\u6703\u755c\u7522\u8a66\u9a57\u6240\u65b0\u7af9\u5206\u6240</td>\n",
        "<!-- \u6a19\u6848\u6848\u865f&\u6a19\u6848\u540d\u7a31 -->\n",
        "<td align=\"left\">\r\n",
        "\t\t\t\t\t\t\t\t\t\t\t\t103A011A\r\n",
        "\t\t\t\t\t\t\t\t\t\t\t\t\r\n",
        "\t\t\t\t\t\t\t\t\t\t\t\t<br>\n",
        "<a href=\"../main/pms/tps/atm/atmAwardAction.do?newEdit=false&amp;searchMode=common&amp;method=inquiryForPublic&amp;pkAtmMain=51240484&amp;tenderCaseNo=103A011A\">\n",
        "<u>\u5200\u92d2\u6a5f\u7d44\u7528\u4e4b\u4e73\u725b\u95dc\u806f\u8cc7\u6599\u5eab\u7cfb\u7d71\u512a\u5316\u8207\u9031\u908a\u6a21\u7d44\u6574\u5408(SMDF)</u>\n",
        "</a>\n",
        "</br></td>\n",
        "<!-- \u62db\u6a19\u65b9\u5f0f -->\n",
        "<td align=\"left\">\u516c\u958b\u53d6\u5f97\u5831\u50f9\u55ae\u6216\u4f01\u5283\u66f8</td>\n",
        "<!-- \u6a19\u7684\u5206\u985e -->\n",
        "<td align=\"left\">\u52de\u52d9\u985e</td>\n",
        "<!-- \u516c\u544a\u65e5\u671f -->\n",
        "<td align=\"center\">103/04/29\n",
        "</td>\n",
        "<!-- \u6c7a\u6a19\u91d1\u984d -->\n",
        "<td align=\"right\">\r\n",
        "\t\t\t\t\t\t\t\t\t\t\t\t\t190000\r\n",
        "\t\t\t\t\t\t\t\t\t\t\t\t</td>\n",
        "<!-- \u6c7a\u6a19\u516c\u544a -->\n",
        "<td align=\"center\">\n",
        "<a href=\"../main/pms/tps/atm/atmAwardAction.do?newEdit=false&amp;searchMode=common&amp;method=inquiryForPublic&amp;pkAtmMain=51240484&amp;tenderCaseNo=103A011A\">\n",
        "<u>001</u>\n",
        "</a>\r\n",
        "\t\t\t\t\t\t\t\t\t\t\t\t\t\t\r\n",
        "\t\t\t\t\t\t\t\t\t\t\t\t\t\u00a0\r\n",
        "\t\t\t\t\t\t\t\t\t\t\t\t</td>\n",
        "<!-- \u7121\u6cd5\u6c7a\u6a19\u516c\u544a -->\n",
        "<td align=\"center\">\r\n",
        "\t\t\t\t\t\t\t\t\t\t\t\t\t\u00a0\r\n",
        "\t\t\t\t\t\t\t\t\t\t\t\t</td>\n",
        "</tr>\n",
        "<tr bgcolor=\"#D6FAC5\" onmouseout=\"outcss(this,'#D6FAC5');\" onmouseover=\"overcss(this);\">\n",
        "<!-- \u9805\u6b21 -->\n",
        "<td align=\"center\">40\u00a0</td>\n",
        "<!-- \u6a5f\u95dc\u540d\u7a31 -->\n",
        "<td align=\"left\">\u570b\u7acb\u806f\u5408\u5927\u5b78</td>\n",
        "<!-- \u6a19\u6848\u6848\u865f&\u6a19\u6848\u540d\u7a31 -->\n",
        "<td align=\"left\">\r\n",
        "\t\t\t\t\t\t\t\t\t\t\t\t103M602\r\n",
        "\t\t\t\t\t\t\t\t\t\t\t\t\r\n",
        "\t\t\t\t\t\t\t\t\t\t\t\t<br>\n",
        "<a href=\"../main/pms/tps/atm/atmAwardAction.do?newEdit=false&amp;searchMode=common&amp;method=inquiryForPublic&amp;pkAtmMain=51240279&amp;tenderCaseNo=103M602\">\n",
        "<u>103\u5e74\u5ea6\u5de5\u7a0b\u79d1\u6280\u7814\u7a76\u4e2d\u5fc3TAF\u5ef6\u5c55\u8a55\u9451</u>\n",
        "</a>\n",
        "</br></td>\n",
        "<!-- \u62db\u6a19\u65b9\u5f0f -->\n",
        "<td align=\"left\">\u9650\u5236\u6027\u62db\u6a19(\u672a\u7d93\u516c\u958b\u8a55\u9078\u6216\u516c\u958b\u5fb5\u6c42)</td>\n",
        "<!-- \u6a19\u7684\u5206\u985e -->\n",
        "<td align=\"left\">\u52de\u52d9\u985e</td>\n",
        "<!-- \u516c\u544a\u65e5\u671f -->\n",
        "<td align=\"center\">103/04/29\n",
        "</td>\n",
        "<!-- \u6c7a\u6a19\u91d1\u984d -->\n",
        "<td align=\"right\">\r\n",
        "\t\t\t\t\t\t\t\t\t\t\t\t\t134300\r\n",
        "\t\t\t\t\t\t\t\t\t\t\t\t</td>\n",
        "<!-- \u6c7a\u6a19\u516c\u544a -->\n",
        "<td align=\"center\">\n",
        "<a href=\"../main/pms/tps/atm/atmAwardAction.do?newEdit=false&amp;searchMode=common&amp;method=inquiryForPublic&amp;pkAtmMain=51240279&amp;tenderCaseNo=103M602\">\n",
        "<u>001</u>\n",
        "</a>\r\n",
        "\t\t\t\t\t\t\t\t\t\t\t\t\t\t\r\n",
        "\t\t\t\t\t\t\t\t\t\t\t\t\t\u00a0\r\n",
        "\t\t\t\t\t\t\t\t\t\t\t\t</td>\n",
        "<!-- \u7121\u6cd5\u6c7a\u6a19\u516c\u544a -->\n",
        "<td align=\"center\">\r\n",
        "\t\t\t\t\t\t\t\t\t\t\t\t\t\u00a0\r\n",
        "\t\t\t\t\t\t\t\t\t\t\t\t</td>\n",
        "</tr>\n",
        "<tr bgcolor=\"#FFFFFF\" onmouseout=\"outcss(this,'#FFFFFF');\" onmouseover=\"overcss(this);\">\n",
        "<!-- \u9805\u6b21 -->\n",
        "<td align=\"center\">41\u00a0</td>\n",
        "<!-- \u6a5f\u95dc\u540d\u7a31 -->\n",
        "<td align=\"left\">\u91d1\u9580\u7e23\u7269\u8cc7\u8655</td>\n",
        "<!-- \u6a19\u6848\u6848\u865f&\u6a19\u6848\u540d\u7a31 -->\n",
        "<td align=\"left\">\r\n",
        "\t\t\t\t\t\t\t\t\t\t\t\t103310230121\r\n",
        "\t\t\t\t\t\t\t\t\t\t\t\t\r\n",
        "\t\t\t\t\t\t\t\t\t\t\t\t<br>\n",
        "<a href=\"../main/pms/tps/atm/atmAwardAction.do?newEdit=false&amp;searchMode=common&amp;method=inquiryForPublic&amp;pkAtmMain=51240240&amp;tenderCaseNo=103310230121\">\n",
        "<u>\u91d1\u9580\u7e23\u53c3\u52a0103\u5e74\u5168\u570b\u8eab\u5fc3\u969c\u7919\u570b\u6c11\u904b\u52d5\u6703\u6d3b\u52d5\uff08\u55ae\u50f9\u6c7a\u6a19\uff09</u>\n",
        "</a>\n",
        "</br></td>\n",
        "<!-- \u62db\u6a19\u65b9\u5f0f -->\n",
        "<td align=\"left\">\u516c\u958b\u53d6\u5f97\u5831\u50f9\u55ae\u6216\u4f01\u5283\u66f8</td>\n",
        "<!-- \u6a19\u7684\u5206\u985e -->\n",
        "<td align=\"left\">\u52de\u52d9\u985e</td>\n",
        "<!-- \u516c\u544a\u65e5\u671f -->\n",
        "<td align=\"center\">103/04/29\n",
        "</td>\n",
        "<!-- \u6c7a\u6a19\u91d1\u984d -->\n",
        "<td align=\"right\">\r\n",
        "\t\t\t\t\t\t\t\t\t\t\t\t\t319000\r\n",
        "\t\t\t\t\t\t\t\t\t\t\t\t</td>\n",
        "<!-- \u6c7a\u6a19\u516c\u544a -->\n",
        "<td align=\"center\">\n",
        "<a href=\"../main/pms/tps/atm/atmAwardAction.do?newEdit=false&amp;searchMode=common&amp;method=inquiryForPublic&amp;pkAtmMain=51240240&amp;tenderCaseNo=103310230121\">\n",
        "<u>001</u>\n",
        "</a>\r\n",
        "\t\t\t\t\t\t\t\t\t\t\t\t\t\t\r\n",
        "\t\t\t\t\t\t\t\t\t\t\t\t\t\u00a0\r\n",
        "\t\t\t\t\t\t\t\t\t\t\t\t</td>\n",
        "<!-- \u7121\u6cd5\u6c7a\u6a19\u516c\u544a -->\n",
        "<td align=\"center\">\r\n",
        "\t\t\t\t\t\t\t\t\t\t\t\t\t\u00a0\r\n",
        "\t\t\t\t\t\t\t\t\t\t\t\t</td>\n",
        "</tr>\n",
        "<tr bgcolor=\"#D6FAC5\" onmouseout=\"outcss(this,'#D6FAC5');\" onmouseover=\"overcss(this);\">\n",
        "<!-- \u9805\u6b21 -->\n",
        "<td align=\"center\">42\u00a0</td>\n",
        "<!-- \u6a5f\u95dc\u540d\u7a31 -->\n",
        "<td align=\"left\">\u91d1\u9580\u7e23\u7269\u8cc7\u8655</td>\n",
        "<!-- \u6a19\u6848\u6848\u865f&\u6a19\u6848\u540d\u7a31 -->\n",
        "<td align=\"left\">\r\n",
        "\t\t\t\t\t\t\t\t\t\t\t\t103430930099\r\n",
        "\t\t\t\t\t\t\t\t\t\t\t\t\r\n",
        "\t\t\t\t\t\t\t\t\t\t\t\t<br>\n",
        "<a href=\"../main/pms/tps/atm/atmAwardAction.do?newEdit=false&amp;searchMode=common&amp;method=inquiryForPublic&amp;pkAtmMain=51240202&amp;tenderCaseNo=103430930099\">\n",
        "<u>\u907a\u9ad4\u51b7\u51cd\u6ac3\u66f4\u65b0\u5de5\u7a0b\u59d4\u8a17\u898f\u5283\u8a2d\u8a08\u66a8\u76e3\u9020\u670d\u52d9\u6848</u>\n",
        "</a>\n",
        "</br></td>\n",
        "<!-- \u62db\u6a19\u65b9\u5f0f -->\n",
        "<td align=\"left\">\u516c\u958b\u53d6\u5f97\u5831\u50f9\u55ae\u6216\u4f01\u5283\u66f8</td>\n",
        "<!-- \u6a19\u7684\u5206\u985e -->\n",
        "<td align=\"left\">\u52de\u52d9\u985e</td>\n",
        "<!-- \u516c\u544a\u65e5\u671f -->\n",
        "<td align=\"center\">103/04/29\n",
        "</td>\n",
        "<!-- \u6c7a\u6a19\u91d1\u984d -->\n",
        "<td align=\"right\">\r\n",
        "\t\t\t\t\t\t\t\t\t\t\t\t\t360000\r\n",
        "\t\t\t\t\t\t\t\t\t\t\t\t</td>\n",
        "<!-- \u6c7a\u6a19\u516c\u544a -->\n",
        "<td align=\"center\">\n",
        "<a href=\"../main/pms/tps/atm/atmAwardAction.do?newEdit=false&amp;searchMode=common&amp;method=inquiryForPublic&amp;pkAtmMain=51240202&amp;tenderCaseNo=103430930099\">\n",
        "<u>001</u>\n",
        "</a>\r\n",
        "\t\t\t\t\t\t\t\t\t\t\t\t\t\t\r\n",
        "\t\t\t\t\t\t\t\t\t\t\t\t\t\u00a0\r\n",
        "\t\t\t\t\t\t\t\t\t\t\t\t</td>\n",
        "<!-- \u7121\u6cd5\u6c7a\u6a19\u516c\u544a -->\n",
        "<td align=\"center\">\r\n",
        "\t\t\t\t\t\t\t\t\t\t\t\t\t\u00a0\r\n",
        "\t\t\t\t\t\t\t\t\t\t\t\t</td>\n",
        "</tr>\n",
        "<tr bgcolor=\"#FFFFFF\" onmouseout=\"outcss(this,'#FFFFFF');\" onmouseover=\"overcss(this);\">\n",
        "<!-- \u9805\u6b21 -->\n",
        "<td align=\"center\">43\u00a0</td>\n",
        "<!-- \u6a5f\u95dc\u540d\u7a31 -->\n",
        "<td align=\"left\">\u6559\u80b2\u90e8\u9ad4\u80b2\u7f72</td>\n",
        "<!-- \u6a19\u6848\u6848\u865f&\u6a19\u6848\u540d\u7a31 -->\n",
        "<td align=\"left\">\r\n",
        "\t\t\t\t\t\t\t\t\t\t\t\t103-02-011\r\n",
        "\t\t\t\t\t\t\t\t\t\t\t\t\r\n",
        "\t\t\t\t\t\t\t\t\t\t\t\t<br>\n",
        "<a href=\"../main/pms/tps/atm/atmAwardAction.do?newEdit=false&amp;searchMode=common&amp;method=inquiryForPublic&amp;pkAtmMain=51239231&amp;tenderCaseNo=103-02-011\">\n",
        "<u>\u672c\u7f72103\u5e74\u5ea6\u59d4\u8a17\u8fa6\u7406\u300c\u6253\u9020\u904b\u52d5\u5cf6\u8cc7\u8a0a\u5e73\u81fa-\u81fa\u7063i\u904b\u52d5\u7dad\u8b77\u53ca\u884c\u92b7\u8a08\u756b\u6848\u300d</u>\n",
        "</a>\n",
        "</br></td>\n",
        "<!-- \u62db\u6a19\u65b9\u5f0f -->\n",
        "<td align=\"left\">\u9650\u5236\u6027\u62db\u6a19(\u7d93\u516c\u958b\u8a55\u9078\u6216\u516c\u958b\u5fb5\u6c42)</td>\n",
        "<!-- \u6a19\u7684\u5206\u985e -->\n",
        "<td align=\"left\">\u52de\u52d9\u985e</td>\n",
        "<!-- \u516c\u544a\u65e5\u671f -->\n",
        "<td align=\"center\">103/04/29\n",
        "</td>\n",
        "<!-- \u6c7a\u6a19\u91d1\u984d -->\n",
        "<td align=\"right\">\r\n",
        "\t\t\t\t\t\t\t\t\t\t\t\t\t2160000\r\n",
        "\t\t\t\t\t\t\t\t\t\t\t\t</td>\n",
        "<!-- \u6c7a\u6a19\u516c\u544a -->\n",
        "<td align=\"center\">\n",
        "<a href=\"../main/pms/tps/atm/atmAwardAction.do?newEdit=false&amp;searchMode=common&amp;method=inquiryForPublic&amp;pkAtmMain=51239231&amp;tenderCaseNo=103-02-011\">\n",
        "<u>001</u>\n",
        "</a>\r\n",
        "\t\t\t\t\t\t\t\t\t\t\t\t\t\t\r\n",
        "\t\t\t\t\t\t\t\t\t\t\t\t\t\u00a0\r\n",
        "\t\t\t\t\t\t\t\t\t\t\t\t</td>\n",
        "<!-- \u7121\u6cd5\u6c7a\u6a19\u516c\u544a -->\n",
        "<td align=\"center\">\r\n",
        "\t\t\t\t\t\t\t\t\t\t\t\t\t\u00a0\r\n",
        "\t\t\t\t\t\t\t\t\t\t\t\t</td>\n",
        "</tr>\n",
        "<tr bgcolor=\"#D6FAC5\" onmouseout=\"outcss(this,'#D6FAC5');\" onmouseover=\"overcss(this);\">\n",
        "<!-- \u9805\u6b21 -->\n",
        "<td align=\"center\">44\u00a0</td>\n",
        "<!-- \u6a5f\u95dc\u540d\u7a31 -->\n",
        "<td align=\"left\">\u6559\u80b2\u90e8\u9ad4\u80b2\u7f72</td>\n",
        "<!-- \u6a19\u6848\u6848\u865f&\u6a19\u6848\u540d\u7a31 -->\n",
        "<td align=\"left\">\r\n",
        "\t\t\t\t\t\t\t\t\t\t\t\t102-01-009\r\n",
        "\t\t\t\t\t\t\t\t\t\t\t\t\r\n",
        "\t\t\t\t\t\t\t\t\t\t\t\t<br>\n",
        "<a href=\"../main/pms/tps/atm/atmAwardAction.do?newEdit=false&amp;searchMode=common&amp;method=inquiryForPublic&amp;pkAtmMain=51239232&amp;tenderCaseNo=102-01-009\">\n",
        "<u>\u672c\u7f72\u570b\u8a13\u4e2d\u5fc3103\u5e74\u5ea6\u57f9\u8a13\u968a\u79df\u8eca\u6848(\u958b\u53e3\u5951\u7d04)</u>\n",
        "</a>\n",
        "</br></td>\n",
        "<!-- \u62db\u6a19\u65b9\u5f0f -->\n",
        "<td align=\"left\">\u516c\u958b\u53d6\u5f97\u5831\u50f9\u55ae\u6216\u4f01\u5283\u66f8</td>\n",
        "<!-- \u6a19\u7684\u5206\u985e -->\n",
        "<td align=\"left\">\u52de\u52d9\u985e</td>\n",
        "<!-- \u516c\u544a\u65e5\u671f -->\n",
        "<td align=\"center\">103/04/29\n",
        "</td>\n",
        "<!-- \u6c7a\u6a19\u91d1\u984d -->\n",
        "<td align=\"right\">\r\n",
        "\t\t\t\t\t\t\t\t\t\t\t\t\t474000\r\n",
        "\t\t\t\t\t\t\t\t\t\t\t\t</td>\n",
        "<!-- \u6c7a\u6a19\u516c\u544a -->\n",
        "<td align=\"center\">\n",
        "<a href=\"../main/pms/tps/atm/atmAwardAction.do?newEdit=false&amp;searchMode=common&amp;method=inquiryForPublic&amp;pkAtmMain=51239232&amp;tenderCaseNo=102-01-009\">\n",
        "<u>001</u>\n",
        "</a>\r\n",
        "\t\t\t\t\t\t\t\t\t\t\t\t\t\t\r\n",
        "\t\t\t\t\t\t\t\t\t\t\t\t\t\u00a0\r\n",
        "\t\t\t\t\t\t\t\t\t\t\t\t</td>\n",
        "<!-- \u7121\u6cd5\u6c7a\u6a19\u516c\u544a -->\n",
        "<td align=\"center\">\r\n",
        "\t\t\t\t\t\t\t\t\t\t\t\t\t\u00a0\r\n",
        "\t\t\t\t\t\t\t\t\t\t\t\t</td>\n",
        "</tr>\n",
        "<tr bgcolor=\"#FFFFFF\" onmouseout=\"outcss(this,'#FFFFFF');\" onmouseover=\"overcss(this);\">\n",
        "<!-- \u9805\u6b21 -->\n",
        "<td align=\"center\">45\u00a0</td>\n",
        "<!-- \u6a5f\u95dc\u540d\u7a31 -->\n",
        "<td align=\"left\">\u6559\u80b2\u90e8\u9ad4\u80b2\u7f72</td>\n",
        "<!-- \u6a19\u6848\u6848\u865f&\u6a19\u6848\u540d\u7a31 -->\n",
        "<td align=\"left\">\r\n",
        "\t\t\t\t\t\t\t\t\t\t\t\t103-02-033\r\n",
        "\t\t\t\t\t\t\t\t\t\t\t\t\r\n",
        "\t\t\t\t\t\t\t\t\t\t\t\t<br>\n",
        "<a href=\"../main/pms/tps/atm/atmAwardAction.do?newEdit=false&amp;searchMode=common&amp;method=inquiryForPublic&amp;pkAtmMain=51239233&amp;tenderCaseNo=103-02-033\">\n",
        "<u>\u672c\u7f72103\u5e74\u5ea6\u5167\u7db2(Intranet)\u7cfb\u7d71\u589e\u4fee\u66a8\u7dad\u8b77\u670d\u52d9\u59d4\u8fa6\u6848</u>\n",
        "</a>\n",
        "</br></td>\n",
        "<!-- \u62db\u6a19\u65b9\u5f0f -->\n",
        "<td align=\"left\">\u9650\u5236\u6027\u62db\u6a19(\u672a\u7d93\u516c\u958b\u8a55\u9078\u6216\u516c\u958b\u5fb5\u6c42)</td>\n",
        "<!-- \u6a19\u7684\u5206\u985e -->\n",
        "<td align=\"left\">\u52de\u52d9\u985e</td>\n",
        "<!-- \u516c\u544a\u65e5\u671f -->\n",
        "<td align=\"center\">103/04/29\n",
        "</td>\n",
        "<!-- \u6c7a\u6a19\u91d1\u984d -->\n",
        "<td align=\"right\">\r\n",
        "\t\t\t\t\t\t\t\t\t\t\t\t\t499900\r\n",
        "\t\t\t\t\t\t\t\t\t\t\t\t</td>\n",
        "<!-- \u6c7a\u6a19\u516c\u544a -->\n",
        "<td align=\"center\">\n",
        "<a href=\"../main/pms/tps/atm/atmAwardAction.do?newEdit=false&amp;searchMode=common&amp;method=inquiryForPublic&amp;pkAtmMain=51239233&amp;tenderCaseNo=103-02-033\">\n",
        "<u>001</u>\n",
        "</a>\r\n",
        "\t\t\t\t\t\t\t\t\t\t\t\t\t\t\r\n",
        "\t\t\t\t\t\t\t\t\t\t\t\t\t\u00a0\r\n",
        "\t\t\t\t\t\t\t\t\t\t\t\t</td>\n",
        "<!-- \u7121\u6cd5\u6c7a\u6a19\u516c\u544a -->\n",
        "<td align=\"center\">\r\n",
        "\t\t\t\t\t\t\t\t\t\t\t\t\t\u00a0\r\n",
        "\t\t\t\t\t\t\t\t\t\t\t\t</td>\n",
        "</tr>\n",
        "<tr bgcolor=\"#D6FAC5\" onmouseout=\"outcss(this,'#D6FAC5');\" onmouseover=\"overcss(this);\">\n",
        "<!-- \u9805\u6b21 -->\n",
        "<td align=\"center\">46\u00a0</td>\n",
        "<!-- \u6a5f\u95dc\u540d\u7a31 -->\n",
        "<td align=\"left\">\u6559\u80b2\u90e8\u9ad4\u80b2\u7f72</td>\n",
        "<!-- \u6a19\u6848\u6848\u865f&\u6a19\u6848\u540d\u7a31 -->\n",
        "<td align=\"left\">\r\n",
        "\t\t\t\t\t\t\t\t\t\t\t\t103-02-029\r\n",
        "\t\t\t\t\t\t\t\t\t\t\t\t\r\n",
        "\t\t\t\t\t\t\t\t\t\t\t\t<br>\n",
        "<a href=\"../main/pms/tps/atm/atmAwardAction.do?newEdit=false&amp;searchMode=common&amp;method=inquiryForPublic&amp;pkAtmMain=51239234&amp;tenderCaseNo=103-02-029\">\n",
        "<u>\u672c\u7f72\u300c103\u5e74\u5ea6\u8f14\u5c0e\u4e9e\u5967\u904b\u904b\u52d5\u7af6\u8cfd\u7a2e\u985e\u55ae\u9805\u904b\u52d5\u5354\u6703\u8fa6\u7406\u6559\u7df4\u88c1\u5224\u57f9\u8a13\u8a08\u756b\u66a8\u904b\u52d5\u7d00\u9304\u898f\u5247\u5be9\u67e5\u6848\u300d</u>\n",
        "</a>\n",
        "</br></td>\n",
        "<!-- \u62db\u6a19\u65b9\u5f0f -->\n",
        "<td align=\"left\">\u9650\u5236\u6027\u62db\u6a19(\u672a\u7d93\u516c\u958b\u8a55\u9078\u6216\u516c\u958b\u5fb5\u6c42)</td>\n",
        "<!-- \u6a19\u7684\u5206\u985e -->\n",
        "<td align=\"left\">\u52de\u52d9\u985e</td>\n",
        "<!-- \u516c\u544a\u65e5\u671f -->\n",
        "<td align=\"center\">103/04/29\n",
        "</td>\n",
        "<!-- \u6c7a\u6a19\u91d1\u984d -->\n",
        "<td align=\"right\">\r\n",
        "\t\t\t\t\t\t\t\t\t\t\t\t\t17500000\r\n",
        "\t\t\t\t\t\t\t\t\t\t\t\t</td>\n",
        "<!-- \u6c7a\u6a19\u516c\u544a -->\n",
        "<td align=\"center\">\n",
        "<a href=\"../main/pms/tps/atm/atmAwardAction.do?newEdit=false&amp;searchMode=common&amp;method=inquiryForPublic&amp;pkAtmMain=51239234&amp;tenderCaseNo=103-02-029\">\n",
        "<u>001</u>\n",
        "</a>\r\n",
        "\t\t\t\t\t\t\t\t\t\t\t\t\t\t\r\n",
        "\t\t\t\t\t\t\t\t\t\t\t\t\t\u00a0\r\n",
        "\t\t\t\t\t\t\t\t\t\t\t\t</td>\n",
        "<!-- \u7121\u6cd5\u6c7a\u6a19\u516c\u544a -->\n",
        "<td align=\"center\">\r\n",
        "\t\t\t\t\t\t\t\t\t\t\t\t\t\u00a0\r\n",
        "\t\t\t\t\t\t\t\t\t\t\t\t</td>\n",
        "</tr>\n",
        "<tr bgcolor=\"#FFFFFF\" onmouseout=\"outcss(this,'#FFFFFF');\" onmouseover=\"overcss(this);\">\n",
        "<!-- \u9805\u6b21 -->\n",
        "<td align=\"center\">47\u00a0</td>\n",
        "<!-- \u6a5f\u95dc\u540d\u7a31 -->\n",
        "<td align=\"left\">\u81fa\u5317\u5e02\u677e\u5c71\u5340\u5065\u5eb7\u670d\u52d9\u4e2d\u5fc3</td>\n",
        "<!-- \u6a19\u6848\u6848\u865f&\u6a19\u6848\u540d\u7a31 -->\n",
        "<td align=\"left\">\r\n",
        "\t\t\t\t\t\t\t\t\t\t\t\t103A03\r\n",
        "\t\t\t\t\t\t\t\t\t\t\t\t\r\n",
        "\t\t\t\t\t\t\t\t\t\t\t\t<br>\n",
        "<a href=\"../main/pms/tps/atm/atmAwardAction.do?newEdit=false&amp;searchMode=common&amp;method=inquiryForPublic&amp;pkAtmMain=51239245&amp;tenderCaseNo=103A03\">\n",
        "<u>103\u9632\u75ab\u696d\u52d9\u5de5\u6642\u4eba\u54e1\u52de\u52d9\u63a1\u8cfc\u6848</u>\n",
        "</a>\n",
        "</br></td>\n",
        "<!-- \u62db\u6a19\u65b9\u5f0f -->\n",
        "<td align=\"left\">\u516c\u958b\u53d6\u5f97\u5831\u50f9\u55ae\u6216\u4f01\u5283\u66f8</td>\n",
        "<!-- \u6a19\u7684\u5206\u985e -->\n",
        "<td align=\"left\">\u52de\u52d9\u985e</td>\n",
        "<!-- \u516c\u544a\u65e5\u671f -->\n",
        "<td align=\"center\">103/04/29\n",
        "</td>\n",
        "<!-- \u6c7a\u6a19\u91d1\u984d -->\n",
        "<td align=\"right\">\r\n",
        "\t\t\t\t\t\t\t\t\t\t\t\t\t467502\r\n",
        "\t\t\t\t\t\t\t\t\t\t\t\t</td>\n",
        "<!-- \u6c7a\u6a19\u516c\u544a -->\n",
        "<td align=\"center\">\n",
        "<a href=\"../main/pms/tps/atm/atmAwardAction.do?newEdit=false&amp;searchMode=common&amp;method=inquiryForPublic&amp;pkAtmMain=51239245&amp;tenderCaseNo=103A03\">\n",
        "<u>001</u>\n",
        "</a>\r\n",
        "\t\t\t\t\t\t\t\t\t\t\t\t\t\t\r\n",
        "\t\t\t\t\t\t\t\t\t\t\t\t\t\u00a0\r\n",
        "\t\t\t\t\t\t\t\t\t\t\t\t</td>\n",
        "<!-- \u7121\u6cd5\u6c7a\u6a19\u516c\u544a -->\n",
        "<td align=\"center\">\r\n",
        "\t\t\t\t\t\t\t\t\t\t\t\t\t\u00a0\r\n",
        "\t\t\t\t\t\t\t\t\t\t\t\t</td>\n",
        "</tr>\n",
        "<tr bgcolor=\"#D6FAC5\" onmouseout=\"outcss(this,'#D6FAC5');\" onmouseover=\"overcss(this);\">\n",
        "<!-- \u9805\u6b21 -->\n",
        "<td align=\"center\">48\u00a0</td>\n",
        "<!-- \u6a5f\u95dc\u540d\u7a31 -->\n",
        "<td align=\"left\">\u5c4f\u6771\u7e23\u653f\u5e9c</td>\n",
        "<!-- \u6a19\u6848\u6848\u865f&\u6a19\u6848\u540d\u7a31 -->\n",
        "<td align=\"left\">\r\n",
        "\t\t\t\t\t\t\t\t\t\t\t\tD103-0210-1\r\n",
        "\t\t\t\t\t\t\t\t\t\t\t\t\r\n",
        "\t\t\t\t\t\t\t\t\t\t\t\t<br>\n",
        "<a href=\"../main/pms/tps/atm/atmAwardAction.do?newEdit=false&amp;searchMode=common&amp;method=inquiryForPublic&amp;pkAtmMain=51239246&amp;tenderCaseNo=D103-0210-1\">\n",
        "<u>103\u5e74\u5ea6\u516c\u5171\u8a2d\u65bd\u707d\u5f8c\u5fa9\u5efa\u5de5\u7a0b\u8a2d\u8a08\u3001\u76e3\u9020\u6280\u8853\u670d\u52d9(\u958b\u53e3\u5951\u7d04)</u>\n",
        "</a>\n",
        "</br></td>\n",
        "<!-- \u62db\u6a19\u65b9\u5f0f -->\n",
        "<td align=\"left\">\u516c\u958b\u62db\u6a19</td>\n",
        "<!-- \u6a19\u7684\u5206\u985e -->\n",
        "<td align=\"left\">\u52de\u52d9\u985e</td>\n",
        "<!-- \u516c\u544a\u65e5\u671f -->\n",
        "<td align=\"center\">103/04/29\n",
        "</td>\n",
        "<!-- \u6c7a\u6a19\u91d1\u984d -->\n",
        "<td align=\"right\">\r\n",
        "\t\t\t\t\t\t\t\t\t\t\t\t\t11997000\r\n",
        "\t\t\t\t\t\t\t\t\t\t\t\t</td>\n",
        "<!-- \u6c7a\u6a19\u516c\u544a -->\n",
        "<td align=\"center\">\n",
        "<a href=\"../main/pms/tps/atm/atmAwardAction.do?newEdit=false&amp;searchMode=common&amp;method=inquiryForPublic&amp;pkAtmMain=51239246&amp;tenderCaseNo=D103-0210-1\">\n",
        "<u>001</u>\n",
        "</a>\r\n",
        "\t\t\t\t\t\t\t\t\t\t\t\t\t\t\r\n",
        "\t\t\t\t\t\t\t\t\t\t\t\t\t\u00a0\r\n",
        "\t\t\t\t\t\t\t\t\t\t\t\t</td>\n",
        "<!-- \u7121\u6cd5\u6c7a\u6a19\u516c\u544a -->\n",
        "<td align=\"center\">\r\n",
        "\t\t\t\t\t\t\t\t\t\t\t\t\t\u00a0\r\n",
        "\t\t\t\t\t\t\t\t\t\t\t\t</td>\n",
        "</tr>\n",
        "<tr bgcolor=\"#FFFFFF\" onmouseout=\"outcss(this,'#FFFFFF');\" onmouseover=\"overcss(this);\">\n",
        "<!-- \u9805\u6b21 -->\n",
        "<td align=\"center\">49\u00a0</td>\n",
        "<!-- \u6a5f\u95dc\u540d\u7a31 -->\n",
        "<td align=\"left\">\u8ca1\u5718\u6cd5\u4eba\u862d\u967d\u8fb2\u696d\u767c\u5c55\u57fa\u91d1\u6703</td>\n",
        "<!-- \u6a19\u6848\u6848\u865f&\u6a19\u6848\u540d\u7a31 -->\n",
        "<td align=\"left\">\r\n",
        "\t\t\t\t\t\t\t\t\t\t\t\t103022701\r\n",
        "\t\t\t\t\t\t\t\t\t\t\t\t\r\n",
        "\t\t\t\t\t\t\t\t\t\t\t\t<br>\n",
        "<a href=\"../main/pms/tps/atm/atmAwardAction.do?newEdit=false&amp;searchMode=common&amp;method=inquiryForPublic&amp;pkAtmMain=51239255&amp;tenderCaseNo=103022701\">\n",
        "<u>2014\u5b9c\u862d\u7da0\u8272\u535a\u89bd\u6703\u300c\u5730\u666f\u88dd\u7f6e\u85dd\u8853\u300d\u5c55\u793a\u6848</u>\n",
        "</a>\n",
        "</br></td>\n",
        "<!-- \u62db\u6a19\u65b9\u5f0f -->\n",
        "<td align=\"left\">\u9650\u5236\u6027\u62db\u6a19(\u672a\u7d93\u516c\u958b\u8a55\u9078\u6216\u516c\u958b\u5fb5\u6c42)</td>\n",
        "<!-- \u6a19\u7684\u5206\u985e -->\n",
        "<td align=\"left\">\u52de\u52d9\u985e</td>\n",
        "<!-- \u516c\u544a\u65e5\u671f -->\n",
        "<td align=\"center\">103/04/29\n",
        "</td>\n",
        "<!-- \u6c7a\u6a19\u91d1\u984d -->\n",
        "<td align=\"right\">\r\n",
        "\t\t\t\t\t\t\t\t\t\t\t\t\t698000\r\n",
        "\t\t\t\t\t\t\t\t\t\t\t\t</td>\n",
        "<!-- \u6c7a\u6a19\u516c\u544a -->\n",
        "<td align=\"center\">\n",
        "<a href=\"../main/pms/tps/atm/atmAwardAction.do?newEdit=false&amp;searchMode=common&amp;method=inquiryForPublic&amp;pkAtmMain=51239255&amp;tenderCaseNo=103022701\">\n",
        "<u>001</u>\n",
        "</a>\r\n",
        "\t\t\t\t\t\t\t\t\t\t\t\t\t\t\r\n",
        "\t\t\t\t\t\t\t\t\t\t\t\t\t\u00a0\r\n",
        "\t\t\t\t\t\t\t\t\t\t\t\t</td>\n",
        "<!-- \u7121\u6cd5\u6c7a\u6a19\u516c\u544a -->\n",
        "<td align=\"center\">\r\n",
        "\t\t\t\t\t\t\t\t\t\t\t\t\t\u00a0\r\n",
        "\t\t\t\t\t\t\t\t\t\t\t\t</td>\n",
        "</tr>\n",
        "<tr bgcolor=\"#D6FAC5\" onmouseout=\"outcss(this,'#D6FAC5');\" onmouseover=\"overcss(this);\">\n",
        "<!-- \u9805\u6b21 -->\n",
        "<td align=\"center\">50\u00a0</td>\n",
        "<!-- \u6a5f\u95dc\u540d\u7a31 -->\n",
        "<td align=\"left\">\u8ca1\u5718\u6cd5\u4eba\u862d\u967d\u8fb2\u696d\u767c\u5c55\u57fa\u91d1\u6703</td>\n",
        "<!-- \u6a19\u6848\u6848\u865f&\u6a19\u6848\u540d\u7a31 -->\n",
        "<td align=\"left\">\r\n",
        "\t\t\t\t\t\t\t\t\t\t\t\t103021401\r\n",
        "\t\t\t\t\t\t\t\t\t\t\t\t\r\n",
        "\t\t\t\t\t\t\t\t\t\t\t\t<br>\n",
        "<a href=\"../main/pms/tps/atm/atmAwardAction.do?newEdit=false&amp;searchMode=common&amp;method=inquiryForPublic&amp;pkAtmMain=51239256&amp;tenderCaseNo=103021401\">\n",
        "<u>2014\u5b9c\u862d\u7da0\u8272\u535a\u89bd\u6703\u300c\u5fae\u7b11\u8fb2\u5bb6\u300d\u5275\u4f5c\u5c55\u793a\u6848</u>\n",
        "</a>\n",
        "</br></td>\n",
        "<!-- \u62db\u6a19\u65b9\u5f0f -->\n",
        "<td align=\"left\">\u9650\u5236\u6027\u62db\u6a19(\u672a\u7d93\u516c\u958b\u8a55\u9078\u6216\u516c\u958b\u5fb5\u6c42)</td>\n",
        "<!-- \u6a19\u7684\u5206\u985e -->\n",
        "<td align=\"left\">\u52de\u52d9\u985e</td>\n",
        "<!-- \u516c\u544a\u65e5\u671f -->\n",
        "<td align=\"center\">103/04/29\n",
        "</td>\n",
        "<!-- \u6c7a\u6a19\u91d1\u984d -->\n",
        "<td align=\"right\">\r\n",
        "\t\t\t\t\t\t\t\t\t\t\t\t\t500000\r\n",
        "\t\t\t\t\t\t\t\t\t\t\t\t</td>\n",
        "<!-- \u6c7a\u6a19\u516c\u544a -->\n",
        "<td align=\"center\">\n",
        "<a href=\"../main/pms/tps/atm/atmAwardAction.do?newEdit=false&amp;searchMode=common&amp;method=inquiryForPublic&amp;pkAtmMain=51239256&amp;tenderCaseNo=103021401\">\n",
        "<u>001</u>\n",
        "</a>\r\n",
        "\t\t\t\t\t\t\t\t\t\t\t\t\t\t\r\n",
        "\t\t\t\t\t\t\t\t\t\t\t\t\t\u00a0\r\n",
        "\t\t\t\t\t\t\t\t\t\t\t\t</td>\n",
        "<!-- \u7121\u6cd5\u6c7a\u6a19\u516c\u544a -->\n",
        "<td align=\"center\">\r\n",
        "\t\t\t\t\t\t\t\t\t\t\t\t\t\u00a0\r\n",
        "\t\t\t\t\t\t\t\t\t\t\t\t</td>\n",
        "</tr>\n",
        "<tr bgcolor=\"#FFFFFF\" onmouseout=\"outcss(this,'#FFFFFF');\" onmouseover=\"overcss(this);\">\n",
        "<!-- \u9805\u6b21 -->\n",
        "<td align=\"center\">51\u00a0</td>\n",
        "<!-- \u6a5f\u95dc\u540d\u7a31 -->\n",
        "<td align=\"left\">\u53f0\u7063\u4e2d\u6cb9\u80a1\u4efd\u6709\u9650\u516c\u53f8</td>\n",
        "<!-- \u6a19\u6848\u6848\u865f&\u6a19\u6848\u540d\u7a31 -->\n",
        "<td align=\"left\">\r\n",
        "\t\t\t\t\t\t\t\t\t\t\t\tLEB0370001\r\n",
        "\t\t\t\t\t\t\t\t\t\t\t\t\r\n",
        "\t\t\t\t\t\t\t\t\t\t\t\t<br>\n",
        "<a href=\"../main/pms/tps/atm/atmAwardAction.do?newEdit=false&amp;searchMode=common&amp;method=inquiryForPublic&amp;pkAtmMain=51239270&amp;tenderCaseNo=LEB0370001\">\n",
        "<u>\u5317\u78bc\u982d\u589e\u8a2d\u5378\u6599\u81c2\u53ef\u884c\u6027\u8a55\u4f30\u5de5\u4f5c</u>\n",
        "</a>\n",
        "</br></td>\n",
        "<!-- \u62db\u6a19\u65b9\u5f0f -->\n",
        "<td align=\"left\">\u516c\u958b\u62db\u6a19</td>\n",
        "<!-- \u6a19\u7684\u5206\u985e -->\n",
        "<td align=\"left\">\u52de\u52d9\u985e</td>\n",
        "<!-- \u516c\u544a\u65e5\u671f -->\n",
        "<td align=\"center\">103/04/29\n",
        "</td>\n",
        "<!-- \u6c7a\u6a19\u91d1\u984d -->\n",
        "<td align=\"right\">\r\n",
        "\t\t\t\t\t\t\t\t\t\t\t\t\t3668580\r\n",
        "\t\t\t\t\t\t\t\t\t\t\t\t</td>\n",
        "<!-- \u6c7a\u6a19\u516c\u544a -->\n",
        "<td align=\"center\">\n",
        "<a href=\"../main/pms/tps/atm/atmAwardAction.do?newEdit=false&amp;searchMode=common&amp;method=inquiryForPublic&amp;pkAtmMain=51239270&amp;tenderCaseNo=LEB0370001\">\n",
        "<u>001</u>\n",
        "</a>\r\n",
        "\t\t\t\t\t\t\t\t\t\t\t\t\t\t\r\n",
        "\t\t\t\t\t\t\t\t\t\t\t\t\t\u00a0\r\n",
        "\t\t\t\t\t\t\t\t\t\t\t\t</td>\n",
        "<!-- \u7121\u6cd5\u6c7a\u6a19\u516c\u544a -->\n",
        "<td align=\"center\">\r\n",
        "\t\t\t\t\t\t\t\t\t\t\t\t\t\u00a0\r\n",
        "\t\t\t\t\t\t\t\t\t\t\t\t</td>\n",
        "</tr>\n",
        "<tr bgcolor=\"#D6FAC5\" onmouseout=\"outcss(this,'#D6FAC5');\" onmouseover=\"overcss(this);\">\n",
        "<!-- \u9805\u6b21 -->\n",
        "<td align=\"center\">52\u00a0</td>\n",
        "<!-- \u6a5f\u95dc\u540d\u7a31 -->\n",
        "<td align=\"left\">\u53f0\u7063\u4e2d\u6cb9\u80a1\u4efd\u6709\u9650\u516c\u53f8</td>\n",
        "<!-- \u6a19\u6848\u6848\u865f&\u6a19\u6848\u540d\u7a31 -->\n",
        "<td align=\"left\">\r\n",
        "\t\t\t\t\t\t\t\t\t\t\t\tUBC028F002\r\n",
        "\t\t\t\t\t\t\t\t\t\t\t\t\r\n",
        "\t\t\t\t\t\t\t\t\t\t\t\t<br>\n",
        "<a href=\"../main/pms/tps/atm/atmAwardAction.do?newEdit=false&amp;searchMode=common&amp;method=inquiryForPublic&amp;pkAtmMain=51239272&amp;tenderCaseNo=UBC028F002\">\n",
        "<u>\u77f3\u5316\u4e8b\u696d\u90e8\u571f\u6728\u9632\u8755\u8cbc\u896f\u5de5\u4f5c </u>\n",
        "</a>\n",
        "</br></td>\n",
        "<!-- \u62db\u6a19\u65b9\u5f0f -->\n",
        "<td align=\"left\">\u516c\u958b\u62db\u6a19</td>\n",
        "<!-- \u6a19\u7684\u5206\u985e -->\n",
        "<td align=\"left\">\u52de\u52d9\u985e</td>\n",
        "<!-- \u516c\u544a\u65e5\u671f -->\n",
        "<td align=\"center\">103/04/29\n",
        "</td>\n",
        "<!-- \u6c7a\u6a19\u91d1\u984d -->\n",
        "<td align=\"right\">\r\n",
        "\t\t\t\t\t\t\t\t\t\t\t\t\t7000000\r\n",
        "\t\t\t\t\t\t\t\t\t\t\t\t</td>\n",
        "<!-- \u6c7a\u6a19\u516c\u544a -->\n",
        "<td align=\"center\">\n",
        "<a href=\"../main/pms/tps/atm/atmAwardAction.do?newEdit=false&amp;searchMode=common&amp;method=inquiryForPublic&amp;pkAtmMain=51239272&amp;tenderCaseNo=UBC028F002\">\n",
        "<u>001</u>\n",
        "</a>\r\n",
        "\t\t\t\t\t\t\t\t\t\t\t\t\t\t\r\n",
        "\t\t\t\t\t\t\t\t\t\t\t\t\t\u00a0\r\n",
        "\t\t\t\t\t\t\t\t\t\t\t\t</td>\n",
        "<!-- \u7121\u6cd5\u6c7a\u6a19\u516c\u544a -->\n",
        "<td align=\"center\">\r\n",
        "\t\t\t\t\t\t\t\t\t\t\t\t\t\u00a0\r\n",
        "\t\t\t\t\t\t\t\t\t\t\t\t</td>\n",
        "</tr>\n",
        "<tr bgcolor=\"#FFFFFF\" onmouseout=\"outcss(this,'#FFFFFF');\" onmouseover=\"overcss(this);\">\n",
        "<!-- \u9805\u6b21 -->\n",
        "<td align=\"center\">53\u00a0</td>\n",
        "<!-- \u6a5f\u95dc\u540d\u7a31 -->\n",
        "<td align=\"left\">\u53f0\u7063\u4e2d\u6cb9\u80a1\u4efd\u6709\u9650\u516c\u53f8</td>\n",
        "<!-- \u6a19\u6848\u6848\u865f&\u6a19\u6848\u540d\u7a31 -->\n",
        "<td align=\"left\">\r\n",
        "\t\t\t\t\t\t\t\t\t\t\t\tUCA028C009\r\n",
        "\t\t\t\t\t\t\t\t\t\t\t\t\r\n",
        "\t\t\t\t\t\t\t\t\t\t\t\t<br>\n",
        "<a href=\"../main/pms/tps/atm/atmAwardAction.do?newEdit=false&amp;searchMode=common&amp;method=inquiryForPublic&amp;pkAtmMain=51239274&amp;tenderCaseNo=UCA028C009\">\n",
        "<u>\u77f3\u5316\u4e8b\u696d\u90e8\u6797\u5712\u5ee0\u96fb\u8def\u7ba1\u7dda\u9632\u6c34\u9632\u706b\u53ca\u7a7f\u58c1\u9632\u6f0f\u5de5\u4f5c</u>\n",
        "</a>\n",
        "</br></td>\n",
        "<!-- \u62db\u6a19\u65b9\u5f0f -->\n",
        "<td align=\"left\">\u516c\u958b\u62db\u6a19</td>\n",
        "<!-- \u6a19\u7684\u5206\u985e -->\n",
        "<td align=\"left\">\u52de\u52d9\u985e</td>\n",
        "<!-- \u516c\u544a\u65e5\u671f -->\n",
        "<td align=\"center\">103/04/29\n",
        "</td>\n",
        "<!-- \u6c7a\u6a19\u91d1\u984d -->\n",
        "<td align=\"right\">\r\n",
        "\t\t\t\t\t\t\t\t\t\t\t\t\t2833292\r\n",
        "\t\t\t\t\t\t\t\t\t\t\t\t</td>\n",
        "<!-- \u6c7a\u6a19\u516c\u544a -->\n",
        "<td align=\"center\">\n",
        "<a href=\"../main/pms/tps/atm/atmAwardAction.do?newEdit=false&amp;searchMode=common&amp;method=inquiryForPublic&amp;pkAtmMain=51239274&amp;tenderCaseNo=UCA028C009\">\n",
        "<u>001</u>\n",
        "</a>\r\n",
        "\t\t\t\t\t\t\t\t\t\t\t\t\t\t\r\n",
        "\t\t\t\t\t\t\t\t\t\t\t\t\t\u00a0\r\n",
        "\t\t\t\t\t\t\t\t\t\t\t\t</td>\n",
        "<!-- \u7121\u6cd5\u6c7a\u6a19\u516c\u544a -->\n",
        "<td align=\"center\">\r\n",
        "\t\t\t\t\t\t\t\t\t\t\t\t\t\u00a0\r\n",
        "\t\t\t\t\t\t\t\t\t\t\t\t</td>\n",
        "</tr>\n",
        "<tr bgcolor=\"#D6FAC5\" onmouseout=\"outcss(this,'#D6FAC5');\" onmouseover=\"overcss(this);\">\n",
        "<!-- \u9805\u6b21 -->\n",
        "<td align=\"center\">54\u00a0</td>\n",
        "<!-- \u6a5f\u95dc\u540d\u7a31 -->\n",
        "<td align=\"left\">\u52de\u52d5\u90e8\u8077\u696d\u5b89\u5168\u885b\u751f\u7f72</td>\n",
        "<!-- \u6a19\u6848\u6848\u865f&\u6a19\u6848\u540d\u7a31 -->\n",
        "<td align=\"left\">\r\n",
        "\t\t\t\t\t\t\t\t\t\t\t\t103-04\r\n",
        "\t\t\t\t\t\t\t\t\t\t\t\t\r\n",
        "\t\t\t\t\t\t\t\t\t\t\t\t<br>\n",
        "<a href=\"../main/pms/tps/atm/atmAwardAction.do?newEdit=false&amp;searchMode=common&amp;method=inquiryForPublic&amp;pkAtmMain=51239281&amp;tenderCaseNo=103-04\">\n",
        "<u>103\u5e74\u5ea6\u6211\u570b\u8077\u696d\u5b89\u5168\u885b\u751f\u7ba1\u7406\u7cfb\u7d71\u63a8\u52d5\u696d\u52d9</u>\n",
        "</a>\n",
        "</br></td>\n",
        "<!-- \u62db\u6a19\u65b9\u5f0f -->\n",
        "<td align=\"left\">\u9650\u5236\u6027\u62db\u6a19(\u7d93\u516c\u958b\u8a55\u9078\u6216\u516c\u958b\u5fb5\u6c42)</td>\n",
        "<!-- \u6a19\u7684\u5206\u985e -->\n",
        "<td align=\"left\">\u52de\u52d9\u985e</td>\n",
        "<!-- \u516c\u544a\u65e5\u671f -->\n",
        "<td align=\"center\">103/04/29\n",
        "</td>\n",
        "<!-- \u6c7a\u6a19\u91d1\u984d -->\n",
        "<td align=\"right\">\r\n",
        "\t\t\t\t\t\t\t\t\t\t\t\t\t3350000\r\n",
        "\t\t\t\t\t\t\t\t\t\t\t\t</td>\n",
        "<!-- \u6c7a\u6a19\u516c\u544a -->\n",
        "<td align=\"center\">\n",
        "<a href=\"../main/pms/tps/atm/atmAwardAction.do?newEdit=false&amp;searchMode=common&amp;method=inquiryForPublic&amp;pkAtmMain=51239281&amp;tenderCaseNo=103-04\">\n",
        "<u>001</u>\n",
        "</a>\r\n",
        "\t\t\t\t\t\t\t\t\t\t\t\t\t\t\r\n",
        "\t\t\t\t\t\t\t\t\t\t\t\t\t\u00a0\r\n",
        "\t\t\t\t\t\t\t\t\t\t\t\t</td>\n",
        "<!-- \u7121\u6cd5\u6c7a\u6a19\u516c\u544a -->\n",
        "<td align=\"center\">\r\n",
        "\t\t\t\t\t\t\t\t\t\t\t\t\t\u00a0\r\n",
        "\t\t\t\t\t\t\t\t\t\t\t\t</td>\n",
        "</tr>\n",
        "<tr bgcolor=\"#FFFFFF\" onmouseout=\"outcss(this,'#FFFFFF');\" onmouseover=\"overcss(this);\">\n",
        "<!-- \u9805\u6b21 -->\n",
        "<td align=\"center\">55\u00a0</td>\n",
        "<!-- \u6a5f\u95dc\u540d\u7a31 -->\n",
        "<td align=\"left\">\u81fa\u5317\u5e02\u58eb\u6797\u5340\u516c\u6240</td>\n",
        "<!-- \u6a19\u6848\u6848\u865f&\u6a19\u6848\u540d\u7a31 -->\n",
        "<td align=\"left\">\r\n",
        "\t\t\t\t\t\t\t\t\t\t\t\t10318\r\n",
        "\t\t\t\t\t\t\t\t\t\t\t\t\r\n",
        "\t\t\t\t\t\t\t\t\t\t\t\t<br>\n",
        "<a href=\"../main/pms/tps/atm/atmAwardAction.do?newEdit=false&amp;searchMode=common&amp;method=inquiryForPublic&amp;pkAtmMain=51239284&amp;tenderCaseNo=10318\">\n",
        "<u>103\u5e74\u5ea6\u58eb\u6797\u5340\u846b\u6771\u3001\u967d\u660e\u5340\u6c11\u6d3b\u52d5\u4e2d\u5fc3\u6574\u4fee\u5de5\u7a0b\u59d4\u8a17\u898f\u5283\u8a2d\u8a08\u76e3\u9020</u>\n",
        "</a>\n",
        "</br></td>\n",
        "<!-- \u62db\u6a19\u65b9\u5f0f -->\n",
        "<td align=\"left\">\u516c\u958b\u53d6\u5f97\u5831\u50f9\u55ae\u6216\u4f01\u5283\u66f8</td>\n",
        "<!-- \u6a19\u7684\u5206\u985e -->\n",
        "<td align=\"left\">\u52de\u52d9\u985e</td>\n",
        "<!-- \u516c\u544a\u65e5\u671f -->\n",
        "<td align=\"center\">103/04/29\n",
        "</td>\n",
        "<!-- \u6c7a\u6a19\u91d1\u984d -->\n",
        "<td align=\"right\">\r\n",
        "\t\t\t\t\t\t\t\t\t\t\t\t\t200000\r\n",
        "\t\t\t\t\t\t\t\t\t\t\t\t</td>\n",
        "<!-- \u6c7a\u6a19\u516c\u544a -->\n",
        "<td align=\"center\">\n",
        "<a href=\"../main/pms/tps/atm/atmAwardAction.do?newEdit=false&amp;searchMode=common&amp;method=inquiryForPublic&amp;pkAtmMain=51239284&amp;tenderCaseNo=10318\">\n",
        "<u>001</u>\n",
        "</a>\r\n",
        "\t\t\t\t\t\t\t\t\t\t\t\t\t\t\r\n",
        "\t\t\t\t\t\t\t\t\t\t\t\t\t\u00a0\r\n",
        "\t\t\t\t\t\t\t\t\t\t\t\t</td>\n",
        "<!-- \u7121\u6cd5\u6c7a\u6a19\u516c\u544a -->\n",
        "<td align=\"center\">\r\n",
        "\t\t\t\t\t\t\t\t\t\t\t\t\t\u00a0\r\n",
        "\t\t\t\t\t\t\t\t\t\t\t\t</td>\n",
        "</tr>\n",
        "<tr bgcolor=\"#D6FAC5\" onmouseout=\"outcss(this,'#D6FAC5');\" onmouseover=\"overcss(this);\">\n",
        "<!-- \u9805\u6b21 -->\n",
        "<td align=\"center\">56\u00a0</td>\n",
        "<!-- \u6a5f\u95dc\u540d\u7a31 -->\n",
        "<td align=\"left\">\u5c4f\u6771\u7e23\u9ad8\u6a39\u9109\u7530\u5b50\u570b\u6c11\u5c0f\u5b78</td>\n",
        "<!-- \u6a19\u6848\u6848\u865f&\u6a19\u6848\u540d\u7a31 -->\n",
        "<td align=\"left\">\r\n",
        "\t\t\t\t\t\t\t\t\t\t\t\tTZ10303B\r\n",
        "\t\t\t\t\t\t\t\t\t\t\t\t\r\n",
        "\t\t\t\t\t\t\t\t\t\t\t\t<br>\n",
        "<a href=\"../main/pms/tps/atm/atmAwardAction.do?newEdit=false&amp;searchMode=common&amp;method=inquiryForPublic&amp;pkAtmMain=51239293&amp;tenderCaseNo=TZ10303B\">\n",
        "<u>\u5c4f\u6771\u7e23\u9ad8\u6a39\u9109\u7530\u5b50\u570b\u5c0f102\u5b78\u5e74\u5ea6\u4e0b\u5b78\u671f\u6821\u5916\u6559\u5b78\u5c08\u696d\u670d\u52d9\u5ee0\u5546\u52de\u52d9\u63a1\u8cfc</u>\n",
        "</a>\n",
        "</br></td>\n",
        "<!-- \u62db\u6a19\u65b9\u5f0f -->\n",
        "<td align=\"left\">\u516c\u958b\u53d6\u5f97\u5831\u50f9\u55ae\u6216\u4f01\u5283\u66f8</td>\n",
        "<!-- \u6a19\u7684\u5206\u985e -->\n",
        "<td align=\"left\">\u52de\u52d9\u985e</td>\n",
        "<!-- \u516c\u544a\u65e5\u671f -->\n",
        "<td align=\"center\">103/04/29\n",
        "</td>\n",
        "<!-- \u6c7a\u6a19\u91d1\u984d -->\n",
        "<td align=\"right\">\r\n",
        "\t\t\t\t\t\t\t\t\t\t\t\t\t190500\r\n",
        "\t\t\t\t\t\t\t\t\t\t\t\t</td>\n",
        "<!-- \u6c7a\u6a19\u516c\u544a -->\n",
        "<td align=\"center\">\n",
        "<a href=\"../main/pms/tps/atm/atmAwardAction.do?newEdit=false&amp;searchMode=common&amp;method=inquiryForPublic&amp;pkAtmMain=51239293&amp;tenderCaseNo=TZ10303B\">\n",
        "<u>001</u>\n",
        "</a>\r\n",
        "\t\t\t\t\t\t\t\t\t\t\t\t\t\t\r\n",
        "\t\t\t\t\t\t\t\t\t\t\t\t\t\u00a0\r\n",
        "\t\t\t\t\t\t\t\t\t\t\t\t</td>\n",
        "<!-- \u7121\u6cd5\u6c7a\u6a19\u516c\u544a -->\n",
        "<td align=\"center\">\r\n",
        "\t\t\t\t\t\t\t\t\t\t\t\t\t\u00a0\r\n",
        "\t\t\t\t\t\t\t\t\t\t\t\t</td>\n",
        "</tr>\n",
        "<tr bgcolor=\"#FFFFFF\" onmouseout=\"outcss(this,'#FFFFFF');\" onmouseover=\"overcss(this);\">\n",
        "<!-- \u9805\u6b21 -->\n",
        "<td align=\"center\">57\u00a0</td>\n",
        "<!-- \u6a5f\u95dc\u540d\u7a31 -->\n",
        "<td align=\"left\">\u570b\u9632\u90e8\u9678\u8ecd\u53f8\u4ee4\u90e8</td>\n",
        "<!-- \u6a19\u6848\u6848\u865f&\u6a19\u6848\u540d\u7a31 -->\n",
        "<td align=\"left\">\r\n",
        "\t\t\t\t\t\t\t\t\t\t\t\tFH03007P031\r\n",
        "\t\t\t\t\t\t\t\t\t\t\t\t\r\n",
        "\t\t\t\t\t\t\t\t\t\t\t\t<br>\n",
        "<a href=\"../main/pms/tps/atm/atmAwardAction.do?newEdit=false&amp;searchMode=common&amp;method=inquiryForPublic&amp;pkAtmMain=51239295&amp;tenderCaseNo=FH03007P031\">\n",
        "<u>\u592a\u5eb7\u53f0\u7cfb\u7d71\u9644\u5c6c\u8a2d\u65bd\u7dad\u8b77\u6848</u>\n",
        "</a>\n",
        "</br></td>\n",
        "<!-- \u62db\u6a19\u65b9\u5f0f -->\n",
        "<td align=\"left\">\u516c\u958b\u62db\u6a19</td>\n",
        "<!-- \u6a19\u7684\u5206\u985e -->\n",
        "<td align=\"left\">\u52de\u52d9\u985e</td>\n",
        "<!-- \u516c\u544a\u65e5\u671f -->\n",
        "<td align=\"center\">103/04/29\n",
        "</td>\n",
        "<!-- \u6c7a\u6a19\u91d1\u984d -->\n",
        "<td align=\"right\">\r\n",
        "\t\t\t\t\t\t\t\t\t\t\t\t\t1600000\r\n",
        "\t\t\t\t\t\t\t\t\t\t\t\t</td>\n",
        "<!-- \u6c7a\u6a19\u516c\u544a -->\n",
        "<td align=\"center\">\n",
        "<a href=\"../main/pms/tps/atm/atmAwardAction.do?newEdit=false&amp;searchMode=common&amp;method=inquiryForPublic&amp;pkAtmMain=51239295&amp;tenderCaseNo=FH03007P031\">\n",
        "<u>001</u>\n",
        "</a>\r\n",
        "\t\t\t\t\t\t\t\t\t\t\t\t\t\t\r\n",
        "\t\t\t\t\t\t\t\t\t\t\t\t\t\u00a0\r\n",
        "\t\t\t\t\t\t\t\t\t\t\t\t</td>\n",
        "<!-- \u7121\u6cd5\u6c7a\u6a19\u516c\u544a -->\n",
        "<td align=\"center\">\r\n",
        "\t\t\t\t\t\t\t\t\t\t\t\t\t\u00a0\r\n",
        "\t\t\t\t\t\t\t\t\t\t\t\t</td>\n",
        "</tr>\n",
        "<tr bgcolor=\"#D6FAC5\" onmouseout=\"outcss(this,'#D6FAC5');\" onmouseover=\"overcss(this);\">\n",
        "<!-- \u9805\u6b21 -->\n",
        "<td align=\"center\">58\u00a0</td>\n",
        "<!-- \u6a5f\u95dc\u540d\u7a31 -->\n",
        "<td align=\"left\">\u570b\u9632\u90e8\u9678\u8ecd\u53f8\u4ee4\u90e8</td>\n",
        "<!-- \u6a19\u6848\u6848\u865f&\u6a19\u6848\u540d\u7a31 -->\n",
        "<td align=\"left\">\r\n",
        "\t\t\t\t\t\t\t\t\t\t\t\tFH03006P029\r\n",
        "\t\t\t\t\t\t\t\t\t\t\t\t\r\n",
        "\t\t\t\t\t\t\t\t\t\t\t\t<br>\n",
        "<a href=\"../main/pms/tps/atm/atmAwardAction.do?newEdit=false&amp;searchMode=common&amp;method=inquiryForPublic&amp;pkAtmMain=51239296&amp;tenderCaseNo=FH03006P029\">\n",
        "<u>\u6b78\u822a\u53f0\u7cfb\u7d71\u7dad\u8b77\u6848</u>\n",
        "</a>\n",
        "</br></td>\n",
        "<!-- \u62db\u6a19\u65b9\u5f0f -->\n",
        "<td align=\"left\">\u516c\u958b\u62db\u6a19</td>\n",
        "<!-- \u6a19\u7684\u5206\u985e -->\n",
        "<td align=\"left\">\u52de\u52d9\u985e</td>\n",
        "<!-- \u516c\u544a\u65e5\u671f -->\n",
        "<td align=\"center\">103/04/29\n",
        "</td>\n",
        "<!-- \u6c7a\u6a19\u91d1\u984d -->\n",
        "<td align=\"right\">\r\n",
        "\t\t\t\t\t\t\t\t\t\t\t\t\t1630000\r\n",
        "\t\t\t\t\t\t\t\t\t\t\t\t</td>\n",
        "<!-- \u6c7a\u6a19\u516c\u544a -->\n",
        "<td align=\"center\">\n",
        "<a href=\"../main/pms/tps/atm/atmAwardAction.do?newEdit=false&amp;searchMode=common&amp;method=inquiryForPublic&amp;pkAtmMain=51239296&amp;tenderCaseNo=FH03006P029\">\n",
        "<u>001</u>\n",
        "</a>\r\n",
        "\t\t\t\t\t\t\t\t\t\t\t\t\t\t\r\n",
        "\t\t\t\t\t\t\t\t\t\t\t\t\t\u00a0\r\n",
        "\t\t\t\t\t\t\t\t\t\t\t\t</td>\n",
        "<!-- \u7121\u6cd5\u6c7a\u6a19\u516c\u544a -->\n",
        "<td align=\"center\">\r\n",
        "\t\t\t\t\t\t\t\t\t\t\t\t\t\u00a0\r\n",
        "\t\t\t\t\t\t\t\t\t\t\t\t</td>\n",
        "</tr>\n",
        "<tr bgcolor=\"#FFFFFF\" onmouseout=\"outcss(this,'#FFFFFF');\" onmouseover=\"overcss(this);\">\n",
        "<!-- \u9805\u6b21 -->\n",
        "<td align=\"center\">59\u00a0</td>\n",
        "<!-- \u6a5f\u95dc\u540d\u7a31 -->\n",
        "<td align=\"left\">\u570b\u9632\u90e8\u9678\u8ecd\u53f8\u4ee4\u90e8</td>\n",
        "<!-- \u6a19\u6848\u6848\u865f&\u6a19\u6848\u540d\u7a31 -->\n",
        "<td align=\"left\">\r\n",
        "\t\t\t\t\t\t\t\t\t\t\t\tFH03032P033\r\n",
        "\t\t\t\t\t\t\t\t\t\t\t\t\r\n",
        "\t\t\t\t\t\t\t\t\t\t\t\t<br>\n",
        "<a href=\"../main/pms/tps/atm/atmAwardAction.do?newEdit=false&amp;searchMode=common&amp;method=inquiryForPublic&amp;pkAtmMain=51239297&amp;tenderCaseNo=FH03032P033\">\n",
        "<u>\u96fb\u6f3f\u5149\u8b5c\u5100\u5b9a\u671f\u7dad\u8b77\u4fdd\u990a</u>\n",
        "</a>\n",
        "</br></td>\n",
        "<!-- \u62db\u6a19\u65b9\u5f0f -->\n",
        "<td align=\"left\">\u516c\u958b\u53d6\u5f97\u5831\u50f9\u55ae\u6216\u4f01\u5283\u66f8</td>\n",
        "<!-- \u6a19\u7684\u5206\u985e -->\n",
        "<td align=\"left\">\u52de\u52d9\u985e</td>\n",
        "<!-- \u516c\u544a\u65e5\u671f -->\n",
        "<td align=\"center\">103/04/29\n",
        "</td>\n",
        "<!-- \u6c7a\u6a19\u91d1\u984d -->\n",
        "<td align=\"right\">\r\n",
        "\t\t\t\t\t\t\t\t\t\t\t\t\t394000\r\n",
        "\t\t\t\t\t\t\t\t\t\t\t\t</td>\n",
        "<!-- \u6c7a\u6a19\u516c\u544a -->\n",
        "<td align=\"center\">\n",
        "<a href=\"../main/pms/tps/atm/atmAwardAction.do?newEdit=false&amp;searchMode=common&amp;method=inquiryForPublic&amp;pkAtmMain=51239297&amp;tenderCaseNo=FH03032P033\">\n",
        "<u>001</u>\n",
        "</a>\r\n",
        "\t\t\t\t\t\t\t\t\t\t\t\t\t\t\r\n",
        "\t\t\t\t\t\t\t\t\t\t\t\t\t\u00a0\r\n",
        "\t\t\t\t\t\t\t\t\t\t\t\t</td>\n",
        "<!-- \u7121\u6cd5\u6c7a\u6a19\u516c\u544a -->\n",
        "<td align=\"center\">\r\n",
        "\t\t\t\t\t\t\t\t\t\t\t\t\t\u00a0\r\n",
        "\t\t\t\t\t\t\t\t\t\t\t\t</td>\n",
        "</tr>\n",
        "<tr bgcolor=\"#D6FAC5\" onmouseout=\"outcss(this,'#D6FAC5');\" onmouseover=\"overcss(this);\">\n",
        "<!-- \u9805\u6b21 -->\n",
        "<td align=\"center\">60\u00a0</td>\n",
        "<!-- \u6a5f\u95dc\u540d\u7a31 -->\n",
        "<td align=\"left\">\u82b1\u84ee\u7e23\u6587\u5316\u5c40</td>\n",
        "<!-- \u6a19\u6848\u6848\u865f&\u6a19\u6848\u540d\u7a31 -->\n",
        "<td align=\"left\">\r\n",
        "\t\t\t\t\t\t\t\t\t\t\t\tEB10317\r\n",
        "\t\t\t\t\t\t\t\t\t\t\t\t\r\n",
        "\t\t\t\t\t\t\t\t\t\t\t\t<br>\n",
        "<a href=\"../main/pms/tps/atm/atmAwardAction.do?newEdit=false&amp;searchMode=common&amp;method=inquiryForPublic&amp;pkAtmMain=51239299&amp;tenderCaseNo=EB10317\">\n",
        "<u>\u82b1\u84ee\u7e23\u6587\u5316\u5c40\u300c\u677e\u5712\u5225\u9928\u677e\u6a39\u990a\u8b77\u53ca\u677e\u6a39\u91ab\u6cbb\u6848\u300d</u>\n",
        "</a>\n",
        "</br></td>\n",
        "<!-- \u62db\u6a19\u65b9\u5f0f -->\n",
        "<td align=\"left\">\u9650\u5236\u6027\u62db\u6a19(\u7d93\u516c\u958b\u8a55\u9078\u6216\u516c\u958b\u5fb5\u6c42)</td>\n",
        "<!-- \u6a19\u7684\u5206\u985e -->\n",
        "<td align=\"left\">\u52de\u52d9\u985e</td>\n",
        "<!-- \u516c\u544a\u65e5\u671f -->\n",
        "<td align=\"center\">103/04/29\n",
        "</td>\n",
        "<!-- \u6c7a\u6a19\u91d1\u984d -->\n",
        "<td align=\"right\">\r\n",
        "\t\t\t\t\t\t\t\t\t\t\t\t\t1072000\r\n",
        "\t\t\t\t\t\t\t\t\t\t\t\t</td>\n",
        "<!-- \u6c7a\u6a19\u516c\u544a -->\n",
        "<td align=\"center\">\n",
        "<a href=\"../main/pms/tps/atm/atmAwardAction.do?newEdit=false&amp;searchMode=common&amp;method=inquiryForPublic&amp;pkAtmMain=51239299&amp;tenderCaseNo=EB10317\">\n",
        "<u>001</u>\n",
        "</a>\r\n",
        "\t\t\t\t\t\t\t\t\t\t\t\t\t\t\r\n",
        "\t\t\t\t\t\t\t\t\t\t\t\t\t\u00a0\r\n",
        "\t\t\t\t\t\t\t\t\t\t\t\t</td>\n",
        "<!-- \u7121\u6cd5\u6c7a\u6a19\u516c\u544a -->\n",
        "<td align=\"center\">\r\n",
        "\t\t\t\t\t\t\t\t\t\t\t\t\t\u00a0\r\n",
        "\t\t\t\t\t\t\t\t\t\t\t\t</td>\n",
        "</tr>\n",
        "<tr bgcolor=\"#FFFFFF\" onmouseout=\"outcss(this,'#FFFFFF');\" onmouseover=\"overcss(this);\">\n",
        "<!-- \u9805\u6b21 -->\n",
        "<td align=\"center\">61\u00a0</td>\n",
        "<!-- \u6a5f\u95dc\u540d\u7a31 -->\n",
        "<td align=\"left\">\u82b1\u84ee\u7e23\u6587\u5316\u5c40</td>\n",
        "<!-- \u6a19\u6848\u6848\u865f&\u6a19\u6848\u540d\u7a31 -->\n",
        "<td align=\"left\">\r\n",
        "\t\t\t\t\t\t\t\t\t\t\t\tEB10319\r\n",
        "\t\t\t\t\t\t\t\t\t\t\t\t\r\n",
        "\t\t\t\t\t\t\t\t\t\t\t\t<br>\n",
        "<a href=\"../main/pms/tps/atm/atmAwardAction.do?newEdit=false&amp;searchMode=common&amp;method=inquiryForPublic&amp;pkAtmMain=51239301&amp;tenderCaseNo=EB10319\">\n",
        "<u>103\u5e74\u5730\u65b9\u6587\u5316\u9928\u8cc7\u6e90\u6574\u5408\u5e73\u53f0\u66a8\u751f\u6d3b\u5708</u>\n",
        "</a>\n",
        "</br></td>\n",
        "<!-- \u62db\u6a19\u65b9\u5f0f -->\n",
        "<td align=\"left\">\u9650\u5236\u6027\u62db\u6a19(\u7d93\u516c\u958b\u8a55\u9078\u6216\u516c\u958b\u5fb5\u6c42)</td>\n",
        "<!-- \u6a19\u7684\u5206\u985e -->\n",
        "<td align=\"left\">\u52de\u52d9\u985e</td>\n",
        "<!-- \u516c\u544a\u65e5\u671f -->\n",
        "<td align=\"center\">103/04/29\n",
        "</td>\n",
        "<!-- \u6c7a\u6a19\u91d1\u984d -->\n",
        "<td align=\"right\">\r\n",
        "\t\t\t\t\t\t\t\t\t\t\t\t\t1418000\r\n",
        "\t\t\t\t\t\t\t\t\t\t\t\t</td>\n",
        "<!-- \u6c7a\u6a19\u516c\u544a -->\n",
        "<td align=\"center\">\n",
        "<a href=\"../main/pms/tps/atm/atmAwardAction.do?newEdit=false&amp;searchMode=common&amp;method=inquiryForPublic&amp;pkAtmMain=51239301&amp;tenderCaseNo=EB10319\">\n",
        "<u>001</u>\n",
        "</a>\r\n",
        "\t\t\t\t\t\t\t\t\t\t\t\t\t\t\r\n",
        "\t\t\t\t\t\t\t\t\t\t\t\t\t\u00a0\r\n",
        "\t\t\t\t\t\t\t\t\t\t\t\t</td>\n",
        "<!-- \u7121\u6cd5\u6c7a\u6a19\u516c\u544a -->\n",
        "<td align=\"center\">\r\n",
        "\t\t\t\t\t\t\t\t\t\t\t\t\t\u00a0\r\n",
        "\t\t\t\t\t\t\t\t\t\t\t\t</td>\n",
        "</tr>\n",
        "<tr bgcolor=\"#D6FAC5\" onmouseout=\"outcss(this,'#D6FAC5');\" onmouseover=\"overcss(this);\">\n",
        "<!-- \u9805\u6b21 -->\n",
        "<td align=\"center\">62\u00a0</td>\n",
        "<!-- \u6a5f\u95dc\u540d\u7a31 -->\n",
        "<td align=\"left\">\u81fa\u4e2d\u5e02\u6771\u52e2\u5340\u516c\u6240</td>\n",
        "<!-- \u6a19\u6848\u6848\u865f&\u6a19\u6848\u540d\u7a31 -->\n",
        "<td align=\"left\">\r\n",
        "\t\t\t\t\t\t\t\t\t\t\t\t103-0417\r\n",
        "\t\t\t\t\t\t\t\t\t\t\t\t\r\n",
        "\t\t\t\t\t\t\t\t\t\t\t\t<br>\n",
        "<a href=\"../main/pms/tps/atm/atmAwardAction.do?newEdit=false&amp;searchMode=common&amp;method=inquiryForPublic&amp;pkAtmMain=51239326&amp;tenderCaseNo=103-0417\">\n",
        "<u>\u6771\u52e2\u5340103\u5e74\u6e38\u6cf3\u6c60\u6551\u751f\u53ca\u6e05\u6f54\u5de5\u4f5c\u52de\u52d9\u6848</u>\n",
        "</a>\n",
        "</br></td>\n",
        "<!-- \u62db\u6a19\u65b9\u5f0f -->\n",
        "<td align=\"left\">\u516c\u958b\u53d6\u5f97\u5831\u50f9\u55ae\u6216\u4f01\u5283\u66f8</td>\n",
        "<!-- \u6a19\u7684\u5206\u985e -->\n",
        "<td align=\"left\">\u52de\u52d9\u985e</td>\n",
        "<!-- \u516c\u544a\u65e5\u671f -->\n",
        "<td align=\"center\">103/04/29\n",
        "</td>\n",
        "<!-- \u6c7a\u6a19\u91d1\u984d -->\n",
        "<td align=\"right\">\r\n",
        "\t\t\t\t\t\t\t\t\t\t\t\t\t871910\r\n",
        "\t\t\t\t\t\t\t\t\t\t\t\t</td>\n",
        "<!-- \u6c7a\u6a19\u516c\u544a -->\n",
        "<td align=\"center\">\n",
        "<a href=\"../main/pms/tps/atm/atmAwardAction.do?newEdit=false&amp;searchMode=common&amp;method=inquiryForPublic&amp;pkAtmMain=51239326&amp;tenderCaseNo=103-0417\">\n",
        "<u>001</u>\n",
        "</a>\r\n",
        "\t\t\t\t\t\t\t\t\t\t\t\t\t\t\r\n",
        "\t\t\t\t\t\t\t\t\t\t\t\t\t\u00a0\r\n",
        "\t\t\t\t\t\t\t\t\t\t\t\t</td>\n",
        "<!-- \u7121\u6cd5\u6c7a\u6a19\u516c\u544a -->\n",
        "<td align=\"center\">\r\n",
        "\t\t\t\t\t\t\t\t\t\t\t\t\t\u00a0\r\n",
        "\t\t\t\t\t\t\t\t\t\t\t\t</td>\n",
        "</tr>\n",
        "<tr bgcolor=\"#FFFFFF\" onmouseout=\"outcss(this,'#FFFFFF');\" onmouseover=\"overcss(this);\">\n",
        "<!-- \u9805\u6b21 -->\n",
        "<td align=\"center\">63\u00a0</td>\n",
        "<!-- \u6a5f\u95dc\u540d\u7a31 -->\n",
        "<td align=\"left\">\u65b0\u5317\u5e02\u7acb\u516b\u91cc\u611b\u5fc3\u6559\u990a\u9662</td>\n",
        "<!-- \u6a19\u6848\u6848\u865f&\u6a19\u6848\u540d\u7a31 -->\n",
        "<td align=\"left\">\r\n",
        "\t\t\t\t\t\t\t\t\t\t\t\t1030304\r\n",
        "\t\t\t\t\t\t\t\t\t\t\t\t\r\n",
        "\t\t\t\t\t\t\t\t\t\t\t\t<br>\n",
        "<a href=\"../main/pms/tps/atm/atmAwardAction.do?newEdit=false&amp;searchMode=common&amp;method=inquiryForPublic&amp;pkAtmMain=51239328&amp;tenderCaseNo=1030304\">\n",
        "<u>103\u5e74\u5ea6\u9662\u751f\u66a8\u54e1\u5de5\u5065\u5eb7\u6aa2\u67e5\u52de\u52d9\u63a1\u8cfc\u6848</u>\n",
        "</a>\n",
        "</br></td>\n",
        "<!-- \u62db\u6a19\u65b9\u5f0f -->\n",
        "<td align=\"left\">\u516c\u958b\u53d6\u5f97\u5831\u50f9\u55ae\u6216\u4f01\u5283\u66f8</td>\n",
        "<!-- \u6a19\u7684\u5206\u985e -->\n",
        "<td align=\"left\">\u52de\u52d9\u985e</td>\n",
        "<!-- \u516c\u544a\u65e5\u671f -->\n",
        "<td align=\"center\">103/04/29\n",
        "</td>\n",
        "<!-- \u6c7a\u6a19\u91d1\u984d -->\n",
        "<td align=\"right\">\r\n",
        "\t\t\t\t\t\t\t\t\t\t\t\t\t388500\r\n",
        "\t\t\t\t\t\t\t\t\t\t\t\t</td>\n",
        "<!-- \u6c7a\u6a19\u516c\u544a -->\n",
        "<td align=\"center\">\n",
        "<a href=\"../main/pms/tps/atm/atmAwardAction.do?newEdit=false&amp;searchMode=common&amp;method=inquiryForPublic&amp;pkAtmMain=51239328&amp;tenderCaseNo=1030304\">\n",
        "<u>001</u>\n",
        "</a>\r\n",
        "\t\t\t\t\t\t\t\t\t\t\t\t\t\t\r\n",
        "\t\t\t\t\t\t\t\t\t\t\t\t\t\u00a0\r\n",
        "\t\t\t\t\t\t\t\t\t\t\t\t</td>\n",
        "<!-- \u7121\u6cd5\u6c7a\u6a19\u516c\u544a -->\n",
        "<td align=\"center\">\r\n",
        "\t\t\t\t\t\t\t\t\t\t\t\t\t\u00a0\r\n",
        "\t\t\t\t\t\t\t\t\t\t\t\t</td>\n",
        "</tr>\n",
        "<tr bgcolor=\"#D6FAC5\" onmouseout=\"outcss(this,'#D6FAC5');\" onmouseover=\"overcss(this);\">\n",
        "<!-- \u9805\u6b21 -->\n",
        "<td align=\"center\">64\u00a0</td>\n",
        "<!-- \u6a5f\u95dc\u540d\u7a31 -->\n",
        "<td align=\"left\">\u81fa\u7063\u7cd6\u696d\u80a1\u4efd\u6709\u9650\u516c\u53f8\u5de5\u5b89\u74b0\u4fdd\u8655\u74b0\u4fdd\u4e8b\u696d\u71df\u904b\u5206\u8655</td>\n",
        "<!-- \u6a19\u6848\u6848\u865f&\u6a19\u6848\u540d\u7a31 -->\n",
        "<td align=\"left\">\r\n",
        "\t\t\t\t\t\t\t\t\t\t\t\t103301024\r\n",
        "\t\t\t\t\t\t\t\t\t\t\t\t\r\n",
        "\t\t\t\t\t\t\t\t\t\t\t\t<br>\n",
        "<a href=\"../main/pms/tps/atm/atmAwardAction.do?newEdit=false&amp;searchMode=common&amp;method=inquiryForPublic&amp;pkAtmMain=51239329&amp;tenderCaseNo=103301024\">\n",
        "<u>\u5ca1\u5c71\u5783\u573e\u711a\u5316\u5ee0103\u5e74\u5ea6\u7a7a\u58d3\u6a5f\u7dad\u4fee\u4fdd\u990a\u5de5\u4f5c</u>\n",
        "</a>\n",
        "</br></td>\n",
        "<!-- \u62db\u6a19\u65b9\u5f0f -->\n",
        "<td align=\"left\">\u516c\u958b\u53d6\u5f97\u5831\u50f9\u55ae\u6216\u4f01\u5283\u66f8</td>\n",
        "<!-- \u6a19\u7684\u5206\u985e -->\n",
        "<td align=\"left\">\u52de\u52d9\u985e</td>\n",
        "<!-- \u516c\u544a\u65e5\u671f -->\n",
        "<td align=\"center\">103/04/29\n",
        "</td>\n",
        "<!-- \u6c7a\u6a19\u91d1\u984d -->\n",
        "<td align=\"right\">\r\n",
        "\t\t\t\t\t\t\t\t\t\t\t\t\t650000\r\n",
        "\t\t\t\t\t\t\t\t\t\t\t\t</td>\n",
        "<!-- \u6c7a\u6a19\u516c\u544a -->\n",
        "<td align=\"center\">\n",
        "<a href=\"../main/pms/tps/atm/atmAwardAction.do?newEdit=false&amp;searchMode=common&amp;method=inquiryForPublic&amp;pkAtmMain=51239329&amp;tenderCaseNo=103301024\">\n",
        "<u>001</u>\n",
        "</a>\r\n",
        "\t\t\t\t\t\t\t\t\t\t\t\t\t\t\r\n",
        "\t\t\t\t\t\t\t\t\t\t\t\t\t\u00a0\r\n",
        "\t\t\t\t\t\t\t\t\t\t\t\t</td>\n",
        "<!-- \u7121\u6cd5\u6c7a\u6a19\u516c\u544a -->\n",
        "<td align=\"center\">\r\n",
        "\t\t\t\t\t\t\t\t\t\t\t\t\t\u00a0\r\n",
        "\t\t\t\t\t\t\t\t\t\t\t\t</td>\n",
        "</tr>\n",
        "<tr bgcolor=\"#FFFFFF\" onmouseout=\"outcss(this,'#FFFFFF');\" onmouseover=\"overcss(this);\">\n",
        "<!-- \u9805\u6b21 -->\n",
        "<td align=\"center\">65\u00a0</td>\n",
        "<!-- \u6a5f\u95dc\u540d\u7a31 -->\n",
        "<td align=\"left\">\u7d93\u6fdf\u90e8\u6c34\u5229\u7f72\u7b2c\u5341\u6cb3\u5ddd\u5c40</td>\n",
        "<!-- \u6a19\u6848\u6848\u865f&\u6a19\u6848\u540d\u7a31 -->\n",
        "<td align=\"left\">\r\n",
        "\t\t\t\t\t\t\t\t\t\t\t\tW10P103017\r\n",
        "\t\t\t\t\t\t\t\t\t\t\t\t\r\n",
        "\t\t\t\t\t\t\t\t\t\t\t\t<br>\n",
        "<a href=\"../main/pms/tps/atm/atmAwardAction.do?newEdit=false&amp;searchMode=common&amp;method=inquiryForPublic&amp;pkAtmMain=51239331&amp;tenderCaseNo=W10P103017\">\n",
        "<u>103\u5e74\u5ea6\u6de1\u6c34\u6cb3\u6d41\u57df\u6d2a\u6c34\u3001\u95dc\u9375\u65b7\u9762\u6e2c\u91cf\u53ca\u5168\u6f6e\u6d41\u91cf\u6e2c\u9a57\u5de5\u4f5c</u>\n",
        "</a>\n",
        "</br></td>\n",
        "<!-- \u62db\u6a19\u65b9\u5f0f -->\n",
        "<td align=\"left\">\u516c\u958b\u62db\u6a19</td>\n",
        "<!-- \u6a19\u7684\u5206\u985e -->\n",
        "<td align=\"left\">\u52de\u52d9\u985e</td>\n",
        "<!-- \u516c\u544a\u65e5\u671f -->\n",
        "<td align=\"center\">103/04/29\n",
        "</td>\n",
        "<!-- \u6c7a\u6a19\u91d1\u984d -->\n",
        "<td align=\"right\">\r\n",
        "\t\t\t\t\t\t\t\t\t\t\t\t\t968000\r\n",
        "\t\t\t\t\t\t\t\t\t\t\t\t</td>\n",
        "<!-- \u6c7a\u6a19\u516c\u544a -->\n",
        "<td align=\"center\">\n",
        "<a href=\"../main/pms/tps/atm/atmAwardAction.do?newEdit=false&amp;searchMode=common&amp;method=inquiryForPublic&amp;pkAtmMain=51239331&amp;tenderCaseNo=W10P103017\">\n",
        "<u>001</u>\n",
        "</a>\r\n",
        "\t\t\t\t\t\t\t\t\t\t\t\t\t\t\r\n",
        "\t\t\t\t\t\t\t\t\t\t\t\t\t\u00a0\r\n",
        "\t\t\t\t\t\t\t\t\t\t\t\t</td>\n",
        "<!-- \u7121\u6cd5\u6c7a\u6a19\u516c\u544a -->\n",
        "<td align=\"center\">\r\n",
        "\t\t\t\t\t\t\t\t\t\t\t\t\t\u00a0\r\n",
        "\t\t\t\t\t\t\t\t\t\t\t\t</td>\n",
        "</tr>\n",
        "<tr bgcolor=\"#D6FAC5\" onmouseout=\"outcss(this,'#D6FAC5');\" onmouseover=\"overcss(this);\">\n",
        "<!-- \u9805\u6b21 -->\n",
        "<td align=\"center\">66\u00a0</td>\n",
        "<!-- \u6a5f\u95dc\u540d\u7a31 -->\n",
        "<td align=\"left\">\u81fa\u5317\u5e02\u677e\u5c71\u5340\u897f\u677e\u570b\u6c11\u5c0f\u5b78</td>\n",
        "<!-- \u6a19\u6848\u6848\u865f&\u6a19\u6848\u540d\u7a31 -->\n",
        "<td align=\"left\">\r\n",
        "\t\t\t\t\t\t\t\t\t\t\t\t103105\r\n",
        "\t\t\t\t\t\t\t\t\t\t\t\t\r\n",
        "\t\t\t\t\t\t\t\t\t\t\t\t<br>\n",
        "<a href=\"../main/pms/tps/atm/atmAwardAction.do?newEdit=false&amp;searchMode=common&amp;method=inquiryForPublic&amp;pkAtmMain=51239334&amp;tenderCaseNo=103105\">\n",
        "<u>103\u5e74\u5ea6\u6821\u5712\u6e05\u6f54\u696d\u52d9\u59d4\u5916\u8fa6\u7406</u>\n",
        "</a>\n",
        "</br></td>\n",
        "<!-- \u62db\u6a19\u65b9\u5f0f -->\n",
        "<td align=\"left\">\u516c\u958b\u53d6\u5f97\u5831\u50f9\u55ae\u6216\u4f01\u5283\u66f8</td>\n",
        "<!-- \u6a19\u7684\u5206\u985e -->\n",
        "<td align=\"left\">\u52de\u52d9\u985e</td>\n",
        "<!-- \u516c\u544a\u65e5\u671f -->\n",
        "<td align=\"center\">103/04/29\n",
        "</td>\n",
        "<!-- \u6c7a\u6a19\u91d1\u984d -->\n",
        "<td align=\"right\">\r\n",
        "\t\t\t\t\t\t\t\t\t\t\t\t\t279000\r\n",
        "\t\t\t\t\t\t\t\t\t\t\t\t</td>\n",
        "<!-- \u6c7a\u6a19\u516c\u544a -->\n",
        "<td align=\"center\">\n",
        "<a href=\"../main/pms/tps/atm/atmAwardAction.do?newEdit=false&amp;searchMode=common&amp;method=inquiryForPublic&amp;pkAtmMain=51239334&amp;tenderCaseNo=103105\">\n",
        "<u>001</u>\n",
        "</a>\r\n",
        "\t\t\t\t\t\t\t\t\t\t\t\t\t\t\r\n",
        "\t\t\t\t\t\t\t\t\t\t\t\t\t\u00a0\r\n",
        "\t\t\t\t\t\t\t\t\t\t\t\t</td>\n",
        "<!-- \u7121\u6cd5\u6c7a\u6a19\u516c\u544a -->\n",
        "<td align=\"center\">\r\n",
        "\t\t\t\t\t\t\t\t\t\t\t\t\t\u00a0\r\n",
        "\t\t\t\t\t\t\t\t\t\t\t\t</td>\n",
        "</tr>\n",
        "<tr bgcolor=\"#FFFFFF\" onmouseout=\"outcss(this,'#FFFFFF');\" onmouseover=\"overcss(this);\">\n",
        "<!-- \u9805\u6b21 -->\n",
        "<td align=\"center\">67\u00a0</td>\n",
        "<!-- \u6a5f\u95dc\u540d\u7a31 -->\n",
        "<td align=\"left\">\u4ea4\u901a\u90e8\u516c\u8def\u7e3d\u5c40\u7b2c\u4e00\u5340\u990a\u8b77\u5de5\u7a0b\u8655</td>\n",
        "<!-- \u6a19\u6848\u6848\u865f&\u6a19\u6848\u540d\u7a31 -->\n",
        "<td align=\"left\">\r\n",
        "\t\t\t\t\t\t\t\t\t\t\t\t1031B00000006A01\r\n",
        "\t\t\t\t\t\t\t\t\t\t\t\t\r\n",
        "\t\t\t\t\t\t\t\t\t\t\t\t<br>\n",
        "<a href=\"../main/pms/tps/atm/atmAwardAction.do?newEdit=false&amp;searchMode=common&amp;method=inquiryForPublic&amp;pkAtmMain=51239343&amp;tenderCaseNo=1031B00000006A01\">\n",
        "<u>\u4ea4\u901a\u90e8\u516c\u8def\u7e3d\u5c40\u8fa6\u516c\u5927\u6a13\u65b0\u5efa\u5de5\u7a0b\u516c\u5171\u85dd\u8853\u8a2d\u7f6e</u>\n",
        "</a>\n",
        "</br></td>\n",
        "<!-- \u62db\u6a19\u65b9\u5f0f -->\n",
        "<td align=\"left\">\u9650\u5236\u6027\u62db\u6a19(\u672a\u7d93\u516c\u958b\u8a55\u9078\u6216\u516c\u958b\u5fb5\u6c42)</td>\n",
        "<!-- \u6a19\u7684\u5206\u985e -->\n",
        "<td align=\"left\">\u52de\u52d9\u985e</td>\n",
        "<!-- \u516c\u544a\u65e5\u671f -->\n",
        "<td align=\"center\">103/04/29\n",
        "</td>\n",
        "<!-- \u6c7a\u6a19\u91d1\u984d -->\n",
        "<td align=\"right\">\r\n",
        "\t\t\t\t\t\t\t\t\t\t\t\t\t9172400\r\n",
        "\t\t\t\t\t\t\t\t\t\t\t\t</td>\n",
        "<!-- \u6c7a\u6a19\u516c\u544a -->\n",
        "<td align=\"center\">\n",
        "<a href=\"../main/pms/tps/atm/atmAwardAction.do?newEdit=false&amp;searchMode=common&amp;method=inquiryForPublic&amp;pkAtmMain=51239343&amp;tenderCaseNo=1031B00000006A01\">\n",
        "<u>001</u>\n",
        "</a>\r\n",
        "\t\t\t\t\t\t\t\t\t\t\t\t\t\t\r\n",
        "\t\t\t\t\t\t\t\t\t\t\t\t\t\u00a0\r\n",
        "\t\t\t\t\t\t\t\t\t\t\t\t</td>\n",
        "<!-- \u7121\u6cd5\u6c7a\u6a19\u516c\u544a -->\n",
        "<td align=\"center\">\r\n",
        "\t\t\t\t\t\t\t\t\t\t\t\t\t\u00a0\r\n",
        "\t\t\t\t\t\t\t\t\t\t\t\t</td>\n",
        "</tr>\n",
        "<tr bgcolor=\"#D6FAC5\" onmouseout=\"outcss(this,'#D6FAC5');\" onmouseover=\"overcss(this);\">\n",
        "<!-- \u9805\u6b21 -->\n",
        "<td align=\"center\">68\u00a0</td>\n",
        "<!-- \u6a5f\u95dc\u540d\u7a31 -->\n",
        "<td align=\"left\">\u6559\u80b2\u90e8\u9752\u5e74\u767c\u5c55\u7f72</td>\n",
        "<!-- \u6a19\u6848\u6848\u865f&\u6a19\u6848\u540d\u7a31 -->\n",
        "<td align=\"left\">\r\n",
        "\t\t\t\t\t\t\t\t\t\t\t\t103107\r\n",
        "\t\t\t\t\t\t\t\t\t\t\t\t\r\n",
        "\t\t\t\t\t\t\t\t\t\t\t\t<br>\n",
        "<a href=\"../main/pms/tps/atm/atmAwardAction.do?newEdit=false&amp;searchMode=common&amp;method=inquiryForPublic&amp;pkAtmMain=51239347&amp;tenderCaseNo=103107\">\n",
        "<u>103\u5e74\u5927\u5c08\u7562\u696d\u751f\u5275\u696d\u670d\u52d9\u8a08\u756b\u5fb5\u6c42\u5c08\u6848\u8fa6\u516c\u5ba4</u>\n",
        "</a>\n",
        "</br></td>\n",
        "<!-- \u62db\u6a19\u65b9\u5f0f -->\n",
        "<td align=\"left\">\u9650\u5236\u6027\u62db\u6a19(\u7d93\u516c\u958b\u8a55\u9078\u6216\u516c\u958b\u5fb5\u6c42)</td>\n",
        "<!-- \u6a19\u7684\u5206\u985e -->\n",
        "<td align=\"left\">\u52de\u52d9\u985e</td>\n",
        "<!-- \u516c\u544a\u65e5\u671f -->\n",
        "<td align=\"center\">103/04/29\n",
        "</td>\n",
        "<!-- \u6c7a\u6a19\u91d1\u984d -->\n",
        "<td align=\"right\">\r\n",
        "\t\t\t\t\t\t\t\t\t\t\t\t\t4649450\r\n",
        "\t\t\t\t\t\t\t\t\t\t\t\t</td>\n",
        "<!-- \u6c7a\u6a19\u516c\u544a -->\n",
        "<td align=\"center\">\n",
        "<a href=\"../main/pms/tps/atm/atmAwardAction.do?newEdit=false&amp;searchMode=common&amp;method=inquiryForPublic&amp;pkAtmMain=51239347&amp;tenderCaseNo=103107\">\n",
        "<u>001</u>\n",
        "</a>\r\n",
        "\t\t\t\t\t\t\t\t\t\t\t\t\t\t\r\n",
        "\t\t\t\t\t\t\t\t\t\t\t\t\t\u00a0\r\n",
        "\t\t\t\t\t\t\t\t\t\t\t\t</td>\n",
        "<!-- \u7121\u6cd5\u6c7a\u6a19\u516c\u544a -->\n",
        "<td align=\"center\">\r\n",
        "\t\t\t\t\t\t\t\t\t\t\t\t\t\u00a0\r\n",
        "\t\t\t\t\t\t\t\t\t\t\t\t</td>\n",
        "</tr>\n",
        "<tr bgcolor=\"#FFFFFF\" onmouseout=\"outcss(this,'#FFFFFF');\" onmouseover=\"overcss(this);\">\n",
        "<!-- \u9805\u6b21 -->\n",
        "<td align=\"center\">69\u00a0</td>\n",
        "<!-- \u6a5f\u95dc\u540d\u7a31 -->\n",
        "<td align=\"left\">\u81fa\u5317\u5e02\u5927\u5b89\u5340\u65b0\u751f\u570b\u6c11\u5c0f\u5b78</td>\n",
        "<!-- \u6a19\u6848\u6848\u865f&\u6a19\u6848\u540d\u7a31 -->\n",
        "<td align=\"left\">\r\n",
        "\t\t\t\t\t\t\t\t\t\t\t\t1030415\r\n",
        "\t\t\t\t\t\t\t\t\t\t\t\t\r\n",
        "\t\t\t\t\t\t\t\t\t\t\t\t<br>\n",
        "<a href=\"../main/pms/tps/atm/atmAwardAction.do?newEdit=false&amp;searchMode=common&amp;method=inquiryForPublic&amp;pkAtmMain=51239351&amp;tenderCaseNo=1030415\">\n",
        "<u>103\u5e74\u5ea6\u6821\u5340\u7a7a\u8abf\u4fdd\u990a\u7dad\u8b77\u63a1\u8cfc</u>\n",
        "</a>\n",
        "</br></td>\n",
        "<!-- \u62db\u6a19\u65b9\u5f0f -->\n",
        "<td align=\"left\">\u516c\u958b\u53d6\u5f97\u5831\u50f9\u55ae\u6216\u4f01\u5283\u66f8</td>\n",
        "<!-- \u6a19\u7684\u5206\u985e -->\n",
        "<td align=\"left\">\u52de\u52d9\u985e</td>\n",
        "<!-- \u516c\u544a\u65e5\u671f -->\n",
        "<td align=\"center\">103/04/29\n",
        "</td>\n",
        "<!-- \u6c7a\u6a19\u91d1\u984d -->\n",
        "<td align=\"right\">\r\n",
        "\t\t\t\t\t\t\t\t\t\t\t\t\t103478\r\n",
        "\t\t\t\t\t\t\t\t\t\t\t\t</td>\n",
        "<!-- \u6c7a\u6a19\u516c\u544a -->\n",
        "<td align=\"center\">\n",
        "<a href=\"../main/pms/tps/atm/atmAwardAction.do?newEdit=false&amp;searchMode=common&amp;method=inquiryForPublic&amp;pkAtmMain=51239351&amp;tenderCaseNo=1030415\">\n",
        "<u>001</u>\n",
        "</a>\r\n",
        "\t\t\t\t\t\t\t\t\t\t\t\t\t\t\r\n",
        "\t\t\t\t\t\t\t\t\t\t\t\t\t\u00a0\r\n",
        "\t\t\t\t\t\t\t\t\t\t\t\t</td>\n",
        "<!-- \u7121\u6cd5\u6c7a\u6a19\u516c\u544a -->\n",
        "<td align=\"center\">\r\n",
        "\t\t\t\t\t\t\t\t\t\t\t\t\t\u00a0\r\n",
        "\t\t\t\t\t\t\t\t\t\t\t\t</td>\n",
        "</tr>\n",
        "<tr bgcolor=\"#D6FAC5\" onmouseout=\"outcss(this,'#D6FAC5');\" onmouseover=\"overcss(this);\">\n",
        "<!-- \u9805\u6b21 -->\n",
        "<td align=\"center\">70\u00a0</td>\n",
        "<!-- \u6a5f\u95dc\u540d\u7a31 -->\n",
        "<td align=\"left\">\u6843\u5712\u7e23\u653f\u5e9c\u6587\u5316\u5c40</td>\n",
        "<!-- \u6a19\u6848\u6848\u865f&\u6a19\u6848\u540d\u7a31 -->\n",
        "<td align=\"left\">\r\n",
        "\t\t\t\t\t\t\t\t\t\t\t\t1030833\r\n",
        "\t\t\t\t\t\t\t\t\t\t\t\t\r\n",
        "\t\t\t\t\t\t\t\t\t\t\t\t<br>\n",
        "<a href=\"../main/pms/tps/atm/atmAwardAction.do?newEdit=false&amp;searchMode=common&amp;method=inquiryForPublic&amp;pkAtmMain=51239354&amp;tenderCaseNo=1030833\">\n",
        "<u>\u300c\u6cf0\u96c5\u65cf\u5927\u5d59\u5d01\u7fa4\u53e3\u8ff0\u50b3\u7d71\uff08\u6797\u660e\u798f\uff09\u7814\u7a76\u8abf\u67e5\u6210\u679c\u51fa\u7248\u8a08\u756b\uff08\u4e09\uff09\u300d\u59d4\u8a17\u5c08\u696d\u670d\u52d9\u6848</u>\n",
        "</a>\n",
        "</br></td>\n",
        "<!-- \u62db\u6a19\u65b9\u5f0f -->\n",
        "<td align=\"left\">\u516c\u958b\u53d6\u5f97\u5831\u50f9\u55ae\u6216\u4f01\u5283\u66f8</td>\n",
        "<!-- \u6a19\u7684\u5206\u985e -->\n",
        "<td align=\"left\">\u52de\u52d9\u985e</td>\n",
        "<!-- \u516c\u544a\u65e5\u671f -->\n",
        "<td align=\"center\">103/04/29\n",
        "</td>\n",
        "<!-- \u6c7a\u6a19\u91d1\u984d -->\n",
        "<td align=\"right\">\r\n",
        "\t\t\t\t\t\t\t\t\t\t\t\t\t745000\r\n",
        "\t\t\t\t\t\t\t\t\t\t\t\t</td>\n",
        "<!-- \u6c7a\u6a19\u516c\u544a -->\n",
        "<td align=\"center\">\n",
        "<a href=\"../main/pms/tps/atm/atmAwardAction.do?newEdit=false&amp;searchMode=common&amp;method=inquiryForPublic&amp;pkAtmMain=51239354&amp;tenderCaseNo=1030833\">\n",
        "<u>001</u>\n",
        "</a>\r\n",
        "\t\t\t\t\t\t\t\t\t\t\t\t\t\t\r\n",
        "\t\t\t\t\t\t\t\t\t\t\t\t\t\u00a0\r\n",
        "\t\t\t\t\t\t\t\t\t\t\t\t</td>\n",
        "<!-- \u7121\u6cd5\u6c7a\u6a19\u516c\u544a -->\n",
        "<td align=\"center\">\r\n",
        "\t\t\t\t\t\t\t\t\t\t\t\t\t\u00a0\r\n",
        "\t\t\t\t\t\t\t\t\t\t\t\t</td>\n",
        "</tr>\n",
        "<tr bgcolor=\"#FFFFFF\" onmouseout=\"outcss(this,'#FFFFFF');\" onmouseover=\"overcss(this);\">\n",
        "<!-- \u9805\u6b21 -->\n",
        "<td align=\"center\">71\u00a0</td>\n",
        "<!-- \u6a5f\u95dc\u540d\u7a31 -->\n",
        "<td align=\"left\">\u7d93\u6fdf\u90e8\u6c34\u5229\u7f72\u7b2c\u5341\u6cb3\u5ddd\u5c40</td>\n",
        "<!-- \u6a19\u6848\u6848\u865f&\u6a19\u6848\u540d\u7a31 -->\n",
        "<td align=\"left\">\r\n",
        "\t\t\t\t\t\t\t\t\t\t\t\tW10P103012\r\n",
        "\t\t\t\t\t\t\t\t\t\t\t\t\r\n",
        "\t\t\t\t\t\t\t\t\t\t\t\t<br>\n",
        "<a href=\"../main/pms/tps/atm/atmAwardAction.do?newEdit=false&amp;searchMode=common&amp;method=inquiryForPublic&amp;pkAtmMain=51239361&amp;tenderCaseNo=W10P103012\">\n",
        "<u>103\u5e74\u5ea6\u6de1\u6c34\u6cb3\u7cfb\u4e09\u7dad\u5730\u7406\u8cc7\u8a0a\u7cfb\u7d71\u7dad\u8b77\u53ca\u884c\u52d5\u5e73\u53f0\u5efa\u7f6e\u64f4\u5145\u8a08\u756b</u>\n",
        "</a>\n",
        "</br></td>\n",
        "<!-- \u62db\u6a19\u65b9\u5f0f -->\n",
        "<td align=\"left\">\u9650\u5236\u6027\u62db\u6a19(\u7d93\u516c\u958b\u8a55\u9078\u6216\u516c\u958b\u5fb5\u6c42)</td>\n",
        "<!-- \u6a19\u7684\u5206\u985e -->\n",
        "<td align=\"left\">\u52de\u52d9\u985e</td>\n",
        "<!-- \u516c\u544a\u65e5\u671f -->\n",
        "<td align=\"center\">103/04/29\n",
        "</td>\n",
        "<!-- \u6c7a\u6a19\u91d1\u984d -->\n",
        "<td align=\"right\">\r\n",
        "\t\t\t\t\t\t\t\t\t\t\t\t\t1892000\r\n",
        "\t\t\t\t\t\t\t\t\t\t\t\t</td>\n",
        "<!-- \u6c7a\u6a19\u516c\u544a -->\n",
        "<td align=\"center\">\n",
        "<a href=\"../main/pms/tps/atm/atmAwardAction.do?newEdit=false&amp;searchMode=common&amp;method=inquiryForPublic&amp;pkAtmMain=51239361&amp;tenderCaseNo=W10P103012\">\n",
        "<u>001</u>\n",
        "</a>\r\n",
        "\t\t\t\t\t\t\t\t\t\t\t\t\t\t\r\n",
        "\t\t\t\t\t\t\t\t\t\t\t\t\t\u00a0\r\n",
        "\t\t\t\t\t\t\t\t\t\t\t\t</td>\n",
        "<!-- \u7121\u6cd5\u6c7a\u6a19\u516c\u544a -->\n",
        "<td align=\"center\">\r\n",
        "\t\t\t\t\t\t\t\t\t\t\t\t\t\u00a0\r\n",
        "\t\t\t\t\t\t\t\t\t\t\t\t</td>\n",
        "</tr>\n",
        "<tr bgcolor=\"#D6FAC5\" onmouseout=\"outcss(this,'#D6FAC5');\" onmouseover=\"overcss(this);\">\n",
        "<!-- \u9805\u6b21 -->\n",
        "<td align=\"center\">72\u00a0</td>\n",
        "<!-- \u6a5f\u95dc\u540d\u7a31 -->\n",
        "<td align=\"left\">\u65b0\u5317\u5e02\u65b0\u838a\u5340\u516c\u6240</td>\n",
        "<!-- \u6a19\u6848\u6848\u865f&\u6a19\u6848\u540d\u7a31 -->\n",
        "<td align=\"left\">\r\n",
        "\t\t\t\t\t\t\t\t\t\t\t\t1030403D3\r\n",
        "\t\t\t\t\t\t\t\t\t\t\t\t\r\n",
        "\t\t\t\t\t\t\t\t\t\t\t\t<br>\n",
        "<a href=\"../main/pms/tps/atm/atmAwardAction.do?newEdit=false&amp;searchMode=common&amp;method=inquiryForPublic&amp;pkAtmMain=51239369&amp;tenderCaseNo=1030403D3\">\n",
        "<u>\u65b0\u838a\u5340\u548c\u5e73\u91cc\u81ea\u7136\u751f\u614b\u7814\u7fd2\u6d3b\u52d5</u>\n",
        "</a>\n",
        "</br></td>\n",
        "<!-- \u62db\u6a19\u65b9\u5f0f -->\n",
        "<td align=\"left\">\u516c\u958b\u53d6\u5f97\u5831\u50f9\u55ae\u6216\u4f01\u5283\u66f8</td>\n",
        "<!-- \u6a19\u7684\u5206\u985e -->\n",
        "<td align=\"left\">\u52de\u52d9\u985e</td>\n",
        "<!-- \u516c\u544a\u65e5\u671f -->\n",
        "<td align=\"center\">103/04/29\n",
        "</td>\n",
        "<!-- \u6c7a\u6a19\u91d1\u984d -->\n",
        "<td align=\"right\">\r\n",
        "\t\t\t\t\t\t\t\t\t\t\t\t\t345600\r\n",
        "\t\t\t\t\t\t\t\t\t\t\t\t</td>\n",
        "<!-- \u6c7a\u6a19\u516c\u544a -->\n",
        "<td align=\"center\">\n",
        "<a href=\"../main/pms/tps/atm/atmAwardAction.do?newEdit=false&amp;searchMode=common&amp;method=inquiryForPublic&amp;pkAtmMain=51239369&amp;tenderCaseNo=1030403D3\">\n",
        "<u>001</u>\n",
        "</a>\r\n",
        "\t\t\t\t\t\t\t\t\t\t\t\t\t\t\r\n",
        "\t\t\t\t\t\t\t\t\t\t\t\t\t\u00a0\r\n",
        "\t\t\t\t\t\t\t\t\t\t\t\t</td>\n",
        "<!-- \u7121\u6cd5\u6c7a\u6a19\u516c\u544a -->\n",
        "<td align=\"center\">\r\n",
        "\t\t\t\t\t\t\t\t\t\t\t\t\t\u00a0\r\n",
        "\t\t\t\t\t\t\t\t\t\t\t\t</td>\n",
        "</tr>\n",
        "<tr bgcolor=\"#FFFFFF\" onmouseout=\"outcss(this,'#FFFFFF');\" onmouseover=\"overcss(this);\">\n",
        "<!-- \u9805\u6b21 -->\n",
        "<td align=\"center\">73\u00a0</td>\n",
        "<!-- \u6a5f\u95dc\u540d\u7a31 -->\n",
        "<td align=\"left\">\u6f8e\u6e56\u7e23\u653f\u5e9c\u6587\u5316\u5c40</td>\n",
        "<!-- \u6a19\u6848\u6848\u865f&\u6a19\u6848\u540d\u7a31 -->\n",
        "<td align=\"left\">\r\n",
        "\t\t\t\t\t\t\t\t\t\t\t\tSV-103005\r\n",
        "\t\t\t\t\t\t\t\t\t\t\t\t\r\n",
        "\t\t\t\t\t\t\t\t\t\t\t\t<br>\n",
        "<a href=\"../main/pms/tps/atm/atmAwardAction.do?newEdit=false&amp;searchMode=common&amp;method=inquiryForPublic&amp;pkAtmMain=51239373&amp;tenderCaseNo=SV-103005\">\n",
        "<u>\u300c\u4e0d\u505c\u8f49\u7684\u8235\u8f2a-\u6731\u79c0\u5409\u8239\u9577\u8a2a\u8ac7\u300d\u5370\u88fd\u6848</u>\n",
        "</a>\n",
        "</br></td>\n",
        "<!-- \u62db\u6a19\u65b9\u5f0f -->\n",
        "<td align=\"left\">\u516c\u958b\u53d6\u5f97\u5831\u50f9\u55ae\u6216\u4f01\u5283\u66f8</td>\n",
        "<!-- \u6a19\u7684\u5206\u985e -->\n",
        "<td align=\"left\">\u52de\u52d9\u985e</td>\n",
        "<!-- \u516c\u544a\u65e5\u671f -->\n",
        "<td align=\"center\">103/04/29\n",
        "</td>\n",
        "<!-- \u6c7a\u6a19\u91d1\u984d -->\n",
        "<td align=\"right\">\r\n",
        "\t\t\t\t\t\t\t\t\t\t\t\t\t44000\r\n",
        "\t\t\t\t\t\t\t\t\t\t\t\t</td>\n",
        "<!-- \u6c7a\u6a19\u516c\u544a -->\n",
        "<td align=\"center\">\n",
        "<a href=\"../main/pms/tps/atm/atmAwardAction.do?newEdit=false&amp;searchMode=common&amp;method=inquiryForPublic&amp;pkAtmMain=51239373&amp;tenderCaseNo=SV-103005\">\n",
        "<u>001</u>\n",
        "</a>\r\n",
        "\t\t\t\t\t\t\t\t\t\t\t\t\t\t\r\n",
        "\t\t\t\t\t\t\t\t\t\t\t\t\t\u00a0\r\n",
        "\t\t\t\t\t\t\t\t\t\t\t\t</td>\n",
        "<!-- \u7121\u6cd5\u6c7a\u6a19\u516c\u544a -->\n",
        "<td align=\"center\">\r\n",
        "\t\t\t\t\t\t\t\t\t\t\t\t\t\u00a0\r\n",
        "\t\t\t\t\t\t\t\t\t\t\t\t</td>\n",
        "</tr>\n",
        "<tr bgcolor=\"#D6FAC5\" onmouseout=\"outcss(this,'#D6FAC5');\" onmouseover=\"overcss(this);\">\n",
        "<!-- \u9805\u6b21 -->\n",
        "<td align=\"center\">74\u00a0</td>\n",
        "<!-- \u6a5f\u95dc\u540d\u7a31 -->\n",
        "<td align=\"left\">\u96f2\u6797\u7e23\u6597\u5357\u93ae\u516c\u6240</td>\n",
        "<!-- \u6a19\u6848\u6848\u865f&\u6a19\u6848\u540d\u7a31 -->\n",
        "<td align=\"left\">\r\n",
        "\t\t\t\t\t\t\t\t\t\t\t\t103028\r\n",
        "\t\t\t\t\t\t\t\t\t\t\t\t\r\n",
        "\t\t\t\t\t\t\t\t\t\t\t\t<br>\n",
        "<a href=\"../main/pms/tps/atm/atmAwardAction.do?newEdit=false&amp;searchMode=common&amp;method=inquiryForPublic&amp;pkAtmMain=51239377&amp;tenderCaseNo=103028\">\n",
        "<u>\u6597\u5357\u93ae103\u5e74\u75c5\u5a92\u9632\u6cbb\u5674\u85e5\u670d\u52d9</u>\n",
        "</a>\n",
        "</br></td>\n",
        "<!-- \u62db\u6a19\u65b9\u5f0f -->\n",
        "<td align=\"left\">\u516c\u958b\u53d6\u5f97\u5831\u50f9\u55ae\u6216\u4f01\u5283\u66f8</td>\n",
        "<!-- \u6a19\u7684\u5206\u985e -->\n",
        "<td align=\"left\">\u52de\u52d9\u985e</td>\n",
        "<!-- \u516c\u544a\u65e5\u671f -->\n",
        "<td align=\"center\">103/04/29\n",
        "</td>\n",
        "<!-- \u6c7a\u6a19\u91d1\u984d -->\n",
        "<td align=\"right\">\r\n",
        "\t\t\t\t\t\t\t\t\t\t\t\t\t213600\r\n",
        "\t\t\t\t\t\t\t\t\t\t\t\t</td>\n",
        "<!-- \u6c7a\u6a19\u516c\u544a -->\n",
        "<td align=\"center\">\n",
        "<a href=\"../main/pms/tps/atm/atmAwardAction.do?newEdit=false&amp;searchMode=common&amp;method=inquiryForPublic&amp;pkAtmMain=51239377&amp;tenderCaseNo=103028\">\n",
        "<u>001</u>\n",
        "</a>\r\n",
        "\t\t\t\t\t\t\t\t\t\t\t\t\t\t\r\n",
        "\t\t\t\t\t\t\t\t\t\t\t\t\t\u00a0\r\n",
        "\t\t\t\t\t\t\t\t\t\t\t\t</td>\n",
        "<!-- \u7121\u6cd5\u6c7a\u6a19\u516c\u544a -->\n",
        "<td align=\"center\">\r\n",
        "\t\t\t\t\t\t\t\t\t\t\t\t\t\u00a0\r\n",
        "\t\t\t\t\t\t\t\t\t\t\t\t</td>\n",
        "</tr>\n",
        "<tr bgcolor=\"#FFFFFF\" onmouseout=\"outcss(this,'#FFFFFF');\" onmouseover=\"overcss(this);\">\n",
        "<!-- \u9805\u6b21 -->\n",
        "<td align=\"center\">75\u00a0</td>\n",
        "<!-- \u6a5f\u95dc\u540d\u7a31 -->\n",
        "<td align=\"left\">\u53f0\u7063\u4e2d\u6cb9\u80a1\u4efd\u6709\u9650\u516c\u53f8\u63a2\u63a1\u4e8b\u696d\u90e8\u570b\u5916\u696d\u52d9\u8655</td>\n",
        "<!-- \u6a19\u6848\u6848\u865f&\u6a19\u6848\u540d\u7a31 -->\n",
        "<td align=\"left\">\r\n",
        "\t\t\t\t\t\t\t\t\t\t\t\tBAA0384001\r\n",
        "\t\t\t\t\t\t\t\t\t\t\t\t\r\n",
        "\t\t\t\t\t\t\t\t\t\t\t\t<br>\n",
        "<a href=\"../main/pms/tps/atm/atmAwardAction.do?newEdit=false&amp;searchMode=common&amp;method=inquiryForPublic&amp;pkAtmMain=51239388&amp;tenderCaseNo=BAA0384001\">\n",
        "<u>SUN V480\u53caV490\u96fb\u8166\u7cfb\u7d71\u7dad\u8b77\u5951\u7d04\u4e8c\u5e74</u>\n",
        "</a>\n",
        "</br></td>\n",
        "<!-- \u62db\u6a19\u65b9\u5f0f -->\n",
        "<td align=\"left\">\u9650\u5236\u6027\u62db\u6a19(\u672a\u7d93\u516c\u958b\u8a55\u9078\u6216\u516c\u958b\u5fb5\u6c42)</td>\n",
        "<!-- \u6a19\u7684\u5206\u985e -->\n",
        "<td align=\"left\">\u52de\u52d9\u985e</td>\n",
        "<!-- \u516c\u544a\u65e5\u671f -->\n",
        "<td align=\"center\">103/04/29\n",
        "</td>\n",
        "<!-- \u6c7a\u6a19\u91d1\u984d -->\n",
        "<td align=\"right\">\r\n",
        "\t\t\t\t\t\t\t\t\t\t\t\t\t295000\r\n",
        "\t\t\t\t\t\t\t\t\t\t\t\t</td>\n",
        "<!-- \u6c7a\u6a19\u516c\u544a -->\n",
        "<td align=\"center\">\n",
        "<a href=\"../main/pms/tps/atm/atmAwardAction.do?newEdit=false&amp;searchMode=common&amp;method=inquiryForPublic&amp;pkAtmMain=51239388&amp;tenderCaseNo=BAA0384001\">\n",
        "<u>001</u>\n",
        "</a>\r\n",
        "\t\t\t\t\t\t\t\t\t\t\t\t\t\t\r\n",
        "\t\t\t\t\t\t\t\t\t\t\t\t\t\u00a0\r\n",
        "\t\t\t\t\t\t\t\t\t\t\t\t</td>\n",
        "<!-- \u7121\u6cd5\u6c7a\u6a19\u516c\u544a -->\n",
        "<td align=\"center\">\r\n",
        "\t\t\t\t\t\t\t\t\t\t\t\t\t\u00a0\r\n",
        "\t\t\t\t\t\t\t\t\t\t\t\t</td>\n",
        "</tr>\n",
        "<tr bgcolor=\"#D6FAC5\" onmouseout=\"outcss(this,'#D6FAC5');\" onmouseover=\"overcss(this);\">\n",
        "<!-- \u9805\u6b21 -->\n",
        "<td align=\"center\">76\u00a0</td>\n",
        "<!-- \u6a5f\u95dc\u540d\u7a31 -->\n",
        "<td align=\"left\">\u884c\u653f\u9662\u8fb2\u696d\u59d4\u54e1\u6703\u6797\u52d9\u5c40\u5609\u7fa9\u6797\u5340\u7ba1\u7406\u8655</td>\n",
        "<!-- \u6a19\u6848\u6848\u865f&\u6a19\u6848\u540d\u7a31 -->\n",
        "<td align=\"left\">\r\n",
        "\t\t\t\t\t\t\t\t\t\t\t\tze103-23\r\n",
        "\t\t\t\t\t\t\t\t\t\t\t\t\r\n",
        "\t\t\t\t\t\t\t\t\t\t\t\t<br>\n",
        "<a href=\"../main/pms/tps/atm/atmAwardAction.do?newEdit=false&amp;searchMode=common&amp;method=inquiryForPublic&amp;pkAtmMain=51239390&amp;tenderCaseNo=ze103-23\">\n",
        "<u>103\u5e74\u5ea6\u5e73\u5730\u9020\u6797\u8a08\u756b\u9810\u5b9a\u6848\u8a18\u78bc\u7b2c\u5e73\u90201\u865f\u9020\u6797\u627f\u5305\u4f5c\u696d</u>\n",
        "</a>\n",
        "</br></td>\n",
        "<!-- \u62db\u6a19\u65b9\u5f0f -->\n",
        "<td align=\"left\">\u516c\u958b\u53d6\u5f97\u5831\u50f9\u55ae\u6216\u4f01\u5283\u66f8</td>\n",
        "<!-- \u6a19\u7684\u5206\u985e -->\n",
        "<td align=\"left\">\u52de\u52d9\u985e</td>\n",
        "<!-- \u516c\u544a\u65e5\u671f -->\n",
        "<td align=\"center\">103/04/29\n",
        "</td>\n",
        "<!-- \u6c7a\u6a19\u91d1\u984d -->\n",
        "<td align=\"right\">\r\n",
        "\t\t\t\t\t\t\t\t\t\t\t\t\t253000\r\n",
        "\t\t\t\t\t\t\t\t\t\t\t\t</td>\n",
        "<!-- \u6c7a\u6a19\u516c\u544a -->\n",
        "<td align=\"center\">\n",
        "<a href=\"../main/pms/tps/atm/atmAwardAction.do?newEdit=false&amp;searchMode=common&amp;method=inquiryForPublic&amp;pkAtmMain=51239390&amp;tenderCaseNo=ze103-23\">\n",
        "<u>001</u>\n",
        "</a>\r\n",
        "\t\t\t\t\t\t\t\t\t\t\t\t\t\t\r\n",
        "\t\t\t\t\t\t\t\t\t\t\t\t\t\u00a0\r\n",
        "\t\t\t\t\t\t\t\t\t\t\t\t</td>\n",
        "<!-- \u7121\u6cd5\u6c7a\u6a19\u516c\u544a -->\n",
        "<td align=\"center\">\r\n",
        "\t\t\t\t\t\t\t\t\t\t\t\t\t\u00a0\r\n",
        "\t\t\t\t\t\t\t\t\t\t\t\t</td>\n",
        "</tr>\n",
        "<tr bgcolor=\"#FFFFFF\" onmouseout=\"outcss(this,'#FFFFFF');\" onmouseover=\"overcss(this);\">\n",
        "<!-- \u9805\u6b21 -->\n",
        "<td align=\"center\">77\u00a0</td>\n",
        "<!-- \u6a5f\u95dc\u540d\u7a31 -->\n",
        "<td align=\"left\">\u65b0\u5317\u5e02\u65b0\u5e97\u5340\u5317\u65b0\u570b\u6c11\u5c0f\u5b78</td>\n",
        "<!-- \u6a19\u6848\u6848\u865f&\u6a19\u6848\u540d\u7a31 -->\n",
        "<td align=\"left\">\r\n",
        "\t\t\t\t\t\t\t\t\t\t\t\t1030324\r\n",
        "\t\t\t\t\t\t\t\t\t\t\t\t\r\n",
        "\t\t\t\t\t\t\t\t\t\t\t\t<br>\n",
        "<a href=\"../main/pms/tps/atm/atmAwardAction.do?newEdit=false&amp;searchMode=common&amp;method=inquiryForPublic&amp;pkAtmMain=51239395&amp;tenderCaseNo=1030324\">\n",
        "<u>103\u5b78\u5e74\u5ea66\u5e74\u7d1a\u6821\u5916\u6559\u5b78\u6d3b\u52d5\u63a1\u8cfc\u6848</u>\n",
        "</a>\n",
        "</br></td>\n",
        "<!-- \u62db\u6a19\u65b9\u5f0f -->\n",
        "<td align=\"left\">\u9650\u5236\u6027\u62db\u6a19(\u7d93\u516c\u958b\u8a55\u9078\u6216\u516c\u958b\u5fb5\u6c42)</td>\n",
        "<!-- \u6a19\u7684\u5206\u985e -->\n",
        "<td align=\"left\">\u52de\u52d9\u985e</td>\n",
        "<!-- \u516c\u544a\u65e5\u671f -->\n",
        "<td align=\"center\">103/04/29\n",
        "</td>\n",
        "<!-- \u6c7a\u6a19\u91d1\u984d -->\n",
        "<td align=\"right\">\r\n",
        "\t\t\t\t\t\t\t\t\t\t\t\t\t1681500\r\n",
        "\t\t\t\t\t\t\t\t\t\t\t\t</td>\n",
        "<!-- \u6c7a\u6a19\u516c\u544a -->\n",
        "<td align=\"center\">\n",
        "<a href=\"../main/pms/tps/atm/atmAwardAction.do?newEdit=false&amp;searchMode=common&amp;method=inquiryForPublic&amp;pkAtmMain=51239395&amp;tenderCaseNo=1030324\">\n",
        "<u>001</u>\n",
        "</a>\r\n",
        "\t\t\t\t\t\t\t\t\t\t\t\t\t\t\r\n",
        "\t\t\t\t\t\t\t\t\t\t\t\t\t\u00a0\r\n",
        "\t\t\t\t\t\t\t\t\t\t\t\t</td>\n",
        "<!-- \u7121\u6cd5\u6c7a\u6a19\u516c\u544a -->\n",
        "<td align=\"center\">\r\n",
        "\t\t\t\t\t\t\t\t\t\t\t\t\t\u00a0\r\n",
        "\t\t\t\t\t\t\t\t\t\t\t\t</td>\n",
        "</tr>\n",
        "<tr bgcolor=\"#D6FAC5\" onmouseout=\"outcss(this,'#D6FAC5');\" onmouseover=\"overcss(this);\">\n",
        "<!-- \u9805\u6b21 -->\n",
        "<td align=\"center\">78\u00a0</td>\n",
        "<!-- \u6a5f\u95dc\u540d\u7a31 -->\n",
        "<td align=\"left\">\u5ba2\u5bb6\u59d4\u54e1\u6703\u5ba2\u5bb6\u6587\u5316\u767c\u5c55\u4e2d\u5fc3</td>\n",
        "<!-- \u6a19\u6848\u6848\u865f&\u6a19\u6848\u540d\u7a31 -->\n",
        "<td align=\"left\">\r\n",
        "\t\t\t\t\t\t\t\t\t\t\t\t103036\r\n",
        "\t\t\t\t\t\t\t\t\t\t\t\t\r\n",
        "\t\t\t\t\t\t\t\t\t\t\t\t<br>\n",
        "<a href=\"../main/pms/tps/atm/atmAwardAction.do?newEdit=false&amp;searchMode=common&amp;method=inquiryForPublic&amp;pkAtmMain=51239412&amp;tenderCaseNo=103036\">\n",
        "<u>\u300c\u82d7\u6817\u5712\u5340\u6200\u6200\u5ba2\u5e84\u5c55\u793a\u66a8\u60c5\u5883\u5e03\u7f6e\u66f4\u65b0\u300d\u59d4\u8a17\u5c08\u696d\u670d\u52d9\u6848</u>\n",
        "</a>\n",
        "</br></td>\n",
        "<!-- \u62db\u6a19\u65b9\u5f0f -->\n",
        "<td align=\"left\">\u9650\u5236\u6027\u62db\u6a19(\u7d93\u516c\u958b\u8a55\u9078\u6216\u516c\u958b\u5fb5\u6c42)</td>\n",
        "<!-- \u6a19\u7684\u5206\u985e -->\n",
        "<td align=\"left\">\u52de\u52d9\u985e</td>\n",
        "<!-- \u516c\u544a\u65e5\u671f -->\n",
        "<td align=\"center\">103/04/29\n",
        "</td>\n",
        "<!-- \u6c7a\u6a19\u91d1\u984d -->\n",
        "<td align=\"right\">\r\n",
        "\t\t\t\t\t\t\t\t\t\t\t\t\t1486000\r\n",
        "\t\t\t\t\t\t\t\t\t\t\t\t</td>\n",
        "<!-- \u6c7a\u6a19\u516c\u544a -->\n",
        "<td align=\"center\">\n",
        "<a href=\"../main/pms/tps/atm/atmAwardAction.do?newEdit=false&amp;searchMode=common&amp;method=inquiryForPublic&amp;pkAtmMain=51239412&amp;tenderCaseNo=103036\">\n",
        "<u>001</u>\n",
        "</a>\r\n",
        "\t\t\t\t\t\t\t\t\t\t\t\t\t\t\r\n",
        "\t\t\t\t\t\t\t\t\t\t\t\t\t\u00a0\r\n",
        "\t\t\t\t\t\t\t\t\t\t\t\t</td>\n",
        "<!-- \u7121\u6cd5\u6c7a\u6a19\u516c\u544a -->\n",
        "<td align=\"center\">\r\n",
        "\t\t\t\t\t\t\t\t\t\t\t\t\t\u00a0\r\n",
        "\t\t\t\t\t\t\t\t\t\t\t\t</td>\n",
        "</tr>\n",
        "<tr bgcolor=\"#FFFFFF\" onmouseout=\"outcss(this,'#FFFFFF');\" onmouseover=\"overcss(this);\">\n",
        "<!-- \u9805\u6b21 -->\n",
        "<td align=\"center\">79\u00a0</td>\n",
        "<!-- \u6a5f\u95dc\u540d\u7a31 -->\n",
        "<td align=\"left\">\u91d1\u9580\u7e23\u7269\u8cc7\u8655</td>\n",
        "<!-- \u6a19\u6848\u6848\u865f&\u6a19\u6848\u540d\u7a31 -->\n",
        "<td align=\"left\">\r\n",
        "\t\t\t\t\t\t\t\t\t\t\t\t103230230128\r\n",
        "\t\t\t\t\t\t\t\t\t\t\t\t\r\n",
        "\t\t\t\t\t\t\t\t\t\t\t\t<br>\n",
        "<a href=\"../main/pms/tps/atm/atmAwardAction.do?newEdit=false&amp;searchMode=common&amp;method=inquiryForPublic&amp;pkAtmMain=51239414&amp;tenderCaseNo=103230230128\">\n",
        "<u>\u91d1\u5be7\u5ee0\u64f4\u5ee0\u65b0\u5efa\u5de5\u7a0b\u65bd\u5de5\u3001\u71df\u904b\u671f\u9593\u74b0\u5883\u76e3\u6e2c\u5de5\u4f5c</u>\n",
        "</a>\n",
        "</br></td>\n",
        "<!-- \u62db\u6a19\u65b9\u5f0f -->\n",
        "<td align=\"left\">\u516c\u958b\u62db\u6a19</td>\n",
        "<!-- \u6a19\u7684\u5206\u985e -->\n",
        "<td align=\"left\">\u52de\u52d9\u985e</td>\n",
        "<!-- \u516c\u544a\u65e5\u671f -->\n",
        "<td align=\"center\">103/04/29\n",
        "</td>\n",
        "<!-- \u6c7a\u6a19\u91d1\u984d -->\n",
        "<td align=\"right\">\r\n",
        "\t\t\t\t\t\t\t\t\t\t\t\t\t5421224\r\n",
        "\t\t\t\t\t\t\t\t\t\t\t\t</td>\n",
        "<!-- \u6c7a\u6a19\u516c\u544a -->\n",
        "<td align=\"center\">\n",
        "<a href=\"../main/pms/tps/atm/atmAwardAction.do?newEdit=false&amp;searchMode=common&amp;method=inquiryForPublic&amp;pkAtmMain=51239414&amp;tenderCaseNo=103230230128\">\n",
        "<u>001</u>\n",
        "</a>\r\n",
        "\t\t\t\t\t\t\t\t\t\t\t\t\t\t\r\n",
        "\t\t\t\t\t\t\t\t\t\t\t\t\t\u00a0\r\n",
        "\t\t\t\t\t\t\t\t\t\t\t\t</td>\n",
        "<!-- \u7121\u6cd5\u6c7a\u6a19\u516c\u544a -->\n",
        "<td align=\"center\">\r\n",
        "\t\t\t\t\t\t\t\t\t\t\t\t\t\u00a0\r\n",
        "\t\t\t\t\t\t\t\t\t\t\t\t</td>\n",
        "</tr>\n",
        "<tr bgcolor=\"#D6FAC5\" onmouseout=\"outcss(this,'#D6FAC5');\" onmouseover=\"overcss(this);\">\n",
        "<!-- \u9805\u6b21 -->\n",
        "<td align=\"center\">80\u00a0</td>\n",
        "<!-- \u6a5f\u95dc\u540d\u7a31 -->\n",
        "<td align=\"left\">\u570b\u5bb6\u6587\u5b98\u5b78\u9662</td>\n",
        "<!-- \u6a19\u6848\u6848\u865f&\u6a19\u6848\u540d\u7a31 -->\n",
        "<td align=\"left\">\r\n",
        "\t\t\t\t\t\t\t\t\t\t\t\t10328\r\n",
        "\t\t\t\t\t\t\t\t\t\t\t\t\r\n",
        "\t\t\t\t\t\t\t\t\t\t\t\t<br>\n",
        "<a href=\"../main/pms/tps/atm/atmAwardAction.do?newEdit=false&amp;searchMode=common&amp;method=inquiryForPublic&amp;pkAtmMain=51239415&amp;tenderCaseNo=10328\">\n",
        "<u>\u9ad8\u968e\u6587\u5b98\u57f9\u8a13\u98db\u8e8d\u65b9\u6848103\u5e74\u8a13\u7df4\u5a92\u9ad4\u95dc\u4fc2\u8207\u6a21\u64ec\u6f14\u7df4\u8ab2\u7a0b\u59d4\u5916\u63a1\u8cfc\u6848</u>\n",
        "</a>\n",
        "</br></td>\n",
        "<!-- \u62db\u6a19\u65b9\u5f0f -->\n",
        "<td align=\"left\">\u9650\u5236\u6027\u62db\u6a19(\u672a\u7d93\u516c\u958b\u8a55\u9078\u6216\u516c\u958b\u5fb5\u6c42)</td>\n",
        "<!-- \u6a19\u7684\u5206\u985e -->\n",
        "<td align=\"left\">\u52de\u52d9\u985e</td>\n",
        "<!-- \u516c\u544a\u65e5\u671f -->\n",
        "<td align=\"center\">103/04/29\n",
        "</td>\n",
        "<!-- \u6c7a\u6a19\u91d1\u984d -->\n",
        "<td align=\"right\">\r\n",
        "\t\t\t\t\t\t\t\t\t\t\t\t\t390000\r\n",
        "\t\t\t\t\t\t\t\t\t\t\t\t</td>\n",
        "<!-- \u6c7a\u6a19\u516c\u544a -->\n",
        "<td align=\"center\">\n",
        "<a href=\"../main/pms/tps/atm/atmAwardAction.do?newEdit=false&amp;searchMode=common&amp;method=inquiryForPublic&amp;pkAtmMain=51239415&amp;tenderCaseNo=10328\">\n",
        "<u>001</u>\n",
        "</a>\r\n",
        "\t\t\t\t\t\t\t\t\t\t\t\t\t\t\r\n",
        "\t\t\t\t\t\t\t\t\t\t\t\t\t\u00a0\r\n",
        "\t\t\t\t\t\t\t\t\t\t\t\t</td>\n",
        "<!-- \u7121\u6cd5\u6c7a\u6a19\u516c\u544a -->\n",
        "<td align=\"center\">\r\n",
        "\t\t\t\t\t\t\t\t\t\t\t\t\t\u00a0\r\n",
        "\t\t\t\t\t\t\t\t\t\t\t\t</td>\n",
        "</tr>\n",
        "<tr bgcolor=\"#FFFFFF\" onmouseout=\"outcss(this,'#FFFFFF');\" onmouseover=\"overcss(this);\">\n",
        "<!-- \u9805\u6b21 -->\n",
        "<td align=\"center\">81\u00a0</td>\n",
        "<!-- \u6a5f\u95dc\u540d\u7a31 -->\n",
        "<td align=\"left\">\u570b\u7acb\u6b77\u53f2\u535a\u7269\u9928</td>\n",
        "<!-- \u6a19\u6848\u6848\u865f&\u6a19\u6848\u540d\u7a31 -->\n",
        "<td align=\"left\">\r\n",
        "\t\t\t\t\t\t\t\t\t\t\t\t103026\r\n",
        "\t\t\t\t\t\t\t\t\t\t\t\t\r\n",
        "\t\t\t\t\t\t\t\t\t\t\t\t<br>\n",
        "<a href=\"../main/pms/tps/atm/atmAwardAction.do?newEdit=false&amp;searchMode=common&amp;method=inquiryForPublic&amp;pkAtmMain=51239416&amp;tenderCaseNo=103026\">\n",
        "<u>\u672c\u9928\u5168\u7403\u8cc7\u8a0a\u5165\u53e3\u7db2\u7ad9\u6539\u7248\u5efa\u7f6e</u>\n",
        "</a>\n",
        "</br></td>\n",
        "<!-- \u62db\u6a19\u65b9\u5f0f -->\n",
        "<td align=\"left\">\u516c\u958b\u53d6\u5f97\u5831\u50f9\u55ae\u6216\u4f01\u5283\u66f8</td>\n",
        "<!-- \u6a19\u7684\u5206\u985e -->\n",
        "<td align=\"left\">\u52de\u52d9\u985e</td>\n",
        "<!-- \u516c\u544a\u65e5\u671f -->\n",
        "<td align=\"center\">103/04/29\n",
        "</td>\n",
        "<!-- \u6c7a\u6a19\u91d1\u984d -->\n",
        "<td align=\"right\">\r\n",
        "\t\t\t\t\t\t\t\t\t\t\t\t\t850000\r\n",
        "\t\t\t\t\t\t\t\t\t\t\t\t</td>\n",
        "<!-- \u6c7a\u6a19\u516c\u544a -->\n",
        "<td align=\"center\">\n",
        "<a href=\"../main/pms/tps/atm/atmAwardAction.do?newEdit=false&amp;searchMode=common&amp;method=inquiryForPublic&amp;pkAtmMain=51239416&amp;tenderCaseNo=103026\">\n",
        "<u>001</u>\n",
        "</a>\r\n",
        "\t\t\t\t\t\t\t\t\t\t\t\t\t\t\r\n",
        "\t\t\t\t\t\t\t\t\t\t\t\t\t\u00a0\r\n",
        "\t\t\t\t\t\t\t\t\t\t\t\t</td>\n",
        "<!-- \u7121\u6cd5\u6c7a\u6a19\u516c\u544a -->\n",
        "<td align=\"center\">\r\n",
        "\t\t\t\t\t\t\t\t\t\t\t\t\t\u00a0\r\n",
        "\t\t\t\t\t\t\t\t\t\t\t\t</td>\n",
        "</tr>\n",
        "<tr bgcolor=\"#D6FAC5\" onmouseout=\"outcss(this,'#D6FAC5');\" onmouseover=\"overcss(this);\">\n",
        "<!-- \u9805\u6b21 -->\n",
        "<td align=\"center\">82\u00a0</td>\n",
        "<!-- \u6a5f\u95dc\u540d\u7a31 -->\n",
        "<td align=\"left\">\u81fa\u5357\u5e02\u6587\u5316\u8cc7\u7522\u7ba1\u7406\u8655</td>\n",
        "<!-- \u6a19\u6848\u6848\u865f&\u6a19\u6848\u540d\u7a31 -->\n",
        "<td align=\"left\">\r\n",
        "\t\t\t\t\t\t\t\t\t\t\t\t103TMACH06S\r\n",
        "\t\t\t\t\t\t\t\t\t\t\t\t\r\n",
        "\t\t\t\t\t\t\t\t\t\t\t\t<br>\n",
        "<a href=\"../main/pms/tps/atm/atmAwardAction.do?newEdit=false&amp;searchMode=common&amp;method=inquiryForPublic&amp;pkAtmMain=51239417&amp;tenderCaseNo=103TMACH06S\">\n",
        "<u>\u738b\u6c38\u5ddd\u795e\u8f4e\u88fd\u4f5c\u6280\u85dd\u5f71\u50cf\u8a18\u9304\u8a08\u756b</u>\n",
        "</a>\n",
        "</br></td>\n",
        "<!-- \u62db\u6a19\u65b9\u5f0f -->\n",
        "<td align=\"left\">\u516c\u958b\u53d6\u5f97\u5831\u50f9\u55ae\u6216\u4f01\u5283\u66f8</td>\n",
        "<!-- \u6a19\u7684\u5206\u985e -->\n",
        "<td align=\"left\">\u52de\u52d9\u985e</td>\n",
        "<!-- \u516c\u544a\u65e5\u671f -->\n",
        "<td align=\"center\">103/04/29\n",
        "</td>\n",
        "<!-- \u6c7a\u6a19\u91d1\u984d -->\n",
        "<td align=\"right\">\r\n",
        "\t\t\t\t\t\t\t\t\t\t\t\t\t750000\r\n",
        "\t\t\t\t\t\t\t\t\t\t\t\t</td>\n",
        "<!-- \u6c7a\u6a19\u516c\u544a -->\n",
        "<td align=\"center\">\n",
        "<a href=\"../main/pms/tps/atm/atmAwardAction.do?newEdit=false&amp;searchMode=common&amp;method=inquiryForPublic&amp;pkAtmMain=51239417&amp;tenderCaseNo=103TMACH06S\">\n",
        "<u>001</u>\n",
        "</a>\r\n",
        "\t\t\t\t\t\t\t\t\t\t\t\t\t\t\r\n",
        "\t\t\t\t\t\t\t\t\t\t\t\t\t\u00a0\r\n",
        "\t\t\t\t\t\t\t\t\t\t\t\t</td>\n",
        "<!-- \u7121\u6cd5\u6c7a\u6a19\u516c\u544a -->\n",
        "<td align=\"center\">\r\n",
        "\t\t\t\t\t\t\t\t\t\t\t\t\t\u00a0\r\n",
        "\t\t\t\t\t\t\t\t\t\t\t\t</td>\n",
        "</tr>\n",
        "<tr bgcolor=\"#FFFFFF\" onmouseout=\"outcss(this,'#FFFFFF');\" onmouseover=\"overcss(this);\">\n",
        "<!-- \u9805\u6b21 -->\n",
        "<td align=\"center\">83\u00a0</td>\n",
        "<!-- \u6a5f\u95dc\u540d\u7a31 -->\n",
        "<td align=\"left\">\u884c\u653f\u9662\u8fb2\u696d\u59d4\u54e1\u6703\u6797\u52d9\u5c40\u82b1\u84ee\u6797\u5340\u7ba1\u7406\u8655</td>\n",
        "<!-- \u6a19\u6848\u6848\u865f&\u6a19\u6848\u540d\u7a31 -->\n",
        "<td align=\"left\">\r\n",
        "\t\t\t\t\t\t\t\t\t\t\t\t103H15\r\n",
        "\t\t\t\t\t\t\t\t\t\t\t\t\r\n",
        "\t\t\t\t\t\t\t\t\t\t\t\t<br>\n",
        "<a href=\"../main/pms/tps/atm/atmAwardAction.do?newEdit=false&amp;searchMode=common&amp;method=inquiryForPublic&amp;pkAtmMain=51239447&amp;tenderCaseNo=103H15\">\n",
        "<u>103 \uf98e\u5e73\u9020\u7b2c1-7 \u865f\u672c\u8655\u5357\u83ef\u3001\u842c\u69ae\u53ca\u7389\uf9e9\u7ad9\u8f44\u5167\u9762\u7a4d31.49 \u516c\u9803\u5208\u8349\u3001\ufa00\u8513\u53ca\u4fee\u679d\u7b49\u64ab\u80b2\u5de5\u4f5c</u>\n",
        "</a>\n",
        "</br></td>\n",
        "<!-- \u62db\u6a19\u65b9\u5f0f -->\n",
        "<td align=\"left\">\u516c\u958b\u62db\u6a19</td>\n",
        "<!-- \u6a19\u7684\u5206\u985e -->\n",
        "<td align=\"left\">\u52de\u52d9\u985e</td>\n",
        "<!-- \u516c\u544a\u65e5\u671f -->\n",
        "<td align=\"center\">103/04/29\n",
        "</td>\n",
        "<!-- \u6c7a\u6a19\u91d1\u984d -->\n",
        "<td align=\"right\">\r\n",
        "\t\t\t\t\t\t\t\t\t\t\t\t\t2733300\r\n",
        "\t\t\t\t\t\t\t\t\t\t\t\t</td>\n",
        "<!-- \u6c7a\u6a19\u516c\u544a -->\n",
        "<td align=\"center\">\n",
        "<a href=\"../main/pms/tps/atm/atmAwardAction.do?newEdit=false&amp;searchMode=common&amp;method=inquiryForPublic&amp;pkAtmMain=51239447&amp;tenderCaseNo=103H15\">\n",
        "<u>001</u>\n",
        "</a>\r\n",
        "\t\t\t\t\t\t\t\t\t\t\t\t\t\t\r\n",
        "\t\t\t\t\t\t\t\t\t\t\t\t\t\u00a0\r\n",
        "\t\t\t\t\t\t\t\t\t\t\t\t</td>\n",
        "<!-- \u7121\u6cd5\u6c7a\u6a19\u516c\u544a -->\n",
        "<td align=\"center\">\r\n",
        "\t\t\t\t\t\t\t\t\t\t\t\t\t\u00a0\r\n",
        "\t\t\t\t\t\t\t\t\t\t\t\t</td>\n",
        "</tr>\n",
        "<tr bgcolor=\"#D6FAC5\" onmouseout=\"outcss(this,'#D6FAC5');\" onmouseover=\"overcss(this);\">\n",
        "<!-- \u9805\u6b21 -->\n",
        "<td align=\"center\">84\u00a0</td>\n",
        "<!-- \u6a5f\u95dc\u540d\u7a31 -->\n",
        "<td align=\"left\">\u81fa\u5357\u5e02\u6587\u5316\u8cc7\u7522\u7ba1\u7406\u8655</td>\n",
        "<!-- \u6a19\u6848\u6848\u865f&\u6a19\u6848\u540d\u7a31 -->\n",
        "<td align=\"left\">\r\n",
        "\t\t\t\t\t\t\t\t\t\t\t\t103TMACH09S\r\n",
        "\t\t\t\t\t\t\t\t\t\t\t\t\r\n",
        "\t\t\t\t\t\t\t\t\t\t\t\t<br>\n",
        "<a href=\"../main/pms/tps/atm/atmAwardAction.do?newEdit=false&amp;searchMode=common&amp;method=inquiryForPublic&amp;pkAtmMain=51239456&amp;tenderCaseNo=103TMACH09S\">\n",
        "<u>\u81fa\u5357\u5e02\u653f\u5e9c\u6587\u5316\u5c40\u7d93\u7ba1\u6587\u7269\u7ba1\u7406\u7dad\u8b77\u53ca\u4fdd\u5b58\u65b9\u5f0f\u6559\u80b2\u8a13\u7df4</u>\n",
        "</a>\n",
        "</br></td>\n",
        "<!-- \u62db\u6a19\u65b9\u5f0f -->\n",
        "<td align=\"left\">\u516c\u958b\u53d6\u5f97\u5831\u50f9\u55ae\u6216\u4f01\u5283\u66f8</td>\n",
        "<!-- \u6a19\u7684\u5206\u985e -->\n",
        "<td align=\"left\">\u52de\u52d9\u985e</td>\n",
        "<!-- \u516c\u544a\u65e5\u671f -->\n",
        "<td align=\"center\">103/04/29\n",
        "</td>\n",
        "<!-- \u6c7a\u6a19\u91d1\u984d -->\n",
        "<td align=\"right\">\r\n",
        "\t\t\t\t\t\t\t\t\t\t\t\t\t240000\r\n",
        "\t\t\t\t\t\t\t\t\t\t\t\t</td>\n",
        "<!-- \u6c7a\u6a19\u516c\u544a -->\n",
        "<td align=\"center\">\n",
        "<a href=\"../main/pms/tps/atm/atmAwardAction.do?newEdit=false&amp;searchMode=common&amp;method=inquiryForPublic&amp;pkAtmMain=51239456&amp;tenderCaseNo=103TMACH09S\">\n",
        "<u>001</u>\n",
        "</a>\r\n",
        "\t\t\t\t\t\t\t\t\t\t\t\t\t\t\r\n",
        "\t\t\t\t\t\t\t\t\t\t\t\t\t\u00a0\r\n",
        "\t\t\t\t\t\t\t\t\t\t\t\t</td>\n",
        "<!-- \u7121\u6cd5\u6c7a\u6a19\u516c\u544a -->\n",
        "<td align=\"center\">\r\n",
        "\t\t\t\t\t\t\t\t\t\t\t\t\t\u00a0\r\n",
        "\t\t\t\t\t\t\t\t\t\t\t\t</td>\n",
        "</tr>\n",
        "<tr bgcolor=\"#FFFFFF\" onmouseout=\"outcss(this,'#FFFFFF');\" onmouseover=\"overcss(this);\">\n",
        "<!-- \u9805\u6b21 -->\n",
        "<td align=\"center\">85\u00a0</td>\n",
        "<!-- \u6a5f\u95dc\u540d\u7a31 -->\n",
        "<td align=\"left\">\u5c4f\u6771\u7e23\u842c\u5dd2\u9109\u516c\u6240</td>\n",
        "<!-- \u6a19\u6848\u6848\u865f&\u6a19\u6848\u540d\u7a31 -->\n",
        "<td align=\"left\">\r\n",
        "\t\t\t\t\t\t\t\t\t\t\t\t1030327\r\n",
        "\t\t\t\t\t\t\t\t\t\t\t\t\r\n",
        "\t\t\t\t\t\t\t\t\t\t\t\t<br>\n",
        "<a href=\"../main/pms/tps/atm/atmAwardAction.do?newEdit=false&amp;searchMode=common&amp;method=inquiryForPublic&amp;pkAtmMain=51239457&amp;tenderCaseNo=1030327\">\n",
        "<u>103\u5e74\u5ea6\u5929\u7136\u707d\u5bb3\u7dca\u6025\u6436(\u4fee)\u96aa\u5de5\u7a0b\u958b\u53e3\u5951\u7d04</u>\n",
        "</a>\n",
        "</br></td>\n",
        "<!-- \u62db\u6a19\u65b9\u5f0f -->\n",
        "<td align=\"left\">\u516c\u958b\u62db\u6a19</td>\n",
        "<!-- \u6a19\u7684\u5206\u985e -->\n",
        "<td align=\"left\">\u52de\u52d9\u985e</td>\n",
        "<!-- \u516c\u544a\u65e5\u671f -->\n",
        "<td align=\"center\">103/04/29\n",
        "</td>\n",
        "<!-- \u6c7a\u6a19\u91d1\u984d -->\n",
        "<td align=\"right\">\r\n",
        "\t\t\t\t\t\t\t\t\t\t\t\t\t1178000\r\n",
        "\t\t\t\t\t\t\t\t\t\t\t\t</td>\n",
        "<!-- \u6c7a\u6a19\u516c\u544a -->\n",
        "<td align=\"center\">\n",
        "<a href=\"../main/pms/tps/atm/atmAwardAction.do?newEdit=false&amp;searchMode=common&amp;method=inquiryForPublic&amp;pkAtmMain=51239457&amp;tenderCaseNo=1030327\">\n",
        "<u>001</u>\n",
        "</a>\r\n",
        "\t\t\t\t\t\t\t\t\t\t\t\t\t\t\r\n",
        "\t\t\t\t\t\t\t\t\t\t\t\t\t\u00a0\r\n",
        "\t\t\t\t\t\t\t\t\t\t\t\t</td>\n",
        "<!-- \u7121\u6cd5\u6c7a\u6a19\u516c\u544a -->\n",
        "<td align=\"center\">\r\n",
        "\t\t\t\t\t\t\t\t\t\t\t\t\t\u00a0\r\n",
        "\t\t\t\t\t\t\t\t\t\t\t\t</td>\n",
        "</tr>\n",
        "<tr bgcolor=\"#D6FAC5\" onmouseout=\"outcss(this,'#D6FAC5');\" onmouseover=\"overcss(this);\">\n",
        "<!-- \u9805\u6b21 -->\n",
        "<td align=\"center\">86\u00a0</td>\n",
        "<!-- \u6a5f\u95dc\u540d\u7a31 -->\n",
        "<td align=\"left\">\u65b0\u5317\u5e02\u7acb\u6f33\u548c\u570b\u6c11\u4e2d\u5b78</td>\n",
        "<!-- \u6a19\u6848\u6848\u865f&\u6a19\u6848\u540d\u7a31 -->\n",
        "<td align=\"left\">\r\n",
        "\t\t\t\t\t\t\t\t\t\t\t\tchjh103-004\r\n",
        "\t\t\t\t\t\t\t\t\t\t\t\t\r\n",
        "\t\t\t\t\t\t\t\t\t\t\t\t<br>\n",
        "<a href=\"../main/pms/tps/atm/atmAwardAction.do?newEdit=false&amp;searchMode=common&amp;method=inquiryForPublic&amp;pkAtmMain=51239465&amp;tenderCaseNo=chjh103-004\">\n",
        "<u>103\u5b78\u5e74\u5ea6\u516b\u5e74\u7d1a\u6821\u5916\u6559\u5b78\u9694\u5bbf\u9732\u71df\u6d3b\u52d5\u59d4\u8a17\u670d\u52d9</u>\n",
        "</a>\n",
        "</br></td>\n",
        "<!-- \u62db\u6a19\u65b9\u5f0f -->\n",
        "<td align=\"left\">\u516c\u958b\u53d6\u5f97\u5831\u50f9\u55ae\u6216\u4f01\u5283\u66f8</td>\n",
        "<!-- \u6a19\u7684\u5206\u985e -->\n",
        "<td align=\"left\">\u52de\u52d9\u985e</td>\n",
        "<!-- \u516c\u544a\u65e5\u671f -->\n",
        "<td align=\"center\">103/04/29\n",
        "</td>\n",
        "<!-- \u6c7a\u6a19\u91d1\u984d -->\n",
        "<td align=\"right\">\r\n",
        "\t\t\t\t\t\t\t\t\t\t\t\t\t722000\r\n",
        "\t\t\t\t\t\t\t\t\t\t\t\t</td>\n",
        "<!-- \u6c7a\u6a19\u516c\u544a -->\n",
        "<td align=\"center\">\n",
        "<a href=\"../main/pms/tps/atm/atmAwardAction.do?newEdit=false&amp;searchMode=common&amp;method=inquiryForPublic&amp;pkAtmMain=51239465&amp;tenderCaseNo=chjh103-004\">\n",
        "<u>001</u>\n",
        "</a>\r\n",
        "\t\t\t\t\t\t\t\t\t\t\t\t\t\t\r\n",
        "\t\t\t\t\t\t\t\t\t\t\t\t\t\u00a0\r\n",
        "\t\t\t\t\t\t\t\t\t\t\t\t</td>\n",
        "<!-- \u7121\u6cd5\u6c7a\u6a19\u516c\u544a -->\n",
        "<td align=\"center\">\r\n",
        "\t\t\t\t\t\t\t\t\t\t\t\t\t\u00a0\r\n",
        "\t\t\t\t\t\t\t\t\t\t\t\t</td>\n",
        "</tr>\n",
        "<tr bgcolor=\"#FFFFFF\" onmouseout=\"outcss(this,'#FFFFFF');\" onmouseover=\"overcss(this);\">\n",
        "<!-- \u9805\u6b21 -->\n",
        "<td align=\"center\">87\u00a0</td>\n",
        "<!-- \u6a5f\u95dc\u540d\u7a31 -->\n",
        "<td align=\"left\">\u65b0\u5317\u5e02\u653f\u5e9c\u5e02\u5834\u8655</td>\n",
        "<!-- \u6a19\u6848\u6848\u865f&\u6a19\u6848\u540d\u7a31 -->\n",
        "<td align=\"left\">\r\n",
        "\t\t\t\t\t\t\t\t\t\t\t\t103-A-09\r\n",
        "\t\t\t\t\t\t\t\t\t\t\t\t\r\n",
        "\t\t\t\t\t\t\t\t\t\t\t\t<br>\n",
        "<a href=\"../main/pms/tps/atm/atmAwardAction.do?newEdit=false&amp;searchMode=common&amp;method=inquiryForPublic&amp;pkAtmMain=51239319&amp;tenderCaseNo=103-A-09\">\n",
        "<u>\u65b0\u5317\u5e02\u5404\u516c\u6709\u5e02\u5834\u3001\u6524\u8ca9\u96c6\u4e2d\u5834(\u5340)\u6c34\u96fb\u96f6\u661f\u7dad\u8b77\u4f5c\u696d(\u958b\u53e3\u5951\u7d04)\u6848</u>\n",
        "</a>\n",
        "</br></td>\n",
        "<!-- \u62db\u6a19\u65b9\u5f0f -->\n",
        "<td align=\"left\">\u516c\u958b\u62db\u6a19</td>\n",
        "<!-- \u6a19\u7684\u5206\u985e -->\n",
        "<td align=\"left\">\u52de\u52d9\u985e</td>\n",
        "<!-- \u516c\u544a\u65e5\u671f -->\n",
        "<td align=\"center\">103/04/29\n",
        "</td>\n",
        "<!-- \u6c7a\u6a19\u91d1\u984d -->\n",
        "<td align=\"right\">\r\n",
        "\t\t\t\t\t\t\t\t\t\t\t\t\t2348346\r\n",
        "\t\t\t\t\t\t\t\t\t\t\t\t</td>\n",
        "<!-- \u6c7a\u6a19\u516c\u544a -->\n",
        "<td align=\"center\">\n",
        "<a href=\"../main/pms/tps/atm/atmAwardAction.do?newEdit=false&amp;searchMode=common&amp;method=inquiryForPublic&amp;pkAtmMain=51239319&amp;tenderCaseNo=103-A-09\">\n",
        "<u>001</u>\n",
        "</a>\r\n",
        "\t\t\t\t\t\t\t\t\t\t\t\t\t\t\r\n",
        "\t\t\t\t\t\t\t\t\t\t\t\t\t\u00a0\r\n",
        "\t\t\t\t\t\t\t\t\t\t\t\t</td>\n",
        "<!-- \u7121\u6cd5\u6c7a\u6a19\u516c\u544a -->\n",
        "<td align=\"center\">\r\n",
        "\t\t\t\t\t\t\t\t\t\t\t\t\t\u00a0\r\n",
        "\t\t\t\t\t\t\t\t\t\t\t\t</td>\n",
        "</tr>\n",
        "<tr bgcolor=\"#D6FAC5\" onmouseout=\"outcss(this,'#D6FAC5');\" onmouseover=\"overcss(this);\">\n",
        "<!-- \u9805\u6b21 -->\n",
        "<td align=\"center\">88\u00a0</td>\n",
        "<!-- \u6a5f\u95dc\u540d\u7a31 -->\n",
        "<td align=\"left\">\u6843\u5712\u7e23\u6843\u5712\u5e02\u516c\u6240</td>\n",
        "<!-- \u6a19\u6848\u6848\u865f&\u6a19\u6848\u540d\u7a31 -->\n",
        "<td align=\"left\">\r\n",
        "\t\t\t\t\t\t\t\t\t\t\t\t103-TY-137\r\n",
        "\t\t\t\t\t\t\t\t\t\t\t\t\r\n",
        "\t\t\t\t\t\t\t\t\t\t\t\t<br>\n",
        "<a href=\"../main/pms/tps/atm/atmAwardAction.do?newEdit=false&amp;searchMode=common&amp;method=inquiryForPublic&amp;pkAtmMain=51239481&amp;tenderCaseNo=103-TY-137\">\n",
        "<u>\u85dd\u6587\u4e2d\u5fc3\u96fb\u68af\u4e3b\u6a5f\u5faa\u74b0\u6cb9\u66f4\u63db</u>\n",
        "</a>\n",
        "</br></td>\n",
        "<!-- \u62db\u6a19\u65b9\u5f0f -->\n",
        "<td align=\"left\">\u9650\u5236\u6027\u62db\u6a19(\u672a\u7d93\u516c\u958b\u8a55\u9078\u6216\u516c\u958b\u5fb5\u6c42)</td>\n",
        "<!-- \u6a19\u7684\u5206\u985e -->\n",
        "<td align=\"left\">\u52de\u52d9\u985e</td>\n",
        "<!-- \u516c\u544a\u65e5\u671f -->\n",
        "<td align=\"center\">103/04/29\n",
        "</td>\n",
        "<!-- \u6c7a\u6a19\u91d1\u984d -->\n",
        "<td align=\"right\">\r\n",
        "\t\t\t\t\t\t\t\t\t\t\t\t\t120000\r\n",
        "\t\t\t\t\t\t\t\t\t\t\t\t</td>\n",
        "<!-- \u6c7a\u6a19\u516c\u544a -->\n",
        "<td align=\"center\">\n",
        "<a href=\"../main/pms/tps/atm/atmAwardAction.do?newEdit=false&amp;searchMode=common&amp;method=inquiryForPublic&amp;pkAtmMain=51239481&amp;tenderCaseNo=103-TY-137\">\n",
        "<u>001</u>\n",
        "</a>\r\n",
        "\t\t\t\t\t\t\t\t\t\t\t\t\t\t\r\n",
        "\t\t\t\t\t\t\t\t\t\t\t\t\t\u00a0\r\n",
        "\t\t\t\t\t\t\t\t\t\t\t\t</td>\n",
        "<!-- \u7121\u6cd5\u6c7a\u6a19\u516c\u544a -->\n",
        "<td align=\"center\">\r\n",
        "\t\t\t\t\t\t\t\t\t\t\t\t\t\u00a0\r\n",
        "\t\t\t\t\t\t\t\t\t\t\t\t</td>\n",
        "</tr>\n",
        "<tr bgcolor=\"#FFFFFF\" onmouseout=\"outcss(this,'#FFFFFF');\" onmouseover=\"overcss(this);\">\n",
        "<!-- \u9805\u6b21 -->\n",
        "<td align=\"center\">89\u00a0</td>\n",
        "<!-- \u6a5f\u95dc\u540d\u7a31 -->\n",
        "<td align=\"left\">\u53f0\u7063\u96fb\u529b\u80a1\u4efd\u6709\u9650\u516c\u53f8\u8208\u9054\u767c\u96fb\u5ee0</td>\n",
        "<!-- \u6a19\u6848\u6848\u865f&\u6a19\u6848\u540d\u7a31 -->\n",
        "<td align=\"left\">\r\n",
        "\t\t\t\t\t\t\t\t\t\t\t\t3410300075-S03023\r\n",
        "\t\t\t\t\t\t\t\t\t\t\t\t\r\n",
        "\t\t\t\t\t\t\t\t\t\t\t\t<br>\n",
        "<a href=\"../main/pms/tps/atm/atmAwardAction.do?newEdit=false&amp;searchMode=common&amp;method=inquiryForPublic&amp;pkAtmMain=51239468&amp;tenderCaseNo=3410300075-S03023\">\n",
        "<u>\u8907\u4e09\u3001\u56db\u3001\u4e94\u6a5f\u71b1\u56de\u6536\u934b\u7210\u65c1\u901a\u98a8\u9580\u5927\u4fee\u5de5\u4f5c</u>\n",
        "</a>\n",
        "</br></td>\n",
        "<!-- \u62db\u6a19\u65b9\u5f0f -->\n",
        "<td align=\"left\">\u516c\u958b\u62db\u6a19</td>\n",
        "<!-- \u6a19\u7684\u5206\u985e -->\n",
        "<td align=\"left\">\u52de\u52d9\u985e</td>\n",
        "<!-- \u516c\u544a\u65e5\u671f -->\n",
        "<td align=\"center\">103/04/29\n",
        "</td>\n",
        "<!-- \u6c7a\u6a19\u91d1\u984d -->\n",
        "<td align=\"right\">\r\n",
        "\t\t\t\t\t\t\t\t\t\t\t\t\t2680000\r\n",
        "\t\t\t\t\t\t\t\t\t\t\t\t</td>\n",
        "<!-- \u6c7a\u6a19\u516c\u544a -->\n",
        "<td align=\"center\">\n",
        "<a href=\"../main/pms/tps/atm/atmAwardAction.do?newEdit=false&amp;searchMode=common&amp;method=inquiryForPublic&amp;pkAtmMain=51239468&amp;tenderCaseNo=3410300075-S03023\">\n",
        "<u>001</u>\n",
        "</a>\r\n",
        "\t\t\t\t\t\t\t\t\t\t\t\t\t\t\r\n",
        "\t\t\t\t\t\t\t\t\t\t\t\t\t\u00a0\r\n",
        "\t\t\t\t\t\t\t\t\t\t\t\t</td>\n",
        "<!-- \u7121\u6cd5\u6c7a\u6a19\u516c\u544a -->\n",
        "<td align=\"center\">\r\n",
        "\t\t\t\t\t\t\t\t\t\t\t\t\t\u00a0\r\n",
        "\t\t\t\t\t\t\t\t\t\t\t\t</td>\n",
        "</tr>\n",
        "<tr bgcolor=\"#D6FAC5\" onmouseout=\"outcss(this,'#D6FAC5');\" onmouseover=\"overcss(this);\">\n",
        "<!-- \u9805\u6b21 -->\n",
        "<td align=\"center\">90\u00a0</td>\n",
        "<!-- \u6a5f\u95dc\u540d\u7a31 -->\n",
        "<td align=\"left\">\u81fa\u5317\u7e23\u8606\u6d32\u5e02\u8606\u6d32\u570b\u6c11\u5c0f\u5b78</td>\n",
        "<!-- \u6a19\u6848\u6848\u865f&\u6a19\u6848\u540d\u7a31 -->\n",
        "<td align=\"left\">\r\n",
        "\t\t\t\t\t\t\t\t\t\t\t\tP9903\r\n",
        "\t\t\t\t\t\t\t\t\t\t\t\t\r\n",
        "\t\t\t\t\t\t\t\t\t\t\t\t<br>\n",
        "<a href=\"../main/pms/tps/atm/atmAwardAction.do?newEdit=false&amp;searchMode=common&amp;method=inquiryForPublic&amp;pkAtmMain=51239482&amp;tenderCaseNo=P9903\">\n",
        "<u>\u820a\u548c\u5e73\u6a13A\u68df\u53caB\u68df\u6821\u820d\u88dc\u5f37\u8a2d\u8a08\u59d4\u8a17\u6280\u8853\u670d\u52d9</u>\n",
        "</a>\n",
        "</br></td>\n",
        "<!-- \u62db\u6a19\u65b9\u5f0f -->\n",
        "<td align=\"left\">\u516c\u958b\u53d6\u5f97\u5831\u50f9\u55ae\u6216\u4f01\u5283\u66f8</td>\n",
        "<!-- \u6a19\u7684\u5206\u985e -->\n",
        "<td align=\"left\">\u52de\u52d9\u985e</td>\n",
        "<!-- \u516c\u544a\u65e5\u671f -->\n",
        "<td align=\"center\">103/04/29\n",
        "</td>\n",
        "<!-- \u6c7a\u6a19\u91d1\u984d -->\n",
        "<td align=\"right\">\r\n",
        "\t\t\t\t\t\t\t\t\t\t\t\t\t275052\r\n",
        "\t\t\t\t\t\t\t\t\t\t\t\t</td>\n",
        "<!-- \u6c7a\u6a19\u516c\u544a -->\n",
        "<td align=\"center\">\n",
        "<a href=\"../main/pms/tps/atm/atmAwardAction.do?newEdit=false&amp;searchMode=common&amp;method=inquiryForPublic&amp;pkAtmMain=51239482&amp;tenderCaseNo=P9903\">\n",
        "<u>001</u>\n",
        "</a>\r\n",
        "\t\t\t\t\t\t\t\t\t\t\t\t\t\t\r\n",
        "\t\t\t\t\t\t\t\t\t\t\t\t\t\u00a0\r\n",
        "\t\t\t\t\t\t\t\t\t\t\t\t</td>\n",
        "<!-- \u7121\u6cd5\u6c7a\u6a19\u516c\u544a -->\n",
        "<td align=\"center\">\r\n",
        "\t\t\t\t\t\t\t\t\t\t\t\t\t\u00a0\r\n",
        "\t\t\t\t\t\t\t\t\t\t\t\t</td>\n",
        "</tr>\n",
        "<tr bgcolor=\"#FFFFFF\" onmouseout=\"outcss(this,'#FFFFFF');\" onmouseover=\"overcss(this);\">\n",
        "<!-- \u9805\u6b21 -->\n",
        "<td align=\"center\">91\u00a0</td>\n",
        "<!-- \u6a5f\u95dc\u540d\u7a31 -->\n",
        "<td align=\"left\">\u8ca1\u5718\u6cd5\u4eba\u53f0\u5317\u5e02\u6587\u5316\u57fa\u91d1\u6703</td>\n",
        "<!-- \u6a19\u6848\u6848\u865f&\u6a19\u6848\u540d\u7a31 -->\n",
        "<td align=\"left\">\r\n",
        "\t\t\t\t\t\t\t\t\t\t\t\t103FC002\r\n",
        "\t\t\t\t\t\t\t\t\t\t\t\t\r\n",
        "\t\t\t\t\t\t\t\t\t\t\t\t<br>\n",
        "<a href=\"../main/pms/tps/atm/atmAwardAction.do?newEdit=false&amp;searchMode=common&amp;method=inquiryForPublic&amp;pkAtmMain=51239486&amp;tenderCaseNo=103FC002\">\n",
        "<u>\u300a\u53f0\u5317\u5de5\u5ee02 Taipei Factory 2\u300b\u59d4\u8a17\u5c08\u696d\u670d\u52d9B\u7d44</u>\n",
        "</a>\n",
        "</br></td>\n",
        "<!-- \u62db\u6a19\u65b9\u5f0f -->\n",
        "<td align=\"left\">\u9650\u5236\u6027\u62db\u6a19(\u672a\u7d93\u516c\u958b\u8a55\u9078\u6216\u516c\u958b\u5fb5\u6c42)</td>\n",
        "<!-- \u6a19\u7684\u5206\u985e -->\n",
        "<td align=\"left\">\u52de\u52d9\u985e</td>\n",
        "<!-- \u516c\u544a\u65e5\u671f -->\n",
        "<td align=\"center\">103/04/29\n",
        "</td>\n",
        "<!-- \u6c7a\u6a19\u91d1\u984d -->\n",
        "<td align=\"right\">\r\n",
        "\t\t\t\t\t\t\t\t\t\t\t\t\t2249880\r\n",
        "\t\t\t\t\t\t\t\t\t\t\t\t</td>\n",
        "<!-- \u6c7a\u6a19\u516c\u544a -->\n",
        "<td align=\"center\">\n",
        "<a href=\"../main/pms/tps/atm/atmAwardAction.do?newEdit=false&amp;searchMode=common&amp;method=inquiryForPublic&amp;pkAtmMain=51239486&amp;tenderCaseNo=103FC002\">\n",
        "<u>001</u>\n",
        "</a>\r\n",
        "\t\t\t\t\t\t\t\t\t\t\t\t\t\t\r\n",
        "\t\t\t\t\t\t\t\t\t\t\t\t\t\u00a0\r\n",
        "\t\t\t\t\t\t\t\t\t\t\t\t</td>\n",
        "<!-- \u7121\u6cd5\u6c7a\u6a19\u516c\u544a -->\n",
        "<td align=\"center\">\r\n",
        "\t\t\t\t\t\t\t\t\t\t\t\t\t\u00a0\r\n",
        "\t\t\t\t\t\t\t\t\t\t\t\t</td>\n",
        "</tr>\n",
        "<tr bgcolor=\"#D6FAC5\" onmouseout=\"outcss(this,'#D6FAC5');\" onmouseover=\"overcss(this);\">\n",
        "<!-- \u9805\u6b21 -->\n",
        "<td align=\"center\">92\u00a0</td>\n",
        "<!-- \u6a5f\u95dc\u540d\u7a31 -->\n",
        "<td align=\"left\">\u9ad8\u96c4\u5e02\u653f\u5e9c\u5de5\u52d9\u5c40\u65b0\u5efa\u5de5\u7a0b\u8655</td>\n",
        "<!-- \u6a19\u6848\u6848\u865f&\u6a19\u6848\u540d\u7a31 -->\n",
        "<td align=\"left\">\r\n",
        "\t\t\t\t\t\t\t\t\t\t\t\t1030318\r\n",
        "\t\t\t\t\t\t\t\t\t\t\t\t\r\n",
        "\t\t\t\t\t\t\t\t\t\t\t\t<br>\n",
        "<a href=\"../main/pms/tps/atm/atmAwardAction.do?newEdit=false&amp;searchMode=common&amp;method=inquiryForPublic&amp;pkAtmMain=51239487&amp;tenderCaseNo=1030318\">\n",
        "<u>\u300c103\u5e74\u670d\u52d9\u54c1\u8cea\u66a8\u5ec9\u653f\u5be6\u6cc1\u554f\u5377\u8abf\u67e5\u300d\u59d4\u8a17\u6c11\u610f\u8abf\u67e5</u>\n",
        "</a>\n",
        "</br></td>\n",
        "<!-- \u62db\u6a19\u65b9\u5f0f -->\n",
        "<td align=\"left\">\u516c\u958b\u53d6\u5f97\u5831\u50f9\u55ae\u6216\u4f01\u5283\u66f8</td>\n",
        "<!-- \u6a19\u7684\u5206\u985e -->\n",
        "<td align=\"left\">\u52de\u52d9\u985e</td>\n",
        "<!-- \u516c\u544a\u65e5\u671f -->\n",
        "<td align=\"center\">103/04/29\n",
        "</td>\n",
        "<!-- \u6c7a\u6a19\u91d1\u984d -->\n",
        "<td align=\"right\">\r\n",
        "\t\t\t\t\t\t\t\t\t\t\t\t\t140000\r\n",
        "\t\t\t\t\t\t\t\t\t\t\t\t</td>\n",
        "<!-- \u6c7a\u6a19\u516c\u544a -->\n",
        "<td align=\"center\">\n",
        "<a href=\"../main/pms/tps/atm/atmAwardAction.do?newEdit=false&amp;searchMode=common&amp;method=inquiryForPublic&amp;pkAtmMain=51239487&amp;tenderCaseNo=1030318\">\n",
        "<u>001</u>\n",
        "</a>\r\n",
        "\t\t\t\t\t\t\t\t\t\t\t\t\t\t\r\n",
        "\t\t\t\t\t\t\t\t\t\t\t\t\t\u00a0\r\n",
        "\t\t\t\t\t\t\t\t\t\t\t\t</td>\n",
        "<!-- \u7121\u6cd5\u6c7a\u6a19\u516c\u544a -->\n",
        "<td align=\"center\">\r\n",
        "\t\t\t\t\t\t\t\t\t\t\t\t\t\u00a0\r\n",
        "\t\t\t\t\t\t\t\t\t\t\t\t</td>\n",
        "</tr>\n",
        "<tr bgcolor=\"#FFFFFF\" onmouseout=\"outcss(this,'#FFFFFF');\" onmouseover=\"overcss(this);\">\n",
        "<!-- \u9805\u6b21 -->\n",
        "<td align=\"center\">93\u00a0</td>\n",
        "<!-- \u6a5f\u95dc\u540d\u7a31 -->\n",
        "<td align=\"left\">\u9ad8\u96c4\u5e02\u653f\u5e9c\u8fb2\u696d\u5c40</td>\n",
        "<!-- \u6a19\u6848\u6848\u865f&\u6a19\u6848\u540d\u7a31 -->\n",
        "<td align=\"left\">\r\n",
        "\t\t\t\t\t\t\t\t\t\t\t\tA103000002\r\n",
        "\t\t\t\t\t\t\t\t\t\t\t\t\r\n",
        "\t\t\t\t\t\t\t\t\t\t\t\t<br>\n",
        "<a href=\"../main/pms/tps/atm/atmAwardAction.do?newEdit=false&amp;searchMode=common&amp;method=inquiryForPublic&amp;pkAtmMain=51239509&amp;tenderCaseNo=A103000002\">\n",
        "<u>103\u5e74\u9ad8\u96c4\u5e02\u7389\u8377\u5305\u5564\u9152\u7bc0\u66a8\u8fb2\u7522\u54c1\u5c55\u552e\u6d3b\u52d5\u57f7\u884c\u898f\u5283</u>\n",
        "</a>\n",
        "</br></td>\n",
        "<!-- \u62db\u6a19\u65b9\u5f0f -->\n",
        "<td align=\"left\">\u9650\u5236\u6027\u62db\u6a19(\u7d93\u516c\u958b\u8a55\u9078\u6216\u516c\u958b\u5fb5\u6c42)</td>\n",
        "<!-- \u6a19\u7684\u5206\u985e -->\n",
        "<td align=\"left\">\u52de\u52d9\u985e</td>\n",
        "<!-- \u516c\u544a\u65e5\u671f -->\n",
        "<td align=\"center\">103/04/29\n",
        "</td>\n",
        "<!-- \u6c7a\u6a19\u91d1\u984d -->\n",
        "<td align=\"right\">\r\n",
        "\t\t\t\t\t\t\t\t\t\t\t\t\t7950000\r\n",
        "\t\t\t\t\t\t\t\t\t\t\t\t</td>\n",
        "<!-- \u6c7a\u6a19\u516c\u544a -->\n",
        "<td align=\"center\">\n",
        "<a href=\"../main/pms/tps/atm/atmAwardAction.do?newEdit=false&amp;searchMode=common&amp;method=inquiryForPublic&amp;pkAtmMain=51239509&amp;tenderCaseNo=A103000002\">\n",
        "<u>001</u>\n",
        "</a>\r\n",
        "\t\t\t\t\t\t\t\t\t\t\t\t\t\t\r\n",
        "\t\t\t\t\t\t\t\t\t\t\t\t\t\u00a0\r\n",
        "\t\t\t\t\t\t\t\t\t\t\t\t</td>\n",
        "<!-- \u7121\u6cd5\u6c7a\u6a19\u516c\u544a -->\n",
        "<td align=\"center\">\r\n",
        "\t\t\t\t\t\t\t\t\t\t\t\t\t\u00a0\r\n",
        "\t\t\t\t\t\t\t\t\t\t\t\t</td>\n",
        "</tr>\n",
        "<tr bgcolor=\"#D6FAC5\" onmouseout=\"outcss(this,'#D6FAC5');\" onmouseover=\"overcss(this);\">\n",
        "<!-- \u9805\u6b21 -->\n",
        "<td align=\"center\">94\u00a0</td>\n",
        "<!-- \u6a5f\u95dc\u540d\u7a31 -->\n",
        "<td align=\"left\">\u7d93\u6fdf\u90e8\u6c34\u5229\u7f72</td>\n",
        "<!-- \u6a19\u6848\u6848\u865f&\u6a19\u6848\u540d\u7a31 -->\n",
        "<td align=\"left\">\r\n",
        "\t\t\t\t\t\t\t\t\t\t\t\t1030228\r\n",
        "\t\t\t\t\t\t\t\t\t\t\t\t\r\n",
        "\t\t\t\t\t\t\t\t\t\t\t\t<br>\n",
        "<a href=\"../main/pms/tps/atm/atmAwardAction.do?newEdit=false&amp;searchMode=common&amp;method=inquiryForPublic&amp;pkAtmMain=51239510&amp;tenderCaseNo=1030228\">\n",
        "<u>\u5404\u7528\u6c34\u6a19\u7684\u4e8b\u696d\u6240\u9700\u5408\u7406\u7528\u6c34\u91cf\u6aa2\u8a0e\u53ca\u5176\u8a08\u7b97\u7cfb\u7d71\u6539\u5584\u8a08\u756b\uff082/2\uff09</u>\n",
        "</a>\n",
        "</br></td>\n",
        "<!-- \u62db\u6a19\u65b9\u5f0f -->\n",
        "<td align=\"left\">\u9650\u5236\u6027\u62db\u6a19(\u672a\u7d93\u516c\u958b\u8a55\u9078\u6216\u516c\u958b\u5fb5\u6c42)</td>\n",
        "<!-- \u6a19\u7684\u5206\u985e -->\n",
        "<td align=\"left\">\u52de\u52d9\u985e</td>\n",
        "<!-- \u516c\u544a\u65e5\u671f -->\n",
        "<td align=\"center\">103/04/29\n",
        "</td>\n",
        "<!-- \u6c7a\u6a19\u91d1\u984d -->\n",
        "<td align=\"right\">\r\n",
        "\t\t\t\t\t\t\t\t\t\t\t\t\t1786000\r\n",
        "\t\t\t\t\t\t\t\t\t\t\t\t</td>\n",
        "<!-- \u6c7a\u6a19\u516c\u544a -->\n",
        "<td align=\"center\">\n",
        "<a href=\"../main/pms/tps/atm/atmAwardAction.do?newEdit=false&amp;searchMode=common&amp;method=inquiryForPublic&amp;pkAtmMain=51239510&amp;tenderCaseNo=1030228\">\n",
        "<u>001</u>\n",
        "</a>\r\n",
        "\t\t\t\t\t\t\t\t\t\t\t\t\t\t\r\n",
        "\t\t\t\t\t\t\t\t\t\t\t\t\t\u00a0\r\n",
        "\t\t\t\t\t\t\t\t\t\t\t\t</td>\n",
        "<!-- \u7121\u6cd5\u6c7a\u6a19\u516c\u544a -->\n",
        "<td align=\"center\">\r\n",
        "\t\t\t\t\t\t\t\t\t\t\t\t\t\u00a0\r\n",
        "\t\t\t\t\t\t\t\t\t\t\t\t</td>\n",
        "</tr>\n",
        "<tr bgcolor=\"#FFFFFF\" onmouseout=\"outcss(this,'#FFFFFF');\" onmouseover=\"overcss(this);\">\n",
        "<!-- \u9805\u6b21 -->\n",
        "<td align=\"center\">95\u00a0</td>\n",
        "<!-- \u6a5f\u95dc\u540d\u7a31 -->\n",
        "<td align=\"left\">\u81fa\u5317\u69ae\u6c11\u7e3d\u91ab\u9662\u6843\u5712\u5206\u9662</td>\n",
        "<!-- \u6a19\u6848\u6848\u865f&\u6a19\u6848\u540d\u7a31 -->\n",
        "<td align=\"left\">\r\n",
        "\t\t\t\t\t\t\t\t\t\t\t\tJcs-1030501\r\n",
        "\t\t\t\t\t\t\t\t\t\t\t\t\r\n",
        "\t\t\t\t\t\t\t\t\t\t\t\t<br>\n",
        "<a href=\"../main/pms/tps/atm/atmAwardAction.do?newEdit=false&amp;searchMode=common&amp;method=inquiryForPublic&amp;pkAtmMain=51239514&amp;tenderCaseNo=Jcs-1030501\">\n",
        "<u>\u3010\u900f\u6790\u5ee2\u68c4\u7269(\u4ee3\u865fC-0508)\u53ca\u5ee2\u5c16\u92b3\u5668\u5177(\u4ee3\u865fC-0504)\u59d4\u8a17\u6e05\u9664\uff08\u904b\uff09\u56de\u6536\u8655\u7406\u4f5c\u696d\u3011\u62db\u6a19\u6848</u>\n",
        "</a>\n",
        "</br></td>\n",
        "<!-- \u62db\u6a19\u65b9\u5f0f -->\n",
        "<td align=\"left\">\u516c\u958b\u53d6\u5f97\u5831\u50f9\u55ae\u6216\u4f01\u5283\u66f8</td>\n",
        "<!-- \u6a19\u7684\u5206\u985e -->\n",
        "<td align=\"left\">\u52de\u52d9\u985e</td>\n",
        "<!-- \u516c\u544a\u65e5\u671f -->\n",
        "<td align=\"center\">103/04/29\n",
        "</td>\n",
        "<!-- \u6c7a\u6a19\u91d1\u984d -->\n",
        "<td align=\"right\">\r\n",
        "\t\t\t\t\t\t\t\t\t\t\t\t\t129600\r\n",
        "\t\t\t\t\t\t\t\t\t\t\t\t</td>\n",
        "<!-- \u6c7a\u6a19\u516c\u544a -->\n",
        "<td align=\"center\">\n",
        "<a href=\"../main/pms/tps/atm/atmAwardAction.do?newEdit=false&amp;searchMode=common&amp;method=inquiryForPublic&amp;pkAtmMain=51239514&amp;tenderCaseNo=Jcs-1030501\">\n",
        "<u>001</u>\n",
        "</a>\r\n",
        "\t\t\t\t\t\t\t\t\t\t\t\t\t\t\r\n",
        "\t\t\t\t\t\t\t\t\t\t\t\t\t\u00a0\r\n",
        "\t\t\t\t\t\t\t\t\t\t\t\t</td>\n",
        "<!-- \u7121\u6cd5\u6c7a\u6a19\u516c\u544a -->\n",
        "<td align=\"center\">\r\n",
        "\t\t\t\t\t\t\t\t\t\t\t\t\t\u00a0\r\n",
        "\t\t\t\t\t\t\t\t\t\t\t\t</td>\n",
        "</tr>\n",
        "<tr bgcolor=\"#D6FAC5\" onmouseout=\"outcss(this,'#D6FAC5');\" onmouseover=\"overcss(this);\">\n",
        "<!-- \u9805\u6b21 -->\n",
        "<td align=\"center\">96\u00a0</td>\n",
        "<!-- \u6a5f\u95dc\u540d\u7a31 -->\n",
        "<td align=\"left\">\u81fa\u4e2d\u5e02\u7acb\u5927\u58a9\u570b\u6c11\u4e2d\u5b78</td>\n",
        "<!-- \u6a19\u6848\u6848\u865f&\u6a19\u6848\u540d\u7a31 -->\n",
        "<td align=\"left\">\r\n",
        "\t\t\t\t\t\t\t\t\t\t\t\t1030401\r\n",
        "\t\t\t\t\t\t\t\t\t\t\t\t\r\n",
        "\t\t\t\t\t\t\t\t\t\t\t\t<br>\n",
        "<a href=\"../main/pms/tps/atm/atmAwardAction.do?newEdit=false&amp;searchMode=common&amp;method=inquiryForPublic&amp;pkAtmMain=51239526&amp;tenderCaseNo=1030401\">\n",
        "<u>\u81fa\u4e2d\u5e02\u653f\u5e9c\u6559\u80b2\u5c40\u696d\u52d9\u53ca\u91cd\u5927\u6559\u80b2\u653f\u7b56\u5e73\u9762\u5a92\u9ad4\u5ee3\u5ba3\u52de\u52d9\u63a1\u8cfc\u6848</u>\n",
        "</a>\n",
        "</br></td>\n",
        "<!-- \u62db\u6a19\u65b9\u5f0f -->\n",
        "<td align=\"left\">\u516c\u958b\u53d6\u5f97\u5831\u50f9\u55ae\u6216\u4f01\u5283\u66f8</td>\n",
        "<!-- \u6a19\u7684\u5206\u985e -->\n",
        "<td align=\"left\">\u52de\u52d9\u985e</td>\n",
        "<!-- \u516c\u544a\u65e5\u671f -->\n",
        "<td align=\"center\">103/04/29\n",
        "</td>\n",
        "<!-- \u6c7a\u6a19\u91d1\u984d -->\n",
        "<td align=\"right\">\r\n",
        "\t\t\t\t\t\t\t\t\t\t\t\t\t795000\r\n",
        "\t\t\t\t\t\t\t\t\t\t\t\t</td>\n",
        "<!-- \u6c7a\u6a19\u516c\u544a -->\n",
        "<td align=\"center\">\n",
        "<a href=\"../main/pms/tps/atm/atmAwardAction.do?newEdit=false&amp;searchMode=common&amp;method=inquiryForPublic&amp;pkAtmMain=51239526&amp;tenderCaseNo=1030401\">\n",
        "<u>001</u>\n",
        "</a>\r\n",
        "\t\t\t\t\t\t\t\t\t\t\t\t\t\t\r\n",
        "\t\t\t\t\t\t\t\t\t\t\t\t\t\u00a0\r\n",
        "\t\t\t\t\t\t\t\t\t\t\t\t</td>\n",
        "<!-- \u7121\u6cd5\u6c7a\u6a19\u516c\u544a -->\n",
        "<td align=\"center\">\r\n",
        "\t\t\t\t\t\t\t\t\t\t\t\t\t\u00a0\r\n",
        "\t\t\t\t\t\t\t\t\t\t\t\t</td>\n",
        "</tr>\n",
        "<tr bgcolor=\"#FFFFFF\" onmouseout=\"outcss(this,'#FFFFFF');\" onmouseover=\"overcss(this);\">\n",
        "<!-- \u9805\u6b21 -->\n",
        "<td align=\"center\">97\u00a0</td>\n",
        "<!-- \u6a5f\u95dc\u540d\u7a31 -->\n",
        "<td align=\"left\">\u4ea4\u901a\u90e8\u6c11\u7528\u822a\u7a7a\u5c40\u5357\u7aff\u822a\u7a7a\u7ad9</td>\n",
        "<!-- \u6a19\u6848\u6848\u865f&\u6a19\u6848\u540d\u7a31 -->\n",
        "<td align=\"left\">\r\n",
        "\t\t\t\t\t\t\t\t\t\t\t\tNF103001\r\n",
        "\t\t\t\t\t\t\t\t\t\t\t\t\r\n",
        "\t\t\t\t\t\t\t\t\t\t\t\t<br>\n",
        "<a href=\"../main/pms/tps/atm/atmAwardAction.do?newEdit=false&amp;searchMode=common&amp;method=inquiryForPublic&amp;pkAtmMain=51239530&amp;tenderCaseNo=NF103001\">\n",
        "<u>103\u53ca104\u5e74\u96fb\u529b\u3001\u7d66\u6c34\u3001\u6d88\u9632\u53ca\u7a7a\u8abf\u7cfb\u7d71\u7dad\u8b77\u64cd\u4f5c\u52de\u52d9\u63a1\u8cfc</u>\n",
        "</a>\n",
        "</br></td>\n",
        "<!-- \u62db\u6a19\u65b9\u5f0f -->\n",
        "<td align=\"left\">\u9650\u5236\u6027\u62db\u6a19(\u7d93\u516c\u958b\u8a55\u9078\u6216\u516c\u958b\u5fb5\u6c42)</td>\n",
        "<!-- \u6a19\u7684\u5206\u985e -->\n",
        "<td align=\"left\">\u52de\u52d9\u985e</td>\n",
        "<!-- \u516c\u544a\u65e5\u671f -->\n",
        "<td align=\"center\">103/04/29\n",
        "</td>\n",
        "<!-- \u6c7a\u6a19\u91d1\u984d -->\n",
        "<td align=\"right\">\r\n",
        "\t\t\t\t\t\t\t\t\t\t\t\t\t9920000\r\n",
        "\t\t\t\t\t\t\t\t\t\t\t\t</td>\n",
        "<!-- \u6c7a\u6a19\u516c\u544a -->\n",
        "<td align=\"center\">\n",
        "<a href=\"../main/pms/tps/atm/atmAwardAction.do?newEdit=false&amp;searchMode=common&amp;method=inquiryForPublic&amp;pkAtmMain=51239530&amp;tenderCaseNo=NF103001\">\n",
        "<u>001</u>\n",
        "</a>\r\n",
        "\t\t\t\t\t\t\t\t\t\t\t\t\t\t\r\n",
        "\t\t\t\t\t\t\t\t\t\t\t\t\t\u00a0\r\n",
        "\t\t\t\t\t\t\t\t\t\t\t\t</td>\n",
        "<!-- \u7121\u6cd5\u6c7a\u6a19\u516c\u544a -->\n",
        "<td align=\"center\">\r\n",
        "\t\t\t\t\t\t\t\t\t\t\t\t\t\u00a0\r\n",
        "\t\t\t\t\t\t\t\t\t\t\t\t</td>\n",
        "</tr>\n",
        "<tr bgcolor=\"#D6FAC5\" onmouseout=\"outcss(this,'#D6FAC5');\" onmouseover=\"overcss(this);\">\n",
        "<!-- \u9805\u6b21 -->\n",
        "<td align=\"center\">98\u00a0</td>\n",
        "<!-- \u6a5f\u95dc\u540d\u7a31 -->\n",
        "<td align=\"left\">\u65b0\u5317\u5e02\u65b0\u838a\u5340\u516c\u6240</td>\n",
        "<!-- \u6a19\u6848\u6848\u865f&\u6a19\u6848\u540d\u7a31 -->\n",
        "<td align=\"left\">\r\n",
        "\t\t\t\t\t\t\t\t\t\t\t\t1030402B3\r\n",
        "\t\t\t\t\t\t\t\t\t\t\t\t\r\n",
        "\t\t\t\t\t\t\t\t\t\t\t\t<br>\n",
        "<a href=\"../main/pms/tps/atm/atmAwardAction.do?newEdit=false&amp;searchMode=common&amp;method=inquiryForPublic&amp;pkAtmMain=51239531&amp;tenderCaseNo=1030402B3\">\n",
        "<u>\u65b0\u838a\u5340\u4e2d\u6e2f\u91cc\u50b3\u7d71\u6280\u8853\u6587\u5316\u66a8\u751f\u614b\u4fdd\u8b77\u7814\u7fd2\u6d3b\u52d5</u>\n",
        "</a>\n",
        "</br></td>\n",
        "<!-- \u62db\u6a19\u65b9\u5f0f -->\n",
        "<td align=\"left\">\u516c\u958b\u53d6\u5f97\u5831\u50f9\u55ae\u6216\u4f01\u5283\u66f8</td>\n",
        "<!-- \u6a19\u7684\u5206\u985e -->\n",
        "<td align=\"left\">\u52de\u52d9\u985e</td>\n",
        "<!-- \u516c\u544a\u65e5\u671f -->\n",
        "<td align=\"center\">103/04/29\n",
        "</td>\n",
        "<!-- \u6c7a\u6a19\u91d1\u984d -->\n",
        "<td align=\"right\">\r\n",
        "\t\t\t\t\t\t\t\t\t\t\t\t\t433920\r\n",
        "\t\t\t\t\t\t\t\t\t\t\t\t</td>\n",
        "<!-- \u6c7a\u6a19\u516c\u544a -->\n",
        "<td align=\"center\">\n",
        "<a href=\"../main/pms/tps/atm/atmAwardAction.do?newEdit=false&amp;searchMode=common&amp;method=inquiryForPublic&amp;pkAtmMain=51239531&amp;tenderCaseNo=1030402B3\">\n",
        "<u>001</u>\n",
        "</a>\r\n",
        "\t\t\t\t\t\t\t\t\t\t\t\t\t\t\r\n",
        "\t\t\t\t\t\t\t\t\t\t\t\t\t\u00a0\r\n",
        "\t\t\t\t\t\t\t\t\t\t\t\t</td>\n",
        "<!-- \u7121\u6cd5\u6c7a\u6a19\u516c\u544a -->\n",
        "<td align=\"center\">\r\n",
        "\t\t\t\t\t\t\t\t\t\t\t\t\t\u00a0\r\n",
        "\t\t\t\t\t\t\t\t\t\t\t\t</td>\n",
        "</tr>\n",
        "<tr bgcolor=\"#FFFFFF\" onmouseout=\"outcss(this,'#FFFFFF');\" onmouseover=\"overcss(this);\">\n",
        "<!-- \u9805\u6b21 -->\n",
        "<td align=\"center\">99\u00a0</td>\n",
        "<!-- \u6a5f\u95dc\u540d\u7a31 -->\n",
        "<td align=\"left\">\u6843\u5712\u7e23\u4e2d\u58e2\u5e02\u516c\u6240</td>\n",
        "<!-- \u6a19\u6848\u6848\u865f&\u6a19\u6848\u540d\u7a31 -->\n",
        "<td align=\"left\">\r\n",
        "\t\t\t\t\t\t\t\t\t\t\t\t103-03-080\r\n",
        "\t\t\t\t\t\t\t\t\t\t\t\t\r\n",
        "\t\t\t\t\t\t\t\t\t\t\t\t<br>\n",
        "<a href=\"../main/pms/tps/atm/atmAwardAction.do?newEdit=false&amp;searchMode=common&amp;method=inquiryForPublic&amp;pkAtmMain=51239533&amp;tenderCaseNo=103-03-080\">\n",
        "<u>103\u5e74\u5ea6\u4e2d\u58e2\u5e02\u516c\u7528\u8def\u71c8\u67e5\u9a57\u5b9a\u4f4d\u53ca\u539f\u6709\u8def\u71c8\u5831\u4fee\u96fb\u8166\u7cfb\u7d71\u7dad\u8b77\u66f4\u65b0\u6848</u>\n",
        "</a>\n",
        "</br></td>\n",
        "<!-- \u62db\u6a19\u65b9\u5f0f -->\n",
        "<td align=\"left\">\u516c\u958b\u53d6\u5f97\u5831\u50f9\u55ae\u6216\u4f01\u5283\u66f8</td>\n",
        "<!-- \u6a19\u7684\u5206\u985e -->\n",
        "<td align=\"left\">\u52de\u52d9\u985e</td>\n",
        "<!-- \u516c\u544a\u65e5\u671f -->\n",
        "<td align=\"center\">103/04/29\n",
        "</td>\n",
        "<!-- \u6c7a\u6a19\u91d1\u984d -->\n",
        "<td align=\"right\">\r\n",
        "\t\t\t\t\t\t\t\t\t\t\t\t\t700000\r\n",
        "\t\t\t\t\t\t\t\t\t\t\t\t</td>\n",
        "<!-- \u6c7a\u6a19\u516c\u544a -->\n",
        "<td align=\"center\">\n",
        "<a href=\"../main/pms/tps/atm/atmAwardAction.do?newEdit=false&amp;searchMode=common&amp;method=inquiryForPublic&amp;pkAtmMain=51239533&amp;tenderCaseNo=103-03-080\">\n",
        "<u>001</u>\n",
        "</a>\r\n",
        "\t\t\t\t\t\t\t\t\t\t\t\t\t\t\r\n",
        "\t\t\t\t\t\t\t\t\t\t\t\t\t\u00a0\r\n",
        "\t\t\t\t\t\t\t\t\t\t\t\t</td>\n",
        "<!-- \u7121\u6cd5\u6c7a\u6a19\u516c\u544a -->\n",
        "<td align=\"center\">\r\n",
        "\t\t\t\t\t\t\t\t\t\t\t\t\t\u00a0\r\n",
        "\t\t\t\t\t\t\t\t\t\t\t\t</td>\n",
        "</tr>\n",
        "<tr bgcolor=\"#D6FAC5\" onmouseout=\"outcss(this,'#D6FAC5');\" onmouseover=\"overcss(this);\">\n",
        "<!-- \u9805\u6b21 -->\n",
        "<td align=\"center\">100\u00a0</td>\n",
        "<!-- \u6a5f\u95dc\u540d\u7a31 -->\n",
        "<td align=\"left\">\u570b\u7acb\u6545\u5bae\u535a\u7269\u9662</td>\n",
        "<!-- \u6a19\u6848\u6848\u865f&\u6a19\u6848\u540d\u7a31 -->\n",
        "<td align=\"left\">\r\n",
        "\t\t\t\t\t\t\t\t\t\t\t\tNPM103037\r\n",
        "\t\t\t\t\t\t\t\t\t\t\t\t\r\n",
        "\t\t\t\t\t\t\t\t\t\t\t\t<br>\n",
        "<a href=\"../main/pms/tps/atm/atmAwardAction.do?newEdit=false&amp;searchMode=common&amp;method=inquiryForPublic&amp;pkAtmMain=51239537&amp;tenderCaseNo=NPM103037\">\n",
        "<u>\u5927\u89c0\u2013\u5317\u5b8b\u6c5d\u7aaf\u7279\u5c55\u5716\u9304\u7b497\u9805\u51fa\u7248\u54c1\u52a0\u5370\u6848</u>\n",
        "</a>\n",
        "</br></td>\n",
        "<!-- \u62db\u6a19\u65b9\u5f0f -->\n",
        "<td align=\"left\">\u516c\u958b\u62db\u6a19</td>\n",
        "<!-- \u6a19\u7684\u5206\u985e -->\n",
        "<td align=\"left\">\u52de\u52d9\u985e</td>\n",
        "<!-- \u516c\u544a\u65e5\u671f -->\n",
        "<td align=\"center\">103/04/29\n",
        "</td>\n",
        "<!-- \u6c7a\u6a19\u91d1\u984d -->\n",
        "<td align=\"right\">\r\n",
        "\t\t\t\t\t\t\t\t\t\t\t\t\t2394000\r\n",
        "\t\t\t\t\t\t\t\t\t\t\t\t</td>\n",
        "<!-- \u6c7a\u6a19\u516c\u544a -->\n",
        "<td align=\"center\">\n",
        "<a href=\"../main/pms/tps/atm/atmAwardAction.do?newEdit=false&amp;searchMode=common&amp;method=inquiryForPublic&amp;pkAtmMain=51239537&amp;tenderCaseNo=NPM103037\">\n",
        "<u>001</u>\n",
        "</a>\r\n",
        "\t\t\t\t\t\t\t\t\t\t\t\t\t\t\r\n",
        "\t\t\t\t\t\t\t\t\t\t\t\t\t\u00a0\r\n",
        "\t\t\t\t\t\t\t\t\t\t\t\t</td>\n",
        "<!-- \u7121\u6cd5\u6c7a\u6a19\u516c\u544a -->\n",
        "<td align=\"center\">\r\n",
        "\t\t\t\t\t\t\t\t\t\t\t\t\t\u00a0\r\n",
        "\t\t\t\t\t\t\t\t\t\t\t\t</td>\n",
        "</tr>\n",
        "<tr>\n",
        "<td align=\"center\" bgcolor=\"#E0EDF1\" class=\"T11\" colspan=\"11\">\r\n",
        "\t\t\t\t\t\t\t\t\t\t\t[\u7b2c\u4e00\u9801/\u4e0a\u4e00\u9801]  \r\n",
        "\t\t\t\t\t\t\t\t\t\t\t\t\r\n",
        "\t\t\t\t\t\t\t\t\t\t\t\t&lt;<b>1</b>&gt;\r\n",
        "\t\t\t\t\t\t\t\t\t\t\t\t\r\n",
        "\t\t\t\t\t\t\t\t\t\t\t\t\r\n",
        "\t\t\t\t\t\t\t\t\t\t\t\r\n",
        "\t\t\t\t\t\t\t\t\t\t\t\t,\r\n",
        "\t\t\t\t\t\t\t\t\t\t\t\t\r\n",
        "\t\t\t\t\t\t\t\t\t\t\t\t\r\n",
        "\t\t\t\t\t\t\t\t\t\t\t\t\t<a href=\"./tender.do?searchMode=common&amp;searchType=advance&amp;searchTarget=ATM&amp;method=search&amp;isSpdt=&amp;pageIndex=2\" style=\"color: #444444;\"><b>2</b></a>\r\n",
        "\t\t\t\t\t\t\t\t\t\t\t\t\r\n",
        "\t\t\t\t\t\t\t\t\t\t\t\t\r\n",
        "\t\t\t\t\t\t\t\t\t\t\t\r\n",
        "\t\t\t\t\t\t\t\t\t\t\t\t,\r\n",
        "\t\t\t\t\t\t\t\t\t\t\t\t\r\n",
        "\t\t\t\t\t\t\t\t\t\t\t\t\r\n",
        "\t\t\t\t\t\t\t\t\t\t\t\t\t<a href=\"./tender.do?searchMode=common&amp;searchType=advance&amp;searchTarget=ATM&amp;method=search&amp;isSpdt=&amp;pageIndex=3\" style=\"color: #444444;\"><b>3</b></a>\r\n",
        "\t\t\t\t\t\t\t\t\t\t\t\t\r\n",
        "\t\t\t\t\t\t\t\t\t\t\t\t\r\n",
        "\t\t\t\t\t\t\t\t\t\t\t [\r\n",
        "\t\t\t\t\t\t\t\t\t\t\t\t<a href=\"./tender.do?searchMode=common&amp;searchType=advance&amp;searchTarget=ATM&amp;method=search&amp;isSpdt=&amp;pageIndex=2\" style=\"color: #444444;\">\u4e0b\u4e00\u9801</a>\r\n",
        "\t\t\t\t\t\t\t\t\t\t\t/\r\n",
        "\t\t\t\t\t\t\t\t\t\t\t\t<a href=\"./tender.do?searchMode=common&amp;searchType=advance&amp;searchTarget=ATM&amp;method=search&amp;isSpdt=&amp;pageIndex=3\" style=\"color: #444444;\">\u6700\u5f8c\u4e00\u9801</a>\r\n",
        "\t\t\t\t\t\t\t\t\t\t\t] \u5171\u6709<span class=\"T11b\" style=\"color: red;\">265</span>\u7b46\u8cc7\u6599</td>\n",
        "</tr>\n",
        "</table>\n",
        "</div>\n"
       ]
      }
     ],
     "prompt_number": 21
    },
    {
     "cell_type": "heading",
     "level": 2,
     "metadata": {},
     "source": [
      "\u53bb\u6389\u6a19\u982d"
     ]
    },
    {
     "cell_type": "code",
     "collapsed": false,
     "input": [
      "bid_rows = bid_table.findAll('tr')[1:] \n",
      "#print bid_rows"
     ],
     "language": "python",
     "metadata": {},
     "outputs": [],
     "prompt_number": 22
    },
    {
     "cell_type": "heading",
     "level": 2,
     "metadata": {},
     "source": [
      "\u53bb\u6389\u6a19\u982d\u8ddf\u9801\u6b21"
     ]
    },
    {
     "cell_type": "code",
     "collapsed": false,
     "input": [
      "bid_rows = bid_table.findAll('tr')[1:-1] \n",
      "#print bid_rows"
     ],
     "language": "python",
     "metadata": {},
     "outputs": [],
     "prompt_number": 23
    },
    {
     "cell_type": "heading",
     "level": 2,
     "metadata": {},
     "source": [
      "\u7d22\u5f15\u7bc4\u4f8b"
     ]
    },
    {
     "cell_type": "code",
     "collapsed": false,
     "input": [
      "ary = [1,2,3,4,5,6] \n",
      "print ary[1:-1] \n",
      "#[2,3,4,5]"
     ],
     "language": "python",
     "metadata": {},
     "outputs": [
      {
       "output_type": "stream",
       "stream": "stdout",
       "text": [
        "[2, 3, 4, 5]\n"
       ]
      }
     ],
     "prompt_number": 24
    },
    {
     "cell_type": "heading",
     "level": 2,
     "metadata": {},
     "source": [
      "\u6293\u51fa\u6bcf\u4e00\u5217\u6240\u6709\u7684\u9023\u7d50"
     ]
    },
    {
     "cell_type": "code",
     "collapsed": false,
     "input": [
      "bid_rows = bid_table.findAll('tr')[1:-1] \n",
      "for bid_row in bid_rows: \n",
      "\n",
      "    links = [tag['href'] \n",
      "      for tag in bid_row.findAll('a', {'href': True})] \n",
      "\n",
      "    #print links\n"
     ],
     "language": "python",
     "metadata": {},
     "outputs": [],
     "prompt_number": 25
    },
    {
     "cell_type": "heading",
     "level": 2,
     "metadata": {},
     "source": [
      "\u7528[0]\u53d6\u7b2c\u4e00\u500b\u9023\u7d50"
     ]
    },
    {
     "cell_type": "code",
     "collapsed": false,
     "input": [
      "for bid_row in bid_rows: \n",
      "\n",
      "    links = [tag['href'] \n",
      "      for tag in bid_row.findAll('a', {'href': True})][0]\n",
      " \n",
      "    #print links\n"
     ],
     "language": "python",
     "metadata": {},
     "outputs": [],
     "prompt_number": 26
    },
    {
     "cell_type": "heading",
     "level": 2,
     "metadata": {},
     "source": [
      "\u53d6\u5f97\u5be6\u969b\u9023\u7d50"
     ]
    },
    {
     "cell_type": "code",
     "collapsed": false,
     "input": [
      "for bid_row in bid_rows: \n",
      "    link = [tag['href'] \n",
      "      for tag in bid_row.findAll('a',{'href': True})][0] \n",
      "\n",
      "    link_href = \"http://web.pcc.gov.tw/tps\" + link[2:] \n",
      "\n",
      "    #print link_href\n"
     ],
     "language": "python",
     "metadata": {},
     "outputs": [],
     "prompt_number": 27
    },
    {
     "cell_type": "heading",
     "level": 2,
     "metadata": {},
     "source": [
      "\u4f7f\u7528urljoin"
     ]
    },
    {
     "cell_type": "code",
     "collapsed": false,
     "input": [
      "import urlparse\n",
      "for bid_row in bid_rows: \n",
      "    link = [tag['href'] \n",
      "      for tag in bid_row.findAll('a',{'href': True})][0] \n",
      "\n",
      "    link_href = urlparse.urljoin(\"http://web.pcc.gov.tw/tps/pss/tender.do?searchMode=common&searchType=advance\", link)\n",
      "\n",
      "    #print link_href\n"
     ],
     "language": "python",
     "metadata": {},
     "outputs": [],
     "prompt_number": 28
    },
    {
     "cell_type": "heading",
     "level": 2,
     "metadata": {},
     "source": [
      "\u8907\u7fd2\u4e00\u4e0b\u5982\u4f55\u4f7f\u7528Python\u505a\u6a94\u6848\u5beb\u5165"
     ]
    },
    {
     "cell_type": "code",
     "collapsed": false,
     "input": [
      "f = open(\"test.txt\", 'w') \n",
      "f.write(\"Hello World\\n\") \n",
      "f.close() "
     ],
     "language": "python",
     "metadata": {},
     "outputs": [],
     "prompt_number": 29
    },
    {
     "cell_type": "heading",
     "level": 2,
     "metadata": {},
     "source": [
      "\u5c07\u6bcf\u9801\u6a19\u6848\u6e05\u55ae\u7684\u9023\u7d50\u5b58\u5165\u6a94\u6848"
     ]
    },
    {
     "cell_type": "code",
     "collapsed": false,
     "input": [
      "bid_file = open(\"bid_list.txt\", 'w') \n",
      "page_format = \"http://web.pcc.gov.tw/tps/pss/tender.do?searchMode=common&searchType=advance&searchTarget=ATM&method=search&isSpdt=&pageIndex=%d\" \n",
      "for page in range(1, page_number + 1): \n",
      "    bid_list = rs.get(page_format%(page)) \n",
      "    bid_response = bid_list.text.encode('utf8') \n",
      "    bid_soup = BeautifulSoup(bid_response) \n",
      "    bid_table = bid_soup.find('div', { \"id\" : \"print_area\" }) \n",
      "    bid_rows = bid_table.findAll('tr')[1:-1] \n",
      "    for bid_row in bid_rows:         \n",
      "        link = [tag['href'] for tag in bid_row.findAll('a', {'href': True})][0] \n",
      "        link_href = urlparse.urljoin(\"http://web.pcc.gov.tw/tps/pss/tender.do?searchMode=common&searchType=advance\", link) \n",
      "        bid_file.write(link_href + \"\\n\") \n",
      "bid_file.close() "
     ],
     "language": "python",
     "metadata": {},
     "outputs": [],
     "prompt_number": 30
    },
    {
     "cell_type": "heading",
     "level": 2,
     "metadata": {},
     "source": [
      "0. \u5f15\u5165\u8a72\u7528\u7684package"
     ]
    },
    {
     "cell_type": "code",
     "collapsed": false,
     "input": [
      "import requests\n",
      "import urlparse \n",
      "from bs4 import BeautifulSoup \n",
      "from math import ceil"
     ],
     "language": "python",
     "metadata": {},
     "outputs": [],
     "prompt_number": 38
    },
    {
     "cell_type": "heading",
     "level": 2,
     "metadata": {},
     "source": [
      "1. \u8a2d\u5b9a\u67e5\u8a62\u689d\u4ef6"
     ]
    },
    {
     "cell_type": "code",
     "collapsed": false,
     "input": [
      "payload = { 'method':'search', 'searchMethod':'true', 'searchTarget':'ATM',\n",
      " 'orgName':'', 'orgId':'', 'hid_1':'1',\n",
      " 'tenderName':'', 'tenderId':'', 'tenderStatus':'4,5,21,29',\n",
      " 'tenderWay':'', 'awardAnnounceStartDate':'103/04/29',\n",
      " 'awardAnnounceEndDate':'103/04/29', 'radProctrgCate':'3', \n",
      " 'proctrgCate':'3', 'tenderRange':'', 'minBudget':'',\n",
      " 'maxBudget':'', 'item':'','hid_2':'1',\n",
      " 'gottenVendorName':'', 'gottenVendorId':'', 'hid_3':'1',\n",
      " 'submitVendorName':'', 'submitVendorId':'', 'location':'',\n",
      " 'priorityCate':'', 'isReConstruct':'', 'btnQuery':'\u67e5\u8a62' }\n",
      "\n",
      "rs = requests.session() \n",
      "user_post = rs.post(\"http://web.pcc.gov.tw/tps/pss/tender.do?searchMode=common&searchType=advance\", data=payload) \n",
      "response_text = user_post.text.encode('utf8')\n"
     ],
     "language": "python",
     "metadata": {},
     "outputs": [],
     "prompt_number": 39
    },
    {
     "cell_type": "heading",
     "level": 2,
     "metadata": {},
     "source": [
      "2. \u8a08\u7b97\u6293\u53d6\u9801\u6578"
     ]
    },
    {
     "cell_type": "code",
     "collapsed": false,
     "input": [
      "soup = BeautifulSoup(response_text) \n",
      "rec_number_element = soup.find('span', { \"class\" : \"T11b\" }) \n",
      "rec_number = int(rec_number_element.text)\n",
      "page_number = int(ceil(float(rec_number) / 100))\n"
     ],
     "language": "python",
     "metadata": {},
     "outputs": [],
     "prompt_number": 40
    },
    {
     "cell_type": "heading",
     "level": 2,
     "metadata": {},
     "source": [
      "3. \u4f9d\u6bcf\u9801\u6293\u53d6\u6240\u6709\u6a19\u6848\u9023\u7d50 & \u000b",
      "\n",
      "\n",
      "\n",
      "\n",
      "\n",
      "\n",
      "\n",
      "\n",
      "\n",
      "\n",
      "\n",
      "\n",
      "\n",
      "\n",
      "\n",
      "\n",
      "\n",
      "\n",
      "\n",
      "\n",
      "\n",
      "\n",
      "\n",
      "\n",
      "\n",
      "\n",
      "\n",
      "\n",
      "\n",
      "\n",
      "\n",
      "4. \u5b58\u5165\u6bcf\u9801\u6a19\u6848\u9023\u7d50"
     ]
    },
    {
     "cell_type": "code",
     "collapsed": false,
     "input": [
      "bid_file = open(\"bid_list.txt\", 'w') \n",
      "page_format = \"http://web.pcc.gov.tw/tps/pss/tender.do?searchMode=common&searchType=advance&searchTarget=ATM&method=search&isSpdt=&pageIndex=%d\" \n",
      "for page in range(1, page_number + 1): \n",
      "    bid_list = rs.get(page_format%(page)) \n",
      "    bid_response = bid_list.text.encode('utf8') \n",
      "    bid_soup = BeautifulSoup(bid_response)\n",
      "    bid_table = bid_soup.find('div', { \"id\" : \"print_area\" }) \n",
      "    bid_rows = bid_table.findAll('tr')[1:-1] \n",
      "    for bid_row in bid_rows: \n",
      "        link = [tag['href'] for tag in bid_row.findAll('a', {'href': True})][0] \n",
      "        link_href = urlparse.urljoin(\"http://web.pcc.gov.tw/tps/pss/tender.do?searchMode=common&searchType=advance\", link) \n",
      "        bid_file.write(link_href + \"\\n\") \n",
      "bid_file.close() "
     ],
     "language": "python",
     "metadata": {},
     "outputs": [],
     "prompt_number": 43
    },
    {
     "cell_type": "heading",
     "level": 2,
     "metadata": {},
     "source": [
      "\u8a08\u7b97\u7e3d\u5171\u5b58\u4e86\u591a\u5c11\u500b\u9023\u7d50"
     ]
    },
    {
     "cell_type": "code",
     "collapsed": false,
     "input": [
      "line_num = 0 \n",
      "f = open(\"bid_list.txt\", \"r\") \n",
      "for line in f.readlines(): \n",
      "    line_num = line_num + 1 \n",
      "print line_num \n",
      "f.close() "
     ],
     "language": "python",
     "metadata": {},
     "outputs": [
      {
       "output_type": "stream",
       "stream": "stdout",
       "text": [
        "265\n"
       ]
      }
     ],
     "prompt_number": 44
    },
    {
     "cell_type": "heading",
     "level": 2,
     "metadata": {},
     "source": [
      "\u5224\u65b7\u6293\u4e0b\u4f86\u7684\u8cc7\u6599\u7b46\u6578\u000b",
      "\n",
      "\n",
      "\n",
      "\n",
      "\n",
      "\n",
      "\n",
      "\n",
      "\n",
      "\n",
      "\n",
      "\n",
      "\n",
      "\n",
      "\n",
      "\n",
      "\n",
      "\n",
      "\n",
      "\n",
      "\n",
      "\n",
      "\n",
      "\n",
      "\n",
      "\n",
      "\n",
      "\n",
      "\n",
      "\n",
      "\n",
      "\n",
      "\n",
      "\n",
      "\n",
      "\n",
      "\n",
      "\n",
      "\n",
      "\n",
      "\n",
      "\n",
      "\n",
      "\n",
      "\n",
      "\n",
      "\n",
      "\n",
      "\n",
      "\n",
      "\n",
      "\n",
      "\n",
      "\n",
      "\n",
      "\n",
      "\n",
      "\n",
      "\n",
      "\n",
      "\n",
      "\n",
      "\n",
      "\u662f\u5426\u8207\u7db2\u9801\u4e0a\u5448\u73fe\u7684\u76f8\u540c"
     ]
    },
    {
     "cell_type": "code",
     "collapsed": false,
     "input": [
      "soup = BeautifulSoup(response_text) \n",
      "rec_number_element = soup.find('span', { \"class\" : \"T11b\" }) \n",
      "rec_number = int(rec_number_element.text)\n",
      "\n",
      "line_num = 0 \n",
      "f = open(\"bid_list.txt\", \"r\") \n",
      "for line in f.readlines(): \n",
      "    line_num = line_num + 1 \n",
      "print line_num \n",
      "f.close() \n",
      "\n",
      "#\u4f7f\u7528if \u5224\u65b7\n",
      "if rec_number == line_num: \n",
      "    print \"record number on web page is equal to number of lines in file\" \n"
     ],
     "language": "python",
     "metadata": {},
     "outputs": [
      {
       "output_type": "stream",
       "stream": "stdout",
       "text": [
        "265\n",
        "record number on web page is equal to number of lines in file\n"
       ]
      }
     ],
     "prompt_number": 46
    },
    {
     "cell_type": "heading",
     "level": 2,
     "metadata": {},
     "source": [
      "\u4f7f\u7528requests.get \u6293\u53d6\u6a19\u6848\u7d30\u7bc0"
     ]
    },
    {
     "cell_type": "code",
     "collapsed": false,
     "input": [
      "request_get = requests.get(\"http://web.pcc.gov.tw/tps/main/pms/tps/atm/atmAwardAction.do?newEdit=false&searchMode=common&method=inquiryForPublic&pkAtmMain=51239291&tenderCaseNo=0607L1030328\") \n",
      "response = request_get.text.encode('utf8') \n",
      "#print response"
     ],
     "language": "python",
     "metadata": {},
     "outputs": [],
     "prompt_number": 47
    },
    {
     "cell_type": "heading",
     "level": 2,
     "metadata": {},
     "source": [
      "\u53d6\u5f97id\u70baprintArea \u7684\u5340\u584a"
     ]
    },
    {
     "cell_type": "code",
     "collapsed": false,
     "input": [
      "request_get = requests.get(\"http://web.pcc.gov.tw/tps/main/pms/tps/atm/atmAwardAction.do?newEdit=false&searchMode=common&method=inquiryForPublic&pkAtmMain=51239291&tenderCaseNo=0607L1030328\") \n",
      "response = request_get.text.encode('utf8') \n",
      "soup = BeautifulSoup(response)\n",
      "printarea = soup.find('div', { \"id\" : \"printArea\" }) \n",
      "#print printarea\n"
     ],
     "language": "python",
     "metadata": {},
     "outputs": [],
     "prompt_number": 48
    },
    {
     "cell_type": "heading",
     "level": 2,
     "metadata": {},
     "source": [
      "\u5c07\u6a19\u6848\u8cc7\u6599\u5beb\u9032\u6a94\u6848\u4e2d"
     ]
    },
    {
     "cell_type": "code",
     "collapsed": false,
     "input": [
      "bid_detail = open(\"bid_detail.txt\", 'w') \n",
      "request_get = requests.get(\"http://web.pcc.gov.tw/tps/main/pms/tps/atm/atmAwardAction.do?newEdit=false&searchMode=common&method=inquiryForPublic&pkAtmMain=51239291&tenderCaseNo=0607L1030328\") \n",
      "response = request_get.text.encode('utf8') \n",
      "soup = BeautifulSoup(response)\n",
      "printarea = soup.find('div', { \"id\" : \"printArea\" }) \n",
      "bid_detail.write(printarea) \n",
      "bid_detail.close()"
     ],
     "language": "python",
     "metadata": {},
     "outputs": [
      {
       "ename": "TypeError",
       "evalue": "expected a character buffer object",
       "output_type": "pyerr",
       "traceback": [
        "\u001b[1;31m---------------------------------------------------------------------------\u001b[0m\n\u001b[1;31mTypeError\u001b[0m                                 Traceback (most recent call last)",
        "\u001b[1;32m<ipython-input-60-1f93b4e1636c>\u001b[0m in \u001b[0;36m<module>\u001b[1;34m()\u001b[0m\n\u001b[0;32m      4\u001b[0m \u001b[0msoup\u001b[0m \u001b[1;33m=\u001b[0m \u001b[0mBeautifulSoup\u001b[0m\u001b[1;33m(\u001b[0m\u001b[0mresponse\u001b[0m\u001b[1;33m)\u001b[0m\u001b[1;33m\u001b[0m\u001b[0m\n\u001b[0;32m      5\u001b[0m \u001b[0mprintarea\u001b[0m \u001b[1;33m=\u001b[0m \u001b[0msoup\u001b[0m\u001b[1;33m.\u001b[0m\u001b[0mfind\u001b[0m\u001b[1;33m(\u001b[0m\u001b[1;34m'div'\u001b[0m\u001b[1;33m,\u001b[0m \u001b[1;33m{\u001b[0m \u001b[1;34m\"id\"\u001b[0m \u001b[1;33m:\u001b[0m \u001b[1;34m\"printArea\"\u001b[0m \u001b[1;33m}\u001b[0m\u001b[1;33m)\u001b[0m\u001b[1;33m\u001b[0m\u001b[0m\n\u001b[1;32m----> 6\u001b[1;33m \u001b[0mbid_detail\u001b[0m\u001b[1;33m.\u001b[0m\u001b[0mwrite\u001b[0m\u001b[1;33m(\u001b[0m\u001b[0mprintarea\u001b[0m\u001b[1;33m)\u001b[0m\u001b[1;33m\u001b[0m\u001b[0m\n\u001b[0m\u001b[0;32m      7\u001b[0m \u001b[0mbid_detail\u001b[0m\u001b[1;33m.\u001b[0m\u001b[0mclose\u001b[0m\u001b[1;33m(\u001b[0m\u001b[1;33m)\u001b[0m\u001b[1;33m\u001b[0m\u001b[0m\n",
        "\u001b[1;31mTypeError\u001b[0m: expected a character buffer object"
       ]
      }
     ],
     "prompt_number": 60
    },
    {
     "cell_type": "heading",
     "level": 2,
     "metadata": {},
     "source": [
      "\u4f7f\u7528prettify \u5c07soup \u6293\u5230\u7684tag \u000b",
      "\n",
      "\n",
      "\n",
      "\n",
      "\n",
      "\n",
      "\n",
      "\n",
      "\n",
      "\n",
      "\n",
      "\n",
      "\n",
      "\n",
      "\n",
      "\n",
      "\n",
      "\n",
      "\n",
      "\n",
      "\n",
      "\n",
      "\n",
      "\n",
      "\n",
      "\n",
      "\n",
      "\n",
      "\n",
      "\n",
      "\n",
      "\n",
      "\n",
      "\n",
      "\n",
      "\n",
      "\n",
      "\n",
      "\n",
      "\n",
      "\n",
      "\n",
      "\n",
      "\n",
      "\n",
      "\n",
      "\n",
      "\n",
      "\n",
      "\n",
      "\n",
      "\n",
      "\n",
      "\n",
      "\n",
      "\n",
      "\n",
      "\n",
      "\n",
      "\n",
      "\n",
      "\n",
      "\n",
      "\n",
      "\n",
      "\n",
      "\n",
      "\n",
      "\n",
      "\n",
      "\n",
      "\n",
      "\n",
      "\n",
      "\n",
      "\n",
      "\n",
      "\n",
      "\n",
      "\n",
      "\n",
      "\n",
      "\n",
      "\n",
      "\n",
      "\n",
      "\n",
      "\n",
      "\n",
      "\n",
      "\n",
      "\n",
      "\n",
      "\n",
      "\n",
      "\n",
      "\n",
      "\n",
      "\n",
      "\n",
      "\n",
      "\n",
      "\n",
      "\n",
      "\n",
      "\n",
      "\n",
      "\n",
      "\n",
      "\n",
      "\n",
      "\n",
      "\n",
      "\n",
      "\n",
      "\n",
      "\n",
      "\n",
      "\n",
      "\n",
      "\n",
      "\n",
      "\n",
      "\n",
      "\n",
      "\n",
      "\n",
      "\u8f49\u63db\u6210str"
     ]
    },
    {
     "cell_type": "code",
     "collapsed": false,
     "input": [
      "bid_detail = open(\"bid_detail.txt\", 'w') \n",
      "request_get = requests.get(\"http://web.pcc.gov.tw/tps/main/pms/tps/atm/atmAwardAction.do?newEdit=false&searchMode=common&method=inquiryForPublic&pkAtmMain=51239291&tenderCaseNo=0607L1030328\") \n",
      "response = request_get.text.encode('utf8') \n",
      "soup = BeautifulSoup(response)\n",
      "printarea = soup.find('div', { \"id\" : \"printArea\" }) \n",
      "bid_detail.write(printarea.prettify(\"utf-8\")) \n",
      "bid_detail.close()"
     ],
     "language": "python",
     "metadata": {},
     "outputs": [],
     "prompt_number": 50
    },
    {
     "cell_type": "heading",
     "level": 2,
     "metadata": {},
     "source": [
      "\u600e\u9ebc\u627e\u51fa\u6848\u865f\u662f\u5426\u6703\u91cd\u8907?"
     ]
    },
    {
     "cell_type": "code",
     "collapsed": false,
     "input": [
      "case_dic = {} \n",
      "f = open(\"bid_list.txt\", \"r\") \n",
      "for line in f.readlines(): \n",
      "    rec = line.strip() \n",
      "    caseno = rec.split('tenderCaseNo=')[1] \n",
      "    if caseno not in case_dic: \n",
      "        case_dic[caseno] = 1 \n",
      "    else: \n",
      "        print caseno \n",
      "f.close()"
     ],
     "language": "python",
     "metadata": {},
     "outputs": [
      {
       "output_type": "stream",
       "stream": "stdout",
       "text": [
        "1030401\n",
        "1030415\n",
        "10302\n",
        "10302\n",
        "103003\n"
       ]
      }
     ],
     "prompt_number": 51
    },
    {
     "cell_type": "heading",
     "level": 2,
     "metadata": {},
     "source": [
      "\u5982\u4f55\u5f9eurl \u53d6\u5f97\u9019\u5169\u500b\u503c?\n"
     ]
    },
    {
     "cell_type": "code",
     "collapsed": false,
     "input": [
      "link = \"http://web.pcc.gov.tw/tps/main/pms/tps/atm/atmAwardAction.do?newEdit=false&searchMode=common&method=inquiryForPublic&pkAtmMain=51239291&tenderCaseNo=0607L1030328\" "
     ],
     "language": "python",
     "metadata": {},
     "outputs": [],
     "prompt_number": 52
    },
    {
     "cell_type": "heading",
     "level": 2,
     "metadata": {},
     "source": [
      "\u4f7f\u7528split \n"
     ]
    },
    {
     "cell_type": "code",
     "collapsed": false,
     "input": [
      "rear_substring = link.split(\"pkAtmMain=\")[1] \n",
      "param = rear_substring.split(\"&tenderCaseNo=\") \n",
      "pkAtmMain= param[0] \n",
      "caseno= param[1] \n",
      "print pkAtmMain,caseno "
     ],
     "language": "python",
     "metadata": {},
     "outputs": [
      {
       "output_type": "stream",
       "stream": "stdout",
       "text": [
        "51239291 0607L1030328\n"
       ]
      }
     ],
     "prompt_number": 53
    },
    {
     "cell_type": "heading",
     "level": 2,
     "metadata": {},
     "source": [
      "re.match \u7bc4\u4f8b\n"
     ]
    },
    {
     "cell_type": "code",
     "collapsed": false,
     "input": [
      "import re \n",
      "m = re.match(r\"(?P<FirstName>\\w+) (?P<LastName>\\w+)\", \"David Chiu\") \n",
      "print m.group(\"FirstName\"), m.group(\"LastName\") "
     ],
     "language": "python",
     "metadata": {},
     "outputs": [
      {
       "output_type": "stream",
       "stream": "stdout",
       "text": [
        "David Chiu\n"
       ]
      }
     ],
     "prompt_number": 54
    },
    {
     "cell_type": "heading",
     "level": 2,
     "metadata": {},
     "source": [
      "\u4f7f\u7528re.match\n"
     ]
    },
    {
     "cell_type": "code",
     "collapsed": false,
     "input": [
      "import re \n",
      "link = \"http://web.pcc.gov.tw/tps/main/pms/tps/atm/atmAwardAction.do?newEdit=false&searchMode=common&method=inquiryForPublic&pkAtmMain=51239291&tenderCaseNo=0607L1030328\" \n",
      "m = re.match(r\"([^ ]+)pkAtmMain=(?P<pkAtmMain>\\w+)&tenderCaseNo=(?P<tenderCaseNo>\\w+)\", link) \n",
      "print m.group('pkAtmMain'), m.group('tenderCaseNo')"
     ],
     "language": "python",
     "metadata": {},
     "outputs": [
      {
       "output_type": "stream",
       "stream": "stdout",
       "text": [
        "51239291 0607L1030328\n"
       ]
      }
     ],
     "prompt_number": 55
    },
    {
     "cell_type": "heading",
     "level": 2,
     "metadata": {},
     "source": [
      "\u8b80\u53d6bid_list.txt\u000b",
      "\n",
      "\n",
      "\n",
      "\n",
      "\n",
      "\n",
      "\n",
      "\n",
      "\n",
      "\n",
      "\n",
      "\n",
      "\n",
      "\n",
      "\n",
      "\n",
      "\n",
      "\n",
      "\n",
      "\n",
      "\n",
      "\n",
      "\n",
      "\n",
      "\n",
      "\n",
      "\n",
      "\n",
      "\n",
      "\n",
      "\n",
      "\n",
      "\n",
      "\n",
      "\n",
      "\n",
      "\n",
      "\n",
      "\n",
      "\n",
      "\n",
      "\n",
      "\n",
      "\n",
      "\n",
      "\n",
      "\n",
      "\n",
      "\n",
      "\n",
      "\n",
      "\n",
      "\n",
      "\n",
      "\n",
      "\n",
      "\n",
      "\n",
      "\n",
      "\n",
      "\n",
      "\n",
      "\n",
      "\n",
      "\n",
      "\n",
      "\n",
      "\n",
      "\n",
      "\n",
      "\n",
      "\n",
      "\n",
      "\n",
      "\n",
      "\n",
      "\n",
      "\n",
      "\n",
      "\n",
      "\n",
      "\n",
      "\n",
      "\n",
      "\n",
      "\n",
      "\n",
      "\n",
      "\n",
      "\n",
      "\n",
      "\n",
      "\n",
      "\n",
      "\n",
      "\n",
      "\n",
      "\n",
      "\n",
      "\n",
      "\n",
      "\n",
      "\n",
      "\n",
      "\n",
      "\n",
      "\n",
      "\n",
      "\n",
      "\n",
      "\n",
      "\n",
      "\n",
      "\n",
      "\n",
      "\n",
      "\n",
      "\n",
      "\n",
      "\n",
      "\n",
      "\n",
      "\n",
      "\n",
      "\n",
      "\n",
      "\n",
      "\u4f9d\u5e8f\u6293\u51fa\u6a19\u6848\u5167\u5bb9"
     ]
    },
    {
     "cell_type": "code",
     "collapsed": false,
     "input": [
      "from BeautifulSoup import BeautifulSoup \n",
      "import re, requests, time \n",
      "\n",
      "bid_list = open('bid_list.txt', 'r') \n",
      "for line in bid_list.readlines(): \n",
      "    pagelink = line.strip() \n",
      "    m = re.match(r\"([^ ]+)pkAtmMain=(?P<pkAtmMain>\\w+)&tenderCaseNo=(?P<tenderCaseNo>\\w+)\", pagelink) \n",
      "    filename = \"%s_%s\"%(m.group('pkAtmMain'), m.group('tenderCaseNo')) \n",
      "    request_get = requests.get(pagelink) \n",
      "    response = request_get.text.encode('utf8') \n",
      "    soup = BeautifulSoup(response)\n",
      "    printarea = soup.find('div', { \"id\" : \"printArea\" }) \n",
      "    bid_detail = open(\"gov/%s.txt\"%(filename), 'w') \n",
      "    bid_detail.write(printarea .prettify(\"utf-8\")) \n",
      "    bid_detail.close() \n",
      "    #print filename\n",
      "    time.sleep(0.2)\n",
      "bid_list.close()"
     ],
     "language": "python",
     "metadata": {},
     "outputs": [
      {
       "output_type": "stream",
       "stream": "stdout",
       "text": [
        "51239371_4197\n",
        "51239291_0607L1030328"
       ]
      },
      {
       "output_type": "stream",
       "stream": "stdout",
       "text": [
        "\n",
        "51241675_XW03118P099"
       ]
      },
      {
       "output_type": "stream",
       "stream": "stdout",
       "text": [
        "\n",
        "51241674_XW03072P119"
       ]
      },
      {
       "output_type": "stream",
       "stream": "stdout",
       "text": [
        "\n",
        "51241666_B1030411"
       ]
      },
      {
       "output_type": "stream",
       "stream": "stdout",
       "text": [
        "\n",
        "51241665_B1030422"
       ]
      },
      {
       "output_type": "stream",
       "stream": "stdout",
       "text": [
        "\n",
        "51241621_MPB10390429"
       ]
      },
      {
       "output_type": "stream",
       "stream": "stdout",
       "text": [
        "\n",
        "51241602_103"
       ]
      },
      {
       "output_type": "stream",
       "stream": "stdout",
       "text": [
        "\n",
        "51241573_SL"
       ]
      },
      {
       "output_type": "stream",
       "stream": "stdout",
       "text": [
        "\n",
        "51241557_NG03035P009P"
       ]
      },
      {
       "output_type": "stream",
       "stream": "stdout",
       "text": [
        "\n",
        "51241458_10302"
       ]
      },
      {
       "output_type": "stream",
       "stream": "stdout",
       "text": [
        "\n",
        "51241498_103"
       ]
      },
      {
       "output_type": "stream",
       "stream": "stdout",
       "text": [
        "\n",
        "51241496_W103ABC071"
       ]
      },
      {
       "output_type": "stream",
       "stream": "stdout",
       "text": [
        "\n",
        "51241485_103230330119"
       ]
      },
      {
       "output_type": "stream",
       "stream": "stdout",
       "text": [
        "\n",
        "51238144_C1030415"
       ]
      },
      {
       "output_type": "stream",
       "stream": "stdout",
       "text": [
        "\n",
        "51241358_Y103016"
       ]
      },
      {
       "output_type": "stream",
       "stream": "stdout",
       "text": [
        "\n",
        "51241301_103003"
       ]
      },
      {
       "output_type": "stream",
       "stream": "stdout",
       "text": [
        "\n",
        "51241289_103"
       ]
      },
      {
       "output_type": "stream",
       "stream": "stdout",
       "text": [
        "\n",
        "51241135_103"
       ]
      },
      {
       "output_type": "stream",
       "stream": "stdout",
       "text": [
        "\n",
        "51241115_1030404"
       ]
      },
      {
       "output_type": "stream",
       "stream": "stdout",
       "text": [
        "\n",
        "51241108_11"
       ]
      },
      {
       "output_type": "stream",
       "stream": "stdout",
       "text": [
        "\n",
        "51241103_P103001"
       ]
      },
      {
       "output_type": "stream",
       "stream": "stdout",
       "text": [
        "\n",
        "51241099_103"
       ]
      },
      {
       "output_type": "stream",
       "stream": "stdout",
       "text": [
        "\n",
        "51241063_103075"
       ]
      },
      {
       "output_type": "stream",
       "stream": "stdout",
       "text": [
        "\n",
        "51241062_SL"
       ]
      },
      {
       "output_type": "stream",
       "stream": "stdout",
       "text": [
        "\n",
        "51241029_1030011069"
       ]
      },
      {
       "output_type": "stream",
       "stream": "stdout",
       "text": [
        "\n",
        "51240942_SL"
       ]
      },
      {
       "output_type": "stream",
       "stream": "stdout",
       "text": [
        "\n",
        "51240875_B102RD03012"
       ]
      },
      {
       "output_type": "stream",
       "stream": "stdout",
       "text": [
        "\n",
        "51240824_1030203"
       ]
      },
      {
       "output_type": "stream",
       "stream": "stdout",
       "text": [
        "\n",
        "51240739_G103EDU043"
       ]
      },
      {
       "output_type": "stream",
       "stream": "stdout",
       "text": [
        "\n",
        "51240712_103B04"
       ]
      },
      {
       "output_type": "stream",
       "stream": "stdout",
       "text": [
        "\n",
        "51240655_AASC"
       ]
      },
      {
       "output_type": "stream",
       "stream": "stdout",
       "text": [
        "\n",
        "51240623_TC103C036"
       ]
      },
      {
       "output_type": "stream",
       "stream": "stdout",
       "text": [
        "\n",
        "51240622_DPD2014041101"
       ]
      },
      {
       "output_type": "stream",
       "stream": "stdout",
       "text": [
        "\n",
        "51240570_103B018"
       ]
      },
      {
       "output_type": "stream",
       "stream": "stdout",
       "text": [
        "\n",
        "51240557_NKUHT1524"
       ]
      },
      {
       "output_type": "stream",
       "stream": "stdout",
       "text": [
        "\n",
        "51240543_DPD2014041102"
       ]
      },
      {
       "output_type": "stream",
       "stream": "stdout",
       "text": [
        "\n",
        "51240536_10310"
       ]
      },
      {
       "output_type": "stream",
       "stream": "stdout",
       "text": [
        "\n",
        "51240484_103A011A"
       ]
      },
      {
       "output_type": "stream",
       "stream": "stdout",
       "text": [
        "\n",
        "51240279_103M602"
       ]
      },
      {
       "output_type": "stream",
       "stream": "stdout",
       "text": [
        "\n",
        "51240240_103310230121"
       ]
      },
      {
       "output_type": "stream",
       "stream": "stdout",
       "text": [
        "\n",
        "51240202_103430930099"
       ]
      },
      {
       "output_type": "stream",
       "stream": "stdout",
       "text": [
        "\n",
        "51239231_103"
       ]
      },
      {
       "output_type": "stream",
       "stream": "stdout",
       "text": [
        "\n",
        "51239232_102"
       ]
      },
      {
       "output_type": "stream",
       "stream": "stdout",
       "text": [
        "\n",
        "51239233_103"
       ]
      },
      {
       "output_type": "stream",
       "stream": "stdout",
       "text": [
        "\n",
        "51239234_103"
       ]
      },
      {
       "output_type": "stream",
       "stream": "stdout",
       "text": [
        "\n",
        "51239245_103A03"
       ]
      },
      {
       "output_type": "stream",
       "stream": "stdout",
       "text": [
        "\n",
        "51239246_D103"
       ]
      },
      {
       "output_type": "stream",
       "stream": "stdout",
       "text": [
        "\n",
        "51239255_103022701"
       ]
      },
      {
       "output_type": "stream",
       "stream": "stdout",
       "text": [
        "\n",
        "51239256_103021401"
       ]
      },
      {
       "output_type": "stream",
       "stream": "stdout",
       "text": [
        "\n",
        "51239270_LEB0370001"
       ]
      },
      {
       "output_type": "stream",
       "stream": "stdout",
       "text": [
        "\n",
        "51239272_UBC028F002"
       ]
      },
      {
       "output_type": "stream",
       "stream": "stdout",
       "text": [
        "\n",
        "51239274_UCA028C009"
       ]
      },
      {
       "output_type": "stream",
       "stream": "stdout",
       "text": [
        "\n",
        "51239281_103"
       ]
      },
      {
       "output_type": "stream",
       "stream": "stdout",
       "text": [
        "\n",
        "51239284_10318"
       ]
      },
      {
       "output_type": "stream",
       "stream": "stdout",
       "text": [
        "\n",
        "51239293_TZ10303B"
       ]
      },
      {
       "output_type": "stream",
       "stream": "stdout",
       "text": [
        "\n",
        "51239295_FH03007P031"
       ]
      },
      {
       "output_type": "stream",
       "stream": "stdout",
       "text": [
        "\n",
        "51239296_FH03006P029"
       ]
      },
      {
       "output_type": "stream",
       "stream": "stdout",
       "text": [
        "\n",
        "51239297_FH03032P033"
       ]
      },
      {
       "output_type": "stream",
       "stream": "stdout",
       "text": [
        "\n",
        "51239299_EB10317"
       ]
      },
      {
       "output_type": "stream",
       "stream": "stdout",
       "text": [
        "\n",
        "51239301_EB10319"
       ]
      },
      {
       "output_type": "stream",
       "stream": "stdout",
       "text": [
        "\n",
        "51239326_103"
       ]
      },
      {
       "output_type": "stream",
       "stream": "stdout",
       "text": [
        "\n",
        "51239328_1030304"
       ]
      },
      {
       "output_type": "stream",
       "stream": "stdout",
       "text": [
        "\n",
        "51239329_103301024"
       ]
      },
      {
       "output_type": "stream",
       "stream": "stdout",
       "text": [
        "\n",
        "51239331_W10P103017"
       ]
      },
      {
       "output_type": "stream",
       "stream": "stdout",
       "text": [
        "\n",
        "51239334_103105"
       ]
      },
      {
       "output_type": "stream",
       "stream": "stdout",
       "text": [
        "\n",
        "51239343_1031B00000006A01"
       ]
      },
      {
       "output_type": "stream",
       "stream": "stdout",
       "text": [
        "\n",
        "51239347_103107"
       ]
      },
      {
       "output_type": "stream",
       "stream": "stdout",
       "text": [
        "\n",
        "51239351_1030415"
       ]
      },
      {
       "output_type": "stream",
       "stream": "stdout",
       "text": [
        "\n",
        "51239354_1030833"
       ]
      },
      {
       "output_type": "stream",
       "stream": "stdout",
       "text": [
        "\n",
        "51239361_W10P103012"
       ]
      },
      {
       "output_type": "stream",
       "stream": "stdout",
       "text": [
        "\n",
        "51239369_1030403D3"
       ]
      },
      {
       "output_type": "stream",
       "stream": "stdout",
       "text": [
        "\n",
        "51239373_SV"
       ]
      },
      {
       "output_type": "stream",
       "stream": "stdout",
       "text": [
        "\n",
        "51239377_103028"
       ]
      },
      {
       "output_type": "stream",
       "stream": "stdout",
       "text": [
        "\n",
        "51239388_BAA0384001"
       ]
      },
      {
       "output_type": "stream",
       "stream": "stdout",
       "text": [
        "\n",
        "51239390_ze103"
       ]
      },
      {
       "output_type": "stream",
       "stream": "stdout",
       "text": [
        "\n",
        "51239395_1030324"
       ]
      },
      {
       "output_type": "stream",
       "stream": "stdout",
       "text": [
        "\n",
        "51239412_103036"
       ]
      },
      {
       "output_type": "stream",
       "stream": "stdout",
       "text": [
        "\n",
        "51239414_103230230128"
       ]
      },
      {
       "output_type": "stream",
       "stream": "stdout",
       "text": [
        "\n",
        "51239415_10328"
       ]
      },
      {
       "output_type": "stream",
       "stream": "stdout",
       "text": [
        "\n",
        "51239416_103026"
       ]
      },
      {
       "output_type": "stream",
       "stream": "stdout",
       "text": [
        "\n",
        "51239417_103TMACH06S"
       ]
      },
      {
       "output_type": "stream",
       "stream": "stdout",
       "text": [
        "\n",
        "51239447_103H15"
       ]
      },
      {
       "output_type": "stream",
       "stream": "stdout",
       "text": [
        "\n",
        "51239456_103TMACH09S"
       ]
      },
      {
       "output_type": "stream",
       "stream": "stdout",
       "text": [
        "\n",
        "51239457_1030327"
       ]
      },
      {
       "output_type": "stream",
       "stream": "stdout",
       "text": [
        "\n",
        "51239465_chjh103"
       ]
      },
      {
       "output_type": "stream",
       "stream": "stdout",
       "text": [
        "\n",
        "51239319_103"
       ]
      },
      {
       "output_type": "stream",
       "stream": "stdout",
       "text": [
        "\n",
        "51239481_103"
       ]
      },
      {
       "output_type": "stream",
       "stream": "stdout",
       "text": [
        "\n",
        "51239468_3410300075"
       ]
      },
      {
       "output_type": "stream",
       "stream": "stdout",
       "text": [
        "\n",
        "51239482_P9903"
       ]
      },
      {
       "output_type": "stream",
       "stream": "stdout",
       "text": [
        "\n",
        "51239486_103FC002"
       ]
      },
      {
       "output_type": "stream",
       "stream": "stdout",
       "text": [
        "\n",
        "51239487_1030318"
       ]
      },
      {
       "output_type": "stream",
       "stream": "stdout",
       "text": [
        "\n",
        "51239509_A103000002"
       ]
      },
      {
       "output_type": "stream",
       "stream": "stdout",
       "text": [
        "\n",
        "51239510_1030228"
       ]
      },
      {
       "output_type": "stream",
       "stream": "stdout",
       "text": [
        "\n",
        "51239514_Jcs"
       ]
      },
      {
       "output_type": "stream",
       "stream": "stdout",
       "text": [
        "\n",
        "51239526_1030401"
       ]
      },
      {
       "output_type": "stream",
       "stream": "stdout",
       "text": [
        "\n",
        "51239530_NF103001"
       ]
      },
      {
       "output_type": "stream",
       "stream": "stdout",
       "text": [
        "\n",
        "51239531_1030402B3"
       ]
      },
      {
       "output_type": "stream",
       "stream": "stdout",
       "text": [
        "\n",
        "51239533_103"
       ]
      },
      {
       "output_type": "stream",
       "stream": "stdout",
       "text": [
        "\n",
        "51239537_NPM103037"
       ]
      },
      {
       "output_type": "stream",
       "stream": "stdout",
       "text": [
        "\n",
        "51239544_FD03004P004"
       ]
      },
      {
       "output_type": "stream",
       "stream": "stdout",
       "text": [
        "\n",
        "51239550_D103002"
       ]
      },
      {
       "output_type": "stream",
       "stream": "stdout",
       "text": [
        "\n",
        "51239554_FD03007P005"
       ]
      },
      {
       "output_type": "stream",
       "stream": "stdout",
       "text": [
        "\n",
        "51239564_1030401"
       ]
      },
      {
       "output_type": "stream",
       "stream": "stdout",
       "text": [
        "\n",
        "51239565_iris0331"
       ]
      },
      {
       "output_type": "stream",
       "stream": "stdout",
       "text": [
        "\n",
        "51239566_103"
       ]
      },
      {
       "output_type": "stream",
       "stream": "stdout",
       "text": [
        "\n",
        "51239575_AASC"
       ]
      },
      {
       "output_type": "stream",
       "stream": "stdout",
       "text": [
        "\n",
        "51239576_A1030137ENG011"
       ]
      },
      {
       "output_type": "stream",
       "stream": "stdout",
       "text": [
        "\n",
        "51239606_1030206"
       ]
      },
      {
       "output_type": "stream",
       "stream": "stdout",
       "text": [
        "\n",
        "51239597_HJ03242P121"
       ]
      },
      {
       "output_type": "stream",
       "stream": "stdout",
       "text": [
        "\n",
        "51239608_103A159"
       ]
      },
      {
       "output_type": "stream",
       "stream": "stdout",
       "text": [
        "\n",
        "51239609_102107"
       ]
      },
      {
       "output_type": "stream",
       "stream": "stdout",
       "text": [
        "\n",
        "51239617_klnes1030428"
       ]
      },
      {
       "output_type": "stream",
       "stream": "stdout",
       "text": [
        "\n",
        "51239619_103C2022"
       ]
      },
      {
       "output_type": "stream",
       "stream": "stdout",
       "text": [
        "\n",
        "51239621_1030201"
       ]
      },
      {
       "output_type": "stream",
       "stream": "stdout",
       "text": [
        "\n",
        "51239625_103HA164C3"
       ]
      },
      {
       "output_type": "stream",
       "stream": "stdout",
       "text": [
        "\n",
        "51239635_103"
       ]
      },
      {
       "output_type": "stream",
       "stream": "stdout",
       "text": [
        "\n",
        "51239644_B103170"
       ]
      },
      {
       "output_type": "stream",
       "stream": "stdout",
       "text": [
        "\n",
        "51239647_103A119"
       ]
      },
      {
       "output_type": "stream",
       "stream": "stdout",
       "text": [
        "\n",
        "51239648_E1021212"
       ]
      },
      {
       "output_type": "stream",
       "stream": "stdout",
       "text": [
        "\n",
        "51239650_102108"
       ]
      },
      {
       "output_type": "stream",
       "stream": "stdout",
       "text": [
        "\n",
        "51239654_B103167"
       ]
      },
      {
       "output_type": "stream",
       "stream": "stdout",
       "text": [
        "\n",
        "51239659_E1021220"
       ]
      },
      {
       "output_type": "stream",
       "stream": "stdout",
       "text": [
        "\n",
        "51239662_B103169"
       ]
      },
      {
       "output_type": "stream",
       "stream": "stdout",
       "text": [
        "\n",
        "51239663_1030325"
       ]
      },
      {
       "output_type": "stream",
       "stream": "stdout",
       "text": [
        "\n",
        "51239664_M03I6247"
       ]
      },
      {
       "output_type": "stream",
       "stream": "stdout",
       "text": [
        "\n",
        "51239667_B103162"
       ]
      },
      {
       "output_type": "stream",
       "stream": "stdout",
       "text": [
        "\n",
        "51239668_1030415"
       ]
      },
      {
       "output_type": "stream",
       "stream": "stdout",
       "text": [
        "\n",
        "51239675_103203"
       ]
      },
      {
       "output_type": "stream",
       "stream": "stdout",
       "text": [
        "\n",
        "51239676_tms103064"
       ]
      },
      {
       "output_type": "stream",
       "stream": "stdout",
       "text": [
        "\n",
        "51239680_01"
       ]
      },
      {
       "output_type": "stream",
       "stream": "stdout",
       "text": [
        "\n",
        "51239683_1030326AA"
       ]
      },
      {
       "output_type": "stream",
       "stream": "stdout",
       "text": [
        "\n",
        "51239688_S102026"
       ]
      },
      {
       "output_type": "stream",
       "stream": "stdout",
       "text": [
        "\n",
        "51239692_103009"
       ]
      },
      {
       "output_type": "stream",
       "stream": "stdout",
       "text": [
        "\n",
        "51235230_10305"
       ]
      },
      {
       "output_type": "stream",
       "stream": "stdout",
       "text": [
        "\n",
        "51236707_1010062"
       ]
      },
      {
       "output_type": "stream",
       "stream": "stdout",
       "text": [
        "\n",
        "51238769_A35014"
       ]
      },
      {
       "output_type": "stream",
       "stream": "stdout",
       "text": [
        "\n",
        "51238854_1030307"
       ]
      },
      {
       "output_type": "stream",
       "stream": "stdout",
       "text": [
        "\n",
        "51238970_1030020088C"
       ]
      },
      {
       "output_type": "stream",
       "stream": "stdout",
       "text": [
        "\n",
        "51239198_103"
       ]
      },
      {
       "output_type": "stream",
       "stream": "stdout",
       "text": [
        "\n",
        "51239201_10302"
       ]
      },
      {
       "output_type": "stream",
       "stream": "stdout",
       "text": [
        "\n",
        "51239203_AGB"
       ]
      },
      {
       "output_type": "stream",
       "stream": "stdout",
       "text": [
        "\n",
        "51239215_002"
       ]
      },
      {
       "output_type": "stream",
       "stream": "stdout",
       "text": [
        "\n",
        "51239216_NCC"
       ]
      },
      {
       "output_type": "stream",
       "stream": "stdout",
       "text": [
        "\n",
        "51239702_B103173"
       ]
      },
      {
       "output_type": "stream",
       "stream": "stdout",
       "text": [
        "\n",
        "51239704_103016"
       ]
      },
      {
       "output_type": "stream",
       "stream": "stdout",
       "text": [
        "\n",
        "51239708_B103165"
       ]
      },
      {
       "output_type": "stream",
       "stream": "stdout",
       "text": [
        "\n",
        "51239709_103"
       ]
      },
      {
       "output_type": "stream",
       "stream": "stdout",
       "text": [
        "\n",
        "51239714_103A21"
       ]
      },
      {
       "output_type": "stream",
       "stream": "stdout",
       "text": [
        "\n",
        "51239717_XU03E29P092"
       ]
      },
      {
       "output_type": "stream",
       "stream": "stdout",
       "text": [
        "\n",
        "51239720_B103174"
       ]
      },
      {
       "output_type": "stream",
       "stream": "stdout",
       "text": [
        "\n",
        "51239723_1030055"
       ]
      },
      {
       "output_type": "stream",
       "stream": "stdout",
       "text": [
        "\n",
        "51239724_103B042"
       ]
      },
      {
       "output_type": "stream",
       "stream": "stdout",
       "text": [
        "\n",
        "51239725_TC103C023"
       ]
      },
      {
       "output_type": "stream",
       "stream": "stdout",
       "text": [
        "\n",
        "51239727_1030247"
       ]
      },
      {
       "output_type": "stream",
       "stream": "stdout",
       "text": [
        "\n",
        "51239731_103H17"
       ]
      },
      {
       "output_type": "stream",
       "stream": "stdout",
       "text": [
        "\n",
        "51239733_B103131"
       ]
      },
      {
       "output_type": "stream",
       "stream": "stdout",
       "text": [
        "\n",
        "51239734_103008"
       ]
      },
      {
       "output_type": "stream",
       "stream": "stdout",
       "text": [
        "\n",
        "51239738_3510300082"
       ]
      },
      {
       "output_type": "stream",
       "stream": "stdout",
       "text": [
        "\n",
        "51239739_H02028"
       ]
      },
      {
       "output_type": "stream",
       "stream": "stdout",
       "text": [
        "\n",
        "51239741_103A021"
       ]
      },
      {
       "output_type": "stream",
       "stream": "stdout",
       "text": [
        "\n",
        "51239749_DEF0342001"
       ]
      },
      {
       "output_type": "stream",
       "stream": "stdout",
       "text": [
        "\n",
        "51239750_IOT"
       ]
      },
      {
       "output_type": "stream",
       "stream": "stdout",
       "text": [
        "\n",
        "51239763_1030408"
       ]
      },
      {
       "output_type": "stream",
       "stream": "stdout",
       "text": [
        "\n",
        "51239764_103042111"
       ]
      },
      {
       "output_type": "stream",
       "stream": "stdout",
       "text": [
        "\n",
        "51239765_101001201"
       ]
      },
      {
       "output_type": "stream",
       "stream": "stdout",
       "text": [
        "\n",
        "51239767_103"
       ]
      },
      {
       "output_type": "stream",
       "stream": "stdout",
       "text": [
        "\n",
        "51239783_651910318"
       ]
      },
      {
       "output_type": "stream",
       "stream": "stdout",
       "text": [
        "\n",
        "51239789_117"
       ]
      },
      {
       "output_type": "stream",
       "stream": "stdout",
       "text": [
        "\n",
        "51239796_M1030062"
       ]
      },
      {
       "output_type": "stream",
       "stream": "stdout",
       "text": [
        "\n",
        "51239822_A1030211KH049PW"
       ]
      },
      {
       "output_type": "stream",
       "stream": "stdout",
       "text": [
        "\n",
        "51239825_AEC10302010L"
       ]
      },
      {
       "output_type": "stream",
       "stream": "stdout",
       "text": [
        "\n",
        "51239827_103"
       ]
      },
      {
       "output_type": "stream",
       "stream": "stdout",
       "text": [
        "\n",
        "51122915_TS1021101"
       ]
      },
      {
       "output_type": "stream",
       "stream": "stdout",
       "text": [
        "\n",
        "51239829_C10300519"
       ]
      },
      {
       "output_type": "stream",
       "stream": "stdout",
       "text": [
        "\n",
        "51239832_1012461615"
       ]
      },
      {
       "output_type": "stream",
       "stream": "stdout",
       "text": [
        "\n",
        "51239837_10320"
       ]
      },
      {
       "output_type": "stream",
       "stream": "stdout",
       "text": [
        "\n",
        "51239839_10303A"
       ]
      },
      {
       "output_type": "stream",
       "stream": "stdout",
       "text": [
        "\n",
        "51239844_F103"
       ]
      },
      {
       "output_type": "stream",
       "stream": "stdout",
       "text": [
        "\n",
        "51239845_1030502"
       ]
      },
      {
       "output_type": "stream",
       "stream": "stdout",
       "text": [
        "\n",
        "51239846_133"
       ]
      },
      {
       "output_type": "stream",
       "stream": "stdout",
       "text": [
        "\n",
        "51239849_103B0303"
       ]
      },
      {
       "output_type": "stream",
       "stream": "stdout",
       "text": [
        "\n",
        "51125369_102bali"
       ]
      },
      {
       "output_type": "stream",
       "stream": "stdout",
       "text": [
        "\n",
        "51239853_10307"
       ]
      },
      {
       "output_type": "stream",
       "stream": "stdout",
       "text": [
        "\n",
        "51239857_TNCFD1030317"
       ]
      },
      {
       "output_type": "stream",
       "stream": "stdout",
       "text": [
        "\n",
        "51239871_1030418"
       ]
      },
      {
       "output_type": "stream",
       "stream": "stdout",
       "text": [
        "\n",
        "51239872_TC103C032"
       ]
      },
      {
       "output_type": "stream",
       "stream": "stdout",
       "text": [
        "\n",
        "51239873_103"
       ]
      },
      {
       "output_type": "stream",
       "stream": "stdout",
       "text": [
        "\n",
        "51239876_ndc103008"
       ]
      },
      {
       "output_type": "stream",
       "stream": "stdout",
       "text": [
        "\n",
        "51239883_1021011C"
       ]
      },
      {
       "output_type": "stream",
       "stream": "stdout",
       "text": [
        "\n",
        "51239884_103005"
       ]
      },
      {
       "output_type": "stream",
       "stream": "stdout",
       "text": [
        "\n",
        "51239887_10321"
       ]
      },
      {
       "output_type": "stream",
       "stream": "stdout",
       "text": [
        "\n",
        "51239897_103RD024"
       ]
      },
      {
       "output_type": "stream",
       "stream": "stdout",
       "text": [
        "\n",
        "51239903_C103"
       ]
      },
      {
       "output_type": "stream",
       "stream": "stdout",
       "text": [
        "\n",
        "51239907_103B0308"
       ]
      },
      {
       "output_type": "stream",
       "stream": "stdout",
       "text": [
        "\n",
        "51239908_1030409"
       ]
      },
      {
       "output_type": "stream",
       "stream": "stdout",
       "text": [
        "\n",
        "51239913_1180300003"
       ]
      },
      {
       "output_type": "stream",
       "stream": "stdout",
       "text": [
        "\n",
        "51239914_HST10312"
       ]
      },
      {
       "output_type": "stream",
       "stream": "stdout",
       "text": [
        "\n",
        "51239843_C103"
       ]
      },
      {
       "output_type": "stream",
       "stream": "stdout",
       "text": [
        "\n",
        "51239925_2014041603"
       ]
      },
      {
       "output_type": "stream",
       "stream": "stdout",
       "text": [
        "\n",
        "51239930_1030428"
       ]
      },
      {
       "output_type": "stream",
       "stream": "stdout",
       "text": [
        "\n",
        "51239931_2014031704"
       ]
      },
      {
       "output_type": "stream",
       "stream": "stdout",
       "text": [
        "\n",
        "51239933_103018"
       ]
      },
      {
       "output_type": "stream",
       "stream": "stdout",
       "text": [
        "\n",
        "51239934_1030314"
       ]
      },
      {
       "output_type": "stream",
       "stream": "stdout",
       "text": [
        "\n",
        "51239937_Q10306"
       ]
      },
      {
       "output_type": "stream",
       "stream": "stdout",
       "text": [
        "\n",
        "51239940_103B0403"
       ]
      },
      {
       "output_type": "stream",
       "stream": "stdout",
       "text": [
        "\n",
        "51239943_NCCT103005"
       ]
      },
      {
       "output_type": "stream",
       "stream": "stdout",
       "text": [
        "\n",
        "51239939_M1030085"
       ]
      },
      {
       "output_type": "stream",
       "stream": "stdout",
       "text": [
        "\n",
        "51239946_10308"
       ]
      },
      {
       "output_type": "stream",
       "stream": "stdout",
       "text": [
        "\n",
        "51239854_C103"
       ]
      },
      {
       "output_type": "stream",
       "stream": "stdout",
       "text": [
        "\n",
        "51239950_O"
       ]
      },
      {
       "output_type": "stream",
       "stream": "stdout",
       "text": [
        "\n",
        "51239954_A103014"
       ]
      },
      {
       "output_type": "stream",
       "stream": "stdout",
       "text": [
        "\n",
        "51239958_117103006"
       ]
      },
      {
       "output_type": "stream",
       "stream": "stdout",
       "text": [
        "\n",
        "51239966_52R"
       ]
      },
      {
       "output_type": "stream",
       "stream": "stdout",
       "text": [
        "\n",
        "51239970_103004"
       ]
      },
      {
       "output_type": "stream",
       "stream": "stdout",
       "text": [
        "\n",
        "51239971_ZTL103007"
       ]
      },
      {
       "output_type": "stream",
       "stream": "stdout",
       "text": [
        "\n",
        "51239975_10301"
       ]
      },
      {
       "output_type": "stream",
       "stream": "stdout",
       "text": [
        "\n",
        "51239978_MCA0350002"
       ]
      },
      {
       "output_type": "stream",
       "stream": "stdout",
       "text": [
        "\n",
        "51239982_103"
       ]
      },
      {
       "output_type": "stream",
       "stream": "stdout",
       "text": [
        "\n",
        "51239986_103310"
       ]
      },
      {
       "output_type": "stream",
       "stream": "stdout",
       "text": [
        "\n",
        "51239995_NL1030479"
       ]
      },
      {
       "output_type": "stream",
       "stream": "stdout",
       "text": [
        "\n",
        "51240003_103311"
       ]
      },
      {
       "output_type": "stream",
       "stream": "stdout",
       "text": [
        "\n",
        "51240004_AAC1033001"
       ]
      },
      {
       "output_type": "stream",
       "stream": "stdout",
       "text": [
        "\n",
        "51240005_1030403"
       ]
      },
      {
       "output_type": "stream",
       "stream": "stdout",
       "text": [
        "\n",
        "51240006_GW1030417031"
       ]
      },
      {
       "output_type": "stream",
       "stream": "stdout",
       "text": [
        "\n",
        "51240008_c1030023"
       ]
      },
      {
       "output_type": "stream",
       "stream": "stdout",
       "text": [
        "\n",
        "51240009_10302211"
       ]
      },
      {
       "output_type": "stream",
       "stream": "stdout",
       "text": [
        "\n",
        "51240016_103traffic012"
       ]
      },
      {
       "output_type": "stream",
       "stream": "stdout",
       "text": [
        "\n",
        "51240019_103W009"
       ]
      },
      {
       "output_type": "stream",
       "stream": "stdout",
       "text": [
        "\n",
        "51240020_103B0311"
       ]
      },
      {
       "output_type": "stream",
       "stream": "stdout",
       "text": [
        "\n",
        "51240026_10302"
       ]
      },
      {
       "output_type": "stream",
       "stream": "stdout",
       "text": [
        "\n",
        "51240029_103B0307"
       ]
      },
      {
       "output_type": "stream",
       "stream": "stdout",
       "text": [
        "\n",
        "51240034_M03F4176"
       ]
      },
      {
       "output_type": "stream",
       "stream": "stdout",
       "text": [
        "\n",
        "51240035_NTL"
       ]
      },
      {
       "output_type": "stream",
       "stream": "stdout",
       "text": [
        "\n",
        "51240040_103312"
       ]
      },
      {
       "output_type": "stream",
       "stream": "stdout",
       "text": [
        "\n",
        "51240049_B1030425"
       ]
      },
      {
       "output_type": "stream",
       "stream": "stdout",
       "text": [
        "\n",
        "51240050_103A17"
       ]
      },
      {
       "output_type": "stream",
       "stream": "stdout",
       "text": [
        "\n",
        "51240054_D103"
       ]
      },
      {
       "output_type": "stream",
       "stream": "stdout",
       "text": [
        "\n",
        "51099604_1026604961"
       ]
      },
      {
       "output_type": "stream",
       "stream": "stdout",
       "text": [
        "\n",
        "51240063_103traffic013"
       ]
      },
      {
       "output_type": "stream",
       "stream": "stdout",
       "text": [
        "\n",
        "51240064_103313"
       ]
      },
      {
       "output_type": "stream",
       "stream": "stdout",
       "text": [
        "\n",
        "51240070_1035371594"
       ]
      },
      {
       "output_type": "stream",
       "stream": "stdout",
       "text": [
        "\n",
        "51240072_B961"
       ]
      },
      {
       "output_type": "stream",
       "stream": "stdout",
       "text": [
        "\n",
        "51239926_EPB103"
       ]
      },
      {
       "output_type": "stream",
       "stream": "stdout",
       "text": [
        "\n",
        "51240074_ze103"
       ]
      },
      {
       "output_type": "stream",
       "stream": "stdout",
       "text": [
        "\n",
        "51240076_PULI"
       ]
      },
      {
       "output_type": "stream",
       "stream": "stdout",
       "text": [
        "\n",
        "51170299_L1331021201"
       ]
      },
      {
       "output_type": "stream",
       "stream": "stdout",
       "text": [
        "\n",
        "51239993_gces1030401"
       ]
      },
      {
       "output_type": "stream",
       "stream": "stdout",
       "text": [
        "\n",
        "51240089_1030000325"
       ]
      },
      {
       "output_type": "stream",
       "stream": "stdout",
       "text": [
        "\n",
        "51240090_1030321A"
       ]
      },
      {
       "output_type": "stream",
       "stream": "stdout",
       "text": [
        "\n",
        "51240094_103B"
       ]
      },
      {
       "output_type": "stream",
       "stream": "stdout",
       "text": [
        "\n",
        "51240095_1308"
       ]
      },
      {
       "output_type": "stream",
       "stream": "stdout",
       "text": [
        "\n",
        "51240096_103003"
       ]
      },
      {
       "output_type": "stream",
       "stream": "stdout",
       "text": [
        "\n",
        "51240100_1030301"
       ]
      },
      {
       "output_type": "stream",
       "stream": "stdout",
       "text": [
        "\n",
        "51240103_1030428A"
       ]
      },
      {
       "output_type": "stream",
       "stream": "stdout",
       "text": [
        "\n",
        "51240129_H103"
       ]
      },
      {
       "output_type": "stream",
       "stream": "stdout",
       "text": [
        "\n",
        "51240131_1030331"
       ]
      },
      {
       "output_type": "stream",
       "stream": "stdout",
       "text": [
        "\n",
        "51240132_103"
       ]
      },
      {
       "output_type": "stream",
       "stream": "stdout",
       "text": [
        "\n",
        "51240137_103033"
       ]
      },
      {
       "output_type": "stream",
       "stream": "stdout",
       "text": [
        "\n",
        "51240142_103"
       ]
      },
      {
       "output_type": "stream",
       "stream": "stdout",
       "text": [
        "\n",
        "51240146_103TFDA"
       ]
      },
      {
       "output_type": "stream",
       "stream": "stdout",
       "text": [
        "\n",
        "51239342_103014"
       ]
      },
      {
       "output_type": "stream",
       "stream": "stdout",
       "text": [
        "\n",
        "51239335_103013"
       ]
      },
      {
       "output_type": "stream",
       "stream": "stdout",
       "text": [
        "\n",
        "51239320_103012"
       ]
      },
      {
       "output_type": "stream",
       "stream": "stdout",
       "text": [
        "\n",
        "51239444_10331"
       ]
      },
      {
       "output_type": "stream",
       "stream": "stdout",
       "text": [
        "\n"
       ]
      }
     ],
     "prompt_number": 56
    },
    {
     "cell_type": "heading",
     "level": 2,
     "metadata": {},
     "source": [
      "\u6293\u53d6\u6a19\u6848\u7d30\u7bc0\u5b8c\u6210\u7248"
     ]
    },
    {
     "cell_type": "code",
     "collapsed": false,
     "input": [
      "# -*- coding: utf-8 -*- \n",
      "from bs4 import BeautifulSoup \n",
      "import re, requests, time \n",
      "\n",
      "bid_list = open('bid_list.txt', 'r') \n",
      "for line in bid_list.readlines(): \n",
      "    pagelink = line.strip() \n",
      "    m = re.match(r\"([^ ]+)pkAtmMain=(?P<pkAtmMain>\\w+)&tenderCaseNo=(?P<tenderCaseNo>\\w+)\", pagelink)  \n",
      "    filename = \"%s_%s\"%(m.group('pkAtmMain'), m.group('tenderCaseNo')) \n",
      "    request_get = requests.get(pagelink) \n",
      "    response = request_get.text.encode('utf8') \n",
      "    soup = BeautifulSoup(response)\n",
      "    printarea = soup.find('div', { \"id\" : \"printArea\" }) \n",
      "    bid_detail = open(\"gov/%s.txt\"%(filename), 'w') \n",
      "    bid_detail.write(printarea .prettify(\"utf-8\")) \n",
      "    bid_detail.close() \n",
      "    print filename\n",
      "    time.sleep(1)\n",
      "bid_list.close()\n"
     ],
     "language": "python",
     "metadata": {},
     "outputs": [
      {
       "output_type": "stream",
       "stream": "stdout",
       "text": [
        "51239371_4197\n",
        "51239291_0607L1030328"
       ]
      },
      {
       "output_type": "stream",
       "stream": "stdout",
       "text": [
        "\n",
        "51241675_XW03118P099"
       ]
      },
      {
       "output_type": "stream",
       "stream": "stdout",
       "text": [
        "\n",
        "51241674_XW03072P119"
       ]
      },
      {
       "output_type": "stream",
       "stream": "stdout",
       "text": [
        "\n",
        "51241666_B1030411"
       ]
      },
      {
       "output_type": "stream",
       "stream": "stdout",
       "text": [
        "\n",
        "51241665_B1030422"
       ]
      },
      {
       "output_type": "stream",
       "stream": "stdout",
       "text": [
        "\n",
        "51241621_MPB10390429"
       ]
      },
      {
       "output_type": "stream",
       "stream": "stdout",
       "text": [
        "\n",
        "51241602_103"
       ]
      },
      {
       "output_type": "stream",
       "stream": "stdout",
       "text": [
        "\n",
        "51241573_SL"
       ]
      },
      {
       "output_type": "stream",
       "stream": "stdout",
       "text": [
        "\n",
        "51241557_NG03035P009P"
       ]
      },
      {
       "output_type": "stream",
       "stream": "stdout",
       "text": [
        "\n",
        "51241458_10302"
       ]
      },
      {
       "output_type": "stream",
       "stream": "stdout",
       "text": [
        "\n",
        "51241498_103"
       ]
      },
      {
       "output_type": "stream",
       "stream": "stdout",
       "text": [
        "\n",
        "51241496_W103ABC071"
       ]
      },
      {
       "output_type": "stream",
       "stream": "stdout",
       "text": [
        "\n",
        "51241485_103230330119"
       ]
      },
      {
       "output_type": "stream",
       "stream": "stdout",
       "text": [
        "\n",
        "51238144_C1030415"
       ]
      },
      {
       "output_type": "stream",
       "stream": "stdout",
       "text": [
        "\n",
        "51241358_Y103016"
       ]
      },
      {
       "output_type": "stream",
       "stream": "stdout",
       "text": [
        "\n",
        "51241301_103003"
       ]
      },
      {
       "output_type": "stream",
       "stream": "stdout",
       "text": [
        "\n",
        "51241289_103"
       ]
      },
      {
       "output_type": "stream",
       "stream": "stdout",
       "text": [
        "\n",
        "51241135_103"
       ]
      },
      {
       "output_type": "stream",
       "stream": "stdout",
       "text": [
        "\n",
        "51241115_1030404"
       ]
      },
      {
       "output_type": "stream",
       "stream": "stdout",
       "text": [
        "\n",
        "51241108_11"
       ]
      },
      {
       "output_type": "stream",
       "stream": "stdout",
       "text": [
        "\n",
        "51241103_P103001"
       ]
      },
      {
       "output_type": "stream",
       "stream": "stdout",
       "text": [
        "\n",
        "51241099_103"
       ]
      },
      {
       "output_type": "stream",
       "stream": "stdout",
       "text": [
        "\n",
        "51241063_103075"
       ]
      },
      {
       "output_type": "stream",
       "stream": "stdout",
       "text": [
        "\n",
        "51241062_SL"
       ]
      },
      {
       "output_type": "stream",
       "stream": "stdout",
       "text": [
        "\n",
        "51241029_1030011069"
       ]
      },
      {
       "output_type": "stream",
       "stream": "stdout",
       "text": [
        "\n",
        "51240942_SL"
       ]
      },
      {
       "output_type": "stream",
       "stream": "stdout",
       "text": [
        "\n",
        "51240875_B102RD03012"
       ]
      },
      {
       "output_type": "stream",
       "stream": "stdout",
       "text": [
        "\n",
        "51240824_1030203"
       ]
      },
      {
       "output_type": "stream",
       "stream": "stdout",
       "text": [
        "\n",
        "51240739_G103EDU043"
       ]
      },
      {
       "output_type": "stream",
       "stream": "stdout",
       "text": [
        "\n",
        "51240712_103B04"
       ]
      },
      {
       "output_type": "stream",
       "stream": "stdout",
       "text": [
        "\n",
        "51240655_AASC"
       ]
      },
      {
       "output_type": "stream",
       "stream": "stdout",
       "text": [
        "\n",
        "51240623_TC103C036"
       ]
      },
      {
       "output_type": "stream",
       "stream": "stdout",
       "text": [
        "\n",
        "51240622_DPD2014041101"
       ]
      },
      {
       "output_type": "stream",
       "stream": "stdout",
       "text": [
        "\n",
        "51240570_103B018"
       ]
      },
      {
       "output_type": "stream",
       "stream": "stdout",
       "text": [
        "\n",
        "51240557_NKUHT1524"
       ]
      },
      {
       "output_type": "stream",
       "stream": "stdout",
       "text": [
        "\n",
        "51240543_DPD2014041102"
       ]
      },
      {
       "output_type": "stream",
       "stream": "stdout",
       "text": [
        "\n",
        "51240536_10310"
       ]
      },
      {
       "output_type": "stream",
       "stream": "stdout",
       "text": [
        "\n",
        "51240484_103A011A"
       ]
      },
      {
       "output_type": "stream",
       "stream": "stdout",
       "text": [
        "\n",
        "51240279_103M602"
       ]
      },
      {
       "output_type": "stream",
       "stream": "stdout",
       "text": [
        "\n",
        "51240240_103310230121"
       ]
      },
      {
       "output_type": "stream",
       "stream": "stdout",
       "text": [
        "\n",
        "51240202_103430930099"
       ]
      },
      {
       "output_type": "stream",
       "stream": "stdout",
       "text": [
        "\n",
        "51239231_103"
       ]
      },
      {
       "output_type": "stream",
       "stream": "stdout",
       "text": [
        "\n",
        "51239232_102"
       ]
      },
      {
       "output_type": "stream",
       "stream": "stdout",
       "text": [
        "\n",
        "51239233_103"
       ]
      },
      {
       "output_type": "stream",
       "stream": "stdout",
       "text": [
        "\n",
        "51239234_103"
       ]
      },
      {
       "output_type": "stream",
       "stream": "stdout",
       "text": [
        "\n",
        "51239245_103A03"
       ]
      },
      {
       "output_type": "stream",
       "stream": "stdout",
       "text": [
        "\n",
        "51239246_D103"
       ]
      },
      {
       "output_type": "stream",
       "stream": "stdout",
       "text": [
        "\n",
        "51239255_103022701"
       ]
      },
      {
       "output_type": "stream",
       "stream": "stdout",
       "text": [
        "\n",
        "51239256_103021401"
       ]
      },
      {
       "output_type": "stream",
       "stream": "stdout",
       "text": [
        "\n",
        "51239270_LEB0370001"
       ]
      },
      {
       "output_type": "stream",
       "stream": "stdout",
       "text": [
        "\n",
        "51239272_UBC028F002"
       ]
      },
      {
       "output_type": "stream",
       "stream": "stdout",
       "text": [
        "\n",
        "51239274_UCA028C009"
       ]
      },
      {
       "output_type": "stream",
       "stream": "stdout",
       "text": [
        "\n",
        "51239281_103"
       ]
      },
      {
       "output_type": "stream",
       "stream": "stdout",
       "text": [
        "\n",
        "51239284_10318"
       ]
      },
      {
       "output_type": "stream",
       "stream": "stdout",
       "text": [
        "\n",
        "51239293_TZ10303B"
       ]
      },
      {
       "output_type": "stream",
       "stream": "stdout",
       "text": [
        "\n",
        "51239295_FH03007P031"
       ]
      },
      {
       "output_type": "stream",
       "stream": "stdout",
       "text": [
        "\n",
        "51239296_FH03006P029"
       ]
      },
      {
       "output_type": "stream",
       "stream": "stdout",
       "text": [
        "\n",
        "51239297_FH03032P033"
       ]
      },
      {
       "output_type": "stream",
       "stream": "stdout",
       "text": [
        "\n",
        "51239299_EB10317"
       ]
      },
      {
       "output_type": "stream",
       "stream": "stdout",
       "text": [
        "\n",
        "51239301_EB10319"
       ]
      },
      {
       "output_type": "stream",
       "stream": "stdout",
       "text": [
        "\n",
        "51239326_103"
       ]
      },
      {
       "output_type": "stream",
       "stream": "stdout",
       "text": [
        "\n",
        "51239328_1030304"
       ]
      },
      {
       "output_type": "stream",
       "stream": "stdout",
       "text": [
        "\n",
        "51239329_103301024"
       ]
      },
      {
       "output_type": "stream",
       "stream": "stdout",
       "text": [
        "\n",
        "51239331_W10P103017"
       ]
      },
      {
       "output_type": "stream",
       "stream": "stdout",
       "text": [
        "\n",
        "51239334_103105"
       ]
      },
      {
       "output_type": "stream",
       "stream": "stdout",
       "text": [
        "\n",
        "51239343_1031B00000006A01"
       ]
      },
      {
       "output_type": "stream",
       "stream": "stdout",
       "text": [
        "\n",
        "51239347_103107"
       ]
      },
      {
       "output_type": "stream",
       "stream": "stdout",
       "text": [
        "\n",
        "51239351_1030415"
       ]
      },
      {
       "output_type": "stream",
       "stream": "stdout",
       "text": [
        "\n",
        "51239354_1030833"
       ]
      },
      {
       "output_type": "stream",
       "stream": "stdout",
       "text": [
        "\n",
        "51239361_W10P103012"
       ]
      },
      {
       "output_type": "stream",
       "stream": "stdout",
       "text": [
        "\n",
        "51239369_1030403D3"
       ]
      },
      {
       "output_type": "stream",
       "stream": "stdout",
       "text": [
        "\n",
        "51239373_SV"
       ]
      },
      {
       "output_type": "stream",
       "stream": "stdout",
       "text": [
        "\n",
        "51239377_103028"
       ]
      },
      {
       "output_type": "stream",
       "stream": "stdout",
       "text": [
        "\n",
        "51239388_BAA0384001"
       ]
      },
      {
       "output_type": "stream",
       "stream": "stdout",
       "text": [
        "\n",
        "51239390_ze103"
       ]
      },
      {
       "output_type": "stream",
       "stream": "stdout",
       "text": [
        "\n",
        "51239395_1030324"
       ]
      },
      {
       "output_type": "stream",
       "stream": "stdout",
       "text": [
        "\n",
        "51239412_103036"
       ]
      },
      {
       "output_type": "stream",
       "stream": "stdout",
       "text": [
        "\n",
        "51239414_103230230128"
       ]
      },
      {
       "output_type": "stream",
       "stream": "stdout",
       "text": [
        "\n",
        "51239415_10328"
       ]
      },
      {
       "output_type": "stream",
       "stream": "stdout",
       "text": [
        "\n",
        "51239416_103026"
       ]
      },
      {
       "output_type": "stream",
       "stream": "stdout",
       "text": [
        "\n",
        "51239417_103TMACH06S"
       ]
      },
      {
       "output_type": "stream",
       "stream": "stdout",
       "text": [
        "\n",
        "51239447_103H15"
       ]
      },
      {
       "output_type": "stream",
       "stream": "stdout",
       "text": [
        "\n",
        "51239456_103TMACH09S"
       ]
      },
      {
       "output_type": "stream",
       "stream": "stdout",
       "text": [
        "\n",
        "51239457_1030327"
       ]
      },
      {
       "output_type": "stream",
       "stream": "stdout",
       "text": [
        "\n",
        "51239465_chjh103"
       ]
      },
      {
       "output_type": "stream",
       "stream": "stdout",
       "text": [
        "\n",
        "51239319_103"
       ]
      },
      {
       "output_type": "stream",
       "stream": "stdout",
       "text": [
        "\n",
        "51239481_103"
       ]
      },
      {
       "output_type": "stream",
       "stream": "stdout",
       "text": [
        "\n",
        "51239468_3410300075"
       ]
      },
      {
       "output_type": "stream",
       "stream": "stdout",
       "text": [
        "\n",
        "51239482_P9903"
       ]
      },
      {
       "output_type": "stream",
       "stream": "stdout",
       "text": [
        "\n",
        "51239486_103FC002"
       ]
      },
      {
       "output_type": "stream",
       "stream": "stdout",
       "text": [
        "\n",
        "51239487_1030318"
       ]
      },
      {
       "output_type": "stream",
       "stream": "stdout",
       "text": [
        "\n",
        "51239509_A103000002"
       ]
      },
      {
       "output_type": "stream",
       "stream": "stdout",
       "text": [
        "\n",
        "51239510_1030228"
       ]
      },
      {
       "output_type": "stream",
       "stream": "stdout",
       "text": [
        "\n",
        "51239514_Jcs"
       ]
      },
      {
       "output_type": "stream",
       "stream": "stdout",
       "text": [
        "\n",
        "51239526_1030401"
       ]
      },
      {
       "output_type": "stream",
       "stream": "stdout",
       "text": [
        "\n",
        "51239530_NF103001"
       ]
      },
      {
       "output_type": "stream",
       "stream": "stdout",
       "text": [
        "\n",
        "51239531_1030402B3"
       ]
      },
      {
       "output_type": "stream",
       "stream": "stdout",
       "text": [
        "\n",
        "51239533_103"
       ]
      },
      {
       "output_type": "stream",
       "stream": "stdout",
       "text": [
        "\n",
        "51239537_NPM103037"
       ]
      },
      {
       "output_type": "stream",
       "stream": "stdout",
       "text": [
        "\n",
        "51239544_FD03004P004"
       ]
      },
      {
       "output_type": "stream",
       "stream": "stdout",
       "text": [
        "\n",
        "51239550_D103002"
       ]
      },
      {
       "output_type": "stream",
       "stream": "stdout",
       "text": [
        "\n",
        "51239554_FD03007P005"
       ]
      },
      {
       "output_type": "stream",
       "stream": "stdout",
       "text": [
        "\n",
        "51239564_1030401"
       ]
      },
      {
       "output_type": "stream",
       "stream": "stdout",
       "text": [
        "\n",
        "51239565_iris0331"
       ]
      },
      {
       "output_type": "stream",
       "stream": "stdout",
       "text": [
        "\n",
        "51239566_103"
       ]
      },
      {
       "output_type": "stream",
       "stream": "stdout",
       "text": [
        "\n",
        "51239575_AASC"
       ]
      },
      {
       "output_type": "stream",
       "stream": "stdout",
       "text": [
        "\n",
        "51239576_A1030137ENG011"
       ]
      },
      {
       "output_type": "stream",
       "stream": "stdout",
       "text": [
        "\n",
        "51239606_1030206"
       ]
      },
      {
       "output_type": "stream",
       "stream": "stdout",
       "text": [
        "\n",
        "51239597_HJ03242P121"
       ]
      },
      {
       "output_type": "stream",
       "stream": "stdout",
       "text": [
        "\n",
        "51239608_103A159"
       ]
      },
      {
       "output_type": "stream",
       "stream": "stdout",
       "text": [
        "\n",
        "51239609_102107"
       ]
      },
      {
       "output_type": "stream",
       "stream": "stdout",
       "text": [
        "\n",
        "51239617_klnes1030428"
       ]
      },
      {
       "output_type": "stream",
       "stream": "stdout",
       "text": [
        "\n",
        "51239619_103C2022"
       ]
      },
      {
       "output_type": "stream",
       "stream": "stdout",
       "text": [
        "\n",
        "51239621_1030201"
       ]
      },
      {
       "output_type": "stream",
       "stream": "stdout",
       "text": [
        "\n",
        "51239625_103HA164C3"
       ]
      },
      {
       "output_type": "stream",
       "stream": "stdout",
       "text": [
        "\n",
        "51239635_103"
       ]
      },
      {
       "output_type": "stream",
       "stream": "stdout",
       "text": [
        "\n",
        "51239644_B103170"
       ]
      },
      {
       "output_type": "stream",
       "stream": "stdout",
       "text": [
        "\n",
        "51239647_103A119"
       ]
      },
      {
       "output_type": "stream",
       "stream": "stdout",
       "text": [
        "\n",
        "51239648_E1021212"
       ]
      },
      {
       "output_type": "stream",
       "stream": "stdout",
       "text": [
        "\n",
        "51239650_102108"
       ]
      },
      {
       "output_type": "stream",
       "stream": "stdout",
       "text": [
        "\n",
        "51239654_B103167"
       ]
      },
      {
       "output_type": "stream",
       "stream": "stdout",
       "text": [
        "\n",
        "51239659_E1021220"
       ]
      },
      {
       "output_type": "stream",
       "stream": "stdout",
       "text": [
        "\n",
        "51239662_B103169"
       ]
      },
      {
       "output_type": "stream",
       "stream": "stdout",
       "text": [
        "\n",
        "51239663_1030325"
       ]
      },
      {
       "output_type": "stream",
       "stream": "stdout",
       "text": [
        "\n",
        "51239664_M03I6247"
       ]
      },
      {
       "output_type": "stream",
       "stream": "stdout",
       "text": [
        "\n",
        "51239667_B103162"
       ]
      },
      {
       "output_type": "stream",
       "stream": "stdout",
       "text": [
        "\n",
        "51239668_1030415"
       ]
      },
      {
       "output_type": "stream",
       "stream": "stdout",
       "text": [
        "\n",
        "51239675_103203"
       ]
      },
      {
       "output_type": "stream",
       "stream": "stdout",
       "text": [
        "\n",
        "51239676_tms103064"
       ]
      },
      {
       "output_type": "stream",
       "stream": "stdout",
       "text": [
        "\n",
        "51239680_01"
       ]
      },
      {
       "output_type": "stream",
       "stream": "stdout",
       "text": [
        "\n",
        "51239683_1030326AA"
       ]
      },
      {
       "output_type": "stream",
       "stream": "stdout",
       "text": [
        "\n",
        "51239688_S102026"
       ]
      },
      {
       "output_type": "stream",
       "stream": "stdout",
       "text": [
        "\n",
        "51239692_103009"
       ]
      },
      {
       "output_type": "stream",
       "stream": "stdout",
       "text": [
        "\n",
        "51235230_10305"
       ]
      },
      {
       "output_type": "stream",
       "stream": "stdout",
       "text": [
        "\n",
        "51236707_1010062"
       ]
      },
      {
       "output_type": "stream",
       "stream": "stdout",
       "text": [
        "\n",
        "51238769_A35014"
       ]
      },
      {
       "output_type": "stream",
       "stream": "stdout",
       "text": [
        "\n",
        "51238854_1030307"
       ]
      },
      {
       "output_type": "stream",
       "stream": "stdout",
       "text": [
        "\n",
        "51238970_1030020088C"
       ]
      },
      {
       "output_type": "stream",
       "stream": "stdout",
       "text": [
        "\n",
        "51239198_103"
       ]
      },
      {
       "output_type": "stream",
       "stream": "stdout",
       "text": [
        "\n",
        "51239201_10302"
       ]
      },
      {
       "output_type": "stream",
       "stream": "stdout",
       "text": [
        "\n",
        "51239203_AGB"
       ]
      },
      {
       "output_type": "stream",
       "stream": "stdout",
       "text": [
        "\n",
        "51239215_002"
       ]
      },
      {
       "output_type": "stream",
       "stream": "stdout",
       "text": [
        "\n",
        "51239216_NCC"
       ]
      },
      {
       "output_type": "stream",
       "stream": "stdout",
       "text": [
        "\n",
        "51239702_B103173"
       ]
      },
      {
       "output_type": "stream",
       "stream": "stdout",
       "text": [
        "\n",
        "51239704_103016"
       ]
      },
      {
       "output_type": "stream",
       "stream": "stdout",
       "text": [
        "\n",
        "51239708_B103165"
       ]
      },
      {
       "output_type": "stream",
       "stream": "stdout",
       "text": [
        "\n",
        "51239709_103"
       ]
      },
      {
       "output_type": "stream",
       "stream": "stdout",
       "text": [
        "\n",
        "51239714_103A21"
       ]
      },
      {
       "output_type": "stream",
       "stream": "stdout",
       "text": [
        "\n",
        "51239717_XU03E29P092"
       ]
      },
      {
       "output_type": "stream",
       "stream": "stdout",
       "text": [
        "\n",
        "51239720_B103174"
       ]
      },
      {
       "output_type": "stream",
       "stream": "stdout",
       "text": [
        "\n",
        "51239723_1030055"
       ]
      },
      {
       "output_type": "stream",
       "stream": "stdout",
       "text": [
        "\n",
        "51239724_103B042"
       ]
      },
      {
       "output_type": "stream",
       "stream": "stdout",
       "text": [
        "\n",
        "51239725_TC103C023"
       ]
      },
      {
       "output_type": "stream",
       "stream": "stdout",
       "text": [
        "\n",
        "51239727_1030247"
       ]
      },
      {
       "output_type": "stream",
       "stream": "stdout",
       "text": [
        "\n",
        "51239731_103H17"
       ]
      },
      {
       "output_type": "stream",
       "stream": "stdout",
       "text": [
        "\n",
        "51239733_B103131"
       ]
      },
      {
       "output_type": "stream",
       "stream": "stdout",
       "text": [
        "\n",
        "51239734_103008"
       ]
      },
      {
       "output_type": "stream",
       "stream": "stdout",
       "text": [
        "\n",
        "51239738_3510300082"
       ]
      },
      {
       "output_type": "stream",
       "stream": "stdout",
       "text": [
        "\n",
        "51239739_H02028"
       ]
      },
      {
       "output_type": "stream",
       "stream": "stdout",
       "text": [
        "\n",
        "51239741_103A021"
       ]
      },
      {
       "output_type": "stream",
       "stream": "stdout",
       "text": [
        "\n",
        "51239749_DEF0342001"
       ]
      },
      {
       "output_type": "stream",
       "stream": "stdout",
       "text": [
        "\n",
        "51239750_IOT"
       ]
      },
      {
       "output_type": "stream",
       "stream": "stdout",
       "text": [
        "\n",
        "51239763_1030408"
       ]
      },
      {
       "output_type": "stream",
       "stream": "stdout",
       "text": [
        "\n",
        "51239764_103042111"
       ]
      },
      {
       "output_type": "stream",
       "stream": "stdout",
       "text": [
        "\n",
        "51239765_101001201"
       ]
      },
      {
       "output_type": "stream",
       "stream": "stdout",
       "text": [
        "\n",
        "51239767_103"
       ]
      },
      {
       "output_type": "stream",
       "stream": "stdout",
       "text": [
        "\n",
        "51239783_651910318"
       ]
      },
      {
       "output_type": "stream",
       "stream": "stdout",
       "text": [
        "\n",
        "51239789_117"
       ]
      },
      {
       "output_type": "stream",
       "stream": "stdout",
       "text": [
        "\n",
        "51239796_M1030062"
       ]
      },
      {
       "output_type": "stream",
       "stream": "stdout",
       "text": [
        "\n",
        "51239822_A1030211KH049PW"
       ]
      },
      {
       "output_type": "stream",
       "stream": "stdout",
       "text": [
        "\n",
        "51239825_AEC10302010L"
       ]
      },
      {
       "output_type": "stream",
       "stream": "stdout",
       "text": [
        "\n",
        "51239827_103"
       ]
      },
      {
       "output_type": "stream",
       "stream": "stdout",
       "text": [
        "\n",
        "51122915_TS1021101"
       ]
      },
      {
       "output_type": "stream",
       "stream": "stdout",
       "text": [
        "\n",
        "51239829_C10300519"
       ]
      },
      {
       "output_type": "stream",
       "stream": "stdout",
       "text": [
        "\n",
        "51239832_1012461615"
       ]
      },
      {
       "output_type": "stream",
       "stream": "stdout",
       "text": [
        "\n",
        "51239837_10320"
       ]
      },
      {
       "output_type": "stream",
       "stream": "stdout",
       "text": [
        "\n",
        "51239839_10303A"
       ]
      },
      {
       "output_type": "stream",
       "stream": "stdout",
       "text": [
        "\n",
        "51239844_F103"
       ]
      },
      {
       "output_type": "stream",
       "stream": "stdout",
       "text": [
        "\n",
        "51239845_1030502"
       ]
      },
      {
       "output_type": "stream",
       "stream": "stdout",
       "text": [
        "\n",
        "51239846_133"
       ]
      },
      {
       "output_type": "stream",
       "stream": "stdout",
       "text": [
        "\n",
        "51239849_103B0303"
       ]
      },
      {
       "output_type": "stream",
       "stream": "stdout",
       "text": [
        "\n",
        "51125369_102bali"
       ]
      },
      {
       "output_type": "stream",
       "stream": "stdout",
       "text": [
        "\n",
        "51239853_10307"
       ]
      },
      {
       "output_type": "stream",
       "stream": "stdout",
       "text": [
        "\n",
        "51239857_TNCFD1030317"
       ]
      },
      {
       "output_type": "stream",
       "stream": "stdout",
       "text": [
        "\n",
        "51239871_1030418"
       ]
      },
      {
       "output_type": "stream",
       "stream": "stdout",
       "text": [
        "\n",
        "51239872_TC103C032"
       ]
      },
      {
       "output_type": "stream",
       "stream": "stdout",
       "text": [
        "\n",
        "51239873_103"
       ]
      },
      {
       "output_type": "stream",
       "stream": "stdout",
       "text": [
        "\n",
        "51239876_ndc103008"
       ]
      },
      {
       "output_type": "stream",
       "stream": "stdout",
       "text": [
        "\n",
        "51239883_1021011C"
       ]
      },
      {
       "output_type": "stream",
       "stream": "stdout",
       "text": [
        "\n",
        "51239884_103005"
       ]
      },
      {
       "output_type": "stream",
       "stream": "stdout",
       "text": [
        "\n",
        "51239887_10321"
       ]
      },
      {
       "output_type": "stream",
       "stream": "stdout",
       "text": [
        "\n",
        "51239897_103RD024"
       ]
      },
      {
       "output_type": "stream",
       "stream": "stdout",
       "text": [
        "\n",
        "51239903_C103"
       ]
      },
      {
       "output_type": "stream",
       "stream": "stdout",
       "text": [
        "\n",
        "51239907_103B0308"
       ]
      },
      {
       "output_type": "stream",
       "stream": "stdout",
       "text": [
        "\n",
        "51239908_1030409"
       ]
      },
      {
       "output_type": "stream",
       "stream": "stdout",
       "text": [
        "\n",
        "51239913_1180300003"
       ]
      },
      {
       "output_type": "stream",
       "stream": "stdout",
       "text": [
        "\n",
        "51239914_HST10312"
       ]
      },
      {
       "output_type": "stream",
       "stream": "stdout",
       "text": [
        "\n",
        "51239843_C103"
       ]
      },
      {
       "output_type": "stream",
       "stream": "stdout",
       "text": [
        "\n",
        "51239925_2014041603"
       ]
      },
      {
       "output_type": "stream",
       "stream": "stdout",
       "text": [
        "\n",
        "51239930_1030428"
       ]
      },
      {
       "output_type": "stream",
       "stream": "stdout",
       "text": [
        "\n",
        "51239931_2014031704"
       ]
      },
      {
       "output_type": "stream",
       "stream": "stdout",
       "text": [
        "\n",
        "51239933_103018"
       ]
      },
      {
       "output_type": "stream",
       "stream": "stdout",
       "text": [
        "\n",
        "51239934_1030314"
       ]
      },
      {
       "output_type": "stream",
       "stream": "stdout",
       "text": [
        "\n",
        "51239937_Q10306"
       ]
      },
      {
       "output_type": "stream",
       "stream": "stdout",
       "text": [
        "\n",
        "51239940_103B0403"
       ]
      },
      {
       "output_type": "stream",
       "stream": "stdout",
       "text": [
        "\n",
        "51239943_NCCT103005"
       ]
      },
      {
       "output_type": "stream",
       "stream": "stdout",
       "text": [
        "\n",
        "51239939_M1030085"
       ]
      },
      {
       "output_type": "stream",
       "stream": "stdout",
       "text": [
        "\n",
        "51239946_10308"
       ]
      },
      {
       "output_type": "stream",
       "stream": "stdout",
       "text": [
        "\n",
        "51239854_C103"
       ]
      },
      {
       "output_type": "stream",
       "stream": "stdout",
       "text": [
        "\n",
        "51239950_O"
       ]
      },
      {
       "output_type": "stream",
       "stream": "stdout",
       "text": [
        "\n",
        "51239954_A103014"
       ]
      },
      {
       "output_type": "stream",
       "stream": "stdout",
       "text": [
        "\n",
        "51239958_117103006"
       ]
      },
      {
       "output_type": "stream",
       "stream": "stdout",
       "text": [
        "\n",
        "51239966_52R"
       ]
      },
      {
       "output_type": "stream",
       "stream": "stdout",
       "text": [
        "\n",
        "51239970_103004"
       ]
      },
      {
       "output_type": "stream",
       "stream": "stdout",
       "text": [
        "\n",
        "51239971_ZTL103007"
       ]
      },
      {
       "output_type": "stream",
       "stream": "stdout",
       "text": [
        "\n",
        "51239975_10301"
       ]
      },
      {
       "output_type": "stream",
       "stream": "stdout",
       "text": [
        "\n",
        "51239978_MCA0350002"
       ]
      },
      {
       "output_type": "stream",
       "stream": "stdout",
       "text": [
        "\n",
        "51239982_103"
       ]
      },
      {
       "output_type": "stream",
       "stream": "stdout",
       "text": [
        "\n",
        "51239986_103310"
       ]
      },
      {
       "output_type": "stream",
       "stream": "stdout",
       "text": [
        "\n",
        "51239995_NL1030479"
       ]
      },
      {
       "output_type": "stream",
       "stream": "stdout",
       "text": [
        "\n",
        "51240003_103311"
       ]
      },
      {
       "output_type": "stream",
       "stream": "stdout",
       "text": [
        "\n",
        "51240004_AAC1033001"
       ]
      },
      {
       "output_type": "stream",
       "stream": "stdout",
       "text": [
        "\n",
        "51240005_1030403"
       ]
      },
      {
       "output_type": "stream",
       "stream": "stdout",
       "text": [
        "\n",
        "51240006_GW1030417031"
       ]
      },
      {
       "output_type": "stream",
       "stream": "stdout",
       "text": [
        "\n",
        "51240008_c1030023"
       ]
      },
      {
       "output_type": "stream",
       "stream": "stdout",
       "text": [
        "\n",
        "51240009_10302211"
       ]
      },
      {
       "output_type": "stream",
       "stream": "stdout",
       "text": [
        "\n",
        "51240016_103traffic012"
       ]
      },
      {
       "output_type": "stream",
       "stream": "stdout",
       "text": [
        "\n",
        "51240019_103W009"
       ]
      },
      {
       "output_type": "stream",
       "stream": "stdout",
       "text": [
        "\n",
        "51240020_103B0311"
       ]
      },
      {
       "output_type": "stream",
       "stream": "stdout",
       "text": [
        "\n",
        "51240026_10302"
       ]
      },
      {
       "output_type": "stream",
       "stream": "stdout",
       "text": [
        "\n",
        "51240029_103B0307"
       ]
      },
      {
       "output_type": "stream",
       "stream": "stdout",
       "text": [
        "\n",
        "51240034_M03F4176"
       ]
      },
      {
       "output_type": "stream",
       "stream": "stdout",
       "text": [
        "\n",
        "51240035_NTL"
       ]
      },
      {
       "output_type": "stream",
       "stream": "stdout",
       "text": [
        "\n",
        "51240040_103312"
       ]
      },
      {
       "output_type": "stream",
       "stream": "stdout",
       "text": [
        "\n",
        "51240049_B1030425"
       ]
      },
      {
       "output_type": "stream",
       "stream": "stdout",
       "text": [
        "\n",
        "51240050_103A17"
       ]
      },
      {
       "output_type": "stream",
       "stream": "stdout",
       "text": [
        "\n",
        "51240054_D103"
       ]
      },
      {
       "output_type": "stream",
       "stream": "stdout",
       "text": [
        "\n",
        "51099604_1026604961"
       ]
      },
      {
       "output_type": "stream",
       "stream": "stdout",
       "text": [
        "\n",
        "51240063_103traffic013"
       ]
      },
      {
       "output_type": "stream",
       "stream": "stdout",
       "text": [
        "\n",
        "51240064_103313"
       ]
      },
      {
       "output_type": "stream",
       "stream": "stdout",
       "text": [
        "\n",
        "51240070_1035371594"
       ]
      },
      {
       "output_type": "stream",
       "stream": "stdout",
       "text": [
        "\n",
        "51240072_B961"
       ]
      },
      {
       "output_type": "stream",
       "stream": "stdout",
       "text": [
        "\n",
        "51239926_EPB103"
       ]
      },
      {
       "output_type": "stream",
       "stream": "stdout",
       "text": [
        "\n",
        "51240074_ze103"
       ]
      },
      {
       "output_type": "stream",
       "stream": "stdout",
       "text": [
        "\n",
        "51240076_PULI"
       ]
      },
      {
       "output_type": "stream",
       "stream": "stdout",
       "text": [
        "\n",
        "51170299_L1331021201"
       ]
      },
      {
       "output_type": "stream",
       "stream": "stdout",
       "text": [
        "\n",
        "51239993_gces1030401"
       ]
      },
      {
       "output_type": "stream",
       "stream": "stdout",
       "text": [
        "\n",
        "51240089_1030000325"
       ]
      },
      {
       "output_type": "stream",
       "stream": "stdout",
       "text": [
        "\n",
        "51240090_1030321A"
       ]
      },
      {
       "output_type": "stream",
       "stream": "stdout",
       "text": [
        "\n",
        "51240094_103B"
       ]
      },
      {
       "output_type": "stream",
       "stream": "stdout",
       "text": [
        "\n",
        "51240095_1308"
       ]
      },
      {
       "output_type": "stream",
       "stream": "stdout",
       "text": [
        "\n",
        "51240096_103003"
       ]
      },
      {
       "output_type": "stream",
       "stream": "stdout",
       "text": [
        "\n",
        "51240100_1030301"
       ]
      },
      {
       "output_type": "stream",
       "stream": "stdout",
       "text": [
        "\n",
        "51240103_1030428A"
       ]
      },
      {
       "output_type": "stream",
       "stream": "stdout",
       "text": [
        "\n",
        "51240129_H103"
       ]
      },
      {
       "output_type": "stream",
       "stream": "stdout",
       "text": [
        "\n",
        "51240131_1030331"
       ]
      },
      {
       "output_type": "stream",
       "stream": "stdout",
       "text": [
        "\n",
        "51240132_103"
       ]
      },
      {
       "output_type": "stream",
       "stream": "stdout",
       "text": [
        "\n",
        "51240137_103033"
       ]
      },
      {
       "output_type": "stream",
       "stream": "stdout",
       "text": [
        "\n",
        "51240142_103"
       ]
      },
      {
       "output_type": "stream",
       "stream": "stdout",
       "text": [
        "\n",
        "51240146_103TFDA"
       ]
      },
      {
       "output_type": "stream",
       "stream": "stdout",
       "text": [
        "\n",
        "51239342_103014"
       ]
      },
      {
       "output_type": "stream",
       "stream": "stdout",
       "text": [
        "\n",
        "51239335_103013"
       ]
      },
      {
       "output_type": "stream",
       "stream": "stdout",
       "text": [
        "\n",
        "51239320_103012"
       ]
      },
      {
       "output_type": "stream",
       "stream": "stdout",
       "text": [
        "\n",
        "51239444_10331"
       ]
      },
      {
       "output_type": "stream",
       "stream": "stdout",
       "text": [
        "\n"
       ]
      },
      {
       "output_type": "stream",
       "stream": "stdout",
       "text": [
        "51239371_4197\n",
        "51239291_0607L1030328"
       ]
      },
      {
       "output_type": "stream",
       "stream": "stdout",
       "text": [
        "\n",
        "51241675_XW03118P099"
       ]
      },
      {
       "output_type": "stream",
       "stream": "stdout",
       "text": [
        "\n",
        "51241674_XW03072P119"
       ]
      },
      {
       "output_type": "stream",
       "stream": "stdout",
       "text": [
        "\n",
        "51241666_B1030411"
       ]
      },
      {
       "output_type": "stream",
       "stream": "stdout",
       "text": [
        "\n",
        "51241665_B1030422"
       ]
      },
      {
       "output_type": "stream",
       "stream": "stdout",
       "text": [
        "\n",
        "51241621_MPB10390429"
       ]
      },
      {
       "output_type": "stream",
       "stream": "stdout",
       "text": [
        "\n",
        "51241602_103"
       ]
      },
      {
       "output_type": "stream",
       "stream": "stdout",
       "text": [
        "\n",
        "51241573_SL"
       ]
      },
      {
       "output_type": "stream",
       "stream": "stdout",
       "text": [
        "\n",
        "51241557_NG03035P009P"
       ]
      },
      {
       "output_type": "stream",
       "stream": "stdout",
       "text": [
        "\n",
        "51241458_10302"
       ]
      },
      {
       "output_type": "stream",
       "stream": "stdout",
       "text": [
        "\n",
        "51241498_103"
       ]
      },
      {
       "output_type": "stream",
       "stream": "stdout",
       "text": [
        "\n",
        "51241496_W103ABC071"
       ]
      },
      {
       "output_type": "stream",
       "stream": "stdout",
       "text": [
        "\n",
        "51241485_103230330119"
       ]
      },
      {
       "output_type": "stream",
       "stream": "stdout",
       "text": [
        "\n",
        "51238144_C1030415"
       ]
      },
      {
       "output_type": "stream",
       "stream": "stdout",
       "text": [
        "\n",
        "51241358_Y103016"
       ]
      },
      {
       "output_type": "stream",
       "stream": "stdout",
       "text": [
        "\n",
        "51241301_103003"
       ]
      },
      {
       "output_type": "stream",
       "stream": "stdout",
       "text": [
        "\n",
        "51241289_103"
       ]
      },
      {
       "output_type": "stream",
       "stream": "stdout",
       "text": [
        "\n",
        "51241135_103"
       ]
      },
      {
       "output_type": "stream",
       "stream": "stdout",
       "text": [
        "\n",
        "51241115_1030404"
       ]
      },
      {
       "output_type": "stream",
       "stream": "stdout",
       "text": [
        "\n",
        "51241108_11"
       ]
      },
      {
       "output_type": "stream",
       "stream": "stdout",
       "text": [
        "\n",
        "51241103_P103001"
       ]
      },
      {
       "output_type": "stream",
       "stream": "stdout",
       "text": [
        "\n",
        "51241099_103"
       ]
      },
      {
       "output_type": "stream",
       "stream": "stdout",
       "text": [
        "\n",
        "51241063_103075"
       ]
      },
      {
       "output_type": "stream",
       "stream": "stdout",
       "text": [
        "\n",
        "51241062_SL"
       ]
      },
      {
       "output_type": "stream",
       "stream": "stdout",
       "text": [
        "\n",
        "51241029_1030011069"
       ]
      },
      {
       "output_type": "stream",
       "stream": "stdout",
       "text": [
        "\n",
        "51240942_SL"
       ]
      },
      {
       "output_type": "stream",
       "stream": "stdout",
       "text": [
        "\n",
        "51240875_B102RD03012"
       ]
      },
      {
       "output_type": "stream",
       "stream": "stdout",
       "text": [
        "\n",
        "51240824_1030203"
       ]
      },
      {
       "output_type": "stream",
       "stream": "stdout",
       "text": [
        "\n",
        "51240739_G103EDU043"
       ]
      },
      {
       "output_type": "stream",
       "stream": "stdout",
       "text": [
        "\n",
        "51240712_103B04"
       ]
      },
      {
       "output_type": "stream",
       "stream": "stdout",
       "text": [
        "\n",
        "51240655_AASC"
       ]
      },
      {
       "output_type": "stream",
       "stream": "stdout",
       "text": [
        "\n",
        "51240623_TC103C036"
       ]
      },
      {
       "output_type": "stream",
       "stream": "stdout",
       "text": [
        "\n",
        "51240622_DPD2014041101"
       ]
      },
      {
       "output_type": "stream",
       "stream": "stdout",
       "text": [
        "\n",
        "51240570_103B018"
       ]
      },
      {
       "output_type": "stream",
       "stream": "stdout",
       "text": [
        "\n",
        "51240557_NKUHT1524"
       ]
      },
      {
       "output_type": "stream",
       "stream": "stdout",
       "text": [
        "\n",
        "51240543_DPD2014041102"
       ]
      },
      {
       "output_type": "stream",
       "stream": "stdout",
       "text": [
        "\n",
        "51240536_10310"
       ]
      },
      {
       "output_type": "stream",
       "stream": "stdout",
       "text": [
        "\n",
        "51240484_103A011A"
       ]
      },
      {
       "output_type": "stream",
       "stream": "stdout",
       "text": [
        "\n",
        "51240279_103M602"
       ]
      },
      {
       "output_type": "stream",
       "stream": "stdout",
       "text": [
        "\n",
        "51240240_103310230121"
       ]
      },
      {
       "output_type": "stream",
       "stream": "stdout",
       "text": [
        "\n",
        "51240202_103430930099"
       ]
      },
      {
       "output_type": "stream",
       "stream": "stdout",
       "text": [
        "\n",
        "51239231_103"
       ]
      },
      {
       "output_type": "stream",
       "stream": "stdout",
       "text": [
        "\n",
        "51239232_102"
       ]
      },
      {
       "output_type": "stream",
       "stream": "stdout",
       "text": [
        "\n",
        "51239233_103"
       ]
      },
      {
       "output_type": "stream",
       "stream": "stdout",
       "text": [
        "\n",
        "51239234_103"
       ]
      },
      {
       "output_type": "stream",
       "stream": "stdout",
       "text": [
        "\n",
        "51239245_103A03"
       ]
      },
      {
       "output_type": "stream",
       "stream": "stdout",
       "text": [
        "\n",
        "51239246_D103"
       ]
      },
      {
       "output_type": "stream",
       "stream": "stdout",
       "text": [
        "\n",
        "51239255_103022701"
       ]
      },
      {
       "output_type": "stream",
       "stream": "stdout",
       "text": [
        "\n",
        "51239256_103021401"
       ]
      },
      {
       "output_type": "stream",
       "stream": "stdout",
       "text": [
        "\n",
        "51239270_LEB0370001"
       ]
      },
      {
       "output_type": "stream",
       "stream": "stdout",
       "text": [
        "\n",
        "51239272_UBC028F002"
       ]
      },
      {
       "output_type": "stream",
       "stream": "stdout",
       "text": [
        "\n",
        "51239274_UCA028C009"
       ]
      },
      {
       "output_type": "stream",
       "stream": "stdout",
       "text": [
        "\n",
        "51239281_103"
       ]
      },
      {
       "output_type": "stream",
       "stream": "stdout",
       "text": [
        "\n",
        "51239284_10318"
       ]
      },
      {
       "output_type": "stream",
       "stream": "stdout",
       "text": [
        "\n",
        "51239293_TZ10303B"
       ]
      },
      {
       "output_type": "stream",
       "stream": "stdout",
       "text": [
        "\n",
        "51239295_FH03007P031"
       ]
      },
      {
       "output_type": "stream",
       "stream": "stdout",
       "text": [
        "\n",
        "51239296_FH03006P029"
       ]
      },
      {
       "output_type": "stream",
       "stream": "stdout",
       "text": [
        "\n",
        "51239297_FH03032P033"
       ]
      },
      {
       "output_type": "stream",
       "stream": "stdout",
       "text": [
        "\n",
        "51239299_EB10317"
       ]
      },
      {
       "output_type": "stream",
       "stream": "stdout",
       "text": [
        "\n",
        "51239301_EB10319"
       ]
      },
      {
       "output_type": "stream",
       "stream": "stdout",
       "text": [
        "\n",
        "51239326_103"
       ]
      },
      {
       "output_type": "stream",
       "stream": "stdout",
       "text": [
        "\n",
        "51239328_1030304"
       ]
      },
      {
       "output_type": "stream",
       "stream": "stdout",
       "text": [
        "\n",
        "51239329_103301024"
       ]
      },
      {
       "output_type": "stream",
       "stream": "stdout",
       "text": [
        "\n",
        "51239331_W10P103017"
       ]
      },
      {
       "output_type": "stream",
       "stream": "stdout",
       "text": [
        "\n",
        "51239334_103105"
       ]
      },
      {
       "output_type": "stream",
       "stream": "stdout",
       "text": [
        "\n",
        "51239343_1031B00000006A01"
       ]
      },
      {
       "output_type": "stream",
       "stream": "stdout",
       "text": [
        "\n",
        "51239347_103107"
       ]
      },
      {
       "output_type": "stream",
       "stream": "stdout",
       "text": [
        "\n",
        "51239351_1030415"
       ]
      },
      {
       "output_type": "stream",
       "stream": "stdout",
       "text": [
        "\n",
        "51239354_1030833"
       ]
      },
      {
       "output_type": "stream",
       "stream": "stdout",
       "text": [
        "\n",
        "51239361_W10P103012"
       ]
      },
      {
       "output_type": "stream",
       "stream": "stdout",
       "text": [
        "\n",
        "51239369_1030403D3"
       ]
      },
      {
       "output_type": "stream",
       "stream": "stdout",
       "text": [
        "\n",
        "51239373_SV"
       ]
      },
      {
       "output_type": "stream",
       "stream": "stdout",
       "text": [
        "\n",
        "51239377_103028"
       ]
      },
      {
       "output_type": "stream",
       "stream": "stdout",
       "text": [
        "\n",
        "51239388_BAA0384001"
       ]
      },
      {
       "output_type": "stream",
       "stream": "stdout",
       "text": [
        "\n",
        "51239390_ze103"
       ]
      },
      {
       "output_type": "stream",
       "stream": "stdout",
       "text": [
        "\n",
        "51239395_1030324"
       ]
      },
      {
       "output_type": "stream",
       "stream": "stdout",
       "text": [
        "\n",
        "51239412_103036"
       ]
      },
      {
       "output_type": "stream",
       "stream": "stdout",
       "text": [
        "\n",
        "51239414_103230230128"
       ]
      },
      {
       "output_type": "stream",
       "stream": "stdout",
       "text": [
        "\n",
        "51239415_10328"
       ]
      },
      {
       "output_type": "stream",
       "stream": "stdout",
       "text": [
        "\n",
        "51239416_103026"
       ]
      },
      {
       "output_type": "stream",
       "stream": "stdout",
       "text": [
        "\n",
        "51239417_103TMACH06S"
       ]
      },
      {
       "output_type": "stream",
       "stream": "stdout",
       "text": [
        "\n",
        "51239447_103H15"
       ]
      },
      {
       "output_type": "stream",
       "stream": "stdout",
       "text": [
        "\n",
        "51239456_103TMACH09S"
       ]
      },
      {
       "output_type": "stream",
       "stream": "stdout",
       "text": [
        "\n",
        "51239457_1030327"
       ]
      },
      {
       "output_type": "stream",
       "stream": "stdout",
       "text": [
        "\n",
        "51239465_chjh103"
       ]
      },
      {
       "output_type": "stream",
       "stream": "stdout",
       "text": [
        "\n",
        "51239319_103"
       ]
      },
      {
       "output_type": "stream",
       "stream": "stdout",
       "text": [
        "\n",
        "51239481_103"
       ]
      },
      {
       "output_type": "stream",
       "stream": "stdout",
       "text": [
        "\n",
        "51239468_3410300075"
       ]
      },
      {
       "output_type": "stream",
       "stream": "stdout",
       "text": [
        "\n",
        "51239482_P9903"
       ]
      },
      {
       "output_type": "stream",
       "stream": "stdout",
       "text": [
        "\n",
        "51239486_103FC002"
       ]
      },
      {
       "output_type": "stream",
       "stream": "stdout",
       "text": [
        "\n",
        "51239487_1030318"
       ]
      },
      {
       "output_type": "stream",
       "stream": "stdout",
       "text": [
        "\n",
        "51239509_A103000002"
       ]
      },
      {
       "output_type": "stream",
       "stream": "stdout",
       "text": [
        "\n",
        "51239510_1030228"
       ]
      },
      {
       "output_type": "stream",
       "stream": "stdout",
       "text": [
        "\n",
        "51239514_Jcs"
       ]
      },
      {
       "output_type": "stream",
       "stream": "stdout",
       "text": [
        "\n",
        "51239526_1030401"
       ]
      },
      {
       "output_type": "stream",
       "stream": "stdout",
       "text": [
        "\n",
        "51239530_NF103001"
       ]
      },
      {
       "output_type": "stream",
       "stream": "stdout",
       "text": [
        "\n",
        "51239531_1030402B3"
       ]
      },
      {
       "output_type": "stream",
       "stream": "stdout",
       "text": [
        "\n",
        "51239533_103"
       ]
      },
      {
       "output_type": "stream",
       "stream": "stdout",
       "text": [
        "\n",
        "51239537_NPM103037"
       ]
      },
      {
       "output_type": "stream",
       "stream": "stdout",
       "text": [
        "\n",
        "51239544_FD03004P004"
       ]
      },
      {
       "output_type": "stream",
       "stream": "stdout",
       "text": [
        "\n",
        "51239550_D103002"
       ]
      },
      {
       "output_type": "stream",
       "stream": "stdout",
       "text": [
        "\n",
        "51239554_FD03007P005"
       ]
      },
      {
       "output_type": "stream",
       "stream": "stdout",
       "text": [
        "\n",
        "51239564_1030401"
       ]
      },
      {
       "output_type": "stream",
       "stream": "stdout",
       "text": [
        "\n",
        "51239565_iris0331"
       ]
      },
      {
       "output_type": "stream",
       "stream": "stdout",
       "text": [
        "\n",
        "51239566_103"
       ]
      },
      {
       "output_type": "stream",
       "stream": "stdout",
       "text": [
        "\n",
        "51239575_AASC"
       ]
      },
      {
       "output_type": "stream",
       "stream": "stdout",
       "text": [
        "\n",
        "51239576_A1030137ENG011"
       ]
      },
      {
       "output_type": "stream",
       "stream": "stdout",
       "text": [
        "\n",
        "51239606_1030206"
       ]
      },
      {
       "output_type": "stream",
       "stream": "stdout",
       "text": [
        "\n",
        "51239597_HJ03242P121"
       ]
      },
      {
       "output_type": "stream",
       "stream": "stdout",
       "text": [
        "\n",
        "51239608_103A159"
       ]
      },
      {
       "output_type": "stream",
       "stream": "stdout",
       "text": [
        "\n",
        "51239609_102107"
       ]
      },
      {
       "output_type": "stream",
       "stream": "stdout",
       "text": [
        "\n",
        "51239617_klnes1030428"
       ]
      },
      {
       "output_type": "stream",
       "stream": "stdout",
       "text": [
        "\n",
        "51239619_103C2022"
       ]
      },
      {
       "output_type": "stream",
       "stream": "stdout",
       "text": [
        "\n",
        "51239621_1030201"
       ]
      },
      {
       "output_type": "stream",
       "stream": "stdout",
       "text": [
        "\n",
        "51239625_103HA164C3"
       ]
      },
      {
       "output_type": "stream",
       "stream": "stdout",
       "text": [
        "\n",
        "51239635_103"
       ]
      },
      {
       "output_type": "stream",
       "stream": "stdout",
       "text": [
        "\n",
        "51239644_B103170"
       ]
      },
      {
       "output_type": "stream",
       "stream": "stdout",
       "text": [
        "\n",
        "51239647_103A119"
       ]
      },
      {
       "output_type": "stream",
       "stream": "stdout",
       "text": [
        "\n",
        "51239648_E1021212"
       ]
      },
      {
       "output_type": "stream",
       "stream": "stdout",
       "text": [
        "\n",
        "51239650_102108"
       ]
      },
      {
       "output_type": "stream",
       "stream": "stdout",
       "text": [
        "\n",
        "51239654_B103167"
       ]
      },
      {
       "output_type": "stream",
       "stream": "stdout",
       "text": [
        "\n",
        "51239659_E1021220"
       ]
      },
      {
       "output_type": "stream",
       "stream": "stdout",
       "text": [
        "\n",
        "51239662_B103169"
       ]
      },
      {
       "output_type": "stream",
       "stream": "stdout",
       "text": [
        "\n",
        "51239663_1030325"
       ]
      },
      {
       "output_type": "stream",
       "stream": "stdout",
       "text": [
        "\n",
        "51239664_M03I6247"
       ]
      },
      {
       "output_type": "stream",
       "stream": "stdout",
       "text": [
        "\n",
        "51239667_B103162"
       ]
      },
      {
       "output_type": "stream",
       "stream": "stdout",
       "text": [
        "\n",
        "51239668_1030415"
       ]
      },
      {
       "output_type": "stream",
       "stream": "stdout",
       "text": [
        "\n",
        "51239675_103203"
       ]
      },
      {
       "output_type": "stream",
       "stream": "stdout",
       "text": [
        "\n",
        "51239676_tms103064"
       ]
      },
      {
       "output_type": "stream",
       "stream": "stdout",
       "text": [
        "\n",
        "51239680_01"
       ]
      },
      {
       "output_type": "stream",
       "stream": "stdout",
       "text": [
        "\n",
        "51239683_1030326AA"
       ]
      },
      {
       "output_type": "stream",
       "stream": "stdout",
       "text": [
        "\n",
        "51239688_S102026"
       ]
      },
      {
       "output_type": "stream",
       "stream": "stdout",
       "text": [
        "\n",
        "51239692_103009"
       ]
      },
      {
       "output_type": "stream",
       "stream": "stdout",
       "text": [
        "\n",
        "51235230_10305"
       ]
      },
      {
       "output_type": "stream",
       "stream": "stdout",
       "text": [
        "\n",
        "51236707_1010062"
       ]
      },
      {
       "output_type": "stream",
       "stream": "stdout",
       "text": [
        "\n",
        "51238769_A35014"
       ]
      },
      {
       "output_type": "stream",
       "stream": "stdout",
       "text": [
        "\n",
        "51238854_1030307"
       ]
      },
      {
       "output_type": "stream",
       "stream": "stdout",
       "text": [
        "\n",
        "51238970_1030020088C"
       ]
      },
      {
       "output_type": "stream",
       "stream": "stdout",
       "text": [
        "\n",
        "51239198_103"
       ]
      },
      {
       "output_type": "stream",
       "stream": "stdout",
       "text": [
        "\n",
        "51239201_10302"
       ]
      },
      {
       "output_type": "stream",
       "stream": "stdout",
       "text": [
        "\n",
        "51239203_AGB"
       ]
      },
      {
       "output_type": "stream",
       "stream": "stdout",
       "text": [
        "\n",
        "51239215_002"
       ]
      },
      {
       "output_type": "stream",
       "stream": "stdout",
       "text": [
        "\n",
        "51239216_NCC"
       ]
      },
      {
       "output_type": "stream",
       "stream": "stdout",
       "text": [
        "\n",
        "51239702_B103173"
       ]
      },
      {
       "output_type": "stream",
       "stream": "stdout",
       "text": [
        "\n",
        "51239704_103016"
       ]
      },
      {
       "output_type": "stream",
       "stream": "stdout",
       "text": [
        "\n",
        "51239708_B103165"
       ]
      },
      {
       "output_type": "stream",
       "stream": "stdout",
       "text": [
        "\n",
        "51239709_103"
       ]
      },
      {
       "output_type": "stream",
       "stream": "stdout",
       "text": [
        "\n",
        "51239714_103A21"
       ]
      },
      {
       "output_type": "stream",
       "stream": "stdout",
       "text": [
        "\n",
        "51239717_XU03E29P092"
       ]
      },
      {
       "output_type": "stream",
       "stream": "stdout",
       "text": [
        "\n",
        "51239720_B103174"
       ]
      },
      {
       "output_type": "stream",
       "stream": "stdout",
       "text": [
        "\n",
        "51239723_1030055"
       ]
      },
      {
       "output_type": "stream",
       "stream": "stdout",
       "text": [
        "\n",
        "51239724_103B042"
       ]
      },
      {
       "output_type": "stream",
       "stream": "stdout",
       "text": [
        "\n",
        "51239725_TC103C023"
       ]
      },
      {
       "output_type": "stream",
       "stream": "stdout",
       "text": [
        "\n",
        "51239727_1030247"
       ]
      },
      {
       "output_type": "stream",
       "stream": "stdout",
       "text": [
        "\n",
        "51239731_103H17"
       ]
      },
      {
       "output_type": "stream",
       "stream": "stdout",
       "text": [
        "\n",
        "51239733_B103131"
       ]
      },
      {
       "output_type": "stream",
       "stream": "stdout",
       "text": [
        "\n",
        "51239734_103008"
       ]
      },
      {
       "output_type": "stream",
       "stream": "stdout",
       "text": [
        "\n",
        "51239738_3510300082"
       ]
      },
      {
       "output_type": "stream",
       "stream": "stdout",
       "text": [
        "\n",
        "51239739_H02028"
       ]
      },
      {
       "output_type": "stream",
       "stream": "stdout",
       "text": [
        "\n",
        "51239741_103A021"
       ]
      },
      {
       "output_type": "stream",
       "stream": "stdout",
       "text": [
        "\n",
        "51239749_DEF0342001"
       ]
      },
      {
       "output_type": "stream",
       "stream": "stdout",
       "text": [
        "\n",
        "51239750_IOT"
       ]
      },
      {
       "output_type": "stream",
       "stream": "stdout",
       "text": [
        "\n",
        "51239763_1030408"
       ]
      },
      {
       "output_type": "stream",
       "stream": "stdout",
       "text": [
        "\n",
        "51239764_103042111"
       ]
      },
      {
       "output_type": "stream",
       "stream": "stdout",
       "text": [
        "\n",
        "51239765_101001201"
       ]
      },
      {
       "output_type": "stream",
       "stream": "stdout",
       "text": [
        "\n",
        "51239767_103"
       ]
      },
      {
       "output_type": "stream",
       "stream": "stdout",
       "text": [
        "\n",
        "51239783_651910318"
       ]
      },
      {
       "output_type": "stream",
       "stream": "stdout",
       "text": [
        "\n",
        "51239789_117"
       ]
      },
      {
       "output_type": "stream",
       "stream": "stdout",
       "text": [
        "\n",
        "51239796_M1030062"
       ]
      },
      {
       "output_type": "stream",
       "stream": "stdout",
       "text": [
        "\n",
        "51239822_A1030211KH049PW"
       ]
      },
      {
       "output_type": "stream",
       "stream": "stdout",
       "text": [
        "\n",
        "51239825_AEC10302010L"
       ]
      },
      {
       "output_type": "stream",
       "stream": "stdout",
       "text": [
        "\n",
        "51239827_103"
       ]
      },
      {
       "output_type": "stream",
       "stream": "stdout",
       "text": [
        "\n",
        "51122915_TS1021101"
       ]
      },
      {
       "output_type": "stream",
       "stream": "stdout",
       "text": [
        "\n",
        "51239829_C10300519"
       ]
      },
      {
       "output_type": "stream",
       "stream": "stdout",
       "text": [
        "\n",
        "51239832_1012461615"
       ]
      },
      {
       "output_type": "stream",
       "stream": "stdout",
       "text": [
        "\n",
        "51239837_10320"
       ]
      },
      {
       "output_type": "stream",
       "stream": "stdout",
       "text": [
        "\n",
        "51239839_10303A"
       ]
      },
      {
       "output_type": "stream",
       "stream": "stdout",
       "text": [
        "\n",
        "51239844_F103"
       ]
      },
      {
       "output_type": "stream",
       "stream": "stdout",
       "text": [
        "\n",
        "51239845_1030502"
       ]
      },
      {
       "output_type": "stream",
       "stream": "stdout",
       "text": [
        "\n",
        "51239846_133"
       ]
      },
      {
       "output_type": "stream",
       "stream": "stdout",
       "text": [
        "\n",
        "51239849_103B0303"
       ]
      },
      {
       "output_type": "stream",
       "stream": "stdout",
       "text": [
        "\n",
        "51125369_102bali"
       ]
      },
      {
       "output_type": "stream",
       "stream": "stdout",
       "text": [
        "\n",
        "51239853_10307"
       ]
      },
      {
       "output_type": "stream",
       "stream": "stdout",
       "text": [
        "\n",
        "51239857_TNCFD1030317"
       ]
      },
      {
       "output_type": "stream",
       "stream": "stdout",
       "text": [
        "\n",
        "51239871_1030418"
       ]
      },
      {
       "output_type": "stream",
       "stream": "stdout",
       "text": [
        "\n",
        "51239872_TC103C032"
       ]
      },
      {
       "output_type": "stream",
       "stream": "stdout",
       "text": [
        "\n",
        "51239873_103"
       ]
      },
      {
       "output_type": "stream",
       "stream": "stdout",
       "text": [
        "\n",
        "51239876_ndc103008"
       ]
      },
      {
       "output_type": "stream",
       "stream": "stdout",
       "text": [
        "\n",
        "51239883_1021011C"
       ]
      },
      {
       "output_type": "stream",
       "stream": "stdout",
       "text": [
        "\n",
        "51239884_103005"
       ]
      },
      {
       "output_type": "stream",
       "stream": "stdout",
       "text": [
        "\n",
        "51239887_10321"
       ]
      },
      {
       "output_type": "stream",
       "stream": "stdout",
       "text": [
        "\n",
        "51239897_103RD024"
       ]
      },
      {
       "output_type": "stream",
       "stream": "stdout",
       "text": [
        "\n",
        "51239903_C103"
       ]
      },
      {
       "output_type": "stream",
       "stream": "stdout",
       "text": [
        "\n",
        "51239907_103B0308"
       ]
      },
      {
       "output_type": "stream",
       "stream": "stdout",
       "text": [
        "\n",
        "51239908_1030409"
       ]
      },
      {
       "output_type": "stream",
       "stream": "stdout",
       "text": [
        "\n",
        "51239913_1180300003"
       ]
      },
      {
       "output_type": "stream",
       "stream": "stdout",
       "text": [
        "\n",
        "51239914_HST10312"
       ]
      },
      {
       "output_type": "stream",
       "stream": "stdout",
       "text": [
        "\n",
        "51239843_C103"
       ]
      },
      {
       "output_type": "stream",
       "stream": "stdout",
       "text": [
        "\n",
        "51239925_2014041603"
       ]
      },
      {
       "output_type": "stream",
       "stream": "stdout",
       "text": [
        "\n",
        "51239930_1030428"
       ]
      },
      {
       "output_type": "stream",
       "stream": "stdout",
       "text": [
        "\n",
        "51239931_2014031704"
       ]
      },
      {
       "output_type": "stream",
       "stream": "stdout",
       "text": [
        "\n",
        "51239933_103018"
       ]
      },
      {
       "output_type": "stream",
       "stream": "stdout",
       "text": [
        "\n",
        "51239934_1030314"
       ]
      },
      {
       "output_type": "stream",
       "stream": "stdout",
       "text": [
        "\n",
        "51239937_Q10306"
       ]
      },
      {
       "output_type": "stream",
       "stream": "stdout",
       "text": [
        "\n",
        "51239940_103B0403"
       ]
      },
      {
       "output_type": "stream",
       "stream": "stdout",
       "text": [
        "\n",
        "51239943_NCCT103005"
       ]
      },
      {
       "output_type": "stream",
       "stream": "stdout",
       "text": [
        "\n",
        "51239939_M1030085"
       ]
      },
      {
       "output_type": "stream",
       "stream": "stdout",
       "text": [
        "\n",
        "51239946_10308"
       ]
      },
      {
       "output_type": "stream",
       "stream": "stdout",
       "text": [
        "\n",
        "51239854_C103"
       ]
      },
      {
       "output_type": "stream",
       "stream": "stdout",
       "text": [
        "\n",
        "51239950_O"
       ]
      },
      {
       "output_type": "stream",
       "stream": "stdout",
       "text": [
        "\n",
        "51239954_A103014"
       ]
      },
      {
       "output_type": "stream",
       "stream": "stdout",
       "text": [
        "\n",
        "51239958_117103006"
       ]
      },
      {
       "output_type": "stream",
       "stream": "stdout",
       "text": [
        "\n",
        "51239966_52R"
       ]
      },
      {
       "output_type": "stream",
       "stream": "stdout",
       "text": [
        "\n",
        "51239970_103004"
       ]
      },
      {
       "output_type": "stream",
       "stream": "stdout",
       "text": [
        "\n",
        "51239971_ZTL103007"
       ]
      },
      {
       "output_type": "stream",
       "stream": "stdout",
       "text": [
        "\n",
        "51239975_10301"
       ]
      },
      {
       "output_type": "stream",
       "stream": "stdout",
       "text": [
        "\n",
        "51239978_MCA0350002"
       ]
      },
      {
       "output_type": "stream",
       "stream": "stdout",
       "text": [
        "\n",
        "51239982_103"
       ]
      },
      {
       "output_type": "stream",
       "stream": "stdout",
       "text": [
        "\n",
        "51239986_103310"
       ]
      },
      {
       "output_type": "stream",
       "stream": "stdout",
       "text": [
        "\n",
        "51239995_NL1030479"
       ]
      },
      {
       "output_type": "stream",
       "stream": "stdout",
       "text": [
        "\n",
        "51240003_103311"
       ]
      },
      {
       "output_type": "stream",
       "stream": "stdout",
       "text": [
        "\n",
        "51240004_AAC1033001"
       ]
      },
      {
       "output_type": "stream",
       "stream": "stdout",
       "text": [
        "\n",
        "51240005_1030403"
       ]
      },
      {
       "output_type": "stream",
       "stream": "stdout",
       "text": [
        "\n",
        "51240006_GW1030417031"
       ]
      },
      {
       "output_type": "stream",
       "stream": "stdout",
       "text": [
        "\n",
        "51240008_c1030023"
       ]
      },
      {
       "output_type": "stream",
       "stream": "stdout",
       "text": [
        "\n",
        "51240009_10302211"
       ]
      },
      {
       "output_type": "stream",
       "stream": "stdout",
       "text": [
        "\n",
        "51240016_103traffic012"
       ]
      },
      {
       "output_type": "stream",
       "stream": "stdout",
       "text": [
        "\n",
        "51240019_103W009"
       ]
      },
      {
       "output_type": "stream",
       "stream": "stdout",
       "text": [
        "\n",
        "51240020_103B0311"
       ]
      },
      {
       "output_type": "stream",
       "stream": "stdout",
       "text": [
        "\n",
        "51240026_10302"
       ]
      },
      {
       "output_type": "stream",
       "stream": "stdout",
       "text": [
        "\n",
        "51240029_103B0307"
       ]
      },
      {
       "output_type": "stream",
       "stream": "stdout",
       "text": [
        "\n",
        "51240034_M03F4176"
       ]
      },
      {
       "output_type": "stream",
       "stream": "stdout",
       "text": [
        "\n",
        "51240035_NTL"
       ]
      },
      {
       "output_type": "stream",
       "stream": "stdout",
       "text": [
        "\n",
        "51240040_103312"
       ]
      },
      {
       "output_type": "stream",
       "stream": "stdout",
       "text": [
        "\n",
        "51240049_B1030425"
       ]
      },
      {
       "output_type": "stream",
       "stream": "stdout",
       "text": [
        "\n",
        "51240050_103A17"
       ]
      },
      {
       "output_type": "stream",
       "stream": "stdout",
       "text": [
        "\n",
        "51240054_D103"
       ]
      },
      {
       "output_type": "stream",
       "stream": "stdout",
       "text": [
        "\n",
        "51099604_1026604961"
       ]
      },
      {
       "output_type": "stream",
       "stream": "stdout",
       "text": [
        "\n",
        "51240063_103traffic013"
       ]
      },
      {
       "output_type": "stream",
       "stream": "stdout",
       "text": [
        "\n",
        "51240064_103313"
       ]
      },
      {
       "output_type": "stream",
       "stream": "stdout",
       "text": [
        "\n",
        "51240070_1035371594"
       ]
      },
      {
       "output_type": "stream",
       "stream": "stdout",
       "text": [
        "\n",
        "51240072_B961"
       ]
      },
      {
       "output_type": "stream",
       "stream": "stdout",
       "text": [
        "\n",
        "51239926_EPB103"
       ]
      },
      {
       "output_type": "stream",
       "stream": "stdout",
       "text": [
        "\n",
        "51240074_ze103"
       ]
      },
      {
       "output_type": "stream",
       "stream": "stdout",
       "text": [
        "\n",
        "51240076_PULI"
       ]
      },
      {
       "output_type": "stream",
       "stream": "stdout",
       "text": [
        "\n",
        "51170299_L1331021201"
       ]
      },
      {
       "output_type": "stream",
       "stream": "stdout",
       "text": [
        "\n",
        "51239993_gces1030401"
       ]
      },
      {
       "output_type": "stream",
       "stream": "stdout",
       "text": [
        "\n",
        "51240089_1030000325"
       ]
      },
      {
       "output_type": "stream",
       "stream": "stdout",
       "text": [
        "\n",
        "51240090_1030321A"
       ]
      },
      {
       "output_type": "stream",
       "stream": "stdout",
       "text": [
        "\n",
        "51240094_103B"
       ]
      },
      {
       "output_type": "stream",
       "stream": "stdout",
       "text": [
        "\n",
        "51240095_1308"
       ]
      },
      {
       "output_type": "stream",
       "stream": "stdout",
       "text": [
        "\n",
        "51240096_103003"
       ]
      },
      {
       "output_type": "stream",
       "stream": "stdout",
       "text": [
        "\n",
        "51240100_1030301"
       ]
      },
      {
       "output_type": "stream",
       "stream": "stdout",
       "text": [
        "\n",
        "51240103_1030428A"
       ]
      },
      {
       "output_type": "stream",
       "stream": "stdout",
       "text": [
        "\n",
        "51240129_H103"
       ]
      },
      {
       "output_type": "stream",
       "stream": "stdout",
       "text": [
        "\n",
        "51240131_1030331"
       ]
      },
      {
       "output_type": "stream",
       "stream": "stdout",
       "text": [
        "\n",
        "51240132_103"
       ]
      },
      {
       "output_type": "stream",
       "stream": "stdout",
       "text": [
        "\n",
        "51240137_103033"
       ]
      },
      {
       "output_type": "stream",
       "stream": "stdout",
       "text": [
        "\n",
        "51240142_103"
       ]
      },
      {
       "output_type": "stream",
       "stream": "stdout",
       "text": [
        "\n",
        "51240146_103TFDA"
       ]
      },
      {
       "output_type": "stream",
       "stream": "stdout",
       "text": [
        "\n",
        "51239342_103014"
       ]
      },
      {
       "output_type": "stream",
       "stream": "stdout",
       "text": [
        "\n",
        "51239335_103013"
       ]
      },
      {
       "output_type": "stream",
       "stream": "stdout",
       "text": [
        "\n",
        "51239320_103012"
       ]
      },
      {
       "output_type": "stream",
       "stream": "stdout",
       "text": [
        "\n",
        "51239444_10331"
       ]
      },
      {
       "output_type": "stream",
       "stream": "stdout",
       "text": [
        "\n"
       ]
      }
     ],
     "prompt_number": 58
    },
    {
     "cell_type": "heading",
     "level": 2,
     "metadata": {},
     "source": [
      "Findbook \u8a62\u50f9"
     ]
    },
    {
     "cell_type": "code",
     "collapsed": false,
     "input": [
      "import requests\n",
      "import time \n",
      "booklist = [9789863021582, 9789866031472]\n",
      "find_url = 'http://findbook.tw/book/%s/basic'\n",
      "for book in booklist:\n",
      "    f = open('%s.html'%(book), 'w')\n",
      "    res = requests.get(find_url%(book))\n",
      "    f.write(res.text.encode('utf-8'))\n",
      "    f.close()\n",
      "    time.sleep(1)"
     ],
     "language": "python",
     "metadata": {},
     "outputs": [],
     "prompt_number": 59
    },
    {
     "cell_type": "heading",
     "level": 2,
     "metadata": {},
     "source": [
      "\u53d6\u5f97\u9801\u9762\u7684encoding"
     ]
    },
    {
     "cell_type": "code",
     "collapsed": false,
     "input": [
      "import requests\n",
      "import time \n",
      "res = requests.get('http://findbook.tw/book/9789863021582/basic')\n",
      "print res.encoding"
     ],
     "language": "python",
     "metadata": {},
     "outputs": [
      {
       "output_type": "stream",
       "stream": "stdout",
       "text": [
        "ISO-8859-1\n"
       ]
      }
     ],
     "prompt_number": 61
    },
    {
     "cell_type": "heading",
     "level": 2,
     "metadata": {},
     "source": [
      "\u66f4\u6539response \u7684encoding"
     ]
    },
    {
     "cell_type": "code",
     "collapsed": false,
     "input": [
      "import requests\n",
      "import time \n",
      "res = requests.get('http://findbook.tw/book/9789863021582/basic')\n",
      "res.encoding= 'utf-8'\n",
      "print res.encoding"
     ],
     "language": "python",
     "metadata": {},
     "outputs": [
      {
       "output_type": "stream",
       "stream": "stdout",
       "text": [
        "utf-8\n"
       ]
      }
     ],
     "prompt_number": 62
    },
    {
     "cell_type": "heading",
     "level": 2,
     "metadata": {},
     "source": [
      "\u518d\u5ea6\u4fee\u6539\u7a0b\u5f0f"
     ]
    },
    {
     "cell_type": "code",
     "collapsed": false,
     "input": [
      "import requests\n",
      "import time \n",
      "\n",
      "booklist = ['9789863021582', '9789866031472']\n",
      "find_url = 'http://findbook.tw/book/%s/basic'\n",
      "for book in booklist:\n",
      "    f = open('%s.html'%(book), 'w')\n",
      "    res = requests.get(find_url%(book))\n",
      "    res.encoding= 'utf-8'\n",
      "    f.write(res.text.encode('utf-8'))\n",
      "    f.close()\n",
      "    time.sleep(1)"
     ],
     "language": "python",
     "metadata": {},
     "outputs": []
    },
    {
     "cell_type": "heading",
     "level": 2,
     "metadata": {},
     "source": [
      "\u7528\u722c\u87f2\u53d6\u5f97PTT\u8cc7\u8a0a"
     ]
    },
    {
     "cell_type": "code",
     "collapsed": false,
     "input": [
      "import requests\n",
      "res = requests.get('http://www.ptt.cc/bbs/Food/index.html')\n",
      "print res.text\n"
     ],
     "language": "python",
     "metadata": {},
     "outputs": [],
     "prompt_number": 72
    },
    {
     "cell_type": "heading",
     "level": 2,
     "metadata": {},
     "source": [
      "\u65b0\u589eVerify \u7684\u9078\u9805"
     ]
    },
    {
     "cell_type": "code",
     "collapsed": false,
     "input": [
      "import requests\n",
      "res = requests.get('http://www.ptt.cc/bbs/Food/index.html', verify=False)\n",
      "#print res.text"
     ],
     "language": "python",
     "metadata": {},
     "outputs": [],
     "prompt_number": 65
    },
    {
     "cell_type": "heading",
     "level": 2,
     "metadata": {},
     "source": [
      "\u53d6\u5f97\u6240\u6709\u9023\u7d50"
     ]
    },
    {
     "cell_type": "code",
     "collapsed": false,
     "input": [
      "import requests\n",
      "from BeautifulSoup import BeautifulSoup\n",
      "res = requests.get('http://www.ptt.cc/bbs/Food/index.html', verify=False)\n",
      "soup = BeautifulSoup(res.text)\n",
      "links = [tag['href'] for tag in soup.findAll('a', {'href': True})] \n",
      "print links"
     ],
     "language": "python",
     "metadata": {},
     "outputs": [
      {
       "output_type": "stream",
       "stream": "stdout",
       "text": [
        "[u'/', u'/bbs/Food/index.html', u'/about.html', u'/contact.html', u'/bbs/Food/index.html', u'/man/Food/index.html', u'/bbs/Food/index1.html', u'/bbs/Food/index3246.html', u'/bbs/Food/index.html', u'/bbs/Food/M.1403251359.A.58A.html', u'/bbs/Food/M.1403251878.A.266.html', u'/bbs/Food/M.1403252685.A.A82.html', u'/bbs/Food/M.1403253710.A.757.html', u'/bbs/Food/M.1403254647.A.9CF.html', u'/bbs/Food/M.1403255116.A.E68.html', u'/bbs/Food/M.1403255163.A.678.html', u'/bbs/Food/M.1403257811.A.E3E.html', u'/bbs/Food/M.1403258322.A.3BD.html', u'/bbs/Food/M.1403258553.A.35E.html', u'/bbs/Food/M.1403260654.A.DC6.html', u'/bbs/Food/M.1403261199.A.6A7.html', u'/bbs/Food/M.1403261594.A.9F7.html', u'/bbs/Food/M.1403261960.A.526.html', u'/bbs/Food/M.1403262801.A.840.html', u'/bbs/Food/M.1403263259.A.4F0.html']\n"
       ]
      }
     ],
     "prompt_number": 66
    },
    {
     "cell_type": "heading",
     "level": 2,
     "metadata": {},
     "source": [
      "\u7528\u722c\u87f2\u53d6\u5f97Yahoo\u80a1\u5e02\u7684\u6295\u8cc7\u7d44\u5408"
     ]
    },
    {
     "cell_type": "code",
     "collapsed": false,
     "input": [
      "# -*- coding: utf-8 -*- \n",
      "import requests\n",
      "from BeautifulSoup import BeautifulSoup\n",
      "rs = requests.session()\n",
      "res = rs.get('https://login.yahoo.com/')\n",
      "soup = BeautifulSoup(res.text)\n",
      "login_form = soup.find('form', attrs={'name':'login_form'})\n",
      "hiddens = login_form.findAll('input', attrs={'type':'hidden'})\n",
      "payload = {}\n",
      "for h in hiddens:\n",
      "    payload[str(h.get('name'))] = str(h.get('value'))\n",
      "\n",
      "payload['login'] = 'xxx@yahoo.com.tw'\n",
      "payload['passwd'] = 'xxx'\n",
      "post_url = str(login_form.get('action'))\n",
      "res2 = rs.post(post_url, cookies=res.cookies, data=payload)\n"
     ],
     "language": "python",
     "metadata": {},
     "outputs": [],
     "prompt_number": 67
    },
    {
     "cell_type": "heading",
     "level": 2,
     "metadata": {},
     "source": [
      "\u8f49\u8df3\u5230\u6295\u8cc7\u7d44\u5408\u9801\u9762"
     ]
    },
    {
     "cell_type": "code",
     "collapsed": false,
     "input": [
      "res3 = rs.get('https://tw.stock.yahoo.com/pf/mypf', cookies=res2.cookies)\n",
      "#print res3.text.encode('utf-8')\n"
     ],
     "language": "python",
     "metadata": {},
     "outputs": [],
     "prompt_number": 69
    },
    {
     "cell_type": "heading",
     "level": 2,
     "metadata": {},
     "source": [
      "\u53d6\u5f97Facebook\u7684\u670b\u53cb\u6e05\u55ae"
     ]
    },
    {
     "cell_type": "code",
     "collapsed": false,
     "input": [
      "import requests\n",
      "access_token = '<access_token>'\n",
      "graph_url = 'https://graph.facebook.com/v2.0/me/friends?access_token=%s'\n",
      "res = requests.get(graph_url%(access_token))\n",
      "print res.text"
     ],
     "language": "python",
     "metadata": {},
     "outputs": []
    }
   ],
   "metadata": {}
  }
 ]
}